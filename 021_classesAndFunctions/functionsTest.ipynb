{
 "cells": [
  {
   "cell_type": "code",
   "execution_count": 12,
   "metadata": {},
   "outputs": [
    {
     "ename": "ModuleNotFoundError",
     "evalue": "No module named 'patientFunctions'",
     "output_type": "error",
     "traceback": [
      "\u001b[1;31m---------------------------------------------------------------------------\u001b[0m",
      "\u001b[1;31mModuleNotFoundError\u001b[0m                       Traceback (most recent call last)",
      "Cell \u001b[1;32mIn[12], line 2\u001b[0m\n\u001b[0;32m      1\u001b[0m \u001b[38;5;28;01mimport\u001b[39;00m \u001b[38;5;21;01mos\u001b[39;00m\n\u001b[1;32m----> 2\u001b[0m \u001b[38;5;28;01mimport\u001b[39;00m \u001b[38;5;21;01mpatientFunctions\u001b[39;00m \u001b[38;5;28;01mas\u001b[39;00m \u001b[38;5;21;01mfun\u001b[39;00m\n\u001b[0;32m      4\u001b[0m \u001b[38;5;66;03m#get and specify directories\u001b[39;00m\n\u001b[0;32m      5\u001b[0m starting_directory \u001b[38;5;241m=\u001b[39m os\u001b[38;5;241m.\u001b[39mgetcwd()\n",
      "\u001b[1;31mModuleNotFoundError\u001b[0m: No module named 'patientFunctions'"
     ]
    }
   ],
   "source": [
    "import os\n",
    "import patientFunctions as fun\n",
    "\n",
    "#get and specify directories\n",
    "starting_directory = os.getcwd()\n",
    "# print(\"starting directory: \" + starting_directory)\n",
    "\n",
    "new_directory = 'C:/Users/smith/OneDrive/Documents/BEAT Cancer/CardiacAmyloidosis/00 - Raw Data/patientData'\n",
    "os.chdir(new_directory)\n",
    "# print('This is the new working dirrectory: ' + os.getcwd())"
   ]
  },
  {
   "cell_type": "code",
   "execution_count": null,
   "metadata": {},
   "outputs": [],
   "source": [
    "testpt = fun.patient(new_directory, 'F-03-data.xlsx', 4)\n",
    "\n",
    "print(testpt.ptID)"
   ]
  }
 ],
 "metadata": {
  "kernelspec": {
   "display_name": "Python 3",
   "language": "python",
   "name": "python3"
  },
  "language_info": {
   "codemirror_mode": {
    "name": "ipython",
    "version": 3
   },
   "file_extension": ".py",
   "mimetype": "text/x-python",
   "name": "python",
   "nbconvert_exporter": "python",
   "pygments_lexer": "ipython3",
   "version": "3.12.4"
  }
 },
 "nbformat": 4,
 "nbformat_minor": 2
}
