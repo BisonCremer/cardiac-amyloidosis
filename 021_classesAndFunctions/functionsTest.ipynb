{
 "cells": [
  {
   "cell_type": "code",
   "execution_count": 2,
   "metadata": {},
   "outputs": [],
   "source": [
    "import os\n",
    "import patientFunctions as ptFn\n",
    "\n",
    "#get and specify directories\n",
    "starting_directory = os.getcwd()\n",
    "# print(\"starting directory: \" + starting_directory)\n",
    "\n",
    "new_directory = 'C:/Users/smith/OneDrive/Documents/BEAT Cancer/CardiacAmyloidosis/00 - Raw Data/patientData'\n",
    "os.chdir(new_directory)\n",
    "# print('This is the new working dirrectory: ' + os.getcwd())"
   ]
  },
  {
   "cell_type": "code",
   "execution_count": 6,
   "metadata": {},
   "outputs": [
    {
     "name": "stdout",
     "output_type": "stream",
     "text": [
      "yes\n"
     ]
    }
   ],
   "source": [
    "testpt = ptFn.patient(new_directory, 'F-03-data.xlsx', lengthPtID = 4)\n",
    "\n",
    "print(testpt.amyloid_status)"
   ]
  }
 ],
 "metadata": {
  "kernelspec": {
   "display_name": "BEATcancerLabs_kernel_20241022",
   "language": "python",
   "name": "python3"
  },
  "language_info": {
   "codemirror_mode": {
    "name": "ipython",
    "version": 3
   },
   "file_extension": ".py",
   "mimetype": "text/x-python",
   "name": "python",
   "nbconvert_exporter": "python",
   "pygments_lexer": "ipython3",
   "version": "3.12.4"
  }
 },
 "nbformat": 4,
 "nbformat_minor": 2
}
