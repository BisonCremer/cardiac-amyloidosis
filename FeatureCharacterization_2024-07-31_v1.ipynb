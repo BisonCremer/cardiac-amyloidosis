{
 "cells": [
  {
   "cell_type": "markdown",
   "metadata": {},
   "source": [
    "## Goals: to measure the frequency of features selected across different models"
   ]
  },
  {
   "cell_type": "markdown",
   "metadata": {},
   "source": [
    "# Import packages and directories"
   ]
  },
  {
   "cell_type": "code",
   "execution_count": 1,
   "metadata": {},
   "outputs": [],
   "source": [
    "import os\n",
    "import pandas as pd \n",
    "import numpy as np\n"
   ]
  },
  {
   "cell_type": "code",
   "execution_count": null,
   "metadata": {},
   "outputs": [],
   "source": [
    "#functions for use\n",
    "\n",
    "def FilterList(list, keyWords_primary, keyWords_secondary = [\"Empty\"], omit = [\"Empty\"]):\n",
    "    #store the filtered result\n",
    "    filteredList = []\n",
    "\n",
    "    if keyWords_secondary == [\"Empty\"]:\n",
    "        for c in list: #loop the columns\n",
    "            for buzz in keyWords_primary: #loop the key words\n",
    "                if buzz in c: #if the column contains the key word\n",
    "                    filteredList.append(c) #add the column to the list\n",
    "                    break #do not continue testing primary key words for this column\n",
    "    \n",
    "    else: \n",
    "        for c in list: #loop the columns\n",
    "            for buzz in keyWords_primary: #loop the key words\n",
    "                if buzz in c: #if the column contains the key word\n",
    "                    for secondary in keyWords_secondary:\n",
    "                        if secondary in c:\n",
    "                            filteredList.append(c) #add the column to the list\n",
    "                            break #has been added to list based on passing the seondary \n",
    "                        else:\n",
    "                            pass\n",
    "                    break #do not continue to check primary key words for this column\n",
    "                else:\n",
    "                    pass\n",
    "                \n",
    "    if omit != [\"Empty\"]: \n",
    "        for x in omit: \n",
    "            for a in filteredList:\n",
    "                if x in a:\n",
    "                    filteredList.remove(a)\n",
    "    \n",
    "    #by iterating through the column names first, we keep the order of the columns\n",
    "\n",
    "    return filteredList "
   ]
  },
  {
   "cell_type": "code",
   "execution_count": null,
   "metadata": {},
   "outputs": [],
   "source": [
    "#to excel function\n",
    "def outputToExcel(df_data, fileName_header, fileName_Common, fileName_suffix,\n",
    "                  parent_dir, folderName, sheetName):\n",
    "    fileName = fileName_header + fileName_Common + fileName_suffix\n",
    "    outfile_extension = '.xlsx'\n",
    "    outfile_boxplts = fileName + outfile_extension\n",
    "    path_out= os.path.join(parent_dir, folderName, outfile_boxplts)\n",
    "\n",
    "    if os.path.exists(path_out):\n",
    "            #if old sheet\n",
    "            with pd.ExcelWriter(path_out, mode = 'a', if_sheet_exists = 'overlay') as writer:\n",
    "                    df_data.to_excel(writer, sheet_name = sheetName, index = True)\n",
    "    else: \n",
    "            #new sheet\n",
    "            with pd.ExcelWriter(path_out) as writer:\n",
    "                    df_data.to_excel(writer, sheet_name = sheetName, index = True) #if new sheet"
   ]
  },
  {
   "cell_type": "code",
   "execution_count": null,
   "metadata": {},
   "outputs": [],
   "source": [
    "#make folder path for data\n",
    "def makeFolderPathForData(parent_dir, folderName_header, folderName_common, folderName_suffix):\n",
    "    #makes a new directory for your files\n",
    "    #returns the folder name for use in other functions\n",
    "    folderName = folderName_header + folderName_common + folderName_suffix\n",
    "    path = os.path.join(parent_dir,folderName)\n",
    "    if not os.path.exists(path):\n",
    "        os.mkdir(path)\n",
    "    return folderName"
   ]
  },
  {
   "cell_type": "code",
   "execution_count": 2,
   "metadata": {},
   "outputs": [],
   "source": [
    "#find current directory\n",
    "#location of original data\n",
    "starting_directory = os.getcwd()\n",
    "\n",
    "new_dirrectory = 'C:/Users/mcremer/UFL Dropbox/Maegan Cremer/research-share/Maegan/Projects/Cardiac-Amyloidosis-Multiple-Myeloma/013 Analyzed Data outputs'\n",
    "# \"C:/Users/mcremer/UFL Dropbox/Maegan Cremer/research-share/Maegan/Projects/Cardiac-Amyloidosis-Multiple-Myeloma/013 Analyzed Data outputs\"\n",
    "os.chdir(new_dirrectory)\n",
    "#change working directory to where the data is stored\n",
    "\n",
    "#create file naming system for data outputs"
   ]
  },
  {
   "cell_type": "code",
   "execution_count": 3,
   "metadata": {},
   "outputs": [],
   "source": [
    "#importing the dataframe describing features selected for each model\n",
    "features_across_models = pd.read_excel(\"2024-07-29_FeatureListFromSVM.xlsx\", header = [0,1,2])\n"
   ]
  },
  {
   "cell_type": "code",
   "execution_count": null,
   "metadata": {},
   "outputs": [],
   "source": [
    "#create 1D list of features across all models\n",
    "#df.to_numpy().flatten()\n",
    "\n",
    "#create list of unique features across all models"
   ]
  },
  {
   "cell_type": "code",
   "execution_count": null,
   "metadata": {},
   "outputs": [],
   "source": [
    "#iterate through the 1D list of features to find the frequency of a feature across models\n",
    "#save the the feature name as a key and the frequency as the value in a dictionary"
   ]
  }
 ],
 "metadata": {
  "kernelspec": {
   "display_name": "base",
   "language": "python",
   "name": "python3"
  },
  "language_info": {
   "codemirror_mode": {
    "name": "ipython",
    "version": 3
   },
   "file_extension": ".py",
   "mimetype": "text/x-python",
   "name": "python",
   "nbconvert_exporter": "python",
   "pygments_lexer": "ipython3",
   "version": "3.12.4"
  }
 },
 "nbformat": 4,
 "nbformat_minor": 2
}
