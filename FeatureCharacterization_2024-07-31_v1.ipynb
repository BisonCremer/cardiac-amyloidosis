{
 "cells": [
  {
   "cell_type": "markdown",
   "metadata": {},
   "source": [
    "## Goals: to measure the frequency of features selected across different models"
   ]
  },
  {
   "cell_type": "markdown",
   "metadata": {},
   "source": [
    "# Import packages and directories"
   ]
  },
  {
   "cell_type": "code",
   "execution_count": 50,
   "metadata": {},
   "outputs": [],
   "source": [
    "import os\n",
    "import pandas as pd \n",
    "import numpy as np\n",
    "from collections import Counter\n"
   ]
  },
  {
   "cell_type": "code",
   "execution_count": 51,
   "metadata": {},
   "outputs": [],
   "source": [
    "#functions for use\n",
    "\n",
    "def FilterList(list, keyWords_primary, keyWords_secondary = [\"Empty\"], omit = [\"Empty\"]):\n",
    "    #store the filtered result\n",
    "    filteredList = []\n",
    "\n",
    "    if keyWords_secondary == [\"Empty\"]:\n",
    "        for c in list: #loop the columns\n",
    "            for buzz in keyWords_primary: #loop the key words\n",
    "                if buzz in c: #if the column contains the key word\n",
    "                    filteredList.append(c) #add the column to the list\n",
    "                    break #do not continue testing primary key words for this column\n",
    "    \n",
    "    else: \n",
    "        for c in list: #loop the columns\n",
    "            for buzz in keyWords_primary: #loop the key words\n",
    "                if buzz in c: #if the column contains the key word\n",
    "                    for secondary in keyWords_secondary:\n",
    "                        if secondary in c:\n",
    "                            filteredList.append(c) #add the column to the list\n",
    "                            break #has been added to list based on passing the seondary \n",
    "                        else:\n",
    "                            pass\n",
    "                    break #do not continue to check primary key words for this column\n",
    "                else:\n",
    "                    pass\n",
    "                \n",
    "    if omit != [\"Empty\"]: \n",
    "        for x in omit: \n",
    "            for a in filteredList:\n",
    "                if x in a:\n",
    "                    filteredList.remove(a)\n",
    "    \n",
    "    #by iterating through the column names first, we keep the order of the columns\n",
    "\n",
    "    return filteredList "
   ]
  },
  {
   "cell_type": "code",
   "execution_count": 52,
   "metadata": {},
   "outputs": [],
   "source": [
    "#to excel function\n",
    "def outputToExcel(df_data, fileName_header, fileName_Common, fileName_suffix,\n",
    "                  parent_dir, folderName, sheetName):\n",
    "    fileName = fileName_header + fileName_Common + fileName_suffix\n",
    "    outfile_extension = '.xlsx'\n",
    "    outfile_boxplts = fileName + outfile_extension\n",
    "    path_out= os.path.join(parent_dir, folderName, outfile_boxplts)\n",
    "\n",
    "    if os.path.exists(path_out):\n",
    "            #if old sheet\n",
    "            with pd.ExcelWriter(path_out, mode = 'a', if_sheet_exists = 'overlay') as writer:\n",
    "                    df_data.to_excel(writer, sheet_name = sheetName, index = True)\n",
    "    else: \n",
    "            #new sheet\n",
    "            with pd.ExcelWriter(path_out) as writer:\n",
    "                    df_data.to_excel(writer, sheet_name = sheetName, index = True) #if new sheet"
   ]
  },
  {
   "cell_type": "code",
   "execution_count": 53,
   "metadata": {},
   "outputs": [],
   "source": [
    "#make folder path for data\n",
    "def makeFolderPathForData(parent_dir, folderName_header, folderName_common, folderName_suffix):\n",
    "    #makes a new directory for your files\n",
    "    #returns the folder name for use in other functions\n",
    "    folderName = folderName_header + folderName_common + folderName_suffix\n",
    "    path = os.path.join(parent_dir,folderName)\n",
    "    if not os.path.exists(path):\n",
    "        os.mkdir(path)\n",
    "    return folderName"
   ]
  },
  {
   "cell_type": "code",
   "execution_count": 54,
   "metadata": {},
   "outputs": [],
   "source": [
    "#find current directory\n",
    "#location of original data\n",
    "starting_directory = os.getcwd()\n",
    "\n",
    "new_dirrectory = 'C:/Users/mcremer/UFL Dropbox/Maegan Cremer/research-share/Maegan/Projects/Cardiac-Amyloidosis-Multiple-Myeloma/013 Analyzed Data outputs'\n",
    "# \"C:/Users/mcremer/UFL Dropbox/Maegan Cremer/research-share/Maegan/Projects/Cardiac-Amyloidosis-Multiple-Myeloma/013 Analyzed Data outputs\"\n",
    "os.chdir(new_dirrectory)\n",
    "#change working directory to where the data is stored\n",
    "\n",
    "#create file naming system for data outputs"
   ]
  },
  {
   "cell_type": "code",
   "execution_count": 55,
   "metadata": {},
   "outputs": [],
   "source": [
    "#importing the dataframe describing features selected for each model\n",
    "features_across_models = pd.read_excel(\"2024-07-29_FeatureListFromSVM.xlsx\", sheet_name = \"feature list\", header = [0,1,2])\n",
    "features_across_top38 = pd.read_excel(\"2024-07-29_FeatureListFromSVM.xlsx\", sheet_name = \"feature list top 38\", header = [0,1,2])\n",
    "features_across_allLabs = pd.read_excel(\"2024-07-29_FeatureListFromSVM.xlsx\", sheet_name = \"feature list all labs\", header = [0,1,2])"
   ]
  },
  {
   "cell_type": "markdown",
   "metadata": {},
   "source": [
    "## for across all models"
   ]
  },
  {
   "cell_type": "code",
   "execution_count": 56,
   "metadata": {},
   "outputs": [],
   "source": [
    "#create 1D list of features across all models\n",
    "features_1D = features_across_models.to_numpy().flatten()\n",
    "\n",
    "features_1D_clean = features_1D[~pd.isna(features_1D)]\n",
    "#create list of unique features across all models\n",
    "features_1D_unique = pd.unique(features_1D_clean)\n",
    "\n",
    "#iterate through the 1D list of features to find the frequency of a feature across models\n",
    "#save the the feature name as a key and the frequency as the value in a dictionary\n",
    "\n",
    "feature_counts = Counter(features_1D_clean)\n",
    "feature_counts_dict = dict(feature_counts)\n",
    "\n",
    "#sorting the features by frequency\n",
    "sorted_by_frequency = dict(sorted(feature_counts_dict.items(), key=lambda item: item[1], reverse=True))\n",
    "\n",
    "#sorting features alphabetically\n",
    "sorted_by_key = dict(sorted(feature_counts_dict.items()))\n"
   ]
  },
  {
   "cell_type": "code",
   "execution_count": 57,
   "metadata": {},
   "outputs": [],
   "source": [
    "#saving the output to a file \n",
    "df = pd.DataFrame.from_dict(feature_counts_dict, orient = 'index')\n",
    "# df.to_excel('featureFrequency_2024-07-31_v1.xlsx', sheet_name= \"all models\")\n",
    "\n",
    "with pd.ExcelWriter(\"featureFrequency_2024-07-31_v1.xlsx\", mode = 'a', if_sheet_exists = 'overlay') as writer:\n",
    "    df.to_excel(writer, sheet_name = \"all models\", index = True)"
   ]
  },
  {
   "cell_type": "markdown",
   "metadata": {},
   "source": [
    "## for top 38 labs"
   ]
  },
  {
   "cell_type": "code",
   "execution_count": 58,
   "metadata": {},
   "outputs": [],
   "source": [
    "#create 1D list of features across all models\n",
    "features_1D = features_across_top38.to_numpy().flatten()\n",
    "\n",
    "features_1D_clean = features_1D[~pd.isna(features_1D)]\n",
    "#create list of unique features across all models\n",
    "features_1D_unique = pd.unique(features_1D_clean)\n",
    "\n",
    "#iterate through the 1D list of features to find the frequency of a feature across models\n",
    "#save the the feature name as a key and the frequency as the value in a dictionary\n",
    "\n",
    "feature_counts = Counter(features_1D_clean)\n",
    "feature_counts_dict = dict(feature_counts)\n",
    "\n",
    "#sorting the features by frequency\n",
    "sorted_by_frequency = dict(sorted(feature_counts_dict.items(), key=lambda item: item[1], reverse=True))\n",
    "\n",
    "#sorting features alphabetically\n",
    "sorted_by_key = dict(sorted(feature_counts_dict.items()))\n"
   ]
  },
  {
   "cell_type": "code",
   "execution_count": 59,
   "metadata": {},
   "outputs": [],
   "source": [
    "df = pd.DataFrame.from_dict(feature_counts_dict, orient = 'index')\n",
    "# df.to_excel('featureFrequency_2024-07-31_v1.xlsx', sheet_name= \"top 38 labs\")\n",
    "\n",
    "with pd.ExcelWriter(\"featureFrequency_2024-07-31_v1.xlsx\", mode = 'a', if_sheet_exists = 'overlay') as writer:\n",
    "    df.to_excel(writer, sheet_name = \"top 38 labs\", index = True)"
   ]
  },
  {
   "cell_type": "markdown",
   "metadata": {},
   "source": [
    "## for all labs svms"
   ]
  },
  {
   "cell_type": "code",
   "execution_count": 60,
   "metadata": {},
   "outputs": [],
   "source": [
    "#create 1D list of features across all models\n",
    "features_1D = features_across_allLabs.to_numpy().flatten()\n",
    "\n",
    "features_1D_clean = features_1D[~pd.isna(features_1D)]\n",
    "#create list of unique features across all models\n",
    "features_1D_unique = pd.unique(features_1D_clean)\n",
    "\n",
    "#iterate through the 1D list of features to find the frequency of a feature across models\n",
    "#save the the feature name as a key and the frequency as the value in a dictionary\n",
    "\n",
    "feature_counts = Counter(features_1D_clean)\n",
    "feature_counts_dict = dict(feature_counts)\n",
    "\n",
    "#sorting the features by frequency\n",
    "sorted_by_frequency = dict(sorted(feature_counts_dict.items(), key=lambda item: item[1], reverse=True))\n",
    "\n",
    "#sorting features alphabetically\n",
    "sorted_by_key = dict(sorted(feature_counts_dict.items()))\n"
   ]
  },
  {
   "cell_type": "code",
   "execution_count": 61,
   "metadata": {},
   "outputs": [],
   "source": [
    "df = pd.DataFrame.from_dict(feature_counts_dict, orient = 'index')\n",
    "# df.to_excel('featureFrequency_2024-07-31_v1.xlsx', sheet_name= \"all labs svm\")\n",
    "\n",
    "with pd.ExcelWriter(\"featureFrequency_2024-07-31_v1.xlsx\", mode = 'a', if_sheet_exists = 'overlay') as writer:\n",
    "    df.to_excel(writer, sheet_name = \"all labs\", index = True)"
   ]
  }
 ],
 "metadata": {
  "kernelspec": {
   "display_name": "base",
   "language": "python",
   "name": "python3"
  },
  "language_info": {
   "codemirror_mode": {
    "name": "ipython",
    "version": 3
   },
   "file_extension": ".py",
   "mimetype": "text/x-python",
   "name": "python",
   "nbconvert_exporter": "python",
   "pygments_lexer": "ipython3",
   "version": "3.12.4"
  }
 },
 "nbformat": 4,
 "nbformat_minor": 2
}
