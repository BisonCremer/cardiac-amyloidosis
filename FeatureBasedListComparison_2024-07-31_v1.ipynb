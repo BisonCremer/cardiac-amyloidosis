{
 "cells": [
  {
   "cell_type": "markdown",
   "metadata": {},
   "source": [
    "# importing packages"
   ]
  },
  {
   "cell_type": "code",
   "execution_count": 1,
   "metadata": {},
   "outputs": [],
   "source": [
    "import pandas as pd\n",
    "import numpy as np\n",
    "import os"
   ]
  },
  {
   "cell_type": "markdown",
   "metadata": {},
   "source": [
    "# directory for getting the original feature list"
   ]
  },
  {
   "cell_type": "code",
   "execution_count": 2,
   "metadata": {},
   "outputs": [],
   "source": [
    "#find current directory\n",
    "#location of original data\n",
    "starting_directory = os.getcwd()\n",
    "\n",
    "new_dirrectory = \"C:/Users/maega/Documents/3000 PhD/3300_BEAT Labs/Projects/Cardiac-Amyloidosis-Multiple-Myeloma/012 Processed Data/PtLabsFiltered_2024-06-26_v1\"\n",
    "os.chdir(new_dirrectory)\n",
    "#change working directory to where the data is stored\n",
    "\n",
    "#create file naming system for data outputs"
   ]
  },
  {
   "cell_type": "markdown",
   "metadata": {},
   "source": [
    "### importing the data"
   ]
  },
  {
   "cell_type": "code",
   "execution_count": 3,
   "metadata": {},
   "outputs": [],
   "source": [
    "#import the original feature list\n",
    "lab_list_import = pd.read_excel(\"ListPts-W-WO-Lab-20240626_v2.xlsx\", sheet_name = \"lab list pts without\", header = [0])\n"
   ]
  },
  {
   "cell_type": "markdown",
   "metadata": {},
   "source": [
    "### collecting the lab names and the number of patients as seperate series"
   ]
  },
  {
   "cell_type": "code",
   "execution_count": 4,
   "metadata": {},
   "outputs": [],
   "source": [
    "lab_list = lab_list_import.iloc[:,0] #list of the raw lab result names without transformations\n",
    "lab_list_numbpts = lab_list_import.iloc[:,2] #for use later in assessing the completeness of the data"
   ]
  },
  {
   "cell_type": "markdown",
   "metadata": {},
   "source": [
    "### additional features describing patients which arean't labs in their untransformed states\n",
    "no descriptive statistics or fits"
   ]
  },
  {
   "cell_type": "code",
   "execution_count": 5,
   "metadata": {},
   "outputs": [],
   "source": [
    "# #additional starting features\n",
    "# additional_features = pd.Series([\"Amyloid Status\", \"Dx\", \"Sex\", 'Age', 'Survival (in months)',\n",
    "#                        \"ChemoTx\", \"ChemoTx Number\", \"ImmunoTx\", \"ImmunoTx Number\", \"HemeTx\", \"HemeTx Number\", \n",
    "#                        \"RadTx\", \"RadTx Number\", \"OtherTx\", \"OtherTx Number\", 'time from diagnosis to note (months)', \n",
    "#                        'ECOG Performance Status', 'Karnofsky Performance Status', 'Clinical Impression of Disease', \n",
    "#                        \"1st_EF(avg%)\", \"1st_Diastolic grade\", \"1st_BSA\", \"1st_PWT(cm)\", \"1st_IVS(cm)\", \"1st_lvid(cm)\", \n",
    "#                        \"1st_LA_dimension (cm)\",\"1st_Lvmass\", \"1st_LVMI\",\"1st_RWT\", \"1st_LA_grade\", \"1st_mv_grade\", \n",
    "#                        \"1st_AV_grade\", \"1st_rvsp(mmHg)\", \"1st_LVH\", \"1stGLS\", \"1stGLSreported\", \"use1stGLS\", \n",
    "#                        \"1st_outerLS\", \"1st_midLS\", \"1st_innerLS\", \"1st_echoOSH\"])"
   ]
  },
  {
   "cell_type": "code",
   "execution_count": 21,
   "metadata": {},
   "outputs": [],
   "source": [
    "#additional starting features\n",
    "additional_features = pd.Series([\"Amyloid Status\", \"Dx\", \"Sex\", 'Age', 'Survival (in months)',\n",
    "                       \"ChemoTx\", \"ImmunoTx\", \"HemeTx\", \n",
    "                       \"RadTx\", \"OtherTx\", 'time from diagnosis to note (months)', \n",
    "                       'ECOG Performance Status', 'Karnofsky Performance Status', 'Clinical Impression of Disease', \n",
    "                       \"1st_EF(avg%)\", \"1st_Diastolic grade\", \"1st_BSA\", \"1st_PWT(cm)\", \"1st_IVS(cm)\", \"1st_lvid(cm)\", \n",
    "                       \"1st_LA_dimension (cm)\",\"1st_Lvmass\", \"1st_LVMI\",\"1st_RWT\", \"1st_LA_grade\", \"1st_mv_grade\", \n",
    "                       \"1st_AV_grade\", \"1st_rvsp(mmHg)\", \"1st_LVH\", \"1stGLS\", \"1stGLSreported\", \"use1stGLS\", \n",
    "                       \"1st_outerLS\", \"1st_midLS\", \"1st_innerLS\", \"1st_echoOSH\", \"time from diagnosis to first echo (months)\"])\n",
    "#here the \"ChemoTx Number\" and similar original data were removed as they will be picked up as transformations"
   ]
  },
  {
   "cell_type": "code",
   "execution_count": 22,
   "metadata": {},
   "outputs": [
    {
     "data": {
      "text/html": [
       "<div>\n",
       "<style scoped>\n",
       "    .dataframe tbody tr th:only-of-type {\n",
       "        vertical-align: middle;\n",
       "    }\n",
       "\n",
       "    .dataframe tbody tr th {\n",
       "        vertical-align: top;\n",
       "    }\n",
       "\n",
       "    .dataframe thead th {\n",
       "        text-align: right;\n",
       "    }\n",
       "</style>\n",
       "<table border=\"1\" class=\"dataframe\">\n",
       "  <thead>\n",
       "    <tr style=\"text-align: right;\">\n",
       "      <th></th>\n",
       "      <th>index</th>\n",
       "      <th>0</th>\n",
       "    </tr>\n",
       "  </thead>\n",
       "  <tbody>\n",
       "    <tr>\n",
       "      <th>0</th>\n",
       "      <td>0</td>\n",
       "      <td>Creatinine Result(mg/dL)</td>\n",
       "    </tr>\n",
       "    <tr>\n",
       "      <th>1</th>\n",
       "      <td>1</td>\n",
       "      <td>Potassium Result(mmol/L)</td>\n",
       "    </tr>\n",
       "    <tr>\n",
       "      <th>2</th>\n",
       "      <td>2</td>\n",
       "      <td>total CO2 Result</td>\n",
       "    </tr>\n",
       "    <tr>\n",
       "      <th>3</th>\n",
       "      <td>3</td>\n",
       "      <td>Chloride Result(mmol/L)</td>\n",
       "    </tr>\n",
       "    <tr>\n",
       "      <th>4</th>\n",
       "      <td>4</td>\n",
       "      <td>Calcium Result(mg/dL)</td>\n",
       "    </tr>\n",
       "    <tr>\n",
       "      <th>...</th>\n",
       "      <td>...</td>\n",
       "      <td>...</td>\n",
       "    </tr>\n",
       "    <tr>\n",
       "      <th>188</th>\n",
       "      <td>32</td>\n",
       "      <td>1st_outerLS</td>\n",
       "    </tr>\n",
       "    <tr>\n",
       "      <th>189</th>\n",
       "      <td>33</td>\n",
       "      <td>1st_midLS</td>\n",
       "    </tr>\n",
       "    <tr>\n",
       "      <th>190</th>\n",
       "      <td>34</td>\n",
       "      <td>1st_innerLS</td>\n",
       "    </tr>\n",
       "    <tr>\n",
       "      <th>191</th>\n",
       "      <td>35</td>\n",
       "      <td>1st_echoOSH</td>\n",
       "    </tr>\n",
       "    <tr>\n",
       "      <th>192</th>\n",
       "      <td>36</td>\n",
       "      <td>time from diagnosis to first echo (months)</td>\n",
       "    </tr>\n",
       "  </tbody>\n",
       "</table>\n",
       "<p>193 rows × 2 columns</p>\n",
       "</div>"
      ],
      "text/plain": [
       "     index                                           0\n",
       "0        0                    Creatinine Result(mg/dL)\n",
       "1        1                    Potassium Result(mmol/L)\n",
       "2        2                            total CO2 Result\n",
       "3        3                     Chloride Result(mmol/L)\n",
       "4        4                       Calcium Result(mg/dL)\n",
       "..     ...                                         ...\n",
       "188     32                                 1st_outerLS\n",
       "189     33                                   1st_midLS\n",
       "190     34                                 1st_innerLS\n",
       "191     35                                 1st_echoOSH\n",
       "192     36  time from diagnosis to first echo (months)\n",
       "\n",
       "[193 rows x 2 columns]"
      ]
     },
     "execution_count": 22,
     "metadata": {},
     "output_type": "execute_result"
    }
   ],
   "source": [
    "full_og_featureList = pd.concat([lab_list, additional_features], axis = 0) #adding the two lists of features together\n",
    "full_og_featureList.reset_index()"
   ]
  },
  {
   "cell_type": "code",
   "execution_count": 23,
   "metadata": {},
   "outputs": [],
   "source": [
    "#get the list of best features from the SVM"
   ]
  },
  {
   "cell_type": "markdown",
   "metadata": {},
   "source": [
    "# get the list of best features from the SVM models "
   ]
  },
  {
   "cell_type": "code",
   "execution_count": 24,
   "metadata": {},
   "outputs": [],
   "source": [
    "#find current directory\n",
    "#location of original data\n",
    "starting_directory = os.getcwd()\n",
    "\n",
    "new_dirrectory = 'C:/Users/maega/UFL Dropbox/Maegan Cremer/research-share/Maegan/Projects/Cardiac-Amyloidosis-Multiple-Myeloma/013 Analyzed Data outputs'\n",
    "# \"C:/Users/mcremer/UFL Dropbox/Maegan Cremer/research-share/Maegan/Projects/Cardiac-Amyloidosis-Multiple-Myeloma/013 Analyzed Data outputs\"\n",
    "#C:/Users/maega/UFL Dropbox/Maegan Cremer/research-share/Maegan\n",
    "os.chdir(new_dirrectory)\n",
    "#change working directory to where the data is stored\n"
   ]
  },
  {
   "cell_type": "markdown",
   "metadata": {},
   "source": [
    "### importing the list of best features by model and finding the unique list of features + transformations"
   ]
  },
  {
   "cell_type": "code",
   "execution_count": 25,
   "metadata": {},
   "outputs": [],
   "source": [
    "#importing the dataframe describing features selected for each model\n",
    "features_across_models = pd.read_excel(\"2024-07-29_FeatureListFromSVM.xlsx\", sheet_name = \"feature list\", header = [0,1,2])\n",
    "# features_across_top38 = pd.read_excel(\"2024-07-29_FeatureListFromSVM.xlsx\", sheet_name = \"feature list top 38\", header = [0,1,2])\n",
    "# features_across_allLabs = pd.read_excel(\"2024-07-29_FeatureListFromSVM.xlsx\", sheet_name = \"feature list all labs\", header = [0,1,2])\n",
    "\n",
    "#create 1D list of features across all models\n",
    "features_1D = features_across_models.to_numpy().flatten()\n",
    "\n",
    "features_1D_clean = features_1D[~pd.isna(features_1D)]\n",
    "#create list of unique features across all models\n",
    "features_1D_unique = pd.unique(features_1D_clean)"
   ]
  },
  {
   "cell_type": "markdown",
   "metadata": {},
   "source": [
    "### Describing the frequency of features across all models"
   ]
  },
  {
   "cell_type": "code",
   "execution_count": 26,
   "metadata": {},
   "outputs": [],
   "source": [
    "#characterize the frequency of the transformed feature in the list of features selected by SVM\n",
    "from collections import Counter\n",
    "feature_counts = Counter(features_1D_clean)\n",
    "feature_counts_dict = dict(feature_counts)\n"
   ]
  },
  {
   "cell_type": "markdown",
   "metadata": {},
   "source": [
    "# Comparing the original data types to the list of features\n",
    "makes a dictionary where the keys are the original data types represented among the features\\\n",
    "values are the best features represented across all models"
   ]
  },
  {
   "cell_type": "code",
   "execution_count": 27,
   "metadata": {},
   "outputs": [],
   "source": [
    "#find the original list of labs within the transformed list\n",
    "#filters the unique list of labs\n",
    "\n",
    "dict_og_to_transformed = {}\n",
    "dict_og_to_trimmed_transformed = {} #for use in multi-indexing\n",
    "# list_transformedFeatures = []\n",
    "for og_feature in full_og_featureList:\n",
    "    list_transformedFeatures = []\n",
    "    list_transformations = []\n",
    "    for feature_transformed in features_1D_unique:\n",
    "        if og_feature in feature_transformed:\n",
    "            # list_transformedFeatures.append(feature_transformed)\n",
    "            #trimming slicing the original feature off and adding the transformed section to a list\n",
    "            start_position_for_slice = len(og_feature) + 1 #removes the space when slicing\n",
    "            name_transformation = feature_transformed[start_position_for_slice:] #slices the length of the orginal feature off the string\n",
    "            #check to see if the section trimmed from the feature exactly matches the og_feature\n",
    "            trimmed_head_string = feature_transformed[:len(og_feature)]\n",
    "            if trimmed_head_string == og_feature: #ensures that the feature identified isn't a variation such as PCT myelocyte vs myelocyte\n",
    "                if name_transformation != \"eported\": #a little weirdness from one of the echo measures\n",
    "                    list_transformations.append(name_transformation) #adds the transformation to the list for that feature\n",
    "                    list_transformedFeatures.append(feature_transformed) #adds the og+transform to the og_to_transform\n",
    "    if len(list_transformedFeatures) != 0:\n",
    "        dict_og_to_transformed[og_feature] = list_transformedFeatures\n",
    "        dict_og_to_trimmed_transformed[og_feature] = list_transformations"
   ]
  },
  {
   "cell_type": "code",
   "execution_count": 28,
   "metadata": {},
   "outputs": [],
   "source": [
    "#creating multi-indexed pattern for the table of features used in the SVM models \n",
    "\n",
    "#collecting the two arrays for indexing from the dictionary\n",
    "level_1 = [] #keys\n",
    "level_2 = [] #values, or the transformations\n",
    "\n",
    "#to make the key list the same length as the value list such that the pairings can be made... \n",
    "for key in list(dict_og_to_trimmed_transformed.keys()):\n",
    "    for transformation in list(dict_og_to_trimmed_transformed[key]):\n",
    "        level_1.append(key)\n",
    "        level_2.append(transformation)\n",
    "\n",
    "level_1_2 = [level_1, level_2]\n",
    "multiIndex_tuple_features = list(zip(*level_1_2))"
   ]
  },
  {
   "cell_type": "markdown",
   "metadata": {},
   "source": [
    "### create binary dataframe of features per model with multiIndex"
   ]
  },
  {
   "cell_type": "code",
   "execution_count": 29,
   "metadata": {},
   "outputs": [],
   "source": [
    "#set the unique features to the row index \n",
    "row_dictionary = dict_og_to_transformed\n",
    "\n",
    "#set the columns to the headers from earlier, the models\n",
    "column_index = features_across_models.columns\n",
    "\n",
    "dict_binary = {}\n",
    "#pull the features from a column and compare them to \n",
    "for column in column_index: \n",
    "    column_data_binary = []\n",
    "    column_data = features_across_models[column]\n",
    "    for key in list(row_dictionary.keys()):\n",
    "        for feature in list(row_dictionary[key]):\n",
    "            if feature in column_data.values:\n",
    "                column_data_binary.extend([1])\n",
    "            else:\n",
    "                column_data_binary.extend([0])\n",
    "    dict_binary[column] = column_data_binary       \n",
    "\n",
    "\n",
    "\n",
    "multiIndex_features = pd.MultiIndex.from_tuples(multiIndex_tuple_features, names=[\"original data\", \"transformation\"])\n",
    "df_binary = pd.DataFrame.from_dict(dict_binary, orient = \"columns\")\n",
    "\n",
    "df_binary.index = multiIndex_features"
   ]
  },
  {
   "cell_type": "markdown",
   "metadata": {},
   "source": [
    "# organizing the frequency information to a multiIndexed dataframe\n"
   ]
  },
  {
   "cell_type": "code",
   "execution_count": 30,
   "metadata": {},
   "outputs": [],
   "source": [
    "#set the unique features to the row index \n",
    "row_dictionary = dict_og_to_transformed\n",
    "\n",
    "dict_frequencyList = {}\n",
    "for key in list(row_dictionary.keys()):\n",
    "    for feature in list(row_dictionary[key]):\n",
    "        dict_frequencyList[feature] = feature_counts_dict[feature] #reorders the dictionary?\n",
    "\n",
    "\n",
    "multiIndex_features = pd.MultiIndex.from_tuples(multiIndex_tuple_features, names=[\"original data\", \"transformation\"])\n",
    "df_featureFrequency = pd.DataFrame.from_dict(dict_frequencyList, orient = \"index\")\n",
    "\n",
    "df_featureFrequency.index = multiIndex_features "
   ]
  },
  {
   "cell_type": "code",
   "execution_count": 31,
   "metadata": {},
   "outputs": [],
   "source": [
    "# #figure out where the duplicates are\n",
    "\n",
    "# #  = [' '.join(map(str, col)).strip() for col in dict_og_to_trimmed_transformed]\n",
    "# test_compress_1 =[group + ' ' + transform for group in list(dict_og_to_trimmed_transformed.keys()) \n",
    "#                   for transform in list(dict_og_to_trimmed_transformed[group])]\n",
    "\n"
   ]
  },
  {
   "cell_type": "markdown",
   "metadata": {},
   "source": [
    "# Illustrating data completeness for features selected by a model"
   ]
  },
  {
   "cell_type": "markdown",
   "metadata": {},
   "source": [
    "copy the binary dataframe.  Then replace row column pairs which are 1 to the number of patients with that original piece of data"
   ]
  },
  {
   "cell_type": "code",
   "execution_count": null,
   "metadata": {},
   "outputs": [],
   "source": []
  }
 ],
 "metadata": {
  "kernelspec": {
   "display_name": "BEAT-Labs",
   "language": "python",
   "name": "python3"
  },
  "language_info": {
   "codemirror_mode": {
    "name": "ipython",
    "version": 3
   },
   "file_extension": ".py",
   "mimetype": "text/x-python",
   "name": "python",
   "nbconvert_exporter": "python",
   "pygments_lexer": "ipython3",
   "version": "3.9.19"
  }
 },
 "nbformat": 4,
 "nbformat_minor": 2
}
