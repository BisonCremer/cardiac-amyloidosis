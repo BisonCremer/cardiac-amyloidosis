{
 "cells": [
  {
   "cell_type": "markdown",
   "metadata": {},
   "source": [
    "# importing packages"
   ]
  },
  {
   "cell_type": "code",
   "execution_count": 1,
   "metadata": {},
   "outputs": [],
   "source": [
    "import pandas as pd\n",
    "import numpy as np\n",
    "import os"
   ]
  },
  {
   "cell_type": "markdown",
   "metadata": {},
   "source": [
    "# directory for getting the original feature list"
   ]
  },
  {
   "cell_type": "code",
   "execution_count": 2,
   "metadata": {},
   "outputs": [],
   "source": [
    "#find current directory\n",
    "#location of original data\n",
    "starting_directory = os.getcwd()\n",
    "\n",
    "new_dirrectory = \"C:/Users/maega/Documents/3000 PhD/3300_BEAT Labs/Projects/Cardiac-Amyloidosis-Multiple-Myeloma/012 Processed Data/PtLabsFiltered_2024-06-26_v1\"\n",
    "os.chdir(new_dirrectory)\n",
    "#change working directory to where the data is stored\n",
    "\n",
    "#create file naming system for data outputs"
   ]
  },
  {
   "cell_type": "markdown",
   "metadata": {},
   "source": [
    "### importing the data"
   ]
  },
  {
   "cell_type": "code",
   "execution_count": 7,
   "metadata": {},
   "outputs": [],
   "source": [
    "#import the original feature list\n",
    "lab_list_import = pd.read_excel(\"ListPts-W-WO-Lab-20240626_v2.xlsx\", sheet_name = \"lab list pts without\", header = [0])\n"
   ]
  },
  {
   "cell_type": "markdown",
   "metadata": {},
   "source": [
    "### collecting the lab names and the number of patients as seperate series"
   ]
  },
  {
   "cell_type": "code",
   "execution_count": 8,
   "metadata": {},
   "outputs": [],
   "source": [
    "lab_list = lab_list_import.iloc[:,0] #list of the raw lab result names without transformations\n",
    "lab_list_numbpts = lab_list_import.iloc[:,2] #for use later in assessing the completeness of the data"
   ]
  },
  {
   "cell_type": "markdown",
   "metadata": {},
   "source": [
    "### additional features describing patients which arean't labs in their untransformed states\n",
    "no descriptive statistics or fits"
   ]
  },
  {
   "cell_type": "code",
   "execution_count": 19,
   "metadata": {},
   "outputs": [],
   "source": [
    "#additional starting features\n",
    "additional_features = pd.Series([\"Amyloid Status\", \"Dx\", \"Sex\", 'Age', 'Survival (in months)',\n",
    "                       \"ChemoTx\", \"ChemoTx Number\", \"ImmunoTx\", \"ImmunoTx Number\", \"HemeTx\", \"HemeTx Number\", \n",
    "                       \"RadTx\", \"RadTx Number\", \"OtherTx\", \"OtherTx Number\", 'time from diagnosis to note (months)', \n",
    "                       'ECOG Performance Status', 'Karnofsky Performance Status', 'Clinical Impression of Disease', \n",
    "                       \"1st_EF(avg%)\", \"1st_Diastolic grade\", \"1st_BSA\", \"1st_PWT(cm)\", \"1st_IVS(cm)\", \"1st_lvid(cm)\", \n",
    "                       \"1st_LA_dimension (cm)\",\"1st_Lvmass\", \"1st_LVMI\",\"1st_RWT\", \"1st_LA_grade\", \"1st_mv_grade\", \n",
    "                       \"1st_AV_grade\", \"1st_rvsp(mmHg)\", \"1st_LVH\", \"1stGLS\", \"1stGLSreported\", \"use1stGLS\", \n",
    "                       \"1st_outerLS\", \"1st_midLS\", \"1st_innerLS\", \"1st_echoOSH\"])"
   ]
  },
  {
   "cell_type": "code",
   "execution_count": 20,
   "metadata": {},
   "outputs": [],
   "source": [
    "full_og_featureList = pd.concat([lab_list, additional_features], axis = 0) #adding the two lists of features together\n",
    "full_og_featureList.reset_index()"
   ]
  },
  {
   "cell_type": "code",
   "execution_count": null,
   "metadata": {},
   "outputs": [],
   "source": [
    "#get the list of best features from the SVM"
   ]
  },
  {
   "cell_type": "markdown",
   "metadata": {},
   "source": [
    "# get the list of best features from the SVM models "
   ]
  },
  {
   "cell_type": "code",
   "execution_count": 22,
   "metadata": {},
   "outputs": [],
   "source": [
    "#find current directory\n",
    "#location of original data\n",
    "starting_directory = os.getcwd()\n",
    "\n",
    "new_dirrectory = 'C:/Users/maega/UFL Dropbox/Maegan Cremer/research-share/Maegan/Projects/Cardiac-Amyloidosis-Multiple-Myeloma/013 Analyzed Data outputs'\n",
    "# \"C:/Users/mcremer/UFL Dropbox/Maegan Cremer/research-share/Maegan/Projects/Cardiac-Amyloidosis-Multiple-Myeloma/013 Analyzed Data outputs\"\n",
    "#C:/Users/maega/UFL Dropbox/Maegan Cremer/research-share/Maegan\n",
    "os.chdir(new_dirrectory)\n",
    "#change working directory to where the data is stored\n"
   ]
  },
  {
   "cell_type": "markdown",
   "metadata": {},
   "source": [
    "### importing the list of dataframe with the list of best features by model"
   ]
  },
  {
   "cell_type": "code",
   "execution_count": 23,
   "metadata": {},
   "outputs": [],
   "source": [
    "#importing the dataframe describing features selected for each model\n",
    "features_across_models = pd.read_excel(\"2024-07-29_FeatureListFromSVM.xlsx\", sheet_name = \"feature list\", header = [0,1,2])\n",
    "# features_across_top38 = pd.read_excel(\"2024-07-29_FeatureListFromSVM.xlsx\", sheet_name = \"feature list top 38\", header = [0,1,2])\n",
    "# features_across_allLabs = pd.read_excel(\"2024-07-29_FeatureListFromSVM.xlsx\", sheet_name = \"feature list all labs\", header = [0,1,2])\n",
    "\n",
    "#create 1D list of features across all models\n",
    "features_1D = features_across_models.to_numpy().flatten()\n",
    "\n",
    "features_1D_clean = features_1D[~pd.isna(features_1D)]\n",
    "#create list of unique features across all models\n",
    "features_1D_unique = pd.unique(features_1D_clean)"
   ]
  },
  {
   "cell_type": "markdown",
   "metadata": {},
   "source": [
    "### Describing the frequency of features across all models"
   ]
  },
  {
   "cell_type": "code",
   "execution_count": 40,
   "metadata": {},
   "outputs": [],
   "source": [
    "#characterize the frequency of the transformed feature in the list of features selected by SVM\n",
    "from collections import Counter\n",
    "feature_counts = Counter(features_1D_clean)\n",
    "feature_counts_dict = dict(feature_counts)\n"
   ]
  },
  {
   "cell_type": "markdown",
   "metadata": {},
   "source": [
    "# Comparing the original data types to the list of features\n",
    "makes a dictionary where the keys are the original data types represented among the features\\\n",
    "values are the best features represented across all models"
   ]
  },
  {
   "cell_type": "code",
   "execution_count": null,
   "metadata": {},
   "outputs": [],
   "source": [
    "#find the original list of labs within the transformed list\n",
    "\n",
    "dict_og_to_transformed = {}\n",
    "# list_transformedFeatures = []\n",
    "for og_feature in full_og_featureList:\n",
    "    list_transformedFeatures = []\n",
    "    for feature_transformed in features_1D_unique:\n",
    "        if og_feature in feature_transformed:\n",
    "            list_transformedFeatures.append(feature_transformed)\n",
    "    if len(list_transformedFeatures) != 0:\n",
    "        dict_og_to_transformed[og_feature] = list_transformedFeatures"
   ]
  },
  {
   "cell_type": "code",
   "execution_count": null,
   "metadata": {},
   "outputs": [],
   "source": [
    "#find a way to show the frequency of a particular original data type showing up in the SVM"
   ]
  }
 ],
 "metadata": {
  "kernelspec": {
   "display_name": "BEAT-Labs",
   "language": "python",
   "name": "python3"
  },
  "language_info": {
   "codemirror_mode": {
    "name": "ipython",
    "version": 3
   },
   "file_extension": ".py",
   "mimetype": "text/x-python",
   "name": "python",
   "nbconvert_exporter": "python",
   "pygments_lexer": "ipython3",
   "version": "3.9.19"
  }
 },
 "nbformat": 4,
 "nbformat_minor": 2
}
