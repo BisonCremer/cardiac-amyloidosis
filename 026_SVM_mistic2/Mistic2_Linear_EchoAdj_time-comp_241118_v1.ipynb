{
 "cells": [
  {
   "cell_type": "markdown",
   "metadata": {},
   "source": [
    "# Importing packages"
   ]
  },
  {
   "cell_type": "code",
   "execution_count": 38,
   "metadata": {},
   "outputs": [
    {
     "name": "stdout",
     "output_type": "stream",
     "text": [
      "/blue/ferrallm/mcremer/CardiacAmyloidosisMultipleMyeloma\n"
     ]
    }
   ],
   "source": [
    "import os\n",
    "starting_directory = os.getcwd()\n",
    "print(os.getcwd())\n",
    "\n",
    "new_dirrectory = '/blue/ferrallm/mcremer/CardiacAmyloidosisMultipleMyeloma'\n",
    "os.chdir(new_dirrectory)"
   ]
  },
  {
   "cell_type": "code",
   "execution_count": null,
   "metadata": {},
   "outputs": [],
   "source": [
    "import sys\n",
    "# sys.path.append('/Users/c.kieslich/Box Sync/Research/featureSelection/')\n",
    "\n",
    "from mistic.svmSet import svmSet\n",
    "from mistic.cvSet import cvSet \n",
    "from mistic.utility import combined_rank, kernelWrapper, score_svc, perDiff, paramSet\n",
    "\n",
    "import matplotlib.pyplot as plt   \n",
    "import numpy as np\n",
    "import pandas as pd\n",
    "import copy\n",
    "\n",
    "from sklearn.preprocessing import StandardScaler\n",
    "from sklearn.metrics import roc_auc_score, confusion_matrix\n",
    "from sklearn.model_selection import train_test_split\n",
    "from sklearn.svm import SVC"
   ]
  },
  {
   "cell_type": "code",
   "execution_count": 40,
   "metadata": {},
   "outputs": [],
   "source": [
    "import pickle"
   ]
  },
  {
   "cell_type": "code",
   "execution_count": 41,
   "metadata": {},
   "outputs": [],
   "source": [
    "#some functions I wrote to help with exporting data\n",
    "def outputToExcel(df_data, fileName_header, fileName_Common, fileName_suffix,\n",
    "                  parent_dir, folderName, sheetName):\n",
    "    fileName = fileName_header + fileName_Common + fileName_suffix\n",
    "    outfile_extension = '.xlsx'\n",
    "    outfile_boxplts = fileName + outfile_extension\n",
    "    path_out= os.path.join(parent_dir, folderName, outfile_boxplts)\n",
    "\n",
    "    if os.path.exists(path_out):\n",
    "            #if old sheet\n",
    "            with pd.ExcelWriter(path_out, mode = 'a', if_sheet_exists = 'overlay') as writer:\n",
    "                    df_data.to_excel(writer, sheet_name = sheetName, index = True)\n",
    "    else: \n",
    "            #new sheet\n",
    "            with pd.ExcelWriter(path_out) as writer:\n",
    "                    df_data.to_excel(writer, sheet_name = sheetName, index = True) #if new sheet\n",
    "    \n",
    "def outputFiguresPath(fileName_header, fileName_mid, fileName_suff, parent_dir, folderName):\n",
    "        fileName_header = str(fileName_header)\n",
    "        fileName_mid = str(fileName_mid)\n",
    "        fileName_suff = str(fileName_suff)\n",
    "\n",
    "        #cleaning the input to prevent addition of / to the directory\n",
    "        fileName_header = fileName_header.replace(\"/\", \"-\")\n",
    "        fileName_mid = fileName_mid.replace(\"/\", \"-\")\n",
    "        fileName_suff = fileName_suff.replace(\"/\", \"-\")\n",
    "\n",
    "        fileName = fileName_header + fileName_mid +fileName_suff\n",
    "        out_filename = fileName + '.tif'\n",
    "        new_filepath = os.path.join(parent_dir, folderName, out_filename)\n",
    "        #the output path can be used to save the figure\n",
    "        return new_filepath\n",
    "        # plt.savefig(new_filepath, bbox_inches = 'tight')\n",
    "\n",
    "def makeFolderPathForData(parent_dir, folderName_header, folderName_common, folderName_suffix):\n",
    "    #makes a new directory for your files\n",
    "    #returns the folder name for use in other functions\n",
    "    folderName = folderName_header + folderName_common + folderName_suffix\n",
    "    path = os.path.join(parent_dir,folderName)\n",
    "    if not os.path.exists(path):\n",
    "        os.mkdir(path)\n",
    "    return folderName"
   ]
  },
  {
   "cell_type": "markdown",
   "metadata": {},
   "source": [
    "# directory management"
   ]
  },
  {
   "cell_type": "code",
   "execution_count": null,
   "metadata": {},
   "outputs": [],
   "source": [
    "# this is written to work out of the blue folder on hpg \n",
    "\n",
    "#for file outputs\n",
    "fileName_header = \"Mistic2_EchoAdj\" #what data did you put in\n",
    "fileName_common = \"_time-comp_linear\" #what was performed on the data, for figures, this may be added to\n",
    "fileName_suffix = \"_241118_v1\" #date and versioning\n",
    "\n",
    "saving_dirrectory = \"012 Processed Data\"\n",
    "makingFolder = makeFolderPathForData(parent_dir= saving_dirrectory, folderName_header= \"Mistic2_EchoAdj_time_linear_\", folderName_common= \"241118\", \n",
    "                                     folderName_suffix= \"v1\")\n",
    "dataFrameFolderOut =  makingFolder #\"SVM_Mistic_Output_2024-07-19_v2\"\n",
    "pickleFolderOut = makingFolder\n",
    "\n",
    "figDirectory = \"012 Processed Data\"\n",
    "figFolder = makingFolder \n"
   ]
  },
  {
   "cell_type": "code",
   "execution_count": null,
   "metadata": {},
   "outputs": [],
   "source": [
    "import matplotlib as mpl\n",
    "\n",
    "mpl.rcParams['figure.dpi'] = 300"
   ]
  },
  {
   "cell_type": "code",
   "execution_count": null,
   "metadata": {},
   "outputs": [],
   "source": [
    "#parameters of SVM \n",
    "red_factor = 0.05\n",
    "\n",
    "#cross validation and splitting \n",
    "test_size_numb = 1/5\n",
    "numb_sets = 5\n",
    "\n",
    "C_range = [2**x for x in range(-2,5)]\n",
    "# gamma_range = [2**x for x in range(-9,1)]\n",
    "\n",
    "\n",
    "kernel_type = \"rbf\"\n",
    "\n",
    "rank_weights = [0,0.25,0.50,0.75,1]"
   ]
  },
  {
   "cell_type": "markdown",
   "metadata": {},
   "source": [
    "# importing our data"
   ]
  },
  {
   "cell_type": "code",
   "execution_count": 44,
   "metadata": {},
   "outputs": [],
   "source": [
    "dataFileName = \"AL-KnownPts_EchoAdj_exG01J01-time-comp_1Sheet_20241024_v1.xlsx\""
   ]
  },
  {
   "cell_type": "code",
   "execution_count": 45,
   "metadata": {},
   "outputs": [],
   "source": [
    "# Import dataset\n",
    "dataTable = pd.read_excel(dataFileName, header = 0) #the dataset we are using"
   ]
  },
  {
   "cell_type": "markdown",
   "metadata": {},
   "source": [
    "# Setting up classifier"
   ]
  },
  {
   "cell_type": "markdown",
   "metadata": {},
   "source": [
    "## Scaling data and defining test set"
   ]
  },
  {
   "cell_type": "code",
   "execution_count": 46,
   "metadata": {},
   "outputs": [],
   "source": [
    "#columns to drop from the x data (samples and features)\n",
    "x_columns_toDrop = ['DeID', 'Amyloid Status_yes', 'Amyloid Status_no', \"Amyloid Status_unk\"]\n",
    "\n",
    "\n",
    "#columns to use for the y data \n",
    "y_column_Classification = 'Amyloid Status_yes'"
   ]
  },
  {
   "cell_type": "code",
   "execution_count": 47,
   "metadata": {},
   "outputs": [],
   "source": [
    "X = dataTable.copy()\n",
    "X.drop(columns=x_columns_toDrop,inplace=True)\n",
    "scaler = StandardScaler()\n",
    "scaler.fit(X)\n",
    "\n",
    "X_all = scaler.transform(X)\n",
    "y_all = dataTable[y_column_Classification]\n",
    "\n",
    "X_train, X_test, y_train, y_test = train_test_split(X_all, y_all, \n",
    "                                                    stratify = y_all, \n",
    "                                                    random_state= 0, \n",
    "                                                    test_size= test_size_numb)"
   ]
  },
  {
   "cell_type": "markdown",
   "metadata": {},
   "source": [
    "## define cross validation"
   ]
  },
  {
   "cell_type": "code",
   "execution_count": 48,
   "metadata": {},
   "outputs": [],
   "source": [
    "cv_set = cvSet(X = X_train, y = y_train.values)\n",
    "cv_set.classification(num_sets = numb_sets)"
   ]
  },
  {
   "cell_type": "markdown",
   "metadata": {},
   "source": [
    "## initiallize SVC and parameter grids"
   ]
  },
  {
   "cell_type": "code",
   "execution_count": null,
   "metadata": {},
   "outputs": [],
   "source": [
    "svc = SVC(kernel = 'precomputed', class_weight=\"balanced\", probability=False, tol = 1e-12)\n",
    "\n",
    "\n",
    "parameter_grid = []\n",
    "for cost in C_range:\n",
    "    parameter_grid.append(paramSet(model={\"C\": cost},kernel={}))"
   ]
  },
  {
   "cell_type": "markdown",
   "metadata": {},
   "source": [
    "# feature selection"
   ]
  },
  {
   "cell_type": "code",
   "execution_count": null,
   "metadata": {},
   "outputs": [
    {
     "name": "stdout",
     "output_type": "stream",
     "text": [
      "Rank weight: 0.00\n",
      "Number of Features: 55, Score: 0.678\n",
      "Number of Features: 52, Score: 0.667\n",
      "Number of Features: 49, Score: 0.689\n",
      "Number of Features: 46, Score: 0.711\n",
      "Number of Features: 43, Score: 0.719\n",
      "Number of Features: 40, Score: 0.644\n",
      "Number of Features: 37, Score: 0.667\n",
      "Number of Features: 35, Score: 0.633\n",
      "Number of Features: 33, Score: 0.633\n",
      "Number of Features: 31, Score: 0.633\n",
      "Number of Features: 29, Score: 0.667\n",
      "Number of Features: 27, Score: 0.678\n",
      "Number of Features: 25, Score: 0.678\n",
      "Number of Features: 23, Score: 0.694\n",
      "Number of Features: 21, Score: 0.717\n",
      "Number of Features: 19, Score: 0.736\n",
      "Number of Features: 18, Score: 0.747\n",
      "Number of Features: 17, Score: 0.736\n",
      "Number of Features: 16, Score: 0.761\n",
      "Number of Features: 15, Score: 0.740\n",
      "Number of Features: 14, Score: 0.740\n",
      "Number of Features: 13, Score: 0.753\n",
      "Number of Features: 12, Score: 0.744\n",
      "Number of Features: 11, Score: 0.737\n",
      "Number of Features: 10, Score: 0.774\n",
      "Number of Features: 9, Score: 0.782\n",
      "Number of Features: 8, Score: 0.792\n",
      "Number of Features: 7, Score: 0.762\n",
      "Number of Features: 6, Score: 0.752\n",
      "Number of Features: 5, Score: 0.792\n",
      "Number of Features: 4, Score: 0.725\n",
      "Number of Features: 3, Score: 0.717\n",
      "Number of Features: 2, Score: 0.761\n",
      "Number of Features: 1, Score: 0.708\n",
      "Rank weight: 0.25\n",
      "Number of Features: 55, Score: 0.678\n",
      "Number of Features: 52, Score: 0.656\n",
      "Number of Features: 49, Score: 0.678\n",
      "Number of Features: 46, Score: 0.711\n",
      "Number of Features: 43, Score: 0.711\n",
      "Number of Features: 40, Score: 0.678\n",
      "Number of Features: 37, Score: 0.689\n",
      "Number of Features: 35, Score: 0.689\n",
      "Number of Features: 33, Score: 0.700\n",
      "Number of Features: 31, Score: 0.722\n",
      "Number of Features: 29, Score: 0.745\n",
      "Number of Features: 27, Score: 0.736\n",
      "Number of Features: 25, Score: 0.741\n",
      "Number of Features: 23, Score: 0.789\n",
      "Number of Features: 21, Score: 0.819\n",
      "Number of Features: 19, Score: 0.771\n",
      "Number of Features: 18, Score: 0.778\n",
      "Number of Features: 17, Score: 0.803\n",
      "Number of Features: 16, Score: 0.806\n",
      "Number of Features: 15, Score: 0.797\n",
      "Number of Features: 14, Score: 0.795\n",
      "Number of Features: 13, Score: 0.764\n",
      "Number of Features: 12, Score: 0.791\n",
      "Number of Features: 11, Score: 0.753\n",
      "Number of Features: 10, Score: 0.753\n",
      "Number of Features: 9, Score: 0.775\n",
      "Number of Features: 8, Score: 0.788\n",
      "Number of Features: 7, Score: 0.782\n",
      "Number of Features: 6, Score: 0.720\n",
      "Number of Features: 5, Score: 0.622\n",
      "Number of Features: 4, Score: 0.633\n",
      "Number of Features: 3, Score: 0.611\n",
      "Number of Features: 2, Score: 0.589\n",
      "Number of Features: 1, Score: 0.639\n",
      "Rank weight: 0.50\n",
      "Number of Features: 55, Score: 0.678\n",
      "Number of Features: 52, Score: 0.656\n",
      "Number of Features: 49, Score: 0.678\n",
      "Number of Features: 46, Score: 0.749\n",
      "Number of Features: 43, Score: 0.718\n",
      "Number of Features: 40, Score: 0.737\n",
      "Number of Features: 37, Score: 0.724\n",
      "Number of Features: 35, Score: 0.760\n",
      "Number of Features: 33, Score: 0.802\n",
      "Number of Features: 31, Score: 0.785\n",
      "Number of Features: 29, Score: 0.780\n",
      "Number of Features: 27, Score: 0.791\n",
      "Number of Features: 25, Score: 0.805\n",
      "Number of Features: 23, Score: 0.873\n",
      "Number of Features: 21, Score: 0.850\n",
      "Number of Features: 19, Score: 0.747\n",
      "Number of Features: 18, Score: 0.773\n",
      "Number of Features: 17, Score: 0.743\n",
      "Number of Features: 16, Score: 0.773\n",
      "Number of Features: 15, Score: 0.773\n",
      "Number of Features: 14, Score: 0.784\n",
      "Number of Features: 13, Score: 0.790\n",
      "Number of Features: 12, Score: 0.831\n",
      "Number of Features: 11, Score: 0.740\n",
      "Number of Features: 10, Score: 0.664\n",
      "Number of Features: 9, Score: 0.667\n",
      "Number of Features: 8, Score: 0.633\n",
      "Number of Features: 7, Score: 0.622\n",
      "Number of Features: 6, Score: 0.677\n",
      "Number of Features: 5, Score: 0.585\n",
      "Number of Features: 4, Score: 0.585\n",
      "Number of Features: 3, Score: 0.589\n",
      "Number of Features: 2, Score: 0.578\n",
      "Number of Features: 1, Score: 0.483\n",
      "Rank weight: 0.75\n",
      "Number of Features: 55, Score: 0.678\n",
      "Number of Features: 52, Score: 0.678\n",
      "Number of Features: 49, Score: 0.749\n",
      "Number of Features: 46, Score: 0.716\n",
      "Number of Features: 43, Score: 0.727\n",
      "Number of Features: 40, Score: 0.727\n",
      "Number of Features: 37, Score: 0.730\n",
      "Number of Features: 35, Score: 0.730\n",
      "Number of Features: 33, Score: 0.708\n",
      "Number of Features: 31, Score: 0.708\n",
      "Number of Features: 29, Score: 0.719\n",
      "Number of Features: 27, Score: 0.718\n",
      "Number of Features: 25, Score: 0.745\n",
      "Number of Features: 23, Score: 0.734\n",
      "Number of Features: 21, Score: 0.748\n",
      "Number of Features: 19, Score: 0.734\n",
      "Number of Features: 18, Score: 0.772\n",
      "Number of Features: 17, Score: 0.800\n",
      "Number of Features: 16, Score: 0.786\n",
      "Number of Features: 15, Score: 0.837\n",
      "Number of Features: 14, Score: 0.857\n",
      "Number of Features: 13, Score: 0.734\n",
      "Number of Features: 12, Score: 0.745\n",
      "Number of Features: 11, Score: 0.766\n",
      "Number of Features: 10, Score: 0.730\n",
      "Number of Features: 9, Score: 0.697\n",
      "Number of Features: 8, Score: 0.704\n",
      "Number of Features: 7, Score: 0.657\n",
      "Number of Features: 6, Score: 0.678\n",
      "Number of Features: 5, Score: 0.589\n",
      "Number of Features: 4, Score: 0.589\n",
      "Number of Features: 3, Score: 0.622\n",
      "Number of Features: 2, Score: 0.606\n",
      "Number of Features: 1, Score: 0.619\n",
      "Rank weight: 1.00\n",
      "Number of Features: 55, Score: 0.678\n",
      "Number of Features: 52, Score: 0.689\n",
      "Number of Features: 49, Score: 0.710\n",
      "Number of Features: 46, Score: 0.708\n",
      "Number of Features: 43, Score: 0.711\n",
      "Number of Features: 40, Score: 0.727\n",
      "Number of Features: 37, Score: 0.746\n",
      "Number of Features: 35, Score: 0.727\n",
      "Number of Features: 33, Score: 0.738\n",
      "Number of Features: 31, Score: 0.727\n",
      "Number of Features: 29, Score: 0.730\n",
      "Number of Features: 27, Score: 0.730\n",
      "Number of Features: 25, Score: 0.730\n",
      "Number of Features: 23, Score: 0.751\n",
      "Number of Features: 21, Score: 0.753\n",
      "Number of Features: 19, Score: 0.710\n",
      "Number of Features: 18, Score: 0.710\n",
      "Number of Features: 17, Score: 0.785\n",
      "Number of Features: 16, Score: 0.806\n",
      "Number of Features: 15, Score: 0.875\n",
      "Number of Features: 14, Score: 0.802\n",
      "Number of Features: 13, Score: 0.661\n",
      "Number of Features: 12, Score: 0.622\n",
      "Number of Features: 11, Score: 0.622\n",
      "Number of Features: 10, Score: 0.644\n",
      "Number of Features: 9, Score: 0.646\n",
      "Number of Features: 8, Score: 0.622\n",
      "Number of Features: 7, Score: 0.633\n",
      "Number of Features: 6, Score: 0.600\n",
      "Number of Features: 5, Score: 0.611\n",
      "Number of Features: 4, Score: 0.533\n",
      "Number of Features: 3, Score: 0.600\n",
      "Number of Features: 2, Score: 0.506\n",
      "Number of Features: 1, Score: 0.483\n"
     ]
    }
   ],
   "source": [
    "\n",
    "svm_set_ranks = []\n",
    "for i in range(len(rank_weights)):\n",
    "    print(f\"Rank weight: {rank_weights[i]:.2f}\")\n",
    "    svm_set_ranks.append(svmSet(svc, cv_set,\n",
    "                                score_method = score_svc().score,\n",
    "                                kernel = kernelWrapper(type = kernel_type),\n",
    "                                separate_feature_sets = False,\n",
    "                                separate_parameters = False,\n",
    "                                sparse_kernel_matrix = False))\n",
    "\n",
    "    svm_set_ranks[i].greedy_backward_selection(parameter_grid = parameter_grid,\n",
    "                                           reduction_factor = red_factor,\n",
    "                                           feature_ranker = combined_rank(weight=rank_weights[i]).compute,\n",
    "                                           set_for_rank = \"sample\")"
   ]
  },
  {
   "cell_type": "code",
   "execution_count": 51,
   "metadata": {},
   "outputs": [],
   "source": [
    "# add pickling stage here so that you can use this data for easy replotting\n",
    "\n",
    "#if not already pickled use this block\n",
    "pickle_file_name = 'svmsetsPickle_' + fileName_header + fileName_suffix\n",
    "pickle_filePath = os.path.join(saving_dirrectory, pickleFolderOut, pickle_file_name)\n",
    "pickle_file = open(pickle_filePath, 'wb')\n",
    "pickle.dump(svm_set_ranks, pickle_file)\n",
    "\n"
   ]
  },
  {
   "cell_type": "markdown",
   "metadata": {},
   "source": [
    "# Performance plots"
   ]
  },
  {
   "cell_type": "markdown",
   "metadata": {},
   "source": [
    "## F1 and AUC plots"
   ]
  },
  {
   "cell_type": "code",
   "execution_count": 52,
   "metadata": {},
   "outputs": [
    {
     "data": {
      "image/png": "[encoded data removed]",
      "text/plain": [
       "<Figure size 640x480 with 1 Axes>"
      ]
     },
     "metadata": {},
     "output_type": "display_data"
    }
   ],
   "source": [
    "fig, ax = plt.subplots()\n",
    "\n",
    "for i in range(len(rank_weights)):\n",
    "    svm_set_ranks[i].plot_performance(metric=\"auc\")\n",
    "\n",
    "plt.legend(labels=rank_weights)\n",
    "ax.set_title(\"AUC vs Features\")\n",
    "\n",
    "#saving figure\n",
    "figCommon = fileName_common + \"_AUC\"\n",
    "figPath = outputFiguresPath(fileName_header=fileName_header, fileName_mid= figCommon, fileName_suff= fileName_suffix, parent_dir= figDirectory, folderName= figFolder)\n",
    "fig.savefig(figPath, bbox_inches = 'tight')"
   ]
  },
  {
   "cell_type": "code",
   "execution_count": 53,
   "metadata": {},
   "outputs": [
    {
     "data": {
      "image/png": "[encoded data removed]",
      "text/plain": [
       "<Figure size 640x480 with 1 Axes>"
      ]
     },
     "metadata": {},
     "output_type": "display_data"
    }
   ],
   "source": [
    "fig, ax = plt.subplots()\n",
    "\n",
    "for i in range(len(rank_weights)):\n",
    "    svm_set_ranks[i].plot_performance(metric=\"f1\")\n",
    "\n",
    "plt.legend(labels=rank_weights)\n",
    "ax.set_title(\"F1 vs Features\")\n",
    "\n",
    "#saving figure\n",
    "figCommon = fileName_common + \"_F1\"\n",
    "figPath = outputFiguresPath(fileName_header=fileName_header, fileName_mid= figCommon, fileName_suff= fileName_suffix, parent_dir= figDirectory, folderName= figFolder)\n",
    "fig.savefig(figPath, bbox_inches = 'tight')"
   ]
  },
  {
   "cell_type": "code",
   "execution_count": 54,
   "metadata": {},
   "outputs": [
    {
     "data": {
      "image/png": "[encoded data removed]",
      "text/plain": [
       "<Figure size 640x480 with 1 Axes>"
      ]
     },
     "metadata": {},
     "output_type": "display_data"
    }
   ],
   "source": [
    "fig, ax = plt.subplots()\n",
    "\n",
    "for i in range(len(rank_weights)):\n",
    "    svm_set_ranks[i].plot_performance(metric=\"score\")\n",
    "\n",
    "plt.legend(labels=rank_weights)\n",
    "ax.set_title(\"Score vs Features\")\n",
    "\n",
    "#saving figure\n",
    "figCommon = fileName_common + \"_Score\"\n",
    "figPath = outputFiguresPath(fileName_header=fileName_header, fileName_mid= figCommon, fileName_suff= fileName_suffix, parent_dir= figDirectory, folderName= figFolder)\n",
    "fig.savefig(figPath, bbox_inches = 'tight')"
   ]
  },
  {
   "cell_type": "markdown",
   "metadata": {},
   "source": [
    "# picking best model "
   ]
  },
  {
   "cell_type": "code",
   "execution_count": 55,
   "metadata": {},
   "outputs": [
    {
     "data": {
      "text/plain": [
       "[0.6893665223665224,\n",
       " 0.7082417027417026,\n",
       " 0.7181688311688311,\n",
       " 0.7060613275613276,\n",
       " 0.6886565656565656]"
      ]
     },
     "execution_count": 55,
     "metadata": {},
     "output_type": "execute_result"
    }
   ],
   "source": [
    "enrich_score = []\n",
    "for i in range(len(rank_weights)):\n",
    "    enrich_score.append(svm_set_ranks[i].enrichment_score())\n",
    "\n",
    "# selected_run = 4 \n",
    "selected_run = enrich_score.index(max(enrich_score))\n",
    "\n",
    "enrich_score"
   ]
  },
  {
   "cell_type": "code",
   "execution_count": 56,
   "metadata": {
    "tags": []
   },
   "outputs": [],
   "source": [
    "# svm_set_ranks[selected_run].performance_.keys()"
   ]
  },
  {
   "cell_type": "code",
   "execution_count": 66,
   "metadata": {
    "tags": []
   },
   "outputs": [],
   "source": [
    "score_list = []\n",
    "\n",
    "for i in range(len(rank_weights)):\n",
    "    score_list.append(svm_set_ranks[i].performance_['score'])\n",
    "\n",
    "maxScore = max(score_list)\n",
    "topModelIndex = score_list.index(maxScore)\n"
   ]
  },
  {
   "cell_type": "code",
   "execution_count": 67,
   "metadata": {
    "tags": []
   },
   "outputs": [],
   "source": [
    "#saving the feature ranking, performance, and model evaluations to spreadsheets\n",
    "\n",
    "for i in range(len(rank_weights)):\n",
    "    #collecting the performance as a dataframe\n",
    "    df_bestPerformance = pd.DataFrame.from_dict(svm_set_ranks[i].performance_, orient = 'index')\n",
    "    outputToExcel(df_data=df_bestPerformance, fileName_header=fileName_header, fileName_Common=fileName_common, fileName_suffix=fileName_suffix, parent_dir=saving_dirrectory,\n",
    "                folderName= dataFrameFolderOut, sheetName= str(rank_weights[i]).replace(\".\", \"\") + \"_best model perf\")\n",
    "\n",
    "\n",
    "    df_bestFeatures= pd.DataFrame(list(X.columns[svm_set_ranks[i].features]))\n",
    "    #saving the best features\n",
    "    outputToExcel(df_data=df_bestFeatures, fileName_header=fileName_header, fileName_Common=fileName_common, fileName_suffix=fileName_suffix, parent_dir=saving_dirrectory,\n",
    "                folderName= dataFrameFolderOut, sheetName= str(rank_weights[i]).replace(\".\",\"\") + \"_features\")\n",
    "\n",
    "\n"
   ]
  },
  {
   "cell_type": "code",
   "execution_count": 57,
   "metadata": {
    "tags": []
   },
   "outputs": [
    {
     "name": "stdout",
     "output_type": "stream",
     "text": [
      "weight  0  : {'f1': 0.7166666666666666, 'auc': 0.8666666666666666, 'score': 0.7916666666666666, 'C': 2, 'gamma': 0.0078125, 'num_features': 5, 'mean_nSV': 29.0} \n",
      "\n",
      "features:  \n",
      " ['Beta-2-Microglobulin Result', 'Hemoglobin Result', 'MCHC Result', 'MCV Result', 'Pct. Mono Result'] \n",
      "\n",
      "weight  0.25  : {'f1': 0.7933333333333333, 'auc': 0.8444444444444444, 'score': 0.8188888888888888, 'C': 8, 'gamma': 0.015625, 'num_features': 21, 'mean_nSV': 24.8} \n",
      "\n",
      "features:  \n",
      " ['HemeTx', 'HemeTx Number', 'Albumin Electrophoresis Result', 'Beta-2-Microglobulin Result', 'Creatinine Result(mg/dL)', 'HCT Result', 'Hemoglobin Result', 'Kappa Free Light Chains Result (mg/L)', 'LDH Result(U/L)', 'MCH Result(pg)', 'MCHC Result', 'MCV Result', 'Nucleated RBC Result', 'Pct. Mono Result', 'RBC Result', 'Serum Electrophoresis Alpha 1 Result', 'Serum Electrophoresis Alpha 2 Result', 'Serum Electrophoresis Beta Result', 'Serum Electrophoresis Gamma Result', 'WBC Result(k/uL)', 'NT Pro BNP (B-Type Natriuretic Peptide)'] \n",
      "\n",
      "weight  0.5  : {'f1': 0.8342857142857142, 'auc': 0.9111111111111111, 'score': 0.8726984126984126, 'C': 16, 'gamma': 0.0625, 'num_features': 23, 'mean_nSV': 25.8} \n",
      "\n",
      "features:  \n",
      " ['Survival (in months)', 'ImmunoTx Number', 'RadTx', 'RadTx Number', 'OtherTx', 'OtherTx Number', 'RelTime(Days)', 'Albumin Electrophoresis Result', 'Albumin Result(gm/dL)', 'BUN Result(mg/dL)', 'Chloride Result(mmol/L)', 'HCT Result', 'LDH Result(U/L)', 'MCHC Result', 'MCV Result', 'Monocyte Result', 'Nucleated RBC Result', 'Serum Electrophoresis Alpha 2 Result', 'Serum Electrophoresis Beta Result', 'Serum Electrophoresis Gamma Result', 'Total Serum Protein Result', 'total CO2 Result', 'NT Pro BNP (B-Type Natriuretic Peptide)'] \n",
      "\n",
      "weight  0.75  : {'f1': 0.8242857142857142, 'auc': 0.888888888888889, 'score': 0.8565873015873017, 'C': 8, 'gamma': 0.25, 'num_features': 14, 'mean_nSV': 27.4} \n",
      "\n",
      "features:  \n",
      " ['Survival (in months)', 'ImmunoTx Number', 'RadTx', 'RelTime(Days)', 'Albumin Result(gm/dL)', 'BUN Result(mg/dL)', 'LDH Result(U/L)', 'Monocyte Result', 'Platelet Count Result(k/uL)', 'RBC Result', 'Serum Electrophoresis Beta Result', 'Total Serum Protein Result', 'total CO2 Result', 'NT Pro BNP (B-Type Natriuretic Peptide)'] \n",
      "\n",
      "weight  1  : {'f1': 0.9047619047619048, 'auc': 0.8444444444444444, 'score': 0.8746031746031747, 'C': 16, 'gamma': 0.03125, 'num_features': 15, 'mean_nSV': 26.2} \n",
      "\n",
      "features:  \n",
      " ['Age', 'Survival (in months)', 'ImmunoTx Number', 'RadTx', 'AST Result(U/L)', 'Albumin Result(gm/dL)', 'BUN Result(mg/dL)', 'Ferritin Result(ng/mL)', 'LDH Result(U/L)', 'Monocyte Result', 'Platelet Count Result(k/uL)', 'Serum Electrophoresis Beta Result', 'Sodium Result(mmol/L)', 'Total Serum Protein Result', 'NT Pro BNP (B-Type Natriuretic Peptide)'] \n",
      "\n"
     ]
    }
   ],
   "source": [
    "for i in range(len(rank_weights)): \n",
    "    # print(\"test\")\n",
    "    print(\"weight \" , str(rank_weights[i]) , \" :\" ,svm_set_ranks[i].performance_ , '\\n')\n",
    "    print(\"features: \", \"\\n\", list(X.columns[svm_set_ranks[i].features]), \"\\n\")"
   ]
  },
  {
   "cell_type": "code",
   "execution_count": 58,
   "metadata": {
    "tags": []
   },
   "outputs": [],
   "source": [
    "# X.columns[svm_set_ranks[3].features]"
   ]
  },
  {
   "cell_type": "code",
   "execution_count": 59,
   "metadata": {},
   "outputs": [],
   "source": [
    "# #saving the feature ranking, performance, and model evaluations to spreadsheets\n",
    "# bestModel = svm_set_ranks[selected_run]\n",
    "\n",
    "# #collecting the performance as a dataframe\n",
    "# df_bestPerformance = pd.DataFrame(svm_set_ranks[selected_run].performance_)\n",
    "# outputToExcel(df_data=df_bestPerformance, fileName_header=fileName_header, fileName_Common=fileName_common, fileName_suffix=fileName_suffix, parent_dir=saving_dirrectory,\n",
    "#               folderName= dataFrameFolderOut, sheetName= str(selected_run) + \"_best model performance\")\n",
    "\n",
    "\n",
    "# df_bestFeatures= pd.DataFrame(list(X.columns[svm_set_ranks[selected_run].features]))\n",
    "# #saving the best features\n",
    "# outputToExcel(df_data=df_bestFeatures, fileName_header=fileName_header, fileName_Common=fileName_common, fileName_suffix=fileName_suffix, parent_dir=saving_dirrectory,\n",
    "#               folderName= dataFrameFolderOut, sheetName= str(selected_run) + \"_features\")\n",
    "\n"
   ]
  },
  {
   "cell_type": "code",
   "execution_count": null,
   "metadata": {},
   "outputs": [],
   "source": [
    "for i in range(len(rank_weights)):\n",
    "    decision_values = svm_set_ranks[i].decision_function(X_test)\n",
    "    y_pred = svm_set_ranks[i].predict(X_test)\n",
    "\n",
    "    tn, fp, fn, tp = confusion_matrix(y_test, y_pred).ravel()\n",
    "    precision = tp/(tp+fp)\n",
    "    recall = tp/(tp+fn)\n",
    "    specificity = tn/(tn + fp)\n",
    "    f1 = 2*precision*recall/(precision+recall)\n",
    "    auc = roc_auc_score(y_test, decision_values)\n",
    "\n",
    "    print(\"\\n The model is: \")\n",
    "    print(\"weight \" , str(rank_weights[i]) , \" :\" ,svm_set_ranks[i].performance_ , '\\n')\n",
    "    print(\"True Negative: \", tn)\n",
    "    print(\"false positive: \", fp)\n",
    "    print(\"false negative: \", fn)\n",
    "    print(\"true positive: \", tp)\n",
    "    print(\"true positive rate or recall/sensitivity: \", recall)\n",
    "    print(\"positive predictive value or precision: \", precision)\n",
    "    print(\"specificity or true negative rate: \", specificity)\n",
    "    print(\"auc: \", auc)\n",
    "    print(\"f1 score: \", f1)"
   ]
  },
  {
   "cell_type": "markdown",
   "metadata": {},
   "source": [
    "# plots for best model"
   ]
  },
  {
   "cell_type": "markdown",
   "metadata": {},
   "source": [
    "## pair plots"
   ]
  },
  {
   "cell_type": "code",
   "execution_count": 68,
   "metadata": {},
   "outputs": [
    {
     "data": {
      "image/png": "[encoded data removed]",
      "text/plain": [
       "<Figure size 896.986x750 with 9 Axes>"
      ]
     },
     "metadata": {},
     "output_type": "display_data"
    }
   ],
   "source": [
    "import plotly.express as px\n",
    "from seaborn import pairplot, clustermap, load_dataset\n",
    "# fig, ax = plt.subplots()\n",
    "\n",
    "palette = {np.int64(1) :'red', np.int64(0): 'blue'} #our data is of int64\n",
    "\n",
    "# selected_model = 0\n",
    "top_features = X.columns[svm_set_ranks[selected_run].sorted_features.astype(int)[0:3]].values\n",
    "fig = pairplot(dataTable[np.append(top_features, y_column_Classification)],\n",
    "         hue=y_column_Classification, corner=True, palette=palette)\n",
    "fig.fig.suptitle(f\"Rank weight: {rank_weights[selected_run]:.2f}\", y=1.08)\n",
    "\n",
    "#saving figure\n",
    "figCommon = fileName_common + str(rank_weights[selected_run]).replace(\".\", \"\") + \"_pairplot\"\n",
    "figPath = outputFiguresPath(fileName_header=fileName_header, fileName_mid= figCommon, fileName_suff= fileName_suffix, parent_dir= figDirectory, folderName= figFolder)\n",
    "fig.savefig(figPath, bbox_inches = 'tight')"
   ]
  },
  {
   "cell_type": "markdown",
   "metadata": {},
   "source": [
    "## 3D scatter"
   ]
  },
  {
   "cell_type": "code",
   "execution_count": 61,
   "metadata": {},
   "outputs": [
    {
     "data": {
      "application/vnd.plotly.v1+json": {
       "config": {
        "plotlyServerURL": "https://plot.ly"
       },
       "data": [
        {
         "hovertemplate": "Serum Electrophoresis Beta Result=%{x}<br>OtherTx Number=%{y}<br>RadTx Number=%{z}<br>Amyloid Status_yes=%{marker.color}<extra></extra>",
         "legendgroup": "",
         "marker": {
          "color": [
           1,
           1,
           1,
           1,
           1,
           1,
           1,
           1,
           1,
           1,
           1,
           1,
           1,
           1,
           1,
           1,
           1,
           1,
           1,
           1,
           1,
           0,
           0,
           0,
           0,
           0,
           0,
           0,
           0,
           0,
           0,
           0,
           0,
           0,
           0,
           0,
           0,
           0,
           0,
           0,
           0,
           0,
           0,
           0
          ],
          "coloraxis": "coloraxis",
          "size": 4,
          "symbol": "circle"
         },
         "mode": "markers",
         "name": "",
         "scene": "scene",
         "showlegend": false,
         "type": "scatter3d",
         "x": [
          -1,
          -1,
          0.9,
          0.6,
          0.9,
          -1,
          0.6,
          14,
          0.7,
          -1,
          0.8,
          -1,
          0.6,
          -1,
          -1,
          0.7,
          0.5,
          0.9,
          1.8,
          -1,
          0.5,
          0.8,
          -1,
          1,
          -1,
          -1,
          1.7,
          0.5,
          0.9,
          0.6,
          -1,
          -1,
          0.7,
          -1,
          0.7,
          -1,
          0.6,
          0.8,
          0.7,
          0.8,
          0.7,
          0.8,
          -1,
          1.1
         ],
         "y": [
          0,
          0,
          0,
          0,
          0,
          0,
          0,
          0,
          0,
          0,
          0,
          0,
          0,
          0,
          0,
          0,
          0,
          0,
          0,
          0,
          0,
          0,
          0,
          0,
          0,
          0,
          0,
          0,
          0,
          0,
          0,
          2,
          0,
          0,
          0,
          0,
          0,
          0,
          0,
          0,
          0,
          0,
          0,
          0
         ],
         "z": [
          0,
          0,
          0,
          0,
          0,
          0,
          0,
          0,
          0,
          0,
          0,
          0,
          0,
          0,
          0,
          0,
          0,
          0,
          0,
          0,
          0,
          0,
          0,
          0,
          0,
          0,
          0,
          0,
          0,
          1,
          0,
          0,
          0,
          0,
          0,
          0,
          0,
          0,
          0,
          0,
          0,
          0,
          0,
          0
         ]
        }
       ],
       "layout": {
        "autosize": true,
        "coloraxis": {
         "colorbar": {
          "title": {
           "text": "Amyloid Status_yes"
          }
         },
         "colorscale": [
          [
           0,
           "#0d0887"
          ],
          [
           0.1111111111111111,
           "#46039f"
          ],
          [
           0.2222222222222222,
           "#7201a8"
          ],
          [
           0.3333333333333333,
           "#9c179e"
          ],
          [
           0.4444444444444444,
           "#bd3786"
          ],
          [
           0.5555555555555556,
           "#d8576b"
          ],
          [
           0.6666666666666666,
           "#ed7953"
          ],
          [
           0.7777777777777778,
           "#fb9f3a"
          ],
          [
           0.8888888888888888,
           "#fdca26"
          ],
          [
           1,
           "#f0f921"
          ]
         ]
        },
        "legend": {
         "tracegroupgap": 0
        },
        "margin": {
         "t": 60
        },
        "scene": {
         "aspectmode": "auto",
         "aspectratio": {
          "x": 1,
          "y": 1,
          "z": 1
         },
         "camera": {
          "center": {
           "x": 0,
           "y": 0,
           "z": 0
          },
          "eye": {
           "x": 31.942701528278807,
           "y": 31.94270152827881,
           "z": 31.942701528278807
          },
          "projection": {
           "type": "perspective"
          },
          "up": {
           "x": 0,
           "y": 0,
           "z": 1
          }
         },
         "domain": {
          "x": [
           0,
           1
          ],
          "y": [
           0,
           1
          ]
         },
         "xaxis": {
          "title": {
           "text": "Serum Electrophoresis Beta Result"
          },
          "type": "linear"
         },
         "yaxis": {
          "title": {
           "text": "OtherTx Number"
          },
          "type": "linear"
         },
         "zaxis": {
          "title": {
           "text": "RadTx Number"
          },
          "type": "linear"
         }
        },
        "template": {
         "data": {
          "bar": [
           {
            "error_x": {
             "color": "#2a3f5f"
            },
            "error_y": {
             "color": "#2a3f5f"
            },
            "marker": {
             "line": {
              "color": "#E5ECF6",
              "width": 0.5
             },
             "pattern": {
              "fillmode": "overlay",
              "size": 10,
              "solidity": 0.2
             }
            },
            "type": "bar"
           }
          ],
          "barpolar": [
           {
            "marker": {
             "line": {
              "color": "#E5ECF6",
              "width": 0.5
             },
             "pattern": {
              "fillmode": "overlay",
              "size": 10,
              "solidity": 0.2
             }
            },
            "type": "barpolar"
           }
          ],
          "carpet": [
           {
            "aaxis": {
             "endlinecolor": "#2a3f5f",
             "gridcolor": "white",
             "linecolor": "white",
             "minorgridcolor": "white",
             "startlinecolor": "#2a3f5f"
            },
            "baxis": {
             "endlinecolor": "#2a3f5f",
             "gridcolor": "white",
             "linecolor": "white",
             "minorgridcolor": "white",
             "startlinecolor": "#2a3f5f"
            },
            "type": "carpet"
           }
          ],
          "choropleth": [
           {
            "colorbar": {
             "outlinewidth": 0,
             "ticks": ""
            },
            "type": "choropleth"
           }
          ],
          "contour": [
           {
            "colorbar": {
             "outlinewidth": 0,
             "ticks": ""
            },
            "colorscale": [
             [
              0,
              "#0d0887"
             ],
             [
              0.1111111111111111,
              "#46039f"
             ],
             [
              0.2222222222222222,
              "#7201a8"
             ],
             [
              0.3333333333333333,
              "#9c179e"
             ],
             [
              0.4444444444444444,
              "#bd3786"
             ],
             [
              0.5555555555555556,
              "#d8576b"
             ],
             [
              0.6666666666666666,
              "#ed7953"
             ],
             [
              0.7777777777777778,
              "#fb9f3a"
             ],
             [
              0.8888888888888888,
              "#fdca26"
             ],
             [
              1,
              "#f0f921"
             ]
            ],
            "type": "contour"
           }
          ],
          "contourcarpet": [
           {
            "colorbar": {
             "outlinewidth": 0,
             "ticks": ""
            },
            "type": "contourcarpet"
           }
          ],
          "heatmap": [
           {
            "colorbar": {
             "outlinewidth": 0,
             "ticks": ""
            },
            "colorscale": [
             [
              0,
              "#0d0887"
             ],
             [
              0.1111111111111111,
              "#46039f"
             ],
             [
              0.2222222222222222,
              "#7201a8"
             ],
             [
              0.3333333333333333,
              "#9c179e"
             ],
             [
              0.4444444444444444,
              "#bd3786"
             ],
             [
              0.5555555555555556,
              "#d8576b"
             ],
             [
              0.6666666666666666,
              "#ed7953"
             ],
             [
              0.7777777777777778,
              "#fb9f3a"
             ],
             [
              0.8888888888888888,
              "#fdca26"
             ],
             [
              1,
              "#f0f921"
             ]
            ],
            "type": "heatmap"
           }
          ],
          "heatmapgl": [
           {
            "colorbar": {
             "outlinewidth": 0,
             "ticks": ""
            },
            "colorscale": [
             [
              0,
              "#0d0887"
             ],
             [
              0.1111111111111111,
              "#46039f"
             ],
             [
              0.2222222222222222,
              "#7201a8"
             ],
             [
              0.3333333333333333,
              "#9c179e"
             ],
             [
              0.4444444444444444,
              "#bd3786"
             ],
             [
              0.5555555555555556,
              "#d8576b"
             ],
             [
              0.6666666666666666,
              "#ed7953"
             ],
             [
              0.7777777777777778,
              "#fb9f3a"
             ],
             [
              0.8888888888888888,
              "#fdca26"
             ],
             [
              1,
              "#f0f921"
             ]
            ],
            "type": "heatmapgl"
           }
          ],
          "histogram": [
           {
            "marker": {
             "pattern": {
              "fillmode": "overlay",
              "size": 10,
              "solidity": 0.2
             }
            },
            "type": "histogram"
           }
          ],
          "histogram2d": [
           {
            "colorbar": {
             "outlinewidth": 0,
             "ticks": ""
            },
            "colorscale": [
             [
              0,
              "#0d0887"
             ],
             [
              0.1111111111111111,
              "#46039f"
             ],
             [
              0.2222222222222222,
              "#7201a8"
             ],
             [
              0.3333333333333333,
              "#9c179e"
             ],
             [
              0.4444444444444444,
              "#bd3786"
             ],
             [
              0.5555555555555556,
              "#d8576b"
             ],
             [
              0.6666666666666666,
              "#ed7953"
             ],
             [
              0.7777777777777778,
              "#fb9f3a"
             ],
             [
              0.8888888888888888,
              "#fdca26"
             ],
             [
              1,
              "#f0f921"
             ]
            ],
            "type": "histogram2d"
           }
          ],
          "histogram2dcontour": [
           {
            "colorbar": {
             "outlinewidth": 0,
             "ticks": ""
            },
            "colorscale": [
             [
              0,
              "#0d0887"
             ],
             [
              0.1111111111111111,
              "#46039f"
             ],
             [
              0.2222222222222222,
              "#7201a8"
             ],
             [
              0.3333333333333333,
              "#9c179e"
             ],
             [
              0.4444444444444444,
              "#bd3786"
             ],
             [
              0.5555555555555556,
              "#d8576b"
             ],
             [
              0.6666666666666666,
              "#ed7953"
             ],
             [
              0.7777777777777778,
              "#fb9f3a"
             ],
             [
              0.8888888888888888,
              "#fdca26"
             ],
             [
              1,
              "#f0f921"
             ]
            ],
            "type": "histogram2dcontour"
           }
          ],
          "mesh3d": [
           {
            "colorbar": {
             "outlinewidth": 0,
             "ticks": ""
            },
            "type": "mesh3d"
           }
          ],
          "parcoords": [
           {
            "line": {
             "colorbar": {
              "outlinewidth": 0,
              "ticks": ""
             }
            },
            "type": "parcoords"
           }
          ],
          "pie": [
           {
            "automargin": true,
            "type": "pie"
           }
          ],
          "scatter": [
           {
            "fillpattern": {
             "fillmode": "overlay",
             "size": 10,
             "solidity": 0.2
            },
            "type": "scatter"
           }
          ],
          "scatter3d": [
           {
            "line": {
             "colorbar": {
              "outlinewidth": 0,
              "ticks": ""
             }
            },
            "marker": {
             "colorbar": {
              "outlinewidth": 0,
              "ticks": ""
             }
            },
            "type": "scatter3d"
           }
          ],
          "scattercarpet": [
           {
            "marker": {
             "colorbar": {
              "outlinewidth": 0,
              "ticks": ""
             }
            },
            "type": "scattercarpet"
           }
          ],
          "scattergeo": [
           {
            "marker": {
             "colorbar": {
              "outlinewidth": 0,
              "ticks": ""
             }
            },
            "type": "scattergeo"
           }
          ],
          "scattergl": [
           {
            "marker": {
             "colorbar": {
              "outlinewidth": 0,
              "ticks": ""
             }
            },
            "type": "scattergl"
           }
          ],
          "scattermapbox": [
           {
            "marker": {
             "colorbar": {
              "outlinewidth": 0,
              "ticks": ""
             }
            },
            "type": "scattermapbox"
           }
          ],
          "scatterpolar": [
           {
            "marker": {
             "colorbar": {
              "outlinewidth": 0,
              "ticks": ""
             }
            },
            "type": "scatterpolar"
           }
          ],
          "scatterpolargl": [
           {
            "marker": {
             "colorbar": {
              "outlinewidth": 0,
              "ticks": ""
             }
            },
            "type": "scatterpolargl"
           }
          ],
          "scatterternary": [
           {
            "marker": {
             "colorbar": {
              "outlinewidth": 0,
              "ticks": ""
             }
            },
            "type": "scatterternary"
           }
          ],
          "surface": [
           {
            "colorbar": {
             "outlinewidth": 0,
             "ticks": ""
            },
            "colorscale": [
             [
              0,
              "#0d0887"
             ],
             [
              0.1111111111111111,
              "#46039f"
             ],
             [
              0.2222222222222222,
              "#7201a8"
             ],
             [
              0.3333333333333333,
              "#9c179e"
             ],
             [
              0.4444444444444444,
              "#bd3786"
             ],
             [
              0.5555555555555556,
              "#d8576b"
             ],
             [
              0.6666666666666666,
              "#ed7953"
             ],
             [
              0.7777777777777778,
              "#fb9f3a"
             ],
             [
              0.8888888888888888,
              "#fdca26"
             ],
             [
              1,
              "#f0f921"
             ]
            ],
            "type": "surface"
           }
          ],
          "table": [
           {
            "cells": {
             "fill": {
              "color": "#EBF0F8"
             },
             "line": {
              "color": "white"
             }
            },
            "header": {
             "fill": {
              "color": "#C8D4E3"
             },
             "line": {
              "color": "white"
             }
            },
            "type": "table"
           }
          ]
         },
         "layout": {
          "annotationdefaults": {
           "arrowcolor": "#2a3f5f",
           "arrowhead": 0,
           "arrowwidth": 1
          },
          "autotypenumbers": "strict",
          "coloraxis": {
           "colorbar": {
            "outlinewidth": 0,
            "ticks": ""
           }
          },
          "colorscale": {
           "diverging": [
            [
             0,
             "#8e0152"
            ],
            [
             0.1,
             "#c51b7d"
            ],
            [
             0.2,
             "#de77ae"
            ],
            [
             0.3,
             "#f1b6da"
            ],
            [
             0.4,
             "#fde0ef"
            ],
            [
             0.5,
             "#f7f7f7"
            ],
            [
             0.6,
             "#e6f5d0"
            ],
            [
             0.7,
             "#b8e186"
            ],
            [
             0.8,
             "#7fbc41"
            ],
            [
             0.9,
             "#4d9221"
            ],
            [
             1,
             "#276419"
            ]
           ],
           "sequential": [
            [
             0,
             "#0d0887"
            ],
            [
             0.1111111111111111,
             "#46039f"
            ],
            [
             0.2222222222222222,
             "#7201a8"
            ],
            [
             0.3333333333333333,
             "#9c179e"
            ],
            [
             0.4444444444444444,
             "#bd3786"
            ],
            [
             0.5555555555555556,
             "#d8576b"
            ],
            [
             0.6666666666666666,
             "#ed7953"
            ],
            [
             0.7777777777777778,
             "#fb9f3a"
            ],
            [
             0.8888888888888888,
             "#fdca26"
            ],
            [
             1,
             "#f0f921"
            ]
           ],
           "sequentialminus": [
            [
             0,
             "#0d0887"
            ],
            [
             0.1111111111111111,
             "#46039f"
            ],
            [
             0.2222222222222222,
             "#7201a8"
            ],
            [
             0.3333333333333333,
             "#9c179e"
            ],
            [
             0.4444444444444444,
             "#bd3786"
            ],
            [
             0.5555555555555556,
             "#d8576b"
            ],
            [
             0.6666666666666666,
             "#ed7953"
            ],
            [
             0.7777777777777778,
             "#fb9f3a"
            ],
            [
             0.8888888888888888,
             "#fdca26"
            ],
            [
             1,
             "#f0f921"
            ]
           ]
          },
          "colorway": [
           "#636efa",
           "#EF553B",
           "#00cc96",
           "#ab63fa",
           "#FFA15A",
           "#19d3f3",
           "#FF6692",
           "#B6E880",
           "#FF97FF",
           "#FECB52"
          ],
          "font": {
           "color": "#2a3f5f"
          },
          "geo": {
           "bgcolor": "white",
           "lakecolor": "white",
           "landcolor": "#E5ECF6",
           "showlakes": true,
           "showland": true,
           "subunitcolor": "white"
          },
          "hoverlabel": {
           "align": "left"
          },
          "hovermode": "closest",
          "mapbox": {
           "style": "light"
          },
          "paper_bgcolor": "white",
          "plot_bgcolor": "#E5ECF6",
          "polar": {
           "angularaxis": {
            "gridcolor": "white",
            "linecolor": "white",
            "ticks": ""
           },
           "bgcolor": "#E5ECF6",
           "radialaxis": {
            "gridcolor": "white",
            "linecolor": "white",
            "ticks": ""
           }
          },
          "scene": {
           "xaxis": {
            "backgroundcolor": "#E5ECF6",
            "gridcolor": "white",
            "gridwidth": 2,
            "linecolor": "white",
            "showbackground": true,
            "ticks": "",
            "zerolinecolor": "white"
           },
           "yaxis": {
            "backgroundcolor": "#E5ECF6",
            "gridcolor": "white",
            "gridwidth": 2,
            "linecolor": "white",
            "showbackground": true,
            "ticks": "",
            "zerolinecolor": "white"
           },
           "zaxis": {
            "backgroundcolor": "#E5ECF6",
            "gridcolor": "white",
            "gridwidth": 2,
            "linecolor": "white",
            "showbackground": true,
            "ticks": "",
            "zerolinecolor": "white"
           }
          },
          "shapedefaults": {
           "line": {
            "color": "#2a3f5f"
           }
          },
          "ternary": {
           "aaxis": {
            "gridcolor": "white",
            "linecolor": "white",
            "ticks": ""
           },
           "baxis": {
            "gridcolor": "white",
            "linecolor": "white",
            "ticks": ""
           },
           "bgcolor": "#E5ECF6",
           "caxis": {
            "gridcolor": "white",
            "linecolor": "white",
            "ticks": ""
           }
          },
          "title": {
           "x": 0.05
          },
          "xaxis": {
           "automargin": true,
           "gridcolor": "white",
           "linecolor": "white",
           "ticks": "",
           "title": {
            "standoff": 15
           },
           "zerolinecolor": "white",
           "zerolinewidth": 2
          },
          "yaxis": {
           "automargin": true,
           "gridcolor": "white",
           "linecolor": "white",
           "ticks": "",
           "title": {
            "standoff": 15
           },
           "zerolinecolor": "white",
           "zerolinewidth": 2
          }
         }
        }
       }
      },
      "image/png": "[encoded data removed]",
      "text/html": [
       "<div>                            <div id=\"645a20f8-826a-4065-8b01-a8f1ebda852a\" class=\"plotly-graph-div\" style=\"height:525px; width:100%;\"></div>            <script type=\"text/javascript\">                require([\"plotly\"], function(Plotly) {                    window.PLOTLYENV=window.PLOTLYENV || {};                                    if (document.getElementById(\"645a20f8-826a-4065-8b01-a8f1ebda852a\")) {                    Plotly.newPlot(                        \"645a20f8-826a-4065-8b01-a8f1ebda852a\",                        [{\"hovertemplate\":\"Serum Electrophoresis Beta Result=%{x}\\u003cbr\\u003eOtherTx Number=%{y}\\u003cbr\\u003eRadTx Number=%{z}\\u003cbr\\u003eAmyloid Status_yes=%{marker.color}\\u003cextra\\u003e\\u003c\\u002fextra\\u003e\",\"legendgroup\":\"\",\"marker\":{\"color\":[1,1,1,1,1,1,1,1,1,1,1,1,1,1,1,1,1,1,1,1,1,0,0,0,0,0,0,0,0,0,0,0,0,0,0,0,0,0,0,0,0,0,0,0],\"coloraxis\":\"coloraxis\",\"symbol\":\"circle\",\"size\":4},\"mode\":\"markers\",\"name\":\"\",\"scene\":\"scene\",\"showlegend\":false,\"x\":[-1.0,-1.0,0.9,0.6,0.9,-1.0,0.6,14.0,0.7,-1.0,0.8,-1.0,0.6,-1.0,-1.0,0.7,0.5,0.9,1.8,-1.0,0.5,0.8,-1.0,1.0,-1.0,-1.0,1.7,0.5,0.9,0.6,-1.0,-1.0,0.7,-1.0,0.7,-1.0,0.6,0.8,0.7,0.8,0.7,0.8,-1.0,1.1],\"y\":[0,0,0,0,0,0,0,0,0,0,0,0,0,0,0,0,0,0,0,0,0,0,0,0,0,0,0,0,0,0,0,2,0,0,0,0,0,0,0,0,0,0,0,0],\"z\":[0,0,0,0,0,0,0,0,0,0,0,0,0,0,0,0,0,0,0,0,0,0,0,0,0,0,0,0,0,1,0,0,0,0,0,0,0,0,0,0,0,0,0,0],\"type\":\"scatter3d\"}],                        {\"template\":{\"data\":{\"histogram2dcontour\":[{\"type\":\"histogram2dcontour\",\"colorbar\":{\"outlinewidth\":0,\"ticks\":\"\"},\"colorscale\":[[0.0,\"#0d0887\"],[0.1111111111111111,\"#46039f\"],[0.2222222222222222,\"#7201a8\"],[0.3333333333333333,\"#9c179e\"],[0.4444444444444444,\"#bd3786\"],[0.5555555555555556,\"#d8576b\"],[0.6666666666666666,\"#ed7953\"],[0.7777777777777778,\"#fb9f3a\"],[0.8888888888888888,\"#fdca26\"],[1.0,\"#f0f921\"]]}],\"choropleth\":[{\"type\":\"choropleth\",\"colorbar\":{\"outlinewidth\":0,\"ticks\":\"\"}}],\"histogram2d\":[{\"type\":\"histogram2d\",\"colorbar\":{\"outlinewidth\":0,\"ticks\":\"\"},\"colorscale\":[[0.0,\"#0d0887\"],[0.1111111111111111,\"#46039f\"],[0.2222222222222222,\"#7201a8\"],[0.3333333333333333,\"#9c179e\"],[0.4444444444444444,\"#bd3786\"],[0.5555555555555556,\"#d8576b\"],[0.6666666666666666,\"#ed7953\"],[0.7777777777777778,\"#fb9f3a\"],[0.8888888888888888,\"#fdca26\"],[1.0,\"#f0f921\"]]}],\"heatmap\":[{\"type\":\"heatmap\",\"colorbar\":{\"outlinewidth\":0,\"ticks\":\"\"},\"colorscale\":[[0.0,\"#0d0887\"],[0.1111111111111111,\"#46039f\"],[0.2222222222222222,\"#7201a8\"],[0.3333333333333333,\"#9c179e\"],[0.4444444444444444,\"#bd3786\"],[0.5555555555555556,\"#d8576b\"],[0.6666666666666666,\"#ed7953\"],[0.7777777777777778,\"#fb9f3a\"],[0.8888888888888888,\"#fdca26\"],[1.0,\"#f0f921\"]]}],\"heatmapgl\":[{\"type\":\"heatmapgl\",\"colorbar\":{\"outlinewidth\":0,\"ticks\":\"\"},\"colorscale\":[[0.0,\"#0d0887\"],[0.1111111111111111,\"#46039f\"],[0.2222222222222222,\"#7201a8\"],[0.3333333333333333,\"#9c179e\"],[0.4444444444444444,\"#bd3786\"],[0.5555555555555556,\"#d8576b\"],[0.6666666666666666,\"#ed7953\"],[0.7777777777777778,\"#fb9f3a\"],[0.8888888888888888,\"#fdca26\"],[1.0,\"#f0f921\"]]}],\"contourcarpet\":[{\"type\":\"contourcarpet\",\"colorbar\":{\"outlinewidth\":0,\"ticks\":\"\"}}],\"contour\":[{\"type\":\"contour\",\"colorbar\":{\"outlinewidth\":0,\"ticks\":\"\"},\"colorscale\":[[0.0,\"#0d0887\"],[0.1111111111111111,\"#46039f\"],[0.2222222222222222,\"#7201a8\"],[0.3333333333333333,\"#9c179e\"],[0.4444444444444444,\"#bd3786\"],[0.5555555555555556,\"#d8576b\"],[0.6666666666666666,\"#ed7953\"],[0.7777777777777778,\"#fb9f3a\"],[0.8888888888888888,\"#fdca26\"],[1.0,\"#f0f921\"]]}],\"surface\":[{\"type\":\"surface\",\"colorbar\":{\"outlinewidth\":0,\"ticks\":\"\"},\"colorscale\":[[0.0,\"#0d0887\"],[0.1111111111111111,\"#46039f\"],[0.2222222222222222,\"#7201a8\"],[0.3333333333333333,\"#9c179e\"],[0.4444444444444444,\"#bd3786\"],[0.5555555555555556,\"#d8576b\"],[0.6666666666666666,\"#ed7953\"],[0.7777777777777778,\"#fb9f3a\"],[0.8888888888888888,\"#fdca26\"],[1.0,\"#f0f921\"]]}],\"mesh3d\":[{\"type\":\"mesh3d\",\"colorbar\":{\"outlinewidth\":0,\"ticks\":\"\"}}],\"scatter\":[{\"fillpattern\":{\"fillmode\":\"overlay\",\"size\":10,\"solidity\":0.2},\"type\":\"scatter\"}],\"parcoords\":[{\"type\":\"parcoords\",\"line\":{\"colorbar\":{\"outlinewidth\":0,\"ticks\":\"\"}}}],\"scatterpolargl\":[{\"type\":\"scatterpolargl\",\"marker\":{\"colorbar\":{\"outlinewidth\":0,\"ticks\":\"\"}}}],\"bar\":[{\"error_x\":{\"color\":\"#2a3f5f\"},\"error_y\":{\"color\":\"#2a3f5f\"},\"marker\":{\"line\":{\"color\":\"#E5ECF6\",\"width\":0.5},\"pattern\":{\"fillmode\":\"overlay\",\"size\":10,\"solidity\":0.2}},\"type\":\"bar\"}],\"scattergeo\":[{\"type\":\"scattergeo\",\"marker\":{\"colorbar\":{\"outlinewidth\":0,\"ticks\":\"\"}}}],\"scatterpolar\":[{\"type\":\"scatterpolar\",\"marker\":{\"colorbar\":{\"outlinewidth\":0,\"ticks\":\"\"}}}],\"histogram\":[{\"marker\":{\"pattern\":{\"fillmode\":\"overlay\",\"size\":10,\"solidity\":0.2}},\"type\":\"histogram\"}],\"scattergl\":[{\"type\":\"scattergl\",\"marker\":{\"colorbar\":{\"outlinewidth\":0,\"ticks\":\"\"}}}],\"scatter3d\":[{\"type\":\"scatter3d\",\"line\":{\"colorbar\":{\"outlinewidth\":0,\"ticks\":\"\"}},\"marker\":{\"colorbar\":{\"outlinewidth\":0,\"ticks\":\"\"}}}],\"scattermapbox\":[{\"type\":\"scattermapbox\",\"marker\":{\"colorbar\":{\"outlinewidth\":0,\"ticks\":\"\"}}}],\"scatterternary\":[{\"type\":\"scatterternary\",\"marker\":{\"colorbar\":{\"outlinewidth\":0,\"ticks\":\"\"}}}],\"scattercarpet\":[{\"type\":\"scattercarpet\",\"marker\":{\"colorbar\":{\"outlinewidth\":0,\"ticks\":\"\"}}}],\"carpet\":[{\"aaxis\":{\"endlinecolor\":\"#2a3f5f\",\"gridcolor\":\"white\",\"linecolor\":\"white\",\"minorgridcolor\":\"white\",\"startlinecolor\":\"#2a3f5f\"},\"baxis\":{\"endlinecolor\":\"#2a3f5f\",\"gridcolor\":\"white\",\"linecolor\":\"white\",\"minorgridcolor\":\"white\",\"startlinecolor\":\"#2a3f5f\"},\"type\":\"carpet\"}],\"table\":[{\"cells\":{\"fill\":{\"color\":\"#EBF0F8\"},\"line\":{\"color\":\"white\"}},\"header\":{\"fill\":{\"color\":\"#C8D4E3\"},\"line\":{\"color\":\"white\"}},\"type\":\"table\"}],\"barpolar\":[{\"marker\":{\"line\":{\"color\":\"#E5ECF6\",\"width\":0.5},\"pattern\":{\"fillmode\":\"overlay\",\"size\":10,\"solidity\":0.2}},\"type\":\"barpolar\"}],\"pie\":[{\"automargin\":true,\"type\":\"pie\"}]},\"layout\":{\"autotypenumbers\":\"strict\",\"colorway\":[\"#636efa\",\"#EF553B\",\"#00cc96\",\"#ab63fa\",\"#FFA15A\",\"#19d3f3\",\"#FF6692\",\"#B6E880\",\"#FF97FF\",\"#FECB52\"],\"font\":{\"color\":\"#2a3f5f\"},\"hovermode\":\"closest\",\"hoverlabel\":{\"align\":\"left\"},\"paper_bgcolor\":\"white\",\"plot_bgcolor\":\"#E5ECF6\",\"polar\":{\"bgcolor\":\"#E5ECF6\",\"angularaxis\":{\"gridcolor\":\"white\",\"linecolor\":\"white\",\"ticks\":\"\"},\"radialaxis\":{\"gridcolor\":\"white\",\"linecolor\":\"white\",\"ticks\":\"\"}},\"ternary\":{\"bgcolor\":\"#E5ECF6\",\"aaxis\":{\"gridcolor\":\"white\",\"linecolor\":\"white\",\"ticks\":\"\"},\"baxis\":{\"gridcolor\":\"white\",\"linecolor\":\"white\",\"ticks\":\"\"},\"caxis\":{\"gridcolor\":\"white\",\"linecolor\":\"white\",\"ticks\":\"\"}},\"coloraxis\":{\"colorbar\":{\"outlinewidth\":0,\"ticks\":\"\"}},\"colorscale\":{\"sequential\":[[0.0,\"#0d0887\"],[0.1111111111111111,\"#46039f\"],[0.2222222222222222,\"#7201a8\"],[0.3333333333333333,\"#9c179e\"],[0.4444444444444444,\"#bd3786\"],[0.5555555555555556,\"#d8576b\"],[0.6666666666666666,\"#ed7953\"],[0.7777777777777778,\"#fb9f3a\"],[0.8888888888888888,\"#fdca26\"],[1.0,\"#f0f921\"]],\"sequentialminus\":[[0.0,\"#0d0887\"],[0.1111111111111111,\"#46039f\"],[0.2222222222222222,\"#7201a8\"],[0.3333333333333333,\"#9c179e\"],[0.4444444444444444,\"#bd3786\"],[0.5555555555555556,\"#d8576b\"],[0.6666666666666666,\"#ed7953\"],[0.7777777777777778,\"#fb9f3a\"],[0.8888888888888888,\"#fdca26\"],[1.0,\"#f0f921\"]],\"diverging\":[[0,\"#8e0152\"],[0.1,\"#c51b7d\"],[0.2,\"#de77ae\"],[0.3,\"#f1b6da\"],[0.4,\"#fde0ef\"],[0.5,\"#f7f7f7\"],[0.6,\"#e6f5d0\"],[0.7,\"#b8e186\"],[0.8,\"#7fbc41\"],[0.9,\"#4d9221\"],[1,\"#276419\"]]},\"xaxis\":{\"gridcolor\":\"white\",\"linecolor\":\"white\",\"ticks\":\"\",\"title\":{\"standoff\":15},\"zerolinecolor\":\"white\",\"automargin\":true,\"zerolinewidth\":2},\"yaxis\":{\"gridcolor\":\"white\",\"linecolor\":\"white\",\"ticks\":\"\",\"title\":{\"standoff\":15},\"zerolinecolor\":\"white\",\"automargin\":true,\"zerolinewidth\":2},\"scene\":{\"xaxis\":{\"backgroundcolor\":\"#E5ECF6\",\"gridcolor\":\"white\",\"linecolor\":\"white\",\"showbackground\":true,\"ticks\":\"\",\"zerolinecolor\":\"white\",\"gridwidth\":2},\"yaxis\":{\"backgroundcolor\":\"#E5ECF6\",\"gridcolor\":\"white\",\"linecolor\":\"white\",\"showbackground\":true,\"ticks\":\"\",\"zerolinecolor\":\"white\",\"gridwidth\":2},\"zaxis\":{\"backgroundcolor\":\"#E5ECF6\",\"gridcolor\":\"white\",\"linecolor\":\"white\",\"showbackground\":true,\"ticks\":\"\",\"zerolinecolor\":\"white\",\"gridwidth\":2}},\"shapedefaults\":{\"line\":{\"color\":\"#2a3f5f\"}},\"annotationdefaults\":{\"arrowcolor\":\"#2a3f5f\",\"arrowhead\":0,\"arrowwidth\":1},\"geo\":{\"bgcolor\":\"white\",\"landcolor\":\"#E5ECF6\",\"subunitcolor\":\"white\",\"showland\":true,\"showlakes\":true,\"lakecolor\":\"white\"},\"title\":{\"x\":0.05},\"mapbox\":{\"style\":\"light\"}}},\"scene\":{\"domain\":{\"x\":[0.0,1.0],\"y\":[0.0,1.0]},\"xaxis\":{\"title\":{\"text\":\"Serum Electrophoresis Beta Result\"}},\"yaxis\":{\"title\":{\"text\":\"OtherTx Number\"}},\"zaxis\":{\"title\":{\"text\":\"RadTx Number\"}}},\"coloraxis\":{\"colorbar\":{\"title\":{\"text\":\"Amyloid Status_yes\"}},\"colorscale\":[[0.0,\"#0d0887\"],[0.1111111111111111,\"#46039f\"],[0.2222222222222222,\"#7201a8\"],[0.3333333333333333,\"#9c179e\"],[0.4444444444444444,\"#bd3786\"],[0.5555555555555556,\"#d8576b\"],[0.6666666666666666,\"#ed7953\"],[0.7777777777777778,\"#fb9f3a\"],[0.8888888888888888,\"#fdca26\"],[1.0,\"#f0f921\"]]},\"legend\":{\"tracegroupgap\":0},\"margin\":{\"t\":60}},                        {\"responsive\": true}                    ).then(function(){\n",
       "                            \n",
       "var gd = document.getElementById('645a20f8-826a-4065-8b01-a8f1ebda852a');\n",
       "var x = new MutationObserver(function (mutations, observer) {{\n",
       "        var display = window.getComputedStyle(gd).display;\n",
       "        if (!display || display === 'none') {{\n",
       "            console.log([gd, 'removed!']);\n",
       "            Plotly.purge(gd);\n",
       "            observer.disconnect();\n",
       "        }}\n",
       "}});\n",
       "\n",
       "// Listen for the removal of the full notebook cells\n",
       "var notebookContainer = gd.closest('#notebook-container');\n",
       "if (notebookContainer) {{\n",
       "    x.observe(notebookContainer, {childList: true});\n",
       "}}\n",
       "\n",
       "// Listen for the clearing of the current output cell\n",
       "var outputEl = gd.closest('.output');\n",
       "if (outputEl) {{\n",
       "    x.observe(outputEl, {childList: true});\n",
       "}}\n",
       "\n",
       "                        })                };                });            </script>        </div>"
      ]
     },
     "metadata": {},
     "output_type": "display_data"
    }
   ],
   "source": [
    "fig = px.scatter_3d(dataTable, x=top_features[0], y=top_features[1], z=top_features[2],\n",
    "          color=y_column_Classification)\n",
    "fig.update_traces(marker_size = 4)\n",
    "fig.show()"
   ]
  },
  {
   "cell_type": "markdown",
   "metadata": {},
   "source": [
    "## integrated gradients attribution"
   ]
  },
  {
   "cell_type": "code",
   "execution_count": 65,
   "metadata": {},
   "outputs": [
    {
     "name": "stderr",
     "output_type": "stream",
     "text": [
      "/blue/ferrallm/mcremer/CardiacAmyloidosisMultipleMyeloma/mistic/utility.py:223: FutureWarning:\n",
      "\n",
      "Series.__getitem__ treating keys as positions is deprecated. In a future version, integer keys will always be treated as labels (consistent with DataFrame behavior). To access a value by position, use `ser.iloc[pos]`\n",
      "\n"
     ]
    },
    {
     "data": {
      "image/png": "[encoded data removed]",
      "text/plain": [
       "<Figure size 1000x1000 with 5 Axes>"
      ]
     },
     "metadata": {},
     "output_type": "display_data"
    }
   ],
   "source": [
    "from scipy.cluster.hierarchy import linkage, dendrogram, leaves_list, fcluster\n",
    "\n",
    "linkMeth = \"average\"\n",
    "\n",
    "IG = svm_set_ranks[selected_run].integrated_gradient(X_test)\n",
    "\n",
    "IGtable = pd.DataFrame(IG,columns=X.columns[svm_set_ranks[selected_run].features])\n",
    "\n",
    "distMatCol = perDiff(IGtable)\n",
    "hcCol = linkage(distMatCol, method=linkMeth,optimal_ordering=True)\n",
    "\n",
    "tr_IGtable = IGtable.transpose()\n",
    "distMatRow = perDiff(tr_IGtable)\n",
    "hcRow = linkage(distMatRow, method=linkMeth,optimal_ordering=True)\n",
    "\n",
    "color_val = max(np.abs((np.mean(IG)-np.std(IG), np.mean(IG)+np.std(IG))))\n",
    "\n",
    "#fig, ax = plt.subplots()\n",
    "fig = clustermap(IGtable, \n",
    "           yticklabels=False,\n",
    "           cmap=\"vlag\", vmin=-color_val, vmax=color_val,\n",
    "           row_linkage=hcRow, col_linkage=hcCol, \n",
    "           row_colors=[[\"red\",\"blue\"][int(l==np.int64(0))+0] for l in y_test])\n",
    "\n",
    "#saving figure\n",
    "figCommon = fileName_common + str(rank_weights[selected_run]).replace(\".\", \"\") + \"_IGheatmap\"\n",
    "figPath = outputFiguresPath(fileName_header=fileName_header, fileName_mid= figCommon, fileName_suff= fileName_suffix, parent_dir= figDirectory, folderName= figFolder)\n",
    "# plt.tight_layout()\n",
    "fig.savefig(figPath, bbox_inches = 'tight')"
   ]
  },
  {
   "cell_type": "code",
   "execution_count": null,
   "metadata": {},
   "outputs": [],
   "source": [
    "from scipy.cluster.hierarchy import linkage, dendrogram, leaves_list, fcluster\n",
    "\n",
    "linkMeth = \"average\"\n",
    "\n",
    "IG = svm_set_ranks[selected_run].integrated_gradient(X_all)\n",
    "\n",
    "IGtable = pd.DataFrame(IG,columns=X.columns[svm_set_ranks[selected_run].features])\n",
    "\n",
    "distMatCol = perDiff(IGtable)\n",
    "hcCol = linkage(distMatCol, method=linkMeth,optimal_ordering=True)\n",
    "\n",
    "tr_IGtable = IGtable.transpose()\n",
    "distMatRow = perDiff(tr_IGtable)\n",
    "hcRow = linkage(distMatRow, method=linkMeth,optimal_ordering=True)\n",
    "\n",
    "color_val = max(np.abs((np.mean(IG)-np.std(IG), np.mean(IG)+np.std(IG))))\n",
    "\n",
    "#fig, ax = plt.subplots()\n",
    "fig = clustermap(IGtable, \n",
    "           yticklabels=False,\n",
    "           cmap=\"vlag\", vmin=-color_val, vmax=color_val,\n",
    "           row_linkage=hcRow, col_linkage=hcCol, \n",
    "           row_colors=[[\"red\",\"blue\"][int(l==np.int64(0))+0] for l in y_test])\n",
    "\n",
    "#saving figure\n",
    "figCommon = fileName_common + str(rank_weights[selected_run]).replace(\".\", \"\") + \"_Xall_IGheatmap\"\n",
    "figPath = outputFiguresPath(fileName_header=fileName_header, fileName_mid= figCommon, fileName_suff= fileName_suffix, parent_dir= figDirectory, folderName= figFolder)\n",
    "# plt.tight_layout()\n",
    "fig.savefig(figPath, bbox_inches = 'tight')"
   ]
  },
  {
   "cell_type": "code",
   "execution_count": 63,
   "metadata": {},
   "outputs": [
    {
     "data": {
      "application/vnd.plotly.v1+json": {
       "config": {
        "plotlyServerURL": "https://plot.ly"
       },
       "data": [
        {
         "marker": {
          "color": [
           -0.15249857033260467,
           -0.15249857033260467,
           -0.15249857033260467,
           -0.15249857033260467,
           -0.15249857033260467,
           -0.15249857033260467,
           -0.15249857033260467,
           -0.15249857033260467,
           -0.15249857033260467
          ],
          "coloraxis": "coloraxis",
          "size": 9
         },
         "mode": "markers",
         "name": "OtherTx Number",
         "type": "scatter",
         "x": [
          1.4953410854204084e-8,
          -0.0000017005229648265933,
          -2.226414511166496e-9,
          -4.331686136472681e-8,
          -0.0000012661877751581123,
          1.2276040715039154e-8,
          -1.2724123775891472e-9,
          -3.3477560294120255e-8,
          -1.994919232748868e-10
         ],
         "y": [
          0.798695612932975,
          1.03773562426378,
          0.8288758031117491,
          0.7858357876372974,
          1.0561909144023263,
          0.7890262601749618,
          0.9859474929280203,
          1.057256380630188,
          1.2195513358479901
         ]
        },
        {
         "marker": {
          "color": [
           -0.15249857033260467,
           -0.15249857033260467,
           -0.15249857033260467,
           -0.15249857033260467,
           -0.15249857033260467,
           -0.15249857033260467,
           -0.15249857033260467,
           -0.15249857033260467,
           -0.15249857033260467
          ],
          "coloraxis": "coloraxis",
          "size": 9
         },
         "mode": "markers",
         "name": "OtherTx",
         "type": "scatter",
         "x": [
          1.4953419651519647e-8,
          -0.0000017005419208052523,
          -2.226710505668236e-9,
          -4.331895102115487e-8,
          -0.0000012661895955001443,
          1.2276096521949675e-8,
          -1.2724123775891472e-9,
          -3.347807079170672e-8,
          -1.9949193368224476e-10
         ],
         "y": [
          2.210636099547948,
          2.053728727244205,
          2.0013562595552634,
          2.075195591126593,
          2.212482746415505,
          2.2454702099420336,
          1.766545166454708,
          2.234776044381826,
          2.1515929897202106
         ]
        },
        {
         "marker": {
          "color": [
           -0.15249857033260467,
           -0.15249857033260467,
           -0.15249857033260467,
           -0.15249857033260467,
           -0.15249857033260467,
           -0.15249857033260467,
           -0.15249857033260467,
           -0.15249857033260467,
           -0.15249857033260467
          ],
          "coloraxis": "coloraxis",
          "size": 9
         },
         "mode": "markers",
         "name": "RadTx Number",
         "type": "scatter",
         "x": [
          -0.0000012225135163732646,
          1.9784308400884647e-9,
          -5.432956594985264e-7,
          -0.0000011563839443691895,
          -1.5396591210171051e-7,
          -8.472977923233665e-8,
          -0.000001536434754058582,
          3.980138808911245e-7,
          -5.192496076294478e-7
         ],
         "y": [
          2.7875024199011382,
          3.150083939204456,
          3.0813164551718337,
          3.2028689706787907,
          2.9788986408363263,
          3.0016692314890507,
          3.1686566560053486,
          2.9918938972596436,
          3.013183950690161
         ]
        },
        {
         "marker": {
          "color": [
           -0.15249857033260467,
           -0.15249857033260467,
           -0.15249857033260467,
           -0.15249857033260467,
           -0.15249857033260467,
           -0.15249857033260467,
           -0.15249857033260467,
           -0.15249857033260467,
           -0.15249857033260467
          ],
          "coloraxis": "coloraxis",
          "size": 9
         },
         "mode": "markers",
         "name": "RadTx",
         "type": "scatter",
         "x": [
          -0.0000012225121587257327,
          1.9784236232972224e-9,
          -5.433128551832893e-7,
          -0.0000011563694516371726,
          -1.5396684629483882e-7,
          -8.475046338843171e-8,
          -0.0000015364336876821185,
          3.9803384740670176e-7,
          -5.19227975878384e-7
         ],
         "y": [
          3.872179439497976,
          3.915211256032065,
          3.893824187691445,
          3.7728316089333322,
          4.041516894880118,
          4.171325751921221,
          4.135156326749085,
          3.8732928197828853,
          4.043154844508319
         ]
        },
        {
         "marker": {
          "color": [
           0.3743188653741822,
           -2.473158053954154,
           0.17869068007681568,
           0.33705635388896943,
           -2.473158053954154,
           -0.12251462109532027,
           0.4022657489880915,
           0.5202637020245986,
           0.5078428648628609
          ],
          "coloraxis": "coloraxis",
          "size": 9
         },
         "mode": "markers",
         "name": "MCV Result",
         "type": "scatter",
         "x": [
          -0.0009304264325585016,
          -0.000010462491394167597,
          -0.000753511640065993,
          -0.0005003685729726564,
          -0.00296857564463081,
          0.0009436848427620637,
          -0.000765634706419501,
          0.0014221465828481539,
          -0.0002554077609568475
         ],
         "y": [
          4.995215328159311,
          5.158276961470794,
          4.926739961552215,
          4.768298475535892,
          5.193637906010126,
          5.08514021404105,
          4.840929230145889,
          4.852852078921445,
          4.949099927479205
         ]
        },
        {
         "marker": {
          "color": [
           0.1261863224569071,
           -0.5209230234759501,
           0.11324413553824995,
           -0.5209230234759501,
           -0.5209230234759501,
           -0.11971522899757862,
           0.1261863224569071,
           -0.5209230234759501,
           0.17795507013153575
          ],
          "coloraxis": "coloraxis",
          "size": 9
         },
         "mode": "markers",
         "name": "Albumin Electrophoresis Result",
         "type": "scatter",
         "x": [
          -0.000404080902526499,
          -0.000022985916569955175,
          -0.0008264144095408339,
          -0.0012036489857240053,
          -0.00019429468157790714,
          0.00035118554766197594,
          -0.0034818797661838796,
          0.0022667866940172384,
          -0.00020797275208932006
         ],
         "y": [
          5.988194116919049,
          5.91515007059472,
          6.007835225748796,
          6.196225125098643,
          6.064980353739813,
          5.934764575051025,
          6.180221540095732,
          6.09786152548759,
          6.04686192413884
         ]
        },
        {
         "marker": {
          "color": [
           0.39354242157457164,
           -2.5066100800486417,
           0.2829794229789652,
           0.5381248043534411,
           -2.5066100800486417,
           0.2659697308873335,
           0.24896003879570153,
           0.2829794229789652,
           0.3510181913454923
          ],
          "coloraxis": "coloraxis",
          "size": 9
         },
         "mode": "markers",
         "name": "MCHC Result",
         "type": "scatter",
         "x": [
          -0.0003232812797817466,
          -0.000002638931803492732,
          -0.0005956742803338297,
          -0.0006075925934605812,
          -0.003788151957743053,
          -0.00016345715511946666,
          -0.0034072912662619567,
          0.0003738192178965604,
          -0.0004364071114516002
         ],
         "y": [
          7.008259082784165,
          6.793918524913897,
          7.046467568788557,
          6.949129639002278,
          7.025164522114868,
          6.812032510427426,
          7.143088778172513,
          7.005978023216252,
          7.1654652787438
         ]
        },
        {
         "marker": {
          "color": [
           0.32464874825470913,
           -2.106229949203359,
           0.5501941944106123,
           0.4248911687684439,
           0.6253760097959135,
           0.6003154046674798,
           0.5501941944106123,
           0.5501941944106123,
           0.4499517738968776
          ],
          "coloraxis": "coloraxis",
          "size": 9
         },
         "mode": "markers",
         "name": "Chloride Result(mmol/L)",
         "type": "scatter",
         "x": [
          -0.002453758835856126,
          -0.00015156071412496074,
          -0.0012717021030627543,
          -0.00043280013026672563,
          -0.020531475982065516,
          0.00012520778765303232,
          -0.0006156738903614022,
          0.0015046670459849909,
          -0.00025044289852595993
         ],
         "y": [
          7.853406129809985,
          8.219042080477703,
          8.03909234667359,
          7.787842852843848,
          7.9068588352657425,
          8.24134245376818,
          8.05666705969325,
          7.9598735258967785,
          8.20784570767489
         ]
        },
        {
         "marker": {
          "color": [
           0.10997277767869766,
           -0.6447027975842922,
           0.15436545857652062,
           -0.6447027975842922,
           -0.6447027975842922,
           0.021187415883051827,
           0.06558009678087474,
           -0.6447027975842922,
           0.10997277767869766
          ],
          "coloraxis": "coloraxis",
          "size": 9
         },
         "mode": "markers",
         "name": "Serum Electrophoresis Beta Result",
         "type": "scatter",
         "x": [
          -0.001655682461229773,
          -0.000024913300945133034,
          -0.004508398962703943,
          -0.004337408207483228,
          -0.00013619902635648285,
          0.00093259319418844,
          -0.013859984819711273,
          0.002601592722483782,
          -0.0008194878405773087
         ],
         "y": [
          8.930642309128974,
          9.123572880291537,
          8.823132540635795,
          9.098579847913674,
          8.995719873529698,
          8.962314620748858,
          8.86580459038298,
          9.243727925723334,
          8.811809675993626
         ]
        },
        {
         "marker": {
          "color": [
           0.02179847220082507,
           -0.501364860618977,
           0.02179847220082507,
           -0.501364860618977,
           -0.501364860618977,
           0.07992773140302528,
           -0.007266157400275067,
           -0.501364860618977,
           0.02179847220082507
          ],
          "coloraxis": "coloraxis",
          "size": 9
         },
         "mode": "markers",
         "name": "Serum Electrophoresis Alpha 2 Result",
         "type": "scatter",
         "x": [
          -0.0033984633249684202,
          -0.000004779803087929144,
          -0.0011904488049066418,
          -0.020961430945015066,
          -0.00023620888499043365,
          0.00041331689655816576,
          -0.002828247486547455,
          0.0072513989601858606,
          -0.0024225780186221324
         ],
         "y": [
          9.851745949833646,
          9.938705663222652,
          9.815560187067542,
          10.217662237101594,
          10.205190695362761,
          9.969096390159402,
          9.99620034768689,
          9.781045298742603,
          10.169686433083656
         ]
        },
        {
         "marker": {
          "color": [
           0.4407136941448705,
           -2.110786640378064,
           0.4407136941448705,
           -2.110786640378064,
           -2.110786640378064,
           0.4662286974900999,
           0.4407136941448705,
           0.4407136941448705,
           0.4407136941448705
          ],
          "coloraxis": "coloraxis",
          "size": 9
         },
         "mode": "markers",
         "name": "Nucleated RBC Result",
         "type": "scatter",
         "x": [
          -0.0009553533754664745,
          -0.0002861107601573357,
          -0.0006152392156659736,
          -0.022989978098577345,
          -0.0161404641625525,
          -0.0001961382474256413,
          -0.004082999385871179,
          0.007566572986371077,
          -0.001617704446897099
         ],
         "y": [
          11.140243768986396,
          10.946644472598962,
          10.98854363222246,
          11.079680898381856,
          10.982789518406756,
          10.88659519702513,
          10.898742721534141,
          11.008656504010226,
          11.247265515389925
         ]
        },
        {
         "marker": {
          "color": [
           0.9094650018777113,
           -1.6598575274122365,
           0.7027379018198993,
           0.8504001161469078,
           -1.6598575274122365,
           0.14162148737726696,
           0.40741347316588233,
           0.40741347316588233,
           0.5846081303582924
          ],
          "coloraxis": "coloraxis",
          "size": 9
         },
         "mode": "markers",
         "name": "Total Serum Protein Result",
         "type": "scatter",
         "x": [
          -0.0037101756495220655,
          -0.00022101265476893932,
          -0.00419443505776523,
          -0.0012380294005963867,
          -0.00356894797998024,
          -0.001985709036021361,
          -0.039790655136137484,
          0.006308488932298052,
          -0.0024812770805891196
         ],
         "y": [
          11.994962839371354,
          11.77789870997322,
          12.219347708135647,
          11.902985448045909,
          11.769912688367056,
          11.786142880697891,
          11.83556730205479,
          12.067078203512718,
          11.933993041228511
         ]
        },
        {
         "marker": {
          "color": [
           0.7301099377591922,
           -1.7035898547714492,
           0.8761319253110307,
           0.6814359419085794,
           -1.7035898547714492,
           -0.04867399585061309,
           0.827457929460418,
           0.09734799170122553,
           0.9248059211616437
          ],
          "coloraxis": "coloraxis",
          "size": 9
         },
         "mode": "markers",
         "name": "Albumin Result(gm/dL)",
         "type": "scatter",
         "x": [
          -0.0033904352954357633,
          -0.0006393855923037914,
          -0.0016951484895550307,
          -0.041756730799786035,
          -0.016283459788084827,
          -0.004993886965911175,
          -0.02681275068060939,
          0.00884312461786774,
          -0.002050255506442336
         ],
         "y": [
          13.20865002056177,
          13.14663678217295,
          12.910418419770675,
          13.243057901153486,
          13.083249399149208,
          12.75871937972559,
          12.981544124597836,
          13.205161937410587,
          12.897980173773307
         ]
        },
        {
         "marker": {
          "color": [
           1.8133938579799238,
           -1.1668780535381134,
           1.0608752003216193,
           -1.1668780535381134,
           -1.1668780535381134,
           0.5616796551423482,
           0.04013207062669167,
           -1.1668780535381134,
           0.785200048506201
          ],
          "coloraxis": "coloraxis",
          "size": 9
         },
         "mode": "markers",
         "name": "LDH Result(U/L)",
         "type": "scatter",
         "x": [
          -0.02407237843175421,
          -0.0015133238577406773,
          -0.03677052145657592,
          -0.005251639957210156,
          -0.01105564929453227,
          0.014340131304646975,
          -0.08404754680909636,
          0.013617707719268646,
          -0.0075454437194525355
         ],
         "y": [
          14.213433194977418,
          14.057681577121645,
          14.04152182076429,
          13.932913551634533,
          14.22846180533293,
          13.965308085111047,
          14.067193119876421,
          14.068542684563303,
          14.07169669267916
         ]
        },
        {
         "marker": {
          "color": [
           0.8962581595302718,
           -0.5121475197315839,
           -0.5121475197315839,
           2.3046638387921274,
           0.8962581595302718,
           -0.5121475197315839,
           -0.5121475197315839,
           -0.5121475197315839,
           0.8962581595302718
          ],
          "coloraxis": "coloraxis",
          "size": 9
         },
         "mode": "markers",
         "name": "ImmunoTx Number",
         "type": "scatter",
         "x": [
          -0.0584375041122908,
          -0.0009274622705831416,
          -0.0018667696074812722,
          -0.024718070885398298,
          -0.006089131491656683,
          0.00010893510883922492,
          -0.0051939086599019175,
          0.10694098994359362,
          -0.002047767096862726
         ],
         "y": [
          14.903021389113949,
          15.182370740617074,
          15.046801770252292,
          14.944222790954061,
          14.9111371797841,
          14.806842370501299,
          15.055121245924319,
          15.141303721468153,
          14.961232897129035
         ]
        },
        {
         "marker": {
          "color": [
           0.11689845285600749,
           -2.073865145112134,
           0.4979008177200321,
           0.3073996352880198,
           0.3073996352880198,
           0.21214904407201365,
           0.5931514089360382,
           0.21214904407201365,
           0.7836525913680505
          ],
          "coloraxis": "coloraxis",
          "size": 9
         },
         "mode": "markers",
         "name": "total CO2 Result",
         "type": "scatter",
         "x": [
          -0.02871349140646069,
          -0.00014164726983745596,
          -0.022516897369218955,
          -0.05294281144761468,
          -0.029597892570515795,
          0.007655191481722501,
          -0.05785443065957231,
          0.04373585745019472,
          -0.013097082002640962
         ],
         "y": [
          16.207830424497505,
          15.812767825137815,
          15.99394464709702,
          16.071212903537784,
          16.03480205567932,
          16.194747155056756,
          16.092016727841003,
          16.162516565496702,
          16.081062955361173
         ]
        },
        {
         "marker": {
          "color": [
           -0.7067465705208028,
           -1.415103042113407,
           0.5682950783458848,
           -0.35256833472450066,
           -0.4234039818837611,
           0.3557881368681035,
           -0.4234039818837611,
           2.764200140282958,
           -0.4234039818837611
          ],
          "coloraxis": "coloraxis",
          "size": 9
         },
         "mode": "markers",
         "name": "BUN Result(mg/dL)",
         "type": "scatter",
         "x": [
          -0.027372542078565813,
          -0.00011807573703118077,
          -0.07813240518212136,
          -0.01624780058263388,
          -0.001771845574767347,
          0.009609012614238882,
          -0.09348078318231925,
          0.010662170731236518,
          -0.03588349867231729
         ],
         "y": [
          16.92212173608227,
          16.886291898242195,
          16.92498067145623,
          16.954089072107966,
          17.16340373675242,
          17.10546802538522,
          17.163421182220024,
          17.212568198060403,
          17.15739857939981
         ]
        },
        {
         "marker": {
          "color": [
           0.9263193569388523,
           -0.8956465305501484,
           0.4539578305528151,
           -0.8956465305501484,
           -0.8956465305501484,
           0.5889182666631114,
           0.11655674027707416,
           -0.8956465305501484,
           0.11655674027707416
          ],
          "coloraxis": "coloraxis",
          "size": 9
         },
         "mode": "markers",
         "name": "Serum Electrophoresis Gamma Result",
         "type": "scatter",
         "x": [
          -0.04757822311308058,
          -0.00010200127216509632,
          -0.051959591226945746,
          -0.009483172079990923,
          -0.0009503116131480315,
          0.013676675376667674,
          -0.15684608525989124,
          0.010885195599730476,
          -0.029315208853961394
         ],
         "y": [
          18.231138787414523,
          18.224930719777248,
          17.91048089212824,
          17.94615352964067,
          18.037602897216367,
          18.095273098152575,
          17.982352835399354,
          18.143884514262034,
          18.066003406425573
         ]
        },
        {
         "marker": {
          "color": [
           -0.44050056047998454,
           1.0191493584064752,
           -0.20632444160351512,
           -0.3413707923666325,
           1.237522180917048,
           1.6685211727142308,
           -0.2752842802910644,
           -0.4692338265997968,
           -0.2307477178053555
          ],
          "coloraxis": "coloraxis",
          "size": 9
         },
         "mode": "markers",
         "name": "RelTime(Days)",
         "type": "scatter",
         "x": [
          -0.026699504764522437,
          -0.00006888280741921032,
          -0.03856776031043248,
          -0.024780344563278628,
          -0.00007738663521140315,
          0.04205693115068671,
          -0.07434640721842015,
          0.1030797031153959,
          -0.025774674763360945
         ],
         "y": [
          19.04793513948785,
          18.82269755949577,
          18.835657215364982,
          18.906643614530797,
          19.23123750202753,
          18.788105174004432,
          19.230125618858093,
          18.988553615708007,
          18.967980626597416
         ]
        },
        {
         "marker": {
          "color": [
           1.5753056770395744,
           1.3133127483733185,
           -0.3395928049064821,
           -0.44708824241572664,
           -0.44708824241572664,
           -0.44708824241572664,
           -0.39943338246729637,
           -0.44708824241572664,
           -0.4468706403155055
          ],
          "coloraxis": "coloraxis",
          "size": 9
         },
         "mode": "markers",
         "name": "NT Pro BNP (B-Type Natriuretic Peptide)",
         "type": "scatter",
         "x": [
          -0.21864053006881257,
          -0.010507341671016843,
          -0.04423769876588809,
          -0.10664466155266536,
          -0.0013313786179148467,
          0.00105587308100316,
          -0.08944586669097357,
          0.07203331812718375,
          -0.02731300722405356
         ],
         "y": [
          20.173439931951958,
          20.16573807400552,
          19.81699200441597,
          20.155872199948682,
          20.00535168125088,
          19.911563547418524,
          19.804189614577545,
          20.046113869224786,
          20.140165752898508
         ]
        },
        {
         "marker": {
          "color": [
           0.70032065534231,
           -1.8863682973257085,
           0.6861857430326487,
           -0.3315279432629651,
           -1.8863682973257085,
           0.24800346143314836,
           -0.02055987245041642,
           0.14905907526551923,
           0.8275348661292617
          ],
          "coloraxis": "coloraxis",
          "size": 9
         },
         "mode": "markers",
         "name": "Monocyte Result",
         "type": "scatter",
         "x": [
          -0.12852609250764202,
          0.0000023712361872701755,
          -0.16606317333283557,
          -0.010006327341533228,
          -0.007587402431357616,
          -0.00020331594180402341,
          -0.15383971475915648,
          0.099529647216371,
          -0.04872295715255602
         ],
         "y": [
          21.19283725781582,
          21.235809551403126,
          20.81159426055604,
          20.948392000180863,
          20.77433822983457,
          21.067871991697537,
          21.193834804822185,
          21.093631534440654,
          20.944354567991873
         ]
        },
        {
         "marker": {
          "color": [
           -0.01476111756795739,
           -2.3573007190266737,
           0.16767966136184914,
           0.27714412871973304,
           -2.3573007190266737,
           -0.36504741311318595,
           0.4376920141779625,
           -0.03665401103953422,
           0.7587877850944224
          ],
          "coloraxis": "coloraxis",
          "size": 9
         },
         "mode": "markers",
         "name": "HCT Result",
         "type": "scatter",
         "x": [
          -0.11016381028882297,
          -0.00015702648158632342,
          -0.14349771214745602,
          -0.11329998315102385,
          -0.009889783275047585,
          0.0012029072212645362,
          -0.16823804012327387,
          0.213779800367425,
          -0.047708644617277335
         ],
         "y": [
          22.12996192799443,
          22.248306471610885,
          21.750561019685232,
          22.164027905165476,
          21.91313580843457,
          22.12353323519984,
          21.868520430102205,
          21.850910202330457,
          22.1547990683483
         ]
        },
        {
         "marker": {
          "color": [
           -0.1200830091415882,
           0.4726595709005457,
           -0.855450183498496,
           0.15469831935476525,
           0.9397878293443465,
           0.8220244028459093,
           -0.31635538663898355,
           -0.08082853364210914,
           0.5472430743495559
          ],
          "coloraxis": "coloraxis",
          "size": 9
         },
         "mode": "markers",
         "name": "Survival (in months)",
         "type": "scatter",
         "x": [
          -0.0032245883359225984,
          -0.6072529910403203,
          -0.0020426119125250006,
          -0.018238909623724625,
          -0.4108366715616404,
          -0.007849828283231384,
          -0.0038680137151667496,
          0.004623758338512437,
          -0.001535470517839409
         ],
         "y": [
          23.133694084321412,
          23.15561024543429,
          23.12867006831197,
          22.797931022944386,
          23.19143920793054,
          22.938808774487047,
          22.85983225654902,
          23.033783480599563,
          22.922932378167097
         ]
        }
       ],
       "layout": {
        "autosize": false,
        "coloraxis": {
         "cmax": 2,
         "cmin": -1,
         "colorbar": {
          "showticklabels": false,
          "title": {
           "side": "right",
           "text": "Feature Value"
          }
         },
         "colorscale": [
          [
           0,
           "rgb(0,0,255)"
          ],
          [
           1,
           "rgb(255,0,0)"
          ]
         ],
         "showscale": true
        },
        "height": 800,
        "plot_bgcolor": "white",
        "showlegend": false,
        "template": {
         "data": {
          "bar": [
           {
            "error_x": {
             "color": "#2a3f5f"
            },
            "error_y": {
             "color": "#2a3f5f"
            },
            "marker": {
             "line": {
              "color": "#E5ECF6",
              "width": 0.5
             },
             "pattern": {
              "fillmode": "overlay",
              "size": 10,
              "solidity": 0.2
             }
            },
            "type": "bar"
           }
          ],
          "barpolar": [
           {
            "marker": {
             "line": {
              "color": "#E5ECF6",
              "width": 0.5
             },
             "pattern": {
              "fillmode": "overlay",
              "size": 10,
              "solidity": 0.2
             }
            },
            "type": "barpolar"
           }
          ],
          "carpet": [
           {
            "aaxis": {
             "endlinecolor": "#2a3f5f",
             "gridcolor": "white",
             "linecolor": "white",
             "minorgridcolor": "white",
             "startlinecolor": "#2a3f5f"
            },
            "baxis": {
             "endlinecolor": "#2a3f5f",
             "gridcolor": "white",
             "linecolor": "white",
             "minorgridcolor": "white",
             "startlinecolor": "#2a3f5f"
            },
            "type": "carpet"
           }
          ],
          "choropleth": [
           {
            "colorbar": {
             "outlinewidth": 0,
             "ticks": ""
            },
            "type": "choropleth"
           }
          ],
          "contour": [
           {
            "colorbar": {
             "outlinewidth": 0,
             "ticks": ""
            },
            "colorscale": [
             [
              0,
              "#0d0887"
             ],
             [
              0.1111111111111111,
              "#46039f"
             ],
             [
              0.2222222222222222,
              "#7201a8"
             ],
             [
              0.3333333333333333,
              "#9c179e"
             ],
             [
              0.4444444444444444,
              "#bd3786"
             ],
             [
              0.5555555555555556,
              "#d8576b"
             ],
             [
              0.6666666666666666,
              "#ed7953"
             ],
             [
              0.7777777777777778,
              "#fb9f3a"
             ],
             [
              0.8888888888888888,
              "#fdca26"
             ],
             [
              1,
              "#f0f921"
             ]
            ],
            "type": "contour"
           }
          ],
          "contourcarpet": [
           {
            "colorbar": {
             "outlinewidth": 0,
             "ticks": ""
            },
            "type": "contourcarpet"
           }
          ],
          "heatmap": [
           {
            "colorbar": {
             "outlinewidth": 0,
             "ticks": ""
            },
            "colorscale": [
             [
              0,
              "#0d0887"
             ],
             [
              0.1111111111111111,
              "#46039f"
             ],
             [
              0.2222222222222222,
              "#7201a8"
             ],
             [
              0.3333333333333333,
              "#9c179e"
             ],
             [
              0.4444444444444444,
              "#bd3786"
             ],
             [
              0.5555555555555556,
              "#d8576b"
             ],
             [
              0.6666666666666666,
              "#ed7953"
             ],
             [
              0.7777777777777778,
              "#fb9f3a"
             ],
             [
              0.8888888888888888,
              "#fdca26"
             ],
             [
              1,
              "#f0f921"
             ]
            ],
            "type": "heatmap"
           }
          ],
          "heatmapgl": [
           {
            "colorbar": {
             "outlinewidth": 0,
             "ticks": ""
            },
            "colorscale": [
             [
              0,
              "#0d0887"
             ],
             [
              0.1111111111111111,
              "#46039f"
             ],
             [
              0.2222222222222222,
              "#7201a8"
             ],
             [
              0.3333333333333333,
              "#9c179e"
             ],
             [
              0.4444444444444444,
              "#bd3786"
             ],
             [
              0.5555555555555556,
              "#d8576b"
             ],
             [
              0.6666666666666666,
              "#ed7953"
             ],
             [
              0.7777777777777778,
              "#fb9f3a"
             ],
             [
              0.8888888888888888,
              "#fdca26"
             ],
             [
              1,
              "#f0f921"
             ]
            ],
            "type": "heatmapgl"
           }
          ],
          "histogram": [
           {
            "marker": {
             "pattern": {
              "fillmode": "overlay",
              "size": 10,
              "solidity": 0.2
             }
            },
            "type": "histogram"
           }
          ],
          "histogram2d": [
           {
            "colorbar": {
             "outlinewidth": 0,
             "ticks": ""
            },
            "colorscale": [
             [
              0,
              "#0d0887"
             ],
             [
              0.1111111111111111,
              "#46039f"
             ],
             [
              0.2222222222222222,
              "#7201a8"
             ],
             [
              0.3333333333333333,
              "#9c179e"
             ],
             [
              0.4444444444444444,
              "#bd3786"
             ],
             [
              0.5555555555555556,
              "#d8576b"
             ],
             [
              0.6666666666666666,
              "#ed7953"
             ],
             [
              0.7777777777777778,
              "#fb9f3a"
             ],
             [
              0.8888888888888888,
              "#fdca26"
             ],
             [
              1,
              "#f0f921"
             ]
            ],
            "type": "histogram2d"
           }
          ],
          "histogram2dcontour": [
           {
            "colorbar": {
             "outlinewidth": 0,
             "ticks": ""
            },
            "colorscale": [
             [
              0,
              "#0d0887"
             ],
             [
              0.1111111111111111,
              "#46039f"
             ],
             [
              0.2222222222222222,
              "#7201a8"
             ],
             [
              0.3333333333333333,
              "#9c179e"
             ],
             [
              0.4444444444444444,
              "#bd3786"
             ],
             [
              0.5555555555555556,
              "#d8576b"
             ],
             [
              0.6666666666666666,
              "#ed7953"
             ],
             [
              0.7777777777777778,
              "#fb9f3a"
             ],
             [
              0.8888888888888888,
              "#fdca26"
             ],
             [
              1,
              "#f0f921"
             ]
            ],
            "type": "histogram2dcontour"
           }
          ],
          "mesh3d": [
           {
            "colorbar": {
             "outlinewidth": 0,
             "ticks": ""
            },
            "type": "mesh3d"
           }
          ],
          "parcoords": [
           {
            "line": {
             "colorbar": {
              "outlinewidth": 0,
              "ticks": ""
             }
            },
            "type": "parcoords"
           }
          ],
          "pie": [
           {
            "automargin": true,
            "type": "pie"
           }
          ],
          "scatter": [
           {
            "fillpattern": {
             "fillmode": "overlay",
             "size": 10,
             "solidity": 0.2
            },
            "type": "scatter"
           }
          ],
          "scatter3d": [
           {
            "line": {
             "colorbar": {
              "outlinewidth": 0,
              "ticks": ""
             }
            },
            "marker": {
             "colorbar": {
              "outlinewidth": 0,
              "ticks": ""
             }
            },
            "type": "scatter3d"
           }
          ],
          "scattercarpet": [
           {
            "marker": {
             "colorbar": {
              "outlinewidth": 0,
              "ticks": ""
             }
            },
            "type": "scattercarpet"
           }
          ],
          "scattergeo": [
           {
            "marker": {
             "colorbar": {
              "outlinewidth": 0,
              "ticks": ""
             }
            },
            "type": "scattergeo"
           }
          ],
          "scattergl": [
           {
            "marker": {
             "colorbar": {
              "outlinewidth": 0,
              "ticks": ""
             }
            },
            "type": "scattergl"
           }
          ],
          "scattermapbox": [
           {
            "marker": {
             "colorbar": {
              "outlinewidth": 0,
              "ticks": ""
             }
            },
            "type": "scattermapbox"
           }
          ],
          "scatterpolar": [
           {
            "marker": {
             "colorbar": {
              "outlinewidth": 0,
              "ticks": ""
             }
            },
            "type": "scatterpolar"
           }
          ],
          "scatterpolargl": [
           {
            "marker": {
             "colorbar": {
              "outlinewidth": 0,
              "ticks": ""
             }
            },
            "type": "scatterpolargl"
           }
          ],
          "scatterternary": [
           {
            "marker": {
             "colorbar": {
              "outlinewidth": 0,
              "ticks": ""
             }
            },
            "type": "scatterternary"
           }
          ],
          "surface": [
           {
            "colorbar": {
             "outlinewidth": 0,
             "ticks": ""
            },
            "colorscale": [
             [
              0,
              "#0d0887"
             ],
             [
              0.1111111111111111,
              "#46039f"
             ],
             [
              0.2222222222222222,
              "#7201a8"
             ],
             [
              0.3333333333333333,
              "#9c179e"
             ],
             [
              0.4444444444444444,
              "#bd3786"
             ],
             [
              0.5555555555555556,
              "#d8576b"
             ],
             [
              0.6666666666666666,
              "#ed7953"
             ],
             [
              0.7777777777777778,
              "#fb9f3a"
             ],
             [
              0.8888888888888888,
              "#fdca26"
             ],
             [
              1,
              "#f0f921"
             ]
            ],
            "type": "surface"
           }
          ],
          "table": [
           {
            "cells": {
             "fill": {
              "color": "#EBF0F8"
             },
             "line": {
              "color": "white"
             }
            },
            "header": {
             "fill": {
              "color": "#C8D4E3"
             },
             "line": {
              "color": "white"
             }
            },
            "type": "table"
           }
          ]
         },
         "layout": {
          "annotationdefaults": {
           "arrowcolor": "#2a3f5f",
           "arrowhead": 0,
           "arrowwidth": 1
          },
          "autotypenumbers": "strict",
          "coloraxis": {
           "colorbar": {
            "outlinewidth": 0,
            "ticks": ""
           }
          },
          "colorscale": {
           "diverging": [
            [
             0,
             "#8e0152"
            ],
            [
             0.1,
             "#c51b7d"
            ],
            [
             0.2,
             "#de77ae"
            ],
            [
             0.3,
             "#f1b6da"
            ],
            [
             0.4,
             "#fde0ef"
            ],
            [
             0.5,
             "#f7f7f7"
            ],
            [
             0.6,
             "#e6f5d0"
            ],
            [
             0.7,
             "#b8e186"
            ],
            [
             0.8,
             "#7fbc41"
            ],
            [
             0.9,
             "#4d9221"
            ],
            [
             1,
             "#276419"
            ]
           ],
           "sequential": [
            [
             0,
             "#0d0887"
            ],
            [
             0.1111111111111111,
             "#46039f"
            ],
            [
             0.2222222222222222,
             "#7201a8"
            ],
            [
             0.3333333333333333,
             "#9c179e"
            ],
            [
             0.4444444444444444,
             "#bd3786"
            ],
            [
             0.5555555555555556,
             "#d8576b"
            ],
            [
             0.6666666666666666,
             "#ed7953"
            ],
            [
             0.7777777777777778,
             "#fb9f3a"
            ],
            [
             0.8888888888888888,
             "#fdca26"
            ],
            [
             1,
             "#f0f921"
            ]
           ],
           "sequentialminus": [
            [
             0,
             "#0d0887"
            ],
            [
             0.1111111111111111,
             "#46039f"
            ],
            [
             0.2222222222222222,
             "#7201a8"
            ],
            [
             0.3333333333333333,
             "#9c179e"
            ],
            [
             0.4444444444444444,
             "#bd3786"
            ],
            [
             0.5555555555555556,
             "#d8576b"
            ],
            [
             0.6666666666666666,
             "#ed7953"
            ],
            [
             0.7777777777777778,
             "#fb9f3a"
            ],
            [
             0.8888888888888888,
             "#fdca26"
            ],
            [
             1,
             "#f0f921"
            ]
           ]
          },
          "colorway": [
           "#636efa",
           "#EF553B",
           "#00cc96",
           "#ab63fa",
           "#FFA15A",
           "#19d3f3",
           "#FF6692",
           "#B6E880",
           "#FF97FF",
           "#FECB52"
          ],
          "font": {
           "color": "#2a3f5f"
          },
          "geo": {
           "bgcolor": "white",
           "lakecolor": "white",
           "landcolor": "#E5ECF6",
           "showlakes": true,
           "showland": true,
           "subunitcolor": "white"
          },
          "hoverlabel": {
           "align": "left"
          },
          "hovermode": "closest",
          "mapbox": {
           "style": "light"
          },
          "paper_bgcolor": "white",
          "plot_bgcolor": "#E5ECF6",
          "polar": {
           "angularaxis": {
            "gridcolor": "white",
            "linecolor": "white",
            "ticks": ""
           },
           "bgcolor": "#E5ECF6",
           "radialaxis": {
            "gridcolor": "white",
            "linecolor": "white",
            "ticks": ""
           }
          },
          "scene": {
           "xaxis": {
            "backgroundcolor": "#E5ECF6",
            "gridcolor": "white",
            "gridwidth": 2,
            "linecolor": "white",
            "showbackground": true,
            "ticks": "",
            "zerolinecolor": "white"
           },
           "yaxis": {
            "backgroundcolor": "#E5ECF6",
            "gridcolor": "white",
            "gridwidth": 2,
            "linecolor": "white",
            "showbackground": true,
            "ticks": "",
            "zerolinecolor": "white"
           },
           "zaxis": {
            "backgroundcolor": "#E5ECF6",
            "gridcolor": "white",
            "gridwidth": 2,
            "linecolor": "white",
            "showbackground": true,
            "ticks": "",
            "zerolinecolor": "white"
           }
          },
          "shapedefaults": {
           "line": {
            "color": "#2a3f5f"
           }
          },
          "ternary": {
           "aaxis": {
            "gridcolor": "white",
            "linecolor": "white",
            "ticks": ""
           },
           "baxis": {
            "gridcolor": "white",
            "linecolor": "white",
            "ticks": ""
           },
           "bgcolor": "#E5ECF6",
           "caxis": {
            "gridcolor": "white",
            "linecolor": "white",
            "ticks": ""
           }
          },
          "title": {
           "x": 0.05
          },
          "xaxis": {
           "automargin": true,
           "gridcolor": "white",
           "linecolor": "white",
           "ticks": "",
           "title": {
            "standoff": 15
           },
           "zerolinecolor": "white",
           "zerolinewidth": 2
          },
          "yaxis": {
           "automargin": true,
           "gridcolor": "white",
           "linecolor": "white",
           "ticks": "",
           "title": {
            "standoff": 15
           },
           "zerolinecolor": "white",
           "zerolinewidth": 2
          }
         }
        },
        "width": 800,
        "xaxis": {
         "autorange": true,
         "range": [
          -0.6666213318745889,
          0.2731481412016937
         ],
         "title": {
          "text": "Integrated Gradient"
         },
         "type": "linear",
         "zeroline": true,
         "zerolinecolor": "black"
        },
        "yaxis": {
         "autorange": true,
         "gridcolor": "lightgrey",
         "linecolor": "black",
         "mirror": true,
         "range": [
          -0.7150425393279336,
          24.69231753489577
         ],
         "showline": true,
         "ticks": "outside",
         "ticktext": [
          "OtherTx Number",
          "OtherTx",
          "RadTx Number",
          "RadTx",
          "MCV Result",
          "Albumin Electrophoresis Result",
          "MCHC Result",
          "Chloride Result(mmol/L)",
          "Serum Electrophoresis Beta Result",
          "Serum Electrophoresis Alpha 2 Result",
          "Nucleated RBC Result",
          "Total Serum Protein Result",
          "Albumin Result(gm/dL)",
          "LDH Result(U/L)",
          "ImmunoTx Number",
          "total CO2 Result",
          "BUN Result(mg/dL)",
          "Serum Electrophoresis Gamma Result",
          "RelTime(Days)",
          "NT Pro BNP (B-Type Natriuretic Peptide)",
          "Monocyte Result",
          "HCT Result",
          "Survival (in months)"
         ],
         "tickvals": [
          1,
          2,
          3,
          4,
          5,
          6,
          7,
          8,
          9,
          10,
          11,
          12,
          13,
          14,
          15,
          16,
          17,
          18,
          19,
          20,
          21,
          22,
          23
         ],
         "type": "linear",
         "zeroline": true,
         "zerolinecolor": "black"
        }
       }
      },
      "image/png": "[encoded data removed]",
      "text/html": [
       "<div>                            <div id=\"bf3b34e7-f105-4821-b6d0-b40f8637a7e2\" class=\"plotly-graph-div\" style=\"height:800px; width:800px;\"></div>            <script type=\"text/javascript\">                require([\"plotly\"], function(Plotly) {                    window.PLOTLYENV=window.PLOTLYENV || {};                                    if (document.getElementById(\"bf3b34e7-f105-4821-b6d0-b40f8637a7e2\")) {                    Plotly.newPlot(                        \"bf3b34e7-f105-4821-b6d0-b40f8637a7e2\",                        [{\"marker\":{\"color\":[-0.15249857033260467,-0.15249857033260467,-0.15249857033260467,-0.15249857033260467,-0.15249857033260467,-0.15249857033260467,-0.15249857033260467,-0.15249857033260467,-0.15249857033260467],\"coloraxis\":\"coloraxis\",\"size\":9},\"mode\":\"markers\",\"name\":\"OtherTx Number\",\"x\":[1.4953410854204084e-08,-1.7005229648265933e-06,-2.226414511166496e-09,-4.331686136472681e-08,-1.2661877751581123e-06,1.2276040715039154e-08,-1.2724123775891472e-09,-3.3477560294120255e-08,-1.994919232748868e-10],\"y\":[0.798695612932975,1.03773562426378,0.8288758031117491,0.7858357876372974,1.0561909144023263,0.7890262601749618,0.9859474929280203,1.057256380630188,1.2195513358479901],\"type\":\"scatter\"},{\"marker\":{\"color\":[-0.15249857033260467,-0.15249857033260467,-0.15249857033260467,-0.15249857033260467,-0.15249857033260467,-0.15249857033260467,-0.15249857033260467,-0.15249857033260467,-0.15249857033260467],\"coloraxis\":\"coloraxis\",\"size\":9},\"mode\":\"markers\",\"name\":\"OtherTx\",\"x\":[1.4953419651519647e-08,-1.7005419208052523e-06,-2.226710505668236e-09,-4.331895102115487e-08,-1.2661895955001443e-06,1.2276096521949675e-08,-1.2724123775891472e-09,-3.347807079170672e-08,-1.9949193368224476e-10],\"y\":[2.210636099547948,2.053728727244205,2.0013562595552634,2.075195591126593,2.212482746415505,2.2454702099420336,1.766545166454708,2.234776044381826,2.1515929897202106],\"type\":\"scatter\"},{\"marker\":{\"color\":[-0.15249857033260467,-0.15249857033260467,-0.15249857033260467,-0.15249857033260467,-0.15249857033260467,-0.15249857033260467,-0.15249857033260467,-0.15249857033260467,-0.15249857033260467],\"coloraxis\":\"coloraxis\",\"size\":9},\"mode\":\"markers\",\"name\":\"RadTx Number\",\"x\":[-1.2225135163732646e-06,1.9784308400884647e-09,-5.432956594985264e-07,-1.1563839443691895e-06,-1.5396591210171051e-07,-8.472977923233665e-08,-1.536434754058582e-06,3.980138808911245e-07,-5.192496076294478e-07],\"y\":[2.7875024199011382,3.150083939204456,3.0813164551718337,3.2028689706787907,2.9788986408363263,3.0016692314890507,3.1686566560053486,2.9918938972596436,3.013183950690161],\"type\":\"scatter\"},{\"marker\":{\"color\":[-0.15249857033260467,-0.15249857033260467,-0.15249857033260467,-0.15249857033260467,-0.15249857033260467,-0.15249857033260467,-0.15249857033260467,-0.15249857033260467,-0.15249857033260467],\"coloraxis\":\"coloraxis\",\"size\":9},\"mode\":\"markers\",\"name\":\"RadTx\",\"x\":[-1.2225121587257327e-06,1.9784236232972224e-09,-5.433128551832893e-07,-1.1563694516371726e-06,-1.5396684629483882e-07,-8.475046338843171e-08,-1.5364336876821185e-06,3.9803384740670176e-07,-5.19227975878384e-07],\"y\":[3.872179439497976,3.915211256032065,3.893824187691445,3.7728316089333322,4.041516894880118,4.171325751921221,4.135156326749085,3.8732928197828853,4.043154844508319],\"type\":\"scatter\"},{\"marker\":{\"color\":[0.3743188653741822,-2.473158053954154,0.17869068007681568,0.33705635388896943,-2.473158053954154,-0.12251462109532027,0.4022657489880915,0.5202637020245986,0.5078428648628609],\"coloraxis\":\"coloraxis\",\"size\":9},\"mode\":\"markers\",\"name\":\"MCV Result\",\"x\":[-0.0009304264325585016,-1.0462491394167597e-05,-0.000753511640065993,-0.0005003685729726564,-0.00296857564463081,0.0009436848427620637,-0.000765634706419501,0.0014221465828481539,-0.0002554077609568475],\"y\":[4.995215328159311,5.158276961470794,4.926739961552215,4.768298475535892,5.193637906010126,5.08514021404105,4.840929230145889,4.852852078921445,4.949099927479205],\"type\":\"scatter\"},{\"marker\":{\"color\":[0.1261863224569071,-0.5209230234759501,0.11324413553824995,-0.5209230234759501,-0.5209230234759501,-0.11971522899757862,0.1261863224569071,-0.5209230234759501,0.17795507013153575],\"coloraxis\":\"coloraxis\",\"size\":9},\"mode\":\"markers\",\"name\":\"Albumin Electrophoresis Result\",\"x\":[-0.000404080902526499,-2.2985916569955175e-05,-0.0008264144095408339,-0.0012036489857240053,-0.00019429468157790714,0.00035118554766197594,-0.0034818797661838796,0.0022667866940172384,-0.00020797275208932006],\"y\":[5.988194116919049,5.91515007059472,6.007835225748796,6.196225125098643,6.064980353739813,5.934764575051025,6.180221540095732,6.09786152548759,6.04686192413884],\"type\":\"scatter\"},{\"marker\":{\"color\":[0.39354242157457164,-2.5066100800486417,0.2829794229789652,0.5381248043534411,-2.5066100800486417,0.2659697308873335,0.24896003879570153,0.2829794229789652,0.3510181913454923],\"coloraxis\":\"coloraxis\",\"size\":9},\"mode\":\"markers\",\"name\":\"MCHC Result\",\"x\":[-0.0003232812797817466,-2.638931803492732e-06,-0.0005956742803338297,-0.0006075925934605812,-0.003788151957743053,-0.00016345715511946666,-0.0034072912662619567,0.0003738192178965604,-0.0004364071114516002],\"y\":[7.008259082784165,6.793918524913897,7.046467568788557,6.949129639002278,7.025164522114868,6.812032510427426,7.143088778172513,7.005978023216252,7.1654652787438],\"type\":\"scatter\"},{\"marker\":{\"color\":[0.32464874825470913,-2.106229949203359,0.5501941944106123,0.4248911687684439,0.6253760097959135,0.6003154046674798,0.5501941944106123,0.5501941944106123,0.4499517738968776],\"coloraxis\":\"coloraxis\",\"size\":9},\"mode\":\"markers\",\"name\":\"Chloride Result(mmol\\u002fL)\",\"x\":[-0.002453758835856126,-0.00015156071412496074,-0.0012717021030627543,-0.00043280013026672563,-0.020531475982065516,0.00012520778765303232,-0.0006156738903614022,0.0015046670459849909,-0.00025044289852595993],\"y\":[7.853406129809985,8.219042080477703,8.03909234667359,7.787842852843848,7.9068588352657425,8.24134245376818,8.05666705969325,7.9598735258967785,8.20784570767489],\"type\":\"scatter\"},{\"marker\":{\"color\":[0.10997277767869766,-0.6447027975842922,0.15436545857652062,-0.6447027975842922,-0.6447027975842922,0.021187415883051827,0.06558009678087474,-0.6447027975842922,0.10997277767869766],\"coloraxis\":\"coloraxis\",\"size\":9},\"mode\":\"markers\",\"name\":\"Serum Electrophoresis Beta Result\",\"x\":[-0.001655682461229773,-2.4913300945133034e-05,-0.004508398962703943,-0.004337408207483228,-0.00013619902635648285,0.00093259319418844,-0.013859984819711273,0.002601592722483782,-0.0008194878405773087],\"y\":[8.930642309128974,9.123572880291537,8.823132540635795,9.098579847913674,8.995719873529698,8.962314620748858,8.86580459038298,9.243727925723334,8.811809675993626],\"type\":\"scatter\"},{\"marker\":{\"color\":[0.02179847220082507,-0.501364860618977,0.02179847220082507,-0.501364860618977,-0.501364860618977,0.07992773140302528,-0.007266157400275067,-0.501364860618977,0.02179847220082507],\"coloraxis\":\"coloraxis\",\"size\":9},\"mode\":\"markers\",\"name\":\"Serum Electrophoresis Alpha 2 Result\",\"x\":[-0.0033984633249684202,-4.779803087929144e-06,-0.0011904488049066418,-0.020961430945015066,-0.00023620888499043365,0.00041331689655816576,-0.002828247486547455,0.0072513989601858606,-0.0024225780186221324],\"y\":[9.851745949833646,9.938705663222652,9.815560187067542,10.217662237101594,10.205190695362761,9.969096390159402,9.99620034768689,9.781045298742603,10.169686433083656],\"type\":\"scatter\"},{\"marker\":{\"color\":[0.4407136941448705,-2.110786640378064,0.4407136941448705,-2.110786640378064,-2.110786640378064,0.4662286974900999,0.4407136941448705,0.4407136941448705,0.4407136941448705],\"coloraxis\":\"coloraxis\",\"size\":9},\"mode\":\"markers\",\"name\":\"Nucleated RBC Result\",\"x\":[-0.0009553533754664745,-0.0002861107601573357,-0.0006152392156659736,-0.022989978098577345,-0.0161404641625525,-0.0001961382474256413,-0.004082999385871179,0.007566572986371077,-0.001617704446897099],\"y\":[11.140243768986396,10.946644472598962,10.98854363222246,11.079680898381856,10.982789518406756,10.88659519702513,10.898742721534141,11.008656504010226,11.247265515389925],\"type\":\"scatter\"},{\"marker\":{\"color\":[0.9094650018777113,-1.6598575274122365,0.7027379018198993,0.8504001161469078,-1.6598575274122365,0.14162148737726696,0.40741347316588233,0.40741347316588233,0.5846081303582924],\"coloraxis\":\"coloraxis\",\"size\":9},\"mode\":\"markers\",\"name\":\"Total Serum Protein Result\",\"x\":[-0.0037101756495220655,-0.00022101265476893932,-0.00419443505776523,-0.0012380294005963867,-0.00356894797998024,-0.001985709036021361,-0.039790655136137484,0.006308488932298052,-0.0024812770805891196],\"y\":[11.994962839371354,11.77789870997322,12.219347708135647,11.902985448045909,11.769912688367056,11.786142880697891,11.83556730205479,12.067078203512718,11.933993041228511],\"type\":\"scatter\"},{\"marker\":{\"color\":[0.7301099377591922,-1.7035898547714492,0.8761319253110307,0.6814359419085794,-1.7035898547714492,-0.04867399585061309,0.827457929460418,0.09734799170122553,0.9248059211616437],\"coloraxis\":\"coloraxis\",\"size\":9},\"mode\":\"markers\",\"name\":\"Albumin Result(gm\\u002fdL)\",\"x\":[-0.0033904352954357633,-0.0006393855923037914,-0.0016951484895550307,-0.041756730799786035,-0.016283459788084827,-0.004993886965911175,-0.02681275068060939,0.00884312461786774,-0.002050255506442336],\"y\":[13.20865002056177,13.14663678217295,12.910418419770675,13.243057901153486,13.083249399149208,12.75871937972559,12.981544124597836,13.205161937410587,12.897980173773307],\"type\":\"scatter\"},{\"marker\":{\"color\":[1.8133938579799238,-1.1668780535381134,1.0608752003216193,-1.1668780535381134,-1.1668780535381134,0.5616796551423482,0.04013207062669167,-1.1668780535381134,0.785200048506201],\"coloraxis\":\"coloraxis\",\"size\":9},\"mode\":\"markers\",\"name\":\"LDH Result(U\\u002fL)\",\"x\":[-0.02407237843175421,-0.0015133238577406773,-0.03677052145657592,-0.005251639957210156,-0.01105564929453227,0.014340131304646975,-0.08404754680909636,0.013617707719268646,-0.0075454437194525355],\"y\":[14.213433194977418,14.057681577121645,14.04152182076429,13.932913551634533,14.22846180533293,13.965308085111047,14.067193119876421,14.068542684563303,14.07169669267916],\"type\":\"scatter\"},{\"marker\":{\"color\":[0.8962581595302718,-0.5121475197315839,-0.5121475197315839,2.3046638387921274,0.8962581595302718,-0.5121475197315839,-0.5121475197315839,-0.5121475197315839,0.8962581595302718],\"coloraxis\":\"coloraxis\",\"size\":9},\"mode\":\"markers\",\"name\":\"ImmunoTx Number\",\"x\":[-0.0584375041122908,-0.0009274622705831416,-0.0018667696074812722,-0.024718070885398298,-0.006089131491656683,0.00010893510883922492,-0.0051939086599019175,0.10694098994359362,-0.002047767096862726],\"y\":[14.903021389113949,15.182370740617074,15.046801770252292,14.944222790954061,14.9111371797841,14.806842370501299,15.055121245924319,15.141303721468153,14.961232897129035],\"type\":\"scatter\"},{\"marker\":{\"color\":[0.11689845285600749,-2.073865145112134,0.4979008177200321,0.3073996352880198,0.3073996352880198,0.21214904407201365,0.5931514089360382,0.21214904407201365,0.7836525913680505],\"coloraxis\":\"coloraxis\",\"size\":9},\"mode\":\"markers\",\"name\":\"total CO2 Result\",\"x\":[-0.02871349140646069,-0.00014164726983745596,-0.022516897369218955,-0.05294281144761468,-0.029597892570515795,0.007655191481722501,-0.05785443065957231,0.04373585745019472,-0.013097082002640962],\"y\":[16.207830424497505,15.812767825137815,15.99394464709702,16.071212903537784,16.03480205567932,16.194747155056756,16.092016727841003,16.162516565496702,16.081062955361173],\"type\":\"scatter\"},{\"marker\":{\"color\":[-0.7067465705208028,-1.415103042113407,0.5682950783458848,-0.35256833472450066,-0.4234039818837611,0.3557881368681035,-0.4234039818837611,2.764200140282958,-0.4234039818837611],\"coloraxis\":\"coloraxis\",\"size\":9},\"mode\":\"markers\",\"name\":\"BUN Result(mg\\u002fdL)\",\"x\":[-0.027372542078565813,-0.00011807573703118077,-0.07813240518212136,-0.01624780058263388,-0.001771845574767347,0.009609012614238882,-0.09348078318231925,0.010662170731236518,-0.03588349867231729],\"y\":[16.92212173608227,16.886291898242195,16.92498067145623,16.954089072107966,17.16340373675242,17.10546802538522,17.163421182220024,17.212568198060403,17.15739857939981],\"type\":\"scatter\"},{\"marker\":{\"color\":[0.9263193569388523,-0.8956465305501484,0.4539578305528151,-0.8956465305501484,-0.8956465305501484,0.5889182666631114,0.11655674027707416,-0.8956465305501484,0.11655674027707416],\"coloraxis\":\"coloraxis\",\"size\":9},\"mode\":\"markers\",\"name\":\"Serum Electrophoresis Gamma Result\",\"x\":[-0.04757822311308058,-0.00010200127216509632,-0.051959591226945746,-0.009483172079990923,-0.0009503116131480315,0.013676675376667674,-0.15684608525989124,0.010885195599730476,-0.029315208853961394],\"y\":[18.231138787414523,18.224930719777248,17.91048089212824,17.94615352964067,18.037602897216367,18.095273098152575,17.982352835399354,18.143884514262034,18.066003406425573],\"type\":\"scatter\"},{\"marker\":{\"color\":[-0.44050056047998454,1.0191493584064752,-0.20632444160351512,-0.3413707923666325,1.237522180917048,1.6685211727142308,-0.2752842802910644,-0.4692338265997968,-0.2307477178053555],\"coloraxis\":\"coloraxis\",\"size\":9},\"mode\":\"markers\",\"name\":\"RelTime(Days)\",\"x\":[-0.026699504764522437,-6.888280741921032e-05,-0.03856776031043248,-0.024780344563278628,-7.738663521140315e-05,0.04205693115068671,-0.07434640721842015,0.1030797031153959,-0.025774674763360945],\"y\":[19.04793513948785,18.82269755949577,18.835657215364982,18.906643614530797,19.23123750202753,18.788105174004432,19.230125618858093,18.988553615708007,18.967980626597416],\"type\":\"scatter\"},{\"marker\":{\"color\":[1.5753056770395744,1.3133127483733185,-0.3395928049064821,-0.44708824241572664,-0.44708824241572664,-0.44708824241572664,-0.39943338246729637,-0.44708824241572664,-0.4468706403155055],\"coloraxis\":\"coloraxis\",\"size\":9},\"mode\":\"markers\",\"name\":\"NT Pro BNP (B-Type Natriuretic Peptide)\",\"x\":[-0.21864053006881257,-0.010507341671016843,-0.04423769876588809,-0.10664466155266536,-0.0013313786179148467,0.00105587308100316,-0.08944586669097357,0.07203331812718375,-0.02731300722405356],\"y\":[20.173439931951958,20.16573807400552,19.81699200441597,20.155872199948682,20.00535168125088,19.911563547418524,19.804189614577545,20.046113869224786,20.140165752898508],\"type\":\"scatter\"},{\"marker\":{\"color\":[0.70032065534231,-1.8863682973257085,0.6861857430326487,-0.3315279432629651,-1.8863682973257085,0.24800346143314836,-0.02055987245041642,0.14905907526551923,0.8275348661292617],\"coloraxis\":\"coloraxis\",\"size\":9},\"mode\":\"markers\",\"name\":\"Monocyte Result\",\"x\":[-0.12852609250764202,2.3712361872701755e-06,-0.16606317333283557,-0.010006327341533228,-0.007587402431357616,-0.00020331594180402341,-0.15383971475915648,0.099529647216371,-0.04872295715255602],\"y\":[21.19283725781582,21.235809551403126,20.81159426055604,20.948392000180863,20.77433822983457,21.067871991697537,21.193834804822185,21.093631534440654,20.944354567991873],\"type\":\"scatter\"},{\"marker\":{\"color\":[-0.01476111756795739,-2.3573007190266737,0.16767966136184914,0.27714412871973304,-2.3573007190266737,-0.36504741311318595,0.4376920141779625,-0.03665401103953422,0.7587877850944224],\"coloraxis\":\"coloraxis\",\"size\":9},\"mode\":\"markers\",\"name\":\"HCT Result\",\"x\":[-0.11016381028882297,-0.00015702648158632342,-0.14349771214745602,-0.11329998315102385,-0.009889783275047585,0.0012029072212645362,-0.16823804012327387,0.213779800367425,-0.047708644617277335],\"y\":[22.12996192799443,22.248306471610885,21.750561019685232,22.164027905165476,21.91313580843457,22.12353323519984,21.868520430102205,21.850910202330457,22.1547990683483],\"type\":\"scatter\"},{\"marker\":{\"color\":[-0.1200830091415882,0.4726595709005457,-0.855450183498496,0.15469831935476525,0.9397878293443465,0.8220244028459093,-0.31635538663898355,-0.08082853364210914,0.5472430743495559],\"coloraxis\":\"coloraxis\",\"size\":9},\"mode\":\"markers\",\"name\":\"Survival (in months)\",\"x\":[-0.0032245883359225984,-0.6072529910403203,-0.0020426119125250006,-0.018238909623724625,-0.4108366715616404,-0.007849828283231384,-0.0038680137151667496,0.004623758338512437,-0.001535470517839409],\"y\":[23.133694084321412,23.15561024543429,23.12867006831197,22.797931022944386,23.19143920793054,22.938808774487047,22.85983225654902,23.033783480599563,22.922932378167097],\"type\":\"scatter\"}],                        {\"template\":{\"data\":{\"histogram2dcontour\":[{\"type\":\"histogram2dcontour\",\"colorbar\":{\"outlinewidth\":0,\"ticks\":\"\"},\"colorscale\":[[0.0,\"#0d0887\"],[0.1111111111111111,\"#46039f\"],[0.2222222222222222,\"#7201a8\"],[0.3333333333333333,\"#9c179e\"],[0.4444444444444444,\"#bd3786\"],[0.5555555555555556,\"#d8576b\"],[0.6666666666666666,\"#ed7953\"],[0.7777777777777778,\"#fb9f3a\"],[0.8888888888888888,\"#fdca26\"],[1.0,\"#f0f921\"]]}],\"choropleth\":[{\"type\":\"choropleth\",\"colorbar\":{\"outlinewidth\":0,\"ticks\":\"\"}}],\"histogram2d\":[{\"type\":\"histogram2d\",\"colorbar\":{\"outlinewidth\":0,\"ticks\":\"\"},\"colorscale\":[[0.0,\"#0d0887\"],[0.1111111111111111,\"#46039f\"],[0.2222222222222222,\"#7201a8\"],[0.3333333333333333,\"#9c179e\"],[0.4444444444444444,\"#bd3786\"],[0.5555555555555556,\"#d8576b\"],[0.6666666666666666,\"#ed7953\"],[0.7777777777777778,\"#fb9f3a\"],[0.8888888888888888,\"#fdca26\"],[1.0,\"#f0f921\"]]}],\"heatmap\":[{\"type\":\"heatmap\",\"colorbar\":{\"outlinewidth\":0,\"ticks\":\"\"},\"colorscale\":[[0.0,\"#0d0887\"],[0.1111111111111111,\"#46039f\"],[0.2222222222222222,\"#7201a8\"],[0.3333333333333333,\"#9c179e\"],[0.4444444444444444,\"#bd3786\"],[0.5555555555555556,\"#d8576b\"],[0.6666666666666666,\"#ed7953\"],[0.7777777777777778,\"#fb9f3a\"],[0.8888888888888888,\"#fdca26\"],[1.0,\"#f0f921\"]]}],\"heatmapgl\":[{\"type\":\"heatmapgl\",\"colorbar\":{\"outlinewidth\":0,\"ticks\":\"\"},\"colorscale\":[[0.0,\"#0d0887\"],[0.1111111111111111,\"#46039f\"],[0.2222222222222222,\"#7201a8\"],[0.3333333333333333,\"#9c179e\"],[0.4444444444444444,\"#bd3786\"],[0.5555555555555556,\"#d8576b\"],[0.6666666666666666,\"#ed7953\"],[0.7777777777777778,\"#fb9f3a\"],[0.8888888888888888,\"#fdca26\"],[1.0,\"#f0f921\"]]}],\"contourcarpet\":[{\"type\":\"contourcarpet\",\"colorbar\":{\"outlinewidth\":0,\"ticks\":\"\"}}],\"contour\":[{\"type\":\"contour\",\"colorbar\":{\"outlinewidth\":0,\"ticks\":\"\"},\"colorscale\":[[0.0,\"#0d0887\"],[0.1111111111111111,\"#46039f\"],[0.2222222222222222,\"#7201a8\"],[0.3333333333333333,\"#9c179e\"],[0.4444444444444444,\"#bd3786\"],[0.5555555555555556,\"#d8576b\"],[0.6666666666666666,\"#ed7953\"],[0.7777777777777778,\"#fb9f3a\"],[0.8888888888888888,\"#fdca26\"],[1.0,\"#f0f921\"]]}],\"surface\":[{\"type\":\"surface\",\"colorbar\":{\"outlinewidth\":0,\"ticks\":\"\"},\"colorscale\":[[0.0,\"#0d0887\"],[0.1111111111111111,\"#46039f\"],[0.2222222222222222,\"#7201a8\"],[0.3333333333333333,\"#9c179e\"],[0.4444444444444444,\"#bd3786\"],[0.5555555555555556,\"#d8576b\"],[0.6666666666666666,\"#ed7953\"],[0.7777777777777778,\"#fb9f3a\"],[0.8888888888888888,\"#fdca26\"],[1.0,\"#f0f921\"]]}],\"mesh3d\":[{\"type\":\"mesh3d\",\"colorbar\":{\"outlinewidth\":0,\"ticks\":\"\"}}],\"scatter\":[{\"fillpattern\":{\"fillmode\":\"overlay\",\"size\":10,\"solidity\":0.2},\"type\":\"scatter\"}],\"parcoords\":[{\"type\":\"parcoords\",\"line\":{\"colorbar\":{\"outlinewidth\":0,\"ticks\":\"\"}}}],\"scatterpolargl\":[{\"type\":\"scatterpolargl\",\"marker\":{\"colorbar\":{\"outlinewidth\":0,\"ticks\":\"\"}}}],\"bar\":[{\"error_x\":{\"color\":\"#2a3f5f\"},\"error_y\":{\"color\":\"#2a3f5f\"},\"marker\":{\"line\":{\"color\":\"#E5ECF6\",\"width\":0.5},\"pattern\":{\"fillmode\":\"overlay\",\"size\":10,\"solidity\":0.2}},\"type\":\"bar\"}],\"scattergeo\":[{\"type\":\"scattergeo\",\"marker\":{\"colorbar\":{\"outlinewidth\":0,\"ticks\":\"\"}}}],\"scatterpolar\":[{\"type\":\"scatterpolar\",\"marker\":{\"colorbar\":{\"outlinewidth\":0,\"ticks\":\"\"}}}],\"histogram\":[{\"marker\":{\"pattern\":{\"fillmode\":\"overlay\",\"size\":10,\"solidity\":0.2}},\"type\":\"histogram\"}],\"scattergl\":[{\"type\":\"scattergl\",\"marker\":{\"colorbar\":{\"outlinewidth\":0,\"ticks\":\"\"}}}],\"scatter3d\":[{\"type\":\"scatter3d\",\"line\":{\"colorbar\":{\"outlinewidth\":0,\"ticks\":\"\"}},\"marker\":{\"colorbar\":{\"outlinewidth\":0,\"ticks\":\"\"}}}],\"scattermapbox\":[{\"type\":\"scattermapbox\",\"marker\":{\"colorbar\":{\"outlinewidth\":0,\"ticks\":\"\"}}}],\"scatterternary\":[{\"type\":\"scatterternary\",\"marker\":{\"colorbar\":{\"outlinewidth\":0,\"ticks\":\"\"}}}],\"scattercarpet\":[{\"type\":\"scattercarpet\",\"marker\":{\"colorbar\":{\"outlinewidth\":0,\"ticks\":\"\"}}}],\"carpet\":[{\"aaxis\":{\"endlinecolor\":\"#2a3f5f\",\"gridcolor\":\"white\",\"linecolor\":\"white\",\"minorgridcolor\":\"white\",\"startlinecolor\":\"#2a3f5f\"},\"baxis\":{\"endlinecolor\":\"#2a3f5f\",\"gridcolor\":\"white\",\"linecolor\":\"white\",\"minorgridcolor\":\"white\",\"startlinecolor\":\"#2a3f5f\"},\"type\":\"carpet\"}],\"table\":[{\"cells\":{\"fill\":{\"color\":\"#EBF0F8\"},\"line\":{\"color\":\"white\"}},\"header\":{\"fill\":{\"color\":\"#C8D4E3\"},\"line\":{\"color\":\"white\"}},\"type\":\"table\"}],\"barpolar\":[{\"marker\":{\"line\":{\"color\":\"#E5ECF6\",\"width\":0.5},\"pattern\":{\"fillmode\":\"overlay\",\"size\":10,\"solidity\":0.2}},\"type\":\"barpolar\"}],\"pie\":[{\"automargin\":true,\"type\":\"pie\"}]},\"layout\":{\"autotypenumbers\":\"strict\",\"colorway\":[\"#636efa\",\"#EF553B\",\"#00cc96\",\"#ab63fa\",\"#FFA15A\",\"#19d3f3\",\"#FF6692\",\"#B6E880\",\"#FF97FF\",\"#FECB52\"],\"font\":{\"color\":\"#2a3f5f\"},\"hovermode\":\"closest\",\"hoverlabel\":{\"align\":\"left\"},\"paper_bgcolor\":\"white\",\"plot_bgcolor\":\"#E5ECF6\",\"polar\":{\"bgcolor\":\"#E5ECF6\",\"angularaxis\":{\"gridcolor\":\"white\",\"linecolor\":\"white\",\"ticks\":\"\"},\"radialaxis\":{\"gridcolor\":\"white\",\"linecolor\":\"white\",\"ticks\":\"\"}},\"ternary\":{\"bgcolor\":\"#E5ECF6\",\"aaxis\":{\"gridcolor\":\"white\",\"linecolor\":\"white\",\"ticks\":\"\"},\"baxis\":{\"gridcolor\":\"white\",\"linecolor\":\"white\",\"ticks\":\"\"},\"caxis\":{\"gridcolor\":\"white\",\"linecolor\":\"white\",\"ticks\":\"\"}},\"coloraxis\":{\"colorbar\":{\"outlinewidth\":0,\"ticks\":\"\"}},\"colorscale\":{\"sequential\":[[0.0,\"#0d0887\"],[0.1111111111111111,\"#46039f\"],[0.2222222222222222,\"#7201a8\"],[0.3333333333333333,\"#9c179e\"],[0.4444444444444444,\"#bd3786\"],[0.5555555555555556,\"#d8576b\"],[0.6666666666666666,\"#ed7953\"],[0.7777777777777778,\"#fb9f3a\"],[0.8888888888888888,\"#fdca26\"],[1.0,\"#f0f921\"]],\"sequentialminus\":[[0.0,\"#0d0887\"],[0.1111111111111111,\"#46039f\"],[0.2222222222222222,\"#7201a8\"],[0.3333333333333333,\"#9c179e\"],[0.4444444444444444,\"#bd3786\"],[0.5555555555555556,\"#d8576b\"],[0.6666666666666666,\"#ed7953\"],[0.7777777777777778,\"#fb9f3a\"],[0.8888888888888888,\"#fdca26\"],[1.0,\"#f0f921\"]],\"diverging\":[[0,\"#8e0152\"],[0.1,\"#c51b7d\"],[0.2,\"#de77ae\"],[0.3,\"#f1b6da\"],[0.4,\"#fde0ef\"],[0.5,\"#f7f7f7\"],[0.6,\"#e6f5d0\"],[0.7,\"#b8e186\"],[0.8,\"#7fbc41\"],[0.9,\"#4d9221\"],[1,\"#276419\"]]},\"xaxis\":{\"gridcolor\":\"white\",\"linecolor\":\"white\",\"ticks\":\"\",\"title\":{\"standoff\":15},\"zerolinecolor\":\"white\",\"automargin\":true,\"zerolinewidth\":2},\"yaxis\":{\"gridcolor\":\"white\",\"linecolor\":\"white\",\"ticks\":\"\",\"title\":{\"standoff\":15},\"zerolinecolor\":\"white\",\"automargin\":true,\"zerolinewidth\":2},\"scene\":{\"xaxis\":{\"backgroundcolor\":\"#E5ECF6\",\"gridcolor\":\"white\",\"linecolor\":\"white\",\"showbackground\":true,\"ticks\":\"\",\"zerolinecolor\":\"white\",\"gridwidth\":2},\"yaxis\":{\"backgroundcolor\":\"#E5ECF6\",\"gridcolor\":\"white\",\"linecolor\":\"white\",\"showbackground\":true,\"ticks\":\"\",\"zerolinecolor\":\"white\",\"gridwidth\":2},\"zaxis\":{\"backgroundcolor\":\"#E5ECF6\",\"gridcolor\":\"white\",\"linecolor\":\"white\",\"showbackground\":true,\"ticks\":\"\",\"zerolinecolor\":\"white\",\"gridwidth\":2}},\"shapedefaults\":{\"line\":{\"color\":\"#2a3f5f\"}},\"annotationdefaults\":{\"arrowcolor\":\"#2a3f5f\",\"arrowhead\":0,\"arrowwidth\":1},\"geo\":{\"bgcolor\":\"white\",\"landcolor\":\"#E5ECF6\",\"subunitcolor\":\"white\",\"showland\":true,\"showlakes\":true,\"lakecolor\":\"white\"},\"title\":{\"x\":0.05},\"mapbox\":{\"style\":\"light\"}}},\"coloraxis\":{\"colorscale\":[[0.0,\"rgb(0,0,255)\"],[1.0,\"rgb(255,0,0)\"]],\"showscale\":true,\"colorbar\":{\"title\":{\"text\":\"Feature Value\",\"side\":\"right\"},\"showticklabels\":false},\"cmin\":-1,\"cmax\":2},\"plot_bgcolor\":\"white\",\"autosize\":false,\"width\":800,\"height\":800,\"xaxis\":{\"title\":{\"text\":\"Integrated Gradient\"},\"zeroline\":true,\"zerolinecolor\":\"black\"},\"yaxis\":{\"zeroline\":true,\"zerolinecolor\":\"black\",\"mirror\":true,\"ticks\":\"outside\",\"showline\":true,\"linecolor\":\"black\",\"gridcolor\":\"lightgrey\",\"tickvals\":[1,2,3,4,5,6,7,8,9,10,11,12,13,14,15,16,17,18,19,20,21,22,23],\"ticktext\":[\"OtherTx Number\",\"OtherTx\",\"RadTx Number\",\"RadTx\",\"MCV Result\",\"Albumin Electrophoresis Result\",\"MCHC Result\",\"Chloride Result(mmol\\u002fL)\",\"Serum Electrophoresis Beta Result\",\"Serum Electrophoresis Alpha 2 Result\",\"Nucleated RBC Result\",\"Total Serum Protein Result\",\"Albumin Result(gm\\u002fdL)\",\"LDH Result(U\\u002fL)\",\"ImmunoTx Number\",\"total CO2 Result\",\"BUN Result(mg\\u002fdL)\",\"Serum Electrophoresis Gamma Result\",\"RelTime(Days)\",\"NT Pro BNP (B-Type Natriuretic Peptide)\",\"Monocyte Result\",\"HCT Result\",\"Survival (in months)\"]},\"showlegend\":false},                        {\"responsive\": true}                    ).then(function(){\n",
       "                            \n",
       "var gd = document.getElementById('bf3b34e7-f105-4821-b6d0-b40f8637a7e2');\n",
       "var x = new MutationObserver(function (mutations, observer) {{\n",
       "        var display = window.getComputedStyle(gd).display;\n",
       "        if (!display || display === 'none') {{\n",
       "            console.log([gd, 'removed!']);\n",
       "            Plotly.purge(gd);\n",
       "            observer.disconnect();\n",
       "        }}\n",
       "}});\n",
       "\n",
       "// Listen for the removal of the full notebook cells\n",
       "var notebookContainer = gd.closest('#notebook-container');\n",
       "if (notebookContainer) {{\n",
       "    x.observe(notebookContainer, {childList: true});\n",
       "}}\n",
       "\n",
       "// Listen for the clearing of the current output cell\n",
       "var outputEl = gd.closest('.output');\n",
       "if (outputEl) {{\n",
       "    x.observe(outputEl, {childList: true});\n",
       "}}\n",
       "\n",
       "                        })                };                });            </script>        </div>"
      ]
     },
     "metadata": {},
     "output_type": "display_data"
    }
   ],
   "source": [
    "import plotly.graph_objects as go\n",
    "import plotly.express as px\n",
    "import numpy as np\n",
    "\n",
    "features = svm_set_ranks[selected_run].features\n",
    "df_X_test = pd.DataFrame(X_test[:,features],columns = IGtable.columns)\n",
    "N = len(IGtable)\n",
    "\n",
    "fig = go.Figure()\n",
    "fig.update_layout(\n",
    "    plot_bgcolor='white',\n",
    "    autosize=False,\n",
    "    width=800,\n",
    "    height=800,\n",
    "    coloraxis = {'colorscale':'Bluered'},\n",
    "    xaxis_title = \"Integrated Gradient\",\n",
    ")\n",
    "\n",
    "fig.update_xaxes(\n",
    "    zeroline=True,\n",
    "    zerolinecolor=\"black\",\n",
    "    )\n",
    "    \n",
    "fig.update_yaxes(\n",
    "    zeroline=True,\n",
    "    zerolinecolor=\"black\",\n",
    "    mirror=True,\n",
    "    ticks='outside',\n",
    "    showline=True,\n",
    "    linecolor='black',\n",
    "    gridcolor='lightgrey'\n",
    ")\n",
    "\n",
    "feature_order = np.argsort(np.sum(abs(IG),axis=0))\n",
    "\n",
    "y_val = 1\n",
    "for f in feature_order:\n",
    "    fig.add_trace(go.Scatter(\n",
    "        x = IGtable.iloc[:,f], \n",
    "        y = y_val + np.random.rand(N)*0.5 - 0.25,\n",
    "        mode = 'markers',\n",
    "        marker = dict(size=9,\n",
    "                      color = df_X_test.iloc[:,f],\n",
    "                      coloraxis = \"coloraxis\",\n",
    "                     ),\n",
    "        name=IGtable.columns[f],\n",
    "    ))\n",
    "    y_val += 1\n",
    "\n",
    "\n",
    "fig.update_layout(showlegend=False, coloraxis_showscale=True)\n",
    "fig.update_coloraxes(colorbar_showticklabels=False,\n",
    "                    colorbar_title=dict(text=\"Feature Value\",side = \"right\"),\n",
    "                    cmin = -1, cmax = 2)\n",
    "fig.update_yaxes(tickvals=[i for i in range(1,IGtable.shape[1]+1)], ticktext=IGtable.columns[feature_order])\n",
    "fig.show() \n",
    "\n",
    "# #saving figure\n",
    "# figCommon = fileName_common + str(selected_run) + \"_attribution\"\n",
    "# figPath = outputFiguresPath(fileName_header=fileName_header, fileName_mid= figCommon, fileName_suff= fileName_suffix, parent_dir= figDirectory, folderName= figFolder)\n",
    "# # plt.tight_layout()\n",
    "# fig.savefig(figPath, bbox_inches = 'tight')"
   ]
  },
  {
   "cell_type": "code",
   "execution_count": null,
   "metadata": {},
   "outputs": [],
   "source": [
    "import plotly.graph_objects as go\n",
    "import plotly.io as pio\n",
    "import plotly.express as px\n",
    "import numpy as np\n",
    "\n",
    "features = svm_set_ranks[selected_run].features\n",
    "df_X_all = pd.DataFrame(X_all[:,features],columns = IGtable.columns)\n",
    "N = len(IGtable)\n",
    "\n",
    "fig = go.Figure()\n",
    "fig.update_layout(\n",
    "    plot_bgcolor='white',\n",
    "    autosize=False,\n",
    "    width=800,\n",
    "    height=800,\n",
    "    coloraxis = {'colorscale':'Bluered'},\n",
    "    xaxis_title = \"Integrated Gradient\",\n",
    ")\n",
    "\n",
    "fig.update_xaxes(\n",
    "    zeroline=True,\n",
    "    zerolinecolor=\"black\",\n",
    "    )\n",
    "    \n",
    "fig.update_yaxes(\n",
    "    zeroline=True,\n",
    "    zerolinecolor=\"black\",\n",
    "    mirror=True,\n",
    "    ticks='outside',\n",
    "    showline=True,\n",
    "    linecolor='black',\n",
    "    gridcolor='lightgrey'\n",
    ")\n",
    "\n",
    "feature_order = np.argsort(np.sum(abs(IG),axis=0))\n",
    "\n",
    "y_val = 1\n",
    "for f in feature_order:\n",
    "    fig.add_trace(go.Scatter(\n",
    "        x = IGtable.iloc[:,f], \n",
    "        y = y_val + np.random.rand(N)*0.5 - 0.25,\n",
    "        mode = 'markers',\n",
    "        marker = dict(size=9,\n",
    "                      color = df_X_all.iloc[:,f],\n",
    "                      coloraxis = \"coloraxis\",\n",
    "                     ),\n",
    "        name=IGtable.columns[f],\n",
    "    ))\n",
    "    y_val += 1\n",
    "\n",
    "\n",
    "fig.update_layout(showlegend=False, coloraxis_showscale=True)\n",
    "fig.update_coloraxes(colorbar_showticklabels=False,\n",
    "                    colorbar_title=dict(text=\"Feature Value\",side = \"right\"),\n",
    "                    cmin = -1, cmax = 2)\n",
    "fig.update_yaxes(tickvals=[i for i in range(1,IGtable.shape[1]+1)], ticktext=IGtable.columns[feature_order])\n",
    "fig.show() \n",
    "\n",
    "#saving figure\n",
    "figCommon = fileName_common + str(rank_weights[selected_run]) + \"_Xall_attribution\"\n",
    "figPath = outputFiguresPath(fileName_header=fileName_header, fileName_mid= figCommon, fileName_suff= fileName_suffix, parent_dir= figDirectory, folderName= figFolder)\n",
    "# plt.tight_layout()\n",
    "#fig.fig.savefig(figPath, bbox_inches = 'tight')\n",
    "#pio.write_image(fig, figPath)\n",
    "#fig.show()"
   ]
  },
  {
   "cell_type": "markdown",
   "metadata": {},
   "source": [
    "## 2x2"
   ]
  },
  {
   "cell_type": "code",
   "execution_count": null,
   "metadata": {
    "tags": []
   },
   "outputs": [
    {
     "ename": "KeyError",
     "evalue": "'Texture worst'",
     "output_type": "error",
     "traceback": [
      "\u001b[0;31m---------------------------------------------------------------------------\u001b[0m",
      "\u001b[0;31mKeyError\u001b[0m                                  Traceback (most recent call last)",
      "File \u001b[0;32m/blue/ferrallm/mcremer/.conda/envs/mcremerConda_2024-07-15_v1/lib/python3.12/site-packages/pandas/core/indexes/base.py:3805\u001b[0m, in \u001b[0;36mIndex.get_loc\u001b[0;34m(self, key)\u001b[0m\n\u001b[1;32m   3804\u001b[0m \u001b[38;5;28;01mtry\u001b[39;00m:\n\u001b[0;32m-> 3805\u001b[0m     \u001b[38;5;28;01mreturn\u001b[39;00m \u001b[38;5;28;43mself\u001b[39;49m\u001b[38;5;241;43m.\u001b[39;49m\u001b[43m_engine\u001b[49m\u001b[38;5;241;43m.\u001b[39;49m\u001b[43mget_loc\u001b[49m\u001b[43m(\u001b[49m\u001b[43mcasted_key\u001b[49m\u001b[43m)\u001b[49m\n\u001b[1;32m   3806\u001b[0m \u001b[38;5;28;01mexcept\u001b[39;00m \u001b[38;5;167;01mKeyError\u001b[39;00m \u001b[38;5;28;01mas\u001b[39;00m err:\n",
      "File \u001b[0;32mindex.pyx:167\u001b[0m, in \u001b[0;36mpandas._libs.index.IndexEngine.get_loc\u001b[0;34m()\u001b[0m\n",
      "File \u001b[0;32mindex.pyx:196\u001b[0m, in \u001b[0;36mpandas._libs.index.IndexEngine.get_loc\u001b[0;34m()\u001b[0m\n",
      "File \u001b[0;32mpandas/_libs/hashtable_class_helper.pxi:7081\u001b[0m, in \u001b[0;36mpandas._libs.hashtable.PyObjectHashTable.get_item\u001b[0;34m()\u001b[0m\n",
      "File \u001b[0;32mpandas/_libs/hashtable_class_helper.pxi:7089\u001b[0m, in \u001b[0;36mpandas._libs.hashtable.PyObjectHashTable.get_item\u001b[0;34m()\u001b[0m\n",
      "\u001b[0;31mKeyError\u001b[0m: 'Texture worst'",
      "\nThe above exception was the direct cause of the following exception:\n",
      "\u001b[0;31mKeyError\u001b[0m                                  Traceback (most recent call last)",
      "Cell \u001b[0;32mIn[64], line 4\u001b[0m\n\u001b[1;32m      1\u001b[0m feat_1 \u001b[38;5;241m=\u001b[39m \u001b[38;5;124m\"\u001b[39m\u001b[38;5;124mTexture worst\u001b[39m\u001b[38;5;124m\"\u001b[39m\n\u001b[1;32m      2\u001b[0m feat_2 \u001b[38;5;241m=\u001b[39m \u001b[38;5;124m\"\u001b[39m\u001b[38;5;124mArea SE\u001b[39m\u001b[38;5;124m\"\u001b[39m\n\u001b[0;32m----> 4\u001b[0m fig \u001b[38;5;241m=\u001b[39m px\u001b[38;5;241m.\u001b[39mscatter(x \u001b[38;5;241m=\u001b[39m \u001b[43mdf_X_test\u001b[49m\u001b[43m[\u001b[49m\u001b[43mfeat_1\u001b[49m\u001b[43m]\u001b[49m, y \u001b[38;5;241m=\u001b[39m IGtable[feat_1], color \u001b[38;5;241m=\u001b[39m df_X_test[feat_2])\n\u001b[1;32m      5\u001b[0m fig\u001b[38;5;241m.\u001b[39mupdate_traces(marker\u001b[38;5;241m=\u001b[39m\u001b[38;5;28mdict\u001b[39m(size\u001b[38;5;241m=\u001b[39m\u001b[38;5;241m12\u001b[39m))\n\u001b[1;32m      7\u001b[0m fig\u001b[38;5;241m.\u001b[39mupdate_layout(\n\u001b[1;32m      8\u001b[0m     plot_bgcolor\u001b[38;5;241m=\u001b[39m\u001b[38;5;124m'\u001b[39m\u001b[38;5;124mwhite\u001b[39m\u001b[38;5;124m'\u001b[39m,\n\u001b[1;32m      9\u001b[0m     autosize\u001b[38;5;241m=\u001b[39m\u001b[38;5;28;01mFalse\u001b[39;00m,\n\u001b[0;32m   (...)\u001b[0m\n\u001b[1;32m     14\u001b[0m     yaxis_title \u001b[38;5;241m=\u001b[39m \u001b[38;5;124m\"\u001b[39m\u001b[38;5;124mIntegrated Gradient for \u001b[39m\u001b[38;5;124m\"\u001b[39m \u001b[38;5;241m+\u001b[39m feat_1,\n\u001b[1;32m     15\u001b[0m )\n",
      "File \u001b[0;32m/blue/ferrallm/mcremer/.conda/envs/mcremerConda_2024-07-15_v1/lib/python3.12/site-packages/pandas/core/frame.py:4102\u001b[0m, in \u001b[0;36mDataFrame.__getitem__\u001b[0;34m(self, key)\u001b[0m\n\u001b[1;32m   4100\u001b[0m \u001b[38;5;28;01mif\u001b[39;00m \u001b[38;5;28mself\u001b[39m\u001b[38;5;241m.\u001b[39mcolumns\u001b[38;5;241m.\u001b[39mnlevels \u001b[38;5;241m>\u001b[39m \u001b[38;5;241m1\u001b[39m:\n\u001b[1;32m   4101\u001b[0m     \u001b[38;5;28;01mreturn\u001b[39;00m \u001b[38;5;28mself\u001b[39m\u001b[38;5;241m.\u001b[39m_getitem_multilevel(key)\n\u001b[0;32m-> 4102\u001b[0m indexer \u001b[38;5;241m=\u001b[39m \u001b[38;5;28;43mself\u001b[39;49m\u001b[38;5;241;43m.\u001b[39;49m\u001b[43mcolumns\u001b[49m\u001b[38;5;241;43m.\u001b[39;49m\u001b[43mget_loc\u001b[49m\u001b[43m(\u001b[49m\u001b[43mkey\u001b[49m\u001b[43m)\u001b[49m\n\u001b[1;32m   4103\u001b[0m \u001b[38;5;28;01mif\u001b[39;00m is_integer(indexer):\n\u001b[1;32m   4104\u001b[0m     indexer \u001b[38;5;241m=\u001b[39m [indexer]\n",
      "File \u001b[0;32m/blue/ferrallm/mcremer/.conda/envs/mcremerConda_2024-07-15_v1/lib/python3.12/site-packages/pandas/core/indexes/base.py:3812\u001b[0m, in \u001b[0;36mIndex.get_loc\u001b[0;34m(self, key)\u001b[0m\n\u001b[1;32m   3807\u001b[0m     \u001b[38;5;28;01mif\u001b[39;00m \u001b[38;5;28misinstance\u001b[39m(casted_key, \u001b[38;5;28mslice\u001b[39m) \u001b[38;5;129;01mor\u001b[39;00m (\n\u001b[1;32m   3808\u001b[0m         \u001b[38;5;28misinstance\u001b[39m(casted_key, abc\u001b[38;5;241m.\u001b[39mIterable)\n\u001b[1;32m   3809\u001b[0m         \u001b[38;5;129;01mand\u001b[39;00m \u001b[38;5;28many\u001b[39m(\u001b[38;5;28misinstance\u001b[39m(x, \u001b[38;5;28mslice\u001b[39m) \u001b[38;5;28;01mfor\u001b[39;00m x \u001b[38;5;129;01min\u001b[39;00m casted_key)\n\u001b[1;32m   3810\u001b[0m     ):\n\u001b[1;32m   3811\u001b[0m         \u001b[38;5;28;01mraise\u001b[39;00m InvalidIndexError(key)\n\u001b[0;32m-> 3812\u001b[0m     \u001b[38;5;28;01mraise\u001b[39;00m \u001b[38;5;167;01mKeyError\u001b[39;00m(key) \u001b[38;5;28;01mfrom\u001b[39;00m \u001b[38;5;21;01merr\u001b[39;00m\n\u001b[1;32m   3813\u001b[0m \u001b[38;5;28;01mexcept\u001b[39;00m \u001b[38;5;167;01mTypeError\u001b[39;00m:\n\u001b[1;32m   3814\u001b[0m     \u001b[38;5;66;03m# If we have a listlike key, _check_indexing_error will raise\u001b[39;00m\n\u001b[1;32m   3815\u001b[0m     \u001b[38;5;66;03m#  InvalidIndexError. Otherwise we fall through and re-raise\u001b[39;00m\n\u001b[1;32m   3816\u001b[0m     \u001b[38;5;66;03m#  the TypeError.\u001b[39;00m\n\u001b[1;32m   3817\u001b[0m     \u001b[38;5;28mself\u001b[39m\u001b[38;5;241m.\u001b[39m_check_indexing_error(key)\n",
      "\u001b[0;31mKeyError\u001b[0m: 'Texture worst'"
     ]
    }
   ],
   "source": [
    "feat_1 = list(X.columns[svm_set_ranks[selected_run].features])[0]\n",
    "feat_2 = list(X.columns[svm_set_ranks[selected_run].features])[1]\n",
    "\n",
    "fig = px.scatter(x = df_X_test[feat_1], y = IGtable[feat_1], color = df_X_test[feat_2])\n",
    "fig.update_traces(marker=dict(size=12))\n",
    "\n",
    "fig.update_layout(\n",
    "    plot_bgcolor='white',\n",
    "    autosize=False,\n",
    "    width=800,\n",
    "    height=800,\n",
    "    coloraxis = {'colorscale':'Bluered'},\n",
    "    xaxis_title = feat_1,\n",
    "    yaxis_title = \"Integrated Gradient for \" + feat_1,\n",
    ")\n",
    "\n",
    "fig.update_xaxes(\n",
    "    zeroline=True,\n",
    "    zerolinecolor='lightgrey',\n",
    "    mirror=True,\n",
    "    ticks='outside',\n",
    "    showline=True,\n",
    "    linecolor='black',\n",
    "    gridcolor='lightgrey'\n",
    "    )\n",
    "    \n",
    "fig.update_yaxes(\n",
    "    zeroline=True,\n",
    "    zerolinecolor='lightgrey',\n",
    "    mirror=True,\n",
    "    ticks='outside',\n",
    "    showline=True,\n",
    "    linecolor='black',\n",
    "    gridcolor='lightgrey'\n",
    ")\n",
    "\n",
    "fig.update_coloraxes(colorbar_showticklabels=False,\n",
    "                    colorbar_title=dict(text=feat_2,side = \"right\"),\n",
    "                    cmin = -1, cmax = 2)\n",
    "\n",
    "fig.show()\n",
    "\n",
    "figCommon = fileName_common + str(selected_run) + \"_2x2\"\n",
    "figPath = outputFiguresPath(fileName_header=fileName_header, fileName_mid= figCommon, fileName_suff= fileName_suffix, parent_dir= figDirectory, folderName= figFolder)\n",
    "# plt.tight_layout()\n",
    "# fig.savefig(figPath, bbox_inches = 'tight')\n",
    "fig.show()"
   ]
  },
  {
   "cell_type": "code",
   "execution_count": null,
   "metadata": {},
   "outputs": [],
   "source": [
    "feat_1 = list(X.columns[svm_set_ranks[selected_run].features])[0]\n",
    "feat_2 = list(X.columns[svm_set_ranks[selected_run].features])[1]\n",
    "\n",
    "fig = px.scatter(x = df_X_all[feat_1], y = IGtable[feat_1], color = df_X_all[feat_2])\n",
    "fig.update_traces(marker=dict(size=12))\n",
    "\n",
    "fig.update_layout(\n",
    "    plot_bgcolor='white',\n",
    "    autosize=False,\n",
    "    width=800,\n",
    "    height=800,\n",
    "    coloraxis = {'colorscale':'Bluered'},\n",
    "    xaxis_title = feat_1,\n",
    "    yaxis_title = \"Integrated Gradient for \" + feat_1,\n",
    ")\n",
    "\n",
    "fig.update_xaxes(\n",
    "    zeroline=True,\n",
    "    zerolinecolor='lightgrey',\n",
    "    mirror=True,\n",
    "    ticks='outside',\n",
    "    showline=True,\n",
    "    linecolor='black',\n",
    "    gridcolor='lightgrey'\n",
    "    )\n",
    "    \n",
    "fig.update_yaxes(\n",
    "    zeroline=True,\n",
    "    zerolinecolor='lightgrey',\n",
    "    mirror=True,\n",
    "    ticks='outside',\n",
    "    showline=True,\n",
    "    linecolor='black',\n",
    "    gridcolor='lightgrey'\n",
    ")\n",
    "\n",
    "fig.update_coloraxes(colorbar_showticklabels=False,\n",
    "                    colorbar_title=dict(text=feat_2,side = \"right\"),\n",
    "                    cmin = -1, cmax = 2)\n",
    "\n",
    "fig.show()\n",
    "\n",
    "figCommon = fileName_common + str(selected_run) + \"_Xall_2x2\"\n",
    "figPath = outputFiguresPath(fileName_header=fileName_header, fileName_mid= figCommon, fileName_suff= fileName_suffix, parent_dir= figDirectory, folderName= figFolder)\n",
    "# plt.tight_layout()\n",
    "# fig.savefig(figPath, bbox_inches = 'tight')\n",
    "fig.show()"
   ]
  }
 ],
 "metadata": {
  "kernelspec": {
   "display_name": "mcremerConda_2024-07-15_v1",
   "language": "python",
   "name": "mcremerconda_2024-07-15_v1"
  },
  "language_info": {
   "codemirror_mode": {
    "name": "ipython",
    "version": 3
   },
   "file_extension": ".py",
   "mimetype": "text/x-python",
   "name": "python",
   "nbconvert_exporter": "python",
   "pygments_lexer": "ipython3",
   "version": "3.12.4"
  }
 },
 "nbformat": 4,
 "nbformat_minor": 4
}
