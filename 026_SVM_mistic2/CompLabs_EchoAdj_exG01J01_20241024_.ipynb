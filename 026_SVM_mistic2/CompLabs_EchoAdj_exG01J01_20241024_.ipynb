{
 "cells": [
  {
   "cell_type": "code",
   "execution_count": 9,
   "metadata": {},
   "outputs": [],
   "source": [
    "# These two lines are needed if patientFunctions.py is not in this folder\n",
    "# import sys\n",
    "# sys.path.insert(0, 'C:/Users/smith/OneDrive/Documents/GitHub/cardiac-amyloidosis/021_classesAndFunctions')\n",
    "\n",
    "# Importing patient class and functions\n",
    "import patientFunctions as ptFn\n",
    "# Importing Libraries\n",
    "import os\n",
    "import pandas as pd\n",
    "import numpy as np\n",
    "import os\n",
    "from sklearn.linear_model import LinearRegression\n",
    "from sklearn.metrics import mean_squared_error, r2_score\n",
    "from scipy.optimize import curve_fit\n"
   ]
  },
  {
   "cell_type": "markdown",
   "metadata": {},
   "source": [
    "# Directory and File Config"
   ]
  },
  {
   "cell_type": "code",
   "execution_count": null,
   "metadata": {},
   "outputs": [],
   "source": [
    "#location of original data\n",
    "starting_directory = os.getcwd()\n",
    "\n",
    "# new_dirrectory = 'C:/Users/maega/Documents/3000 PhD/3300_BEAT Labs/Projects/Cardiac-Amyloidosis-Multiple-Myeloma/012 Processed Data/data-2024-06-05'\n",
    "# # new_dirrectory = '/blue/ferrallm/mcremer/CardiacAmyloidosisMultipleMyeloma/012 Processed Data'\n",
    "\n",
    "machine_directory = 'C:/Users/mcremer' #the C and path to the project folder\n",
    "# machine_directory = 'C:/Users/maega' #when working from home machine\n",
    "storage_directory = 'UFL Dropbox/Maegan Cremer/research-share/Maegan/Projects' #Local, HPG, or dropbox\n",
    "project_directory = 'Cardiac-Amyloidosis-Multiple-Myeloma' #project folder\n",
    "project_lv2_directory = '012 Processed Data/data-2024-06-05' #deeper part of project folder\n",
    "\n",
    "path = os.path.join(machine_directory, storage_directory, \n",
    "                    project_directory, project_lv2_directory)\n",
    "\n",
    "new_dirrectory = path\n",
    "\n",
    "os.chdir(new_dirrectory)"
   ]
  },
  {
   "cell_type": "code",
   "execution_count": null,
   "metadata": {},
   "outputs": [],
   "source": [
    "#updates to directory management\n",
    "machine_directory = 'C:/Users/mcremer' #the C and path to the project folder\n",
    "# machine_directory = 'C:/Users/maega' #when working from home machine\n",
    "storage_directory = 'UFL Dropbox/Maegan Cremer/research-share/Maegan/Projects' #Local, HPG, or dropbox\n",
    "project_directory = 'Cardiac-Amyloidosis-Multiple-Myeloma' #project folder\n",
    "project_lv2_directory = '012 Processed Data' #deeper part of project folder\n",
    "\n",
    "path = os.path.join(machine_directory, storage_directory, \n",
    "                    project_directory, project_lv2_directory)\n",
    "\n",
    "# parent_dir = path\n",
    "outputDir = path"
   ]
  },
  {
   "cell_type": "markdown",
   "metadata": {},
   "source": [
    "### File naming for outputs"
   ]
  },
  {
   "cell_type": "code",
   "execution_count": null,
   "metadata": {},
   "outputs": [],
   "source": [
    "folderNameHeader = \"DFsForSVM\"\n",
    "folderNameCommon = \"_CompLabswoEcho_exG01J01_MDfits\"\n",
    "folderNameSuffix = \"_20241022_v1\"\n",
    "\n",
    "fileNameHeader_1 = \"ALKnownPts\"\n",
    "fileNameHeader_2 = \"ALUnknownPts\"\n",
    "fileNameCommon = \"_CompLabswoEcho_exG01J01_MDfits\"\n",
    "fileNameSuffix = \"_20241022_v1\"\n",
    "\n",
    "folder_data_out = ptFn.makeFolderPathForData(parent_dir=outputDir, folderName_header=folderNameHeader, \n",
    "                                        folderName_common=folderNameCommon, folderName_suffix=folderNameSuffix)\n",
    "# outputToExcel(*, fileName_header=fileNameHeader, fileName_Common= fileNameCommon, \n",
    "#               fileName_suffix= fileNameSuffix, folderName = folder_data_out, sheetName= *)\n",
    "\n",
    "# fig_file_out = outputFiguresPath(fileName_header=fileNameHeader, fileName_mid=**, \n",
    "#                                  fileName_suff= fileNameSuffix, parent_dir=parent_dir, folderName=folder_data_out)\n",
    "\n",
    "folderNameOut = folder_data_out\n",
    "\n",
    "#file name suffix \n",
    "outputSheet_Suffix = fileNameSuffix\n",
    "outputSheet_common = fileNameCommon"
   ]
  },
  {
   "cell_type": "markdown",
   "metadata": {},
   "source": [
    "# Penalty Scores Used Throughout For Missing Data and Low Time Resolution"
   ]
  },
  {
   "cell_type": "markdown",
   "metadata": {},
   "source": [
    "### Length 1 Data"
   ]
  },
  {
   "cell_type": "code",
   "execution_count": null,
   "metadata": {},
   "outputs": [],
   "source": [
    "#filler information for fits of 1 point\n",
    "# one_point_STD = 0\n",
    "one_point_r2 = -1\n",
    "# one_point_residual_error = 0"
   ]
  },
  {
   "cell_type": "markdown",
   "metadata": {},
   "source": [
    "### Length 0 Data"
   ]
  },
  {
   "cell_type": "code",
   "execution_count": null,
   "metadata": {},
   "outputs": [],
   "source": [
    "penalty_coef= np.nan\n",
    "penalty_intercept = np.nan\n",
    "penalty_R2 = np.nan\n",
    "penalty_residual_error = np.nan\n",
    "penalty_fillna = np.nan\n",
    "\n",
    "penalty_echo = -1"
   ]
  },
  {
   "cell_type": "markdown",
   "metadata": {},
   "source": [
    "# List Of Labs To Use For Keywords"
   ]
  },
  {
   "cell_type": "code",
   "execution_count": null,
   "metadata": {},
   "outputs": [],
   "source": [
    "columnsToUse = [\"Ferritin Result(ng/mL)\",\"Troponin-T\",\"NT Pro BNP (B-Type Natriuretic Peptide)\",\"Beta-2-Microglobulin Result\",\n",
    "                \"ALT Result(U/L)\",\"LDH Result(U/L)\",\"Creatinine Result(mg/dL)\",\"Potassium Result(mmol/L)\",\"Glucose Result\",\n",
    "                \"total CO2 Result\",\"Sodium Result(mmol/L)\",\"Calcium Result(mg/dL)\",\"Chloride Result(mmol/L)\",\"BUN Result(mg/dL)\",\n",
    "                \"Platelet Count Result(k/uL)\",\"Hemoglobin Result\",\"MCV Result\",\"MCHC Result\",\"MCH Result(pg)\",\"HCT Result\",\n",
    "                'RBC Result','WBC Result(k/uL)','Albumin Result(gm/dL)','Pct. Mono Result','Pct. Neutrophil Result',\n",
    "                'Neutrophil Result','Monocyte Result','Nucleated RBC Result','Pct. Immature Gran Auto Result','AST Result(U/L)',\n",
    "                'Total Serum Protein Result','Kappa Free Light Chains Result (mg/L)','Serum Electrophoresis Gamma Result','Albumin Electrophoresis Result',\n",
    "                'Serum Electrophoresis Alpha 1 Result','Serum Electrophoresis Alpha 2 Result','Serum Electrophoresis Beta Result']"
   ]
  }
 ],
 "metadata": {
  "kernelspec": {
   "display_name": "BEATcancerLabs_kernel_20241022",
   "language": "python",
   "name": "python3"
  },
  "language_info": {
   "codemirror_mode": {
    "name": "ipython",
    "version": 3
   },
   "file_extension": ".py",
   "mimetype": "text/x-python",
   "name": "python",
   "nbconvert_exporter": "python",
   "pygments_lexer": "ipython3",
   "version": "3.12.4"
  }
 },
 "nbformat": 4,
 "nbformat_minor": 2
}
