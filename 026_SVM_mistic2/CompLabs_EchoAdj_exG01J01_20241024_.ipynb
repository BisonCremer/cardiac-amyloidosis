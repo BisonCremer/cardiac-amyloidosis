{
 "cells": [
  {
   "cell_type": "code",
   "execution_count": 9,
   "metadata": {},
   "outputs": [],
   "source": [
    "# These two lines are needed if patientFunctions.py is not in this folder\n",
    "# import sys\n",
    "# sys.path.insert(0, 'C:/Users/smith/OneDrive/Documents/GitHub/cardiac-amyloidosis/021_classesAndFunctions')\n",
    "\n",
    "# Importing patient class and functions\n",
    "import patientFunctions as ptFn\n",
    "# Importing Libraries\n",
    "import os\n",
    "import pandas as pd\n",
    "import numpy as np\n",
    "import os\n",
    "from sklearn.linear_model import LinearRegression\n",
    "from sklearn.metrics import mean_squared_error, r2_score\n",
    "from scipy.optimize import curve_fit\n"
   ]
  },
  {
   "cell_type": "markdown",
   "metadata": {},
   "source": [
    "# Directory and File Config"
   ]
  },
  {
   "cell_type": "code",
   "execution_count": null,
   "metadata": {},
   "outputs": [],
   "source": [
    "#location of original data\n",
    "starting_directory = os.getcwd()\n",
    "\n",
    "# new_dirrectory = 'C:/Users/maega/Documents/3000 PhD/3300_BEAT Labs/Projects/Cardiac-Amyloidosis-Multiple-Myeloma/012 Processed Data/data-2024-06-05'\n",
    "# # new_dirrectory = '/blue/ferrallm/mcremer/CardiacAmyloidosisMultipleMyeloma/012 Processed Data'\n",
    "\n",
    "machine_directory = 'C:/Users/mcremer' #the C and path to the project folder\n",
    "# machine_directory = 'C:/Users/maega' #when working from home machine\n",
    "storage_directory = 'UFL Dropbox/Maegan Cremer/research-share/Maegan/Projects' #Local, HPG, or dropbox\n",
    "project_directory = 'Cardiac-Amyloidosis-Multiple-Myeloma' #project folder\n",
    "project_lv2_directory = '012 Processed Data/data-2024-06-05' #deeper part of project folder\n",
    "\n",
    "path = os.path.join(machine_directory, storage_directory, \n",
    "                    project_directory, project_lv2_directory)\n",
    "\n",
    "new_dirrectory = path\n",
    "\n",
    "os.chdir(new_dirrectory)"
   ]
  },
  {
   "cell_type": "code",
   "execution_count": null,
   "metadata": {},
   "outputs": [],
   "source": [
    "#updates to directory management\n",
    "machine_directory = 'C:/Users/mcremer' #the C and path to the project folder\n",
    "# machine_directory = 'C:/Users/maega' #when working from home machine\n",
    "storage_directory = 'UFL Dropbox/Maegan Cremer/research-share/Maegan/Projects' #Local, HPG, or dropbox\n",
    "project_directory = 'Cardiac-Amyloidosis-Multiple-Myeloma' #project folder\n",
    "project_lv2_directory = '012 Processed Data' #deeper part of project folder\n",
    "\n",
    "path = os.path.join(machine_directory, storage_directory, \n",
    "                    project_directory, project_lv2_directory)\n",
    "\n",
    "# parent_dir = path\n",
    "outputDir = path"
   ]
  },
  {
   "cell_type": "markdown",
   "metadata": {},
   "source": [
    "### File naming for outputs"
   ]
  },
  {
   "cell_type": "code",
   "execution_count": null,
   "metadata": {},
   "outputs": [],
   "source": [
    "folderNameHeader = \"DFsForSVM\"\n",
    "folderNameCommon = \"_CompLabswoEcho_exG01J01_MDfits\"\n",
    "folderNameSuffix = \"_20241022_v1\"\n",
    "\n",
    "fileNameHeader_1 = \"ALKnownPts\"\n",
    "fileNameHeader_2 = \"ALUnknownPts\"\n",
    "fileNameCommon = \"_CompLabswoEcho_exG01J01_MDfits\"\n",
    "fileNameSuffix = \"_20241022_v1\"\n",
    "\n",
    "folder_data_out = ptFn.makeFolderPathForData(parent_dir=outputDir, folderName_header=folderNameHeader, \n",
    "                                        folderName_common=folderNameCommon, folderName_suffix=folderNameSuffix)\n",
    "# outputToExcel(*, fileName_header=fileNameHeader, fileName_Common= fileNameCommon, \n",
    "#               fileName_suffix= fileNameSuffix, folderName = folder_data_out, sheetName= *)\n",
    "\n",
    "# fig_file_out = outputFiguresPath(fileName_header=fileNameHeader, fileName_mid=**, \n",
    "#                                  fileName_suff= fileNameSuffix, parent_dir=parent_dir, folderName=folder_data_out)\n",
    "\n",
    "folderNameOut = folder_data_out\n",
    "\n",
    "#file name suffix \n",
    "outputSheet_Suffix = fileNameSuffix\n",
    "outputSheet_common = fileNameCommon"
   ]
  },
  {
   "cell_type": "markdown",
   "metadata": {},
   "source": [
    "# Penalty Scores Used Throughout For Missing Data and Low Time Resolution"
   ]
  },
  {
   "cell_type": "markdown",
   "metadata": {},
   "source": [
    "### Length 1 Data"
   ]
  },
  {
   "cell_type": "code",
   "execution_count": null,
   "metadata": {},
   "outputs": [],
   "source": [
    "#filler information for fits of 1 point\n",
    "# one_point_STD = 0\n",
    "one_point_r2 = -1\n",
    "# one_point_residual_error = 0"
   ]
  },
  {
   "cell_type": "markdown",
   "metadata": {},
   "source": [
    "### Length 0 Data"
   ]
  },
  {
   "cell_type": "code",
   "execution_count": null,
   "metadata": {},
   "outputs": [],
   "source": [
    "penalty_coef= np.nan\n",
    "penalty_intercept = np.nan\n",
    "penalty_R2 = np.nan\n",
    "penalty_residual_error = np.nan\n",
    "penalty_fillna = np.nan\n",
    "\n",
    "penalty_echo = -1"
   ]
  },
  {
   "cell_type": "markdown",
   "metadata": {},
   "source": [
    "# Importing Data from Patient"
   ]
  },
  {
   "cell_type": "code",
   "execution_count": null,
   "metadata": {},
   "outputs": [],
   "source": [
    "#importing patient data as dictionaries of dataframes\n",
    "\n",
    "#build a dictionary of patients and their values \n",
    "ptFiles = GetListofPTfiles(new_dirrectory, '.xlsx', 'data')\n",
    "\n",
    "patientDictAmyloid = {}\n",
    "patientDictSurvival = {}\n",
    "patientDictLabs = {}\n",
    "patientDictEcho = {}\n",
    "patientDictNotes = {}\n",
    "patientDictDx = {}\n",
    "patientDictVitalStatus = {}\n",
    "patientDictSex = {}\n",
    "patientDictAge = {}\n",
    "patientDictChemo = {}\n",
    "patientDictImmuno = {}\n",
    "patientDictHeme = {}\n",
    "patientDictRad = {}\n",
    "patientDictOther = {}\n",
    "\n",
    "#loop through the listOfPatients \n",
    "for file in ptFiles: \n",
    "    pt = patient(new_dirrectory, file, 4)\n",
    "    patientDictAmyloid[pt.ptID] = pt.amyloid_status\n",
    "    patientDictSurvival[pt.ptID] = pt.survival\n",
    "    patientDictLabs[pt.ptID] = pt.labsData\n",
    "    patientDictEcho[pt.ptID] = pt.echoData\n",
    "    patientDictNotes[pt.ptID] = pt.MDnotes\n",
    "    patientDictDx[pt.ptID] = pt.dx\n",
    "    patientDictVitalStatus[pt.ptID] = pt.vitalStatus\n",
    "    patientDictSex[pt.ptID] = pt.sex\n",
    "    patientDictAge[pt.ptID] = pt.ageDx\n",
    "    patientDictChemo[pt.ptID] = pt.ChemoTx\n",
    "    patientDictImmuno[pt.ptID] = pt.ImmunoTx\n",
    "    patientDictHeme[pt.ptID] = pt.HemeTx\n",
    "    patientDictRad[pt.ptID] = pt.RadTx\n",
    "    patientDictOther[pt.ptID] = pt.OtherTx"
   ]
  },
  {
   "cell_type": "markdown",
   "metadata": {},
   "source": [
    "# List of Patients by Amyloid Status"
   ]
  },
  {
   "cell_type": "code",
   "execution_count": null,
   "metadata": {},
   "outputs": [],
   "source": [
    "#list of patients by amyloid status \n",
    "\n",
    "listPositive = []\n",
    "listNegative = []\n",
    "listOther = []\n",
    "\n",
    "ptFn.getListSortedByAmyloid(patientDictAmyloid, listPositive= listPositive,\n",
    "                       listNegative=listNegative, listOther=listOther)\n",
    "\n",
    "list_pts_remove = [\"K-01\", \"G-01\", \"J-01\", \"L-02\"]\n",
    "for pt in list_pts_remove:\n",
    "    if pt in listPositive:\n",
    "        listPositive.remove(pt)\n",
    "    if pt in listNegative:\n",
    "        listNegative.remove(pt)\n",
    "    if pt in listOther:\n",
    "        listOther.remove(pt)\n",
    "\n",
    "#first make a copy of the list\n",
    "listALKnown = listPositive.copy()\n",
    "#add the negative patients to the list of positive patients\n",
    "listALKnown.extend(listNegative) "
   ]
  },
  {
   "cell_type": "code",
   "execution_count": null,
   "metadata": {},
   "outputs": [],
   "source": [
    "#length of groups \n",
    "print(\"Length of positive: \", len(listPositive))\n",
    "print(\"Length of negative: \", len(listNegative))\n",
    "print(\"List of unknown: \", len(listOther))"
   ]
  },
  {
   "cell_type": "markdown",
   "metadata": {},
   "source": [
    "# Patient Demographic Information"
   ]
  },
  {
   "cell_type": "code",
   "execution_count": null,
   "metadata": {},
   "outputs": [],
   "source": [
    "dict_dx_strs = {\n",
    "    \"MGUS\" : \"MGUS\", \n",
    "    \"MM\" : \"MM\", \n",
    "    \"Multiple Myeloma\" : \"MM\",\n",
    "    \"MULTIPLE MYELOMA\" : \"MM\" \n",
    "    #other values will be set to other\n",
    "}\n",
    "\n",
    "dict_AL_codes = {\n",
    "    \"yes\" : \"yes\", \n",
    "    \"no\" : \"no\", \n",
    "    \"unk\" : \"unk\"\n",
    "}\n",
    "\n",
    "dict_sex_strs = {\n",
    "    \"Male\" : \"male\",\n",
    "    \"MALE\": \"male\", \n",
    "    \"Female\" : \"female\", \n",
    "    \"FEMALE\" : \"female\",  \n",
    "}\n",
    "\n",
    "#dictionary of dictionaries to help with unifying data inputs\n",
    "dict_of_uni = {\"AL\": dict_AL_codes, \n",
    "                 \"Dx\": dict_dx_strs, \n",
    "                 \"Sex\": dict_sex_strs}\n",
    "\n",
    "dict_of_data = {\"AL\": patientDictAmyloid, \n",
    "                \"Dx\": patientDictDx, \n",
    "                \"Sex\": patientDictSex}\n",
    "\n",
    "dict_uniform_pt_AL_Dx_sex = {}\n",
    "\n",
    "for ptID in list(patientDictDx.keys()):\n",
    "    listPtValues = []\n",
    "    for key in list(dict_of_uni.keys()):\n",
    "        LocalValue = ''\n",
    "        for code in dict_of_uni[key]:\n",
    "            if code in dict_of_data[key][ptID]:\n",
    "                # print(ptID, \" code: \", code)\n",
    "                LocalValue = dict_of_uni[key][code] \n",
    "        if LocalValue == '': \n",
    "            listPtValues.append(\"other\")\n",
    "        else:\n",
    "             listPtValues.append(LocalValue)\n",
    "    # print(\"patient values: \", listPtValues)\n",
    "    dict_uniform_pt_AL_Dx_sex[ptID] = listPtValues\n",
    "\n",
    "df_all_uniform_AL_dx_sex = pd.DataFrame.from_dict(dict_uniform_pt_AL_Dx_sex, orient='index', columns=[\"Amyloid Status\", \"Dx\", \"Sex\"])\n",
    "\n",
    "# df_all_encoded_AL_dx_sex.columns = [\"Amyloid Status\", \"Dx\", \"Sex\"]"
   ]
  },
  {
   "cell_type": "markdown",
   "metadata": {},
   "source": [
    "# Treatment Information"
   ]
  },
  {
   "cell_type": "code",
   "execution_count": null,
   "metadata": {},
   "outputs": [],
   "source": [
    "#collecting information about treatments patient has recieved\n",
    "\n",
    "#each condition appends 2 numbers\n",
    "#first number is a boolean if the patient has data\n",
    "#the second number is the total number of treatments the patient has had.\n",
    "\n",
    "#list of dictionaries \n",
    "pt_Tx_dict_to_iterate = [patientDictChemo, patientDictImmuno, patientDictHeme, patientDictRad, patientDictOther]\n",
    "\n",
    "dictPt_Tx_Summary = {}\n",
    "\n",
    "for ptID in list(patientDictAge.keys()): \n",
    "    #get the treatment information for that patient\n",
    "    ptTxList = [] \n",
    "    for tx in pt_Tx_dict_to_iterate:\n",
    "        if type(tx[ptID]) != bool: \n",
    "            ptTxList.append(1)\n",
    "            #get the length of the data\n",
    "            numb_txs = len(tx[ptID])\n",
    "            ptTxList.append(numb_txs)\n",
    "        else:\n",
    "            ptTxList.append(0)\n",
    "            ptTxList.append(0)\n",
    "\n",
    "    dictPt_Tx_Summary[ptID] = ptTxList\n",
    "\n",
    "df_all_tx_summary = pd.DataFrame.from_dict(dictPt_Tx_Summary, orient='index')\n",
    "df_all_tx_summary.columns = [\"ChemoTx\", \"ChemoTx Number\", \"ImmunoTx\", \"ImmunoTx Number\", \"HemeTx\", \"HemeTx Number\", \n",
    "\"RadTx\", \"RadTx Number\", \"OtherTx\", \"OtherTx Number\"]"
   ]
  },
  {
   "cell_type": "markdown",
   "metadata": {},
   "source": [
    "# List of Labs to Use for Keywords"
   ]
  },
  {
   "cell_type": "code",
   "execution_count": null,
   "metadata": {},
   "outputs": [],
   "source": [
    "columnsToUse = [\"Ferritin Result(ng/mL)\",\"Troponin-T\",\"NT Pro BNP (B-Type Natriuretic Peptide)\",\"Beta-2-Microglobulin Result\",\n",
    "                \"ALT Result(U/L)\",\"LDH Result(U/L)\",\"Creatinine Result(mg/dL)\",\"Potassium Result(mmol/L)\",\"Glucose Result\",\n",
    "                \"total CO2 Result\",\"Sodium Result(mmol/L)\",\"Calcium Result(mg/dL)\",\"Chloride Result(mmol/L)\",\"BUN Result(mg/dL)\",\n",
    "                \"Platelet Count Result(k/uL)\",\"Hemoglobin Result\",\"MCV Result\",\"MCHC Result\",\"MCH Result(pg)\",\"HCT Result\",\n",
    "                'RBC Result','WBC Result(k/uL)','Albumin Result(gm/dL)','Pct. Mono Result','Pct. Neutrophil Result',\n",
    "                'Neutrophil Result','Monocyte Result','Nucleated RBC Result','Pct. Immature Gran Auto Result','AST Result(U/L)',\n",
    "                'Total Serum Protein Result','Kappa Free Light Chains Result (mg/L)','Serum Electrophoresis Gamma Result','Albumin Electrophoresis Result',\n",
    "                'Serum Electrophoresis Alpha 1 Result','Serum Electrophoresis Alpha 2 Result','Serum Electrophoresis Beta Result']"
   ]
  },
  {
   "cell_type": "code",
   "execution_count": null,
   "metadata": {},
   "outputs": [],
   "source": [
    "#dictionary for the filtered data and the list of columnNames\n",
    "#this enables filtering of the patient data as its own block of code\n",
    "dictOfFilteredLabs = {}\n",
    "\n",
    "#other input values to set outside of loop \n",
    "x_column_name = \"RelTime(Days)\"\n",
    "#creating dictionaries for all patients in the dirrectory \n",
    "\n",
    "#also collects the column names of interest \n",
    "\n",
    "for ptID in (patientDictLabs.keys()):\n",
    "    #to collect and filter the patient labs into a dictionary\n",
    "    df_Labs = patientDictLabs[ptID]\n",
    "\n",
    "    orig_columns = df_Labs.columns\n",
    "\n",
    "    #filter the patient labs\n",
    "    # columnNames = FilterList(orig_columns, keyWords_primary = ['Result', 'Troponin-T', 'BNP'],  \n",
    "    #                             omit = ['Method', 'ABO', 'Dohle', \"Toxic Granulation\", \"D Dimer Result\",\n",
    "    #                                     \"Urine Color Result\", \"Urine Leukocyte Esterase Result\",\n",
    "    #                                     \"Urine Nitrite Result\", \"Urinalysis Squamous Epithelial Cells Result (/hpf)\",\n",
    "    #                                     \"(/hpf)\", \"Hep B\", \"Hep B Surf Ag Result\", \"Hep C\", \"Hep C Ab Screen Result\",\n",
    "    #                                     \"Hypersegmentation Result\", \"HCG Result (Serum)\", \"Coombs Test Result\",\n",
    "    #                                     \"HIV Result\"])\n",
    "    columnNames = FilterList(orig_columns, keyWords_primary = columnsToUse,\n",
    "                             omit = ['Method', 'ABO', 'Dohle', \"Toxic Granulation\", \"D Dimer Result\",\n",
    "                                        \"Urine Color Result\", \"Urine Leukocyte Esterase Result\",\n",
    "                                        \"Urine Nitrite Result\", \"Urinalysis Squamous Epithelial Cells Result (/hpf)\",\n",
    "                                        \"(/hpf)\", \"Hep B\", \"Hep B Surf Ag Result\", \"Hep C\", \"Hep C Ab Screen Result\",\n",
    "                                        \"Hypersegmentation Result\", \"HCG Result (Serum)\", \"Coombs Test Result\",\n",
    "                                        \"HIV Result\", \"Urine Glucose Result(mg/dL)\"])\n",
    "    \n",
    "    \n",
    "    testNames = [x_column_name]\n",
    "    testNames.extend(columnNames) #addition of time label\n",
    "\n",
    "\n",
    "    ptLabs_results= df_Labs[testNames] #new data frame of just results\n",
    "\n",
    "    #troponin contains strings which mess up plotting \n",
    "    df_Labs_results_2 = ptLabs_results\n",
    "    # for col in columnNames:\n",
    "    #     df_Labs_results_2[col] = ptLabs_results[col].apply(lambda x: 0 if isinstance(x, str) else x)\n",
    "    df_Labs_results_2[\"Troponin-T\"] = ptLabs_results[\"Troponin-T\"].apply(lambda x: 0 if isinstance(x, str) else x)\n",
    "    df_Labs_results_2[\"NT Pro BNP (B-Type Natriuretic Peptide)\"] = ptLabs_results[\"NT Pro BNP (B-Type Natriuretic Peptide)\"].apply(lambda x: 0 if isinstance(x, str) else x)\n",
    "    # df_Labs_results_2['Anisocytosis Result'] = df_Labs_results_2['Anisocytosis Result'].replace({'1+': 1, '2+': 2,'3+': 3})\n",
    "    # df_Labs_results_2['Macrocytes Result'] = df_Labs_results_2['Macrocytes Result'].replace({'1+': 1, '2+': 2,'3+': 3})\n",
    "\n",
    "    ptLabs_results_2 = df_Labs_results_2\n",
    "    dictOfFilteredLabs[ptID] = ptLabs_results_2"
   ]
  },
  {
   "cell_type": "markdown",
   "metadata": {},
   "source": [
    "# Collect Echo Dates and Convert to Days"
   ]
  },
  {
   "cell_type": "code",
   "execution_count": null,
   "metadata": {},
   "outputs": [],
   "source": [
    "EchoTimeColumn ='time from diagnosis to first echo (months)'\n",
    "MRItimeColumn = 'time from dagnosis to MRI (months)'\n",
    "imagingDates = {}\n",
    "dict_imagingDates_Days = {}\n",
    "for pt in patientDictEcho:\n",
    "    ptEchoData = patientDictEcho[pt]\n",
    "    patientEchoDate = ptEchoData.at[0,EchoTimeColumn]\n",
    "    patientMRIDate = ptEchoData.at[0,MRItimeColumn]\n",
    "\n",
    "    print(pt , \" echo date: \", patientEchoDate, \" type \",type(patientEchoDate) )\n",
    "    print(pt, \" MRI date: \", patientMRIDate, \" type \", type(patientMRIDate))\n",
    "    if type(patientEchoDate) != str and np.isnan(patientEchoDate) == False:\n",
    "        # np.isnan(patientEchoDate) == False and type(patientEchoDate) != str:\n",
    "        imagingDates[pt] = patientEchoDate\n",
    "        #convert from months to days\n",
    "        dict_imagingDates_Days[pt] = patientEchoDate * 30\n",
    "\n",
    "    #only if the patient doesn't have an echo date do you check for an MRI date\n",
    "    elif type(patientMRIDate) != str and np.isnan(patientMRIDate) == False:\n",
    "        imagingDates[pt] = patientMRIDate\n",
    "        #convert from months to days\n",
    "        dict_imagingDates_Days[pt] = patientMRIDate * 30"
   ]
  },
  {
   "cell_type": "markdown",
   "metadata": {},
   "source": [
    "# Collect Data Nearest to Date of Echo"
   ]
  },
  {
   "cell_type": "code",
   "execution_count": null,
   "metadata": {},
   "outputs": [],
   "source": [
    "EchoTimeColumn ='time from diagnosis to first echo (months)'\n",
    "MRItimeColumn = 'time from dagnosis to MRI (months)'\n",
    "imagingDates = {}\n",
    "dict_imagingDates_Days = {}\n",
    "for pt in patientDictEcho:\n",
    "    ptEchoData = patientDictEcho[pt]\n",
    "    patientEchoDate = ptEchoData.at[0,EchoTimeColumn]\n",
    "    patientMRIDate = ptEchoData.at[0,MRItimeColumn]\n",
    "\n",
    "    print(pt , \" echo date: \", patientEchoDate, \" type \",type(patientEchoDate) )\n",
    "    print(pt, \" MRI date: \", patientMRIDate, \" type \", type(patientMRIDate))\n",
    "    if type(patientEchoDate) != str and np.isnan(patientEchoDate) == False:\n",
    "        # np.isnan(patientEchoDate) == False and type(patientEchoDate) != str:\n",
    "        imagingDates[pt] = patientEchoDate\n",
    "        #convert from months to days\n",
    "        dict_imagingDates_Days[pt] = patientEchoDate * 30\n",
    "\n",
    "    #only if the patient doesn't have an echo date do you check for an MRI date\n",
    "    elif type(patientMRIDate) != str and np.isnan(patientMRIDate) == False:\n",
    "        imagingDates[pt] = patientMRIDate\n",
    "        #convert from months to days\n",
    "        dict_imagingDates_Days[pt] = patientMRIDate * 30"
   ]
  },
  {
   "cell_type": "markdown",
   "metadata": {},
   "source": [
    "# Concat Data into Single Sheet"
   ]
  },
  {
   "cell_type": "markdown",
   "metadata": {},
   "source": [
    "### Concat Data"
   ]
  },
  {
   "cell_type": "code",
   "execution_count": null,
   "metadata": {},
   "outputs": [],
   "source": [
    "df_output_summary = pd.concat([ptFn.df_all_demographics, df_all_tx_summary, ptFn.df_labs_EchoAdj], axis =1)\n",
    "df_output_summary.index.name = 'DeID'"
   ]
  },
  {
   "cell_type": "markdown",
   "metadata": {},
   "source": [
    "### Fill in Missing Data with Penalty Scores"
   ]
  },
  {
   "cell_type": "code",
   "execution_count": null,
   "metadata": {},
   "outputs": [],
   "source": [
    "#fill in missing data \n",
    "df_output_summary_filled = df_output_summary.fillna(ptFn.penaltyMissing, inplace=False)"
   ]
  },
  {
   "cell_type": "markdown",
   "metadata": {},
   "source": [
    "### Slice the Data by Amyloid Status"
   ]
  },
  {
   "cell_type": "code",
   "execution_count": null,
   "metadata": {},
   "outputs": [],
   "source": [
    "#for amyloid status known patients\n",
    "df_ALKnown_summary = df_output_summary_filled.loc[listALKnown]\n",
    "df_ALOther_summary = df_output_summary_filled.loc[listOther]\n",
    "\n",
    "ptFn.outputToExcel(df_data = df_ALKnown_summary, fileName_header= \"AL-KnownPts\", fileName_Common= fileNameCommon + \"_1Sheet\", fileName_suffix= outputSheet_Suffix,\n",
    "        parent_dir= outputDir, folderName=folderNameOut, sheetName= \"ALL\")\n",
    "\n",
    "ptFn.outputToExcel(df_data = df_ALOther_summary, fileName_header= \"AL-UnknownPts\", fileName_Common= fileNameCommon + \"_1Sheet\", fileName_suffix= outputSheet_Suffix,\n",
    "        parent_dir= outputDir, folderName=folderNameOut, sheetName= \"ALL\")"
   ]
  },
  {
   "cell_type": "markdown",
   "metadata": {},
   "source": [
    "# Data Visualization"
   ]
  },
  {
   "cell_type": "code",
   "execution_count": null,
   "metadata": {},
   "outputs": [],
   "source": [
    "import seaborn as sns\n",
    "import matplotlib.pyplot as plt\n",
    "import matplotlib.patches as mpatches\n",
    "import matplotlib as mpl\n",
    "#setting figure resolution: \n",
    "mpl.rcParams['figure.dpi'] = 300"
   ]
  },
  {
   "cell_type": "code",
   "execution_count": null,
   "metadata": {},
   "outputs": [],
   "source": [
    "# plt.figure(figsize = (18,8))\n",
    "fig, ax = plt.subplots(figsize = (18,8), layout = 'constrained')\n",
    "df_ALKnown_summary_na = df_output_summary.loc[listALKnown]\n",
    "\n",
    "colours = ['cornflowerblue', 'gold'] \n",
    "sns.heatmap(df_ALKnown_summary_na.isnull(), cmap = sns.color_palette(colours), cbar = False)\n",
    "\n",
    "#adding patches \n",
    "patch1 = mpatches.Patch(color = 'cornflowerblue', label = 'data present')\n",
    "patch2 = mpatches.Patch(color = 'gold', label = 'data missing')\n",
    "\n",
    "fig.suptitle('Missingness of Amyloid Known Patients Data Adjacent to Imaging Date', fontsize = 14, y = 1.02 )\n",
    "fig.legend(loc= 'outside upper center' , handles= [patch1,patch2], fontsize = 11, ncol = 2, borderaxespad = 2.5)\n",
    "\n",
    "plt.show()\n",
    "\n",
    "fig_file_out = ptFn.outputFiguresPath(fileName_header=fileNameHeader_1, fileName_mid='_matrix_missingness_', \n",
    "                                 fileName_suff= fileNameSuffix, parent_dir=outputDir, folderName=folder_data_out)\n",
    "fig.savefig(fig_file_out, bbox_inches = 'tight')"
   ]
  },
  {
   "cell_type": "code",
   "execution_count": null,
   "metadata": {},
   "outputs": [],
   "source": [
    "# plt.figure(figsize = (18,8))\n",
    "fig, ax = plt.subplots(figsize = (18,6), layout = 'constrained')\n",
    "df_ALUnknown_summary_na = df_output_summary.loc[listOther]\n",
    "\n",
    "colours = ['cornflowerblue', 'gold'] \n",
    "sns.heatmap(df_ALUnknown_summary_na.isnull(), cmap = sns.color_palette(colours), cbar = False)\n",
    "\n",
    "#adding patches \n",
    "patch1 = mpatches.Patch(color = 'cornflowerblue', label = 'data present')\n",
    "patch2 = mpatches.Patch(color = 'gold', label = 'data missing')\n",
    "\n",
    "fig.suptitle('Missingness of Amyloid Unknown Patients Data Adjacent to Imaging Date', fontsize = 14, y = 1.02 )\n",
    "fig.legend(loc= 'outside upper center' , handles= [patch1,patch2], fontsize = 11, ncol = 2, borderaxespad = 2.5)\n",
    "\n",
    "plt.show()\n",
    "\n",
    "fig_file_out = ptFn.outputFiguresPath(fileName_header=fileNameHeader_2, fileName_mid='_matrix_missingness_', \n",
    "                                 fileName_suff= fileNameSuffix, parent_dir=outputDir, folderName=folder_data_out)\n",
    "fig.savefig(fig_file_out, bbox_inches = 'tight')"
   ]
  }
 ],
 "metadata": {
  "kernelspec": {
   "display_name": "BEATcancerLabs_kernel_20241022",
   "language": "python",
   "name": "python3"
  },
  "language_info": {
   "codemirror_mode": {
    "name": "ipython",
    "version": 3
   },
   "file_extension": ".py",
   "mimetype": "text/x-python",
   "name": "python",
   "nbconvert_exporter": "python",
   "pygments_lexer": "ipython3",
   "version": "3.12.4"
  }
 },
 "nbformat": 4,
 "nbformat_minor": 2
}
