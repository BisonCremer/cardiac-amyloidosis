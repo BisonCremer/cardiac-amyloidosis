{
 "cells": [
  {
   "cell_type": "markdown",
   "metadata": {},
   "source": [
    "# packages"
   ]
  },
  {
   "cell_type": "code",
   "execution_count": 1,
   "metadata": {},
   "outputs": [],
   "source": [
    "#importing packages\n",
    "\n",
    "# Importing patient class and functions\n",
    "import patientFunctions as ptFn\n",
    "# Importing Libraries\n",
    "import os\n",
    "import pandas as pd\n",
    "import numpy as np\n",
    "import os"
   ]
  },
  {
   "cell_type": "markdown",
   "metadata": {},
   "source": [
    "# directory"
   ]
  },
  {
   "cell_type": "code",
   "execution_count": 2,
   "metadata": {},
   "outputs": [],
   "source": [
    "# #location of original data\n",
    "# starting_directory = os.getcwd()\n",
    "\n",
    "# machine_directory = 'C:/Users/mcremer' #the C and path to the project folder\n",
    "# # machine_directory = 'C:/Users/maega' #when working from home machine\n",
    "# storage_directory = 'UFL Dropbox/Maegan Cremer/research-share/Maegan/Projects' #Local, HPG, or dropbox\n",
    "# project_directory = 'Cardiac-Amyloidosis-Multiple-Myeloma' #project folder\n",
    "# project_lv2_directory = '012 Processed Data/data-2024-06-05' #deeper part of project folder\n",
    "\n",
    "# path = os.path.join(machine_directory, storage_directory, \n",
    "#                     project_directory, project_lv2_directory)\n",
    "\n",
    "# new_dirrectory = path\n",
    "\n",
    "# os.chdir(new_dirrectory)"
   ]
  },
  {
   "cell_type": "code",
   "execution_count": 3,
   "metadata": {},
   "outputs": [],
   "source": [
    "#location of original data\n",
    "starting_directory = os.getcwd()\n",
    "\n",
    "machine_directory = 'C:/Users/mcremer' #the C and path to the project folder\n",
    "# machine_directory = 'C:/Users/maega' #when working from home machine\n",
    "storage_directory = 'UFL Dropbox/Maegan Cremer/research-share/Maegan/Projects' #Local, HPG, or dropbox\n",
    "project_directory = 'Cardiac-Amyloidosis-Multiple-Myeloma' #project folder\n",
    "project_lv2_directory = '012 Processed Data/data-2024-06-05' #deeper part of project folder\n",
    "\n",
    "path = os.path.join(machine_directory, storage_directory, \n",
    "                    project_directory, project_lv2_directory)\n",
    "\n",
    "patient_directory = path\n",
    "\n",
    "os.chdir(patient_directory)\n"
   ]
  },
  {
   "cell_type": "markdown",
   "metadata": {},
   "source": [
    "## saving outputs"
   ]
  },
  {
   "cell_type": "code",
   "execution_count": 4,
   "metadata": {},
   "outputs": [],
   "source": [
    "#updates to directory management\n",
    "machine_directory = 'C:/Users/mcremer' #the C and path to the project folder\n",
    "# machine_directory = 'C:/Users/maega' #when working from home machine\n",
    "storage_directory = 'UFL Dropbox/Maegan Cremer/research-share/Maegan/Projects' #Local, HPG, or dropbox\n",
    "project_directory = 'Cardiac-Amyloidosis-Multiple-Myeloma' #project folder\n",
    "project_lv2_directory = '014_Mistic2' #deeper part of project folder\n",
    "\n",
    "path = os.path.join(machine_directory, storage_directory, \n",
    "                    project_directory, project_lv2_directory)\n",
    "\n",
    "# parent_dir = path\n",
    "outputDir = path\n",
    "# os.chdir(outputDir)"
   ]
  },
  {
   "cell_type": "code",
   "execution_count": 5,
   "metadata": {},
   "outputs": [],
   "source": [
    "folderNameHeader = \"Stats\"\n",
    "folderNameCommon = \"\"\n",
    "folderNameSuffix = \"_250319\"\n",
    "\n",
    "# fileNameHeader_1 = \"ALKnownPts\"\n",
    "# fileNameHeader_2 = \"ALUnknownPts\"\n",
    "# fileNameCommon = \"_EchoAdj_time-comp\"\n",
    "fileNameSuffix = \"__250319\"\n",
    "\n",
    "folder_data_out = ptFn.makeFolderPathForData(parent_dir=outputDir, folderName_header=folderNameHeader, \n",
    "                                        folderName_common=folderNameCommon, folderName_suffix=folderNameSuffix)\n",
    "# outputToExcel(*, fileName_header=fileNameHeader, fileName_Common= fileNameCommon, \n",
    "#               fileName_suffix= fileNameSuffix, folderName = folder_data_out, sheetName= *)\n",
    "\n",
    "# fig_file_out = outputFiguresPath(fileName_header=fileNameHeader, fileName_mid=**, \n",
    "#                                  fileName_suff= fileNameSuffix, parent_dir=parent_dir, folderName=folder_data_out)\n",
    "\n",
    "folderNameOut = folder_data_out\n"
   ]
  },
  {
   "cell_type": "markdown",
   "metadata": {},
   "source": [
    "# goals of script\n",
    "To segement data for statistical analysis and perform initial stats.  Looking for list of features that are statistically significantly different between CA+ and CA- patients (what is their relationship to the selected features?).  Also looking for the raw data adjacent to diagnostic imaging: relative time range in our data, statistical comparisons in that dataset."
   ]
  },
  {
   "cell_type": "markdown",
   "metadata": {},
   "source": [
    "# importing patient data\n",
    "full patient class"
   ]
  },
  {
   "cell_type": "code",
   "execution_count": 6,
   "metadata": {},
   "outputs": [],
   "source": [
    "# #location of original data\n",
    "# starting_directory = os.getcwd()\n",
    "\n",
    "# machine_directory = 'C:/Users/mcremer' #the C and path to the project folder\n",
    "# # machine_directory = 'C:/Users/maega' #when working from home machine\n",
    "# storage_directory = 'UFL Dropbox/Maegan Cremer/research-share/Maegan/Projects' #Local, HPG, or dropbox\n",
    "# project_directory = 'Cardiac-Amyloidosis-Multiple-Myeloma' #project folder\n",
    "# project_lv2_directory = '012 Processed Data/data-2024-06-05' #deeper part of project folder\n",
    "\n",
    "# path = os.path.join(machine_directory, storage_directory, \n",
    "#                     project_directory, project_lv2_directory)\n",
    "\n",
    "# patient_directory = path\n",
    "\n",
    "# os.chdir(patient_directory)\n"
   ]
  },
  {
   "cell_type": "code",
   "execution_count": 7,
   "metadata": {},
   "outputs": [],
   "source": [
    "#importing patient data as dictionaries of dataframes\n",
    "\n",
    "#build a dictionary of patients and their values \n",
    "ptFiles = ptFn.GetListofPTfiles(patient_directory, '.xlsx', 'data')\n",
    "\n",
    "# patientDictAmyloid = {}\n",
    "# patientDictSurvival = {}\n",
    "# patientDictLabs = {}\n",
    "# patientDictEcho = {}\n",
    "# patientDictNotes = {}\n",
    "# patientDictDx = {}\n",
    "# patientDictVitalStatus = {}\n",
    "# patientDictSex = {}\n",
    "# patientDictAge = {}\n",
    "# patientDictChemo = {}\n",
    "# patientDictImmuno = {}\n",
    "# patientDictHeme = {}\n",
    "# patientDictRad = {}\n",
    "# patientDictOther = {}\n",
    "\n",
    "patientDictionary = {}\n",
    "\n",
    "#loop through the listOfPatients \n",
    "for file in ptFiles: \n",
    "    pt = ptFn.patient(patient_directory, file, 4)\n",
    "    patientDictionary[pt.ptID] = pt\n",
    "    # patientDictAmyloid[pt.ptID] = pt.amyloid_status\n",
    "    # patientDictSurvival[pt.ptID] = pt.survival\n",
    "    # patientDictLabs[pt.ptID] = pt.labsData\n",
    "    # patientDictEcho[pt.ptID] = pt.echoData\n",
    "    # patientDictNotes[pt.ptID] = pt.MDnotes\n",
    "    # patientDictDx[pt.ptID] = pt.dx\n",
    "    # patientDictVitalStatus[pt.ptID] = pt.vitalStatus\n",
    "    # patientDictSex[pt.ptID] = pt.sex\n",
    "    # patientDictAge[pt.ptID] = pt.ageDx\n",
    "    # patientDictChemo[pt.ptID] = pt.ChemoTx\n",
    "    # patientDictImmuno[pt.ptID] = pt.ImmunoTx\n",
    "    # patientDictHeme[pt.ptID] = pt.HemeTx\n",
    "    # patientDictRad[pt.ptID] = pt.RadTx\n",
    "    # patientDictOther[pt.ptID] = pt.OtherTx"
   ]
  },
  {
   "cell_type": "code",
   "execution_count": 8,
   "metadata": {},
   "outputs": [
    {
     "name": "stdout",
     "output_type": "stream",
     "text": [
      "dict_keys(['A-02', 'A-03', 'B-01', 'B-02', 'B-03', 'C-01', 'C-02', 'C-03', 'D-01', 'D-03', 'E-01', 'E-02', 'E-03', 'F-01', 'F-02', 'F-03', 'G-01', 'G-02', 'G-03', 'H-01', 'H-02', 'H-03', 'I-01', 'I-02', 'I-03', 'J-01', 'J-02', 'J-03', 'K-01', 'K-02', 'K-03', 'L-01', 'L-02', 'L-03', 'M-01', 'M-02', 'M-03', 'N-01', 'N-02', 'N-03', 'O-01', 'O-02', 'O-03', 'P-01', 'P-02', 'P-03', 'Q-01', 'Q-02', 'Q-03', 'R-01', 'R-02', 'R-03', 'S-02', 'T-01', 'T-02', 'U-01', 'U-02', 'V-01', 'V-02', 'W-01', 'W-02', 'X-01', 'X-02', 'Y-01', 'Y-02', 'Z-01', 'Z-02'])\n"
     ]
    }
   ],
   "source": [
    "print(patientDictionary.keys())"
   ]
  },
  {
   "cell_type": "code",
   "execution_count": 9,
   "metadata": {},
   "outputs": [],
   "source": [
    "#removing patients that were excluded from the dataset\n",
    "del patientDictionary['K-01']\n",
    "del patientDictionary[\"G-01\"]\n",
    "del patientDictionary['J-01']\n",
    "del patientDictionary[\"L-02\"]\n"
   ]
  },
  {
   "cell_type": "code",
   "execution_count": 10,
   "metadata": {},
   "outputs": [],
   "source": [
    "#list of patients by amyloid status \n",
    "\n",
    "listPositive = []\n",
    "listNegative = []\n",
    "listOther = []\n",
    "\n",
    "# ptFn.getListSortedByAmyloid(patientDictAmyloid, listPositive= listPositive,\n",
    "#                        listNegative=listNegative, listOther=listOther)\n",
    "\n",
    "for ptID in patientDictionary.keys(): \n",
    "    #get the amyloid status\n",
    "    pt_amyloid_status = patientDictionary[ptID].amyloid_status\n",
    "    if pt_amyloid_status == \"yes\": \n",
    "        listPositive.append(ptID)\n",
    "    elif pt_amyloid_status == \"no\":\n",
    "        listNegative.append(ptID)\n",
    "    else:\n",
    "        listOther.append(ptID)\n",
    "\n",
    "\n",
    "#first make a copy of the list\n",
    "listALKnown = listPositive.copy()\n",
    "#add the negative patients to the list of positive patients\n",
    "listALKnown.extend(listNegative) "
   ]
  },
  {
   "cell_type": "markdown",
   "metadata": {},
   "source": [
    "# Importing Echo Adj features"
   ]
  },
  {
   "cell_type": "code",
   "execution_count": 11,
   "metadata": {},
   "outputs": [],
   "source": [
    "os.chdir(outputDir)"
   ]
  },
  {
   "cell_type": "code",
   "execution_count": 40,
   "metadata": {},
   "outputs": [
    {
     "name": "stderr",
     "output_type": "stream",
     "text": [
      "<>:1: SyntaxWarning: invalid escape sequence '\\A'\n",
      "<>:1: SyntaxWarning: invalid escape sequence '\\A'\n",
      "C:\\Users\\mcremer\\AppData\\Local\\Temp\\ipykernel_21380\\3385830510.py:1: SyntaxWarning: invalid escape sequence '\\A'\n",
      "  EchoAdjInput = pd.read_excel(\"DFsForSVM_EchoAdj_time-comp_250317\\AL-KnownPts_EchoAdj_time-comp_1Sheet__250317.xlsx\", sheet_name=\"ALL\", index_col= 'DeID')\n"
     ]
    }
   ],
   "source": [
    "EchoAdjInput = pd.read_excel(\"DFsForSVM_EchoAdj_time-comp_250317\\AL-KnownPts_EchoAdj_time-comp_1Sheet__250317.xlsx\", sheet_name=\"ALL\", index_col= 'DeID')"
   ]
  },
  {
   "cell_type": "code",
   "execution_count": 14,
   "metadata": {},
   "outputs": [
    {
     "data": {
      "text/plain": [
       "44"
      ]
     },
     "execution_count": 14,
     "metadata": {},
     "output_type": "execute_result"
    }
   ],
   "source": [
    "len(listALKnown)"
   ]
  },
  {
   "cell_type": "code",
   "execution_count": null,
   "metadata": {},
   "outputs": [],
   "source": [
    "#removing the penalty information, from all columns but the relative time column\n",
    "reltime_col= EchoAdjInput[\"RelTime(Days)\"]\n",
    "EchoAdjInput= EchoAdjInput.replace(-1, np.nan) #-1 was the penalty value used for missing data\n",
    "EchoAdjInput[\"RelTime(Days)\"] = reltime_col #adding the time info back"
   ]
  },
  {
   "cell_type": "markdown",
   "metadata": {},
   "source": [
    "## time of echo"
   ]
  },
  {
   "cell_type": "code",
   "execution_count": 44,
   "metadata": {},
   "outputs": [
    {
     "name": "stdout",
     "output_type": "stream",
     "text": [
      "U-02 has no imaging data\n",
      "U-02 amyloidosis status unk\n"
     ]
    }
   ],
   "source": [
    "imagingDates = {}\n",
    "dict_imagingDates_Days = {}\n",
    "for ptID in patientDictionary.keys():\n",
    "    ptEchoData = patientDictionary[ptID].echoData\n",
    "    patientEchoDate = ptEchoData.at[0,\"time from diagnosis to first echo (months)\"]\n",
    "    patientMRIDate = ptEchoData.at[0, 'time from dagnosis to MRI (months)']\n",
    "\n",
    "    if type(patientEchoDate) != str and np.isnan(patientEchoDate) == False:\n",
    "        imagingDates[ptID] = patientEchoDate\n",
    "        #convert from months to days\n",
    "        dict_imagingDates_Days[ptID] = patientEchoDate * 30\n",
    "\n",
    "    #only if the patient doesn't have an echo date do you check for an MRI date\n",
    "    elif type(patientMRIDate) != str and np.isnan(patientMRIDate) == False:\n",
    "        imagingDates[ptID] = patientMRIDate\n",
    "        #convert from months to days\n",
    "        dict_imagingDates_Days[ptID] = patientMRIDate * 30\n",
    "    else: \n",
    "        print(ptID + \" has no imaging data\")\n",
    "        print(ptID + \" amyloidosis status \" + patientDictionary[ptID].amyloid_status )\n"
   ]
  },
  {
   "cell_type": "markdown",
   "metadata": {},
   "source": [
    "## difference in time"
   ]
  },
  {
   "cell_type": "code",
   "execution_count": 45,
   "metadata": {},
   "outputs": [],
   "source": [
    "timeDiff = {}\n",
    "for ptID in EchoAdjInput.index:\n",
    "    timeDiff[ptID] = EchoAdjInput.loc[ptID, \"RelTime(Days)\"]- dict_imagingDates_Days[ptID].astype(int)\n",
    "\n",
    "timeDiff_df = pd.DataFrame.from_dict(timeDiff, orient = \"index\", columns= [\"time_diff\"])"
   ]
  },
  {
   "cell_type": "code",
   "execution_count": 46,
   "metadata": {},
   "outputs": [
    {
     "name": "stdout",
     "output_type": "stream",
     "text": [
      "How long after imaging were labs collected? Negative numbers are labs collected before imaging. \n",
      "min:  -56  days\n",
      "max:  706  days\n"
     ]
    }
   ],
   "source": [
    "print(\"How long after imaging were labs collected? Negative numbers are labs collected before imaging. \\n\"\n",
    "    \"min: \" ,  min(timeDiff.values()) , \" days\"\n",
    "    \"\\nmax: \" , max(timeDiff.values()), \" days\")"
   ]
  },
  {
   "cell_type": "code",
   "execution_count": 47,
   "metadata": {},
   "outputs": [],
   "source": [
    "Echo_forAnalysis = pd.concat([EchoAdjInput, timeDiff_df], axis=1)"
   ]
  },
  {
   "cell_type": "code",
   "execution_count": 49,
   "metadata": {},
   "outputs": [
    {
     "data": {
      "application/vnd.microsoft.datawrangler.viewer.v0+json": {
       "columns": [
        {
         "name": "index",
         "rawType": "object",
         "type": "string"
        },
        {
         "name": "time_diff",
         "rawType": "float64",
         "type": "float"
        }
       ],
       "conversionMethod": "pd.DataFrame",
       "ref": "d873de73-7628-47b8-a010-ef2e358ddd2c",
       "rows": [
        [
         "count",
         "44.0"
        ],
        [
         "mean",
         "17.454545454545453"
        ],
        [
         "std",
         "109.23698465294459"
        ],
        [
         "min",
         "-56.0"
        ],
        [
         "25%",
         "-2.5"
        ],
        [
         "50%",
         "0.0"
        ],
        [
         "75%",
         "1.0"
        ],
        [
         "max",
         "706.0"
        ]
       ],
       "shape": {
        "columns": 1,
        "rows": 8
       }
      },
      "text/html": [
       "<div>\n",
       "<style scoped>\n",
       "    .dataframe tbody tr th:only-of-type {\n",
       "        vertical-align: middle;\n",
       "    }\n",
       "\n",
       "    .dataframe tbody tr th {\n",
       "        vertical-align: top;\n",
       "    }\n",
       "\n",
       "    .dataframe thead th {\n",
       "        text-align: right;\n",
       "    }\n",
       "</style>\n",
       "<table border=\"1\" class=\"dataframe\">\n",
       "  <thead>\n",
       "    <tr style=\"text-align: right;\">\n",
       "      <th></th>\n",
       "      <th>time_diff</th>\n",
       "    </tr>\n",
       "  </thead>\n",
       "  <tbody>\n",
       "    <tr>\n",
       "      <th>count</th>\n",
       "      <td>44.000000</td>\n",
       "    </tr>\n",
       "    <tr>\n",
       "      <th>mean</th>\n",
       "      <td>17.454545</td>\n",
       "    </tr>\n",
       "    <tr>\n",
       "      <th>std</th>\n",
       "      <td>109.236985</td>\n",
       "    </tr>\n",
       "    <tr>\n",
       "      <th>min</th>\n",
       "      <td>-56.000000</td>\n",
       "    </tr>\n",
       "    <tr>\n",
       "      <th>25%</th>\n",
       "      <td>-2.500000</td>\n",
       "    </tr>\n",
       "    <tr>\n",
       "      <th>50%</th>\n",
       "      <td>0.000000</td>\n",
       "    </tr>\n",
       "    <tr>\n",
       "      <th>75%</th>\n",
       "      <td>1.000000</td>\n",
       "    </tr>\n",
       "    <tr>\n",
       "      <th>max</th>\n",
       "      <td>706.000000</td>\n",
       "    </tr>\n",
       "  </tbody>\n",
       "</table>\n",
       "</div>"
      ],
      "text/plain": [
       "        time_diff\n",
       "count   44.000000\n",
       "mean    17.454545\n",
       "std    109.236985\n",
       "min    -56.000000\n",
       "25%     -2.500000\n",
       "50%      0.000000\n",
       "75%      1.000000\n",
       "max    706.000000"
      ]
     },
     "execution_count": 49,
     "metadata": {},
     "output_type": "execute_result"
    }
   ],
   "source": [
    "timeDiff_df.describe()"
   ]
  },
  {
   "cell_type": "code",
   "execution_count": 50,
   "metadata": {},
   "outputs": [],
   "source": [
    "import matplotlib.pyplot as plt\n",
    "import seaborn as sns\n"
   ]
  },
  {
   "cell_type": "code",
   "execution_count": 83,
   "metadata": {},
   "outputs": [],
   "source": [
    "EchoAdjInput_describe = EchoAdjInput.describe().T"
   ]
  },
  {
   "cell_type": "code",
   "execution_count": 86,
   "metadata": {},
   "outputs": [],
   "source": [
    "dict_plottingRanges = {\"graph 1\": [0, 1],\n",
    "                       \"graph 2\": [2, 10],\n",
    "                       \"graph 3\": [11, 50],\n",
    "                       \"graph 4\": [51, 100],\n",
    "                       \"graph 5\": [101, 400],\n",
    "                       \"graph 6\" : [401, 1000],\n",
    "                       \"graph 7\": [1000, 10000]}\n",
    "dict_graph_column_groups = {}\n",
    "for graph in dict_plottingRanges.keys(): \n",
    "    a, b = dict_plottingRanges[graph][0], dict_plottingRanges[graph][1]\n",
    "    dict_graph_column_groups[graph] = [data for data in EchoAdjInput_describe.index \n",
    "                                       if EchoAdjInput_describe.loc[data, \"mean\"] > a and \n",
    "                                       EchoAdjInput_describe.loc[data,'mean'] < b]"
   ]
  },
  {
   "cell_type": "code",
   "execution_count": 87,
   "metadata": {},
   "outputs": [
    {
     "data": {
      "image/png": "[encoded data removed]",
      "text/plain": [
       "<Figure size 1000x420 with 1 Axes>"
      ]
     },
     "metadata": {},
     "output_type": "display_data"
    },
    {
     "data": {
      "image/png": "[encoded data removed]",
      "text/plain": [
       "<Figure size 1000x200 with 1 Axes>"
      ]
     },
     "metadata": {},
     "output_type": "display_data"
    },
    {
     "data": {
      "image/png": "[encoded data removed]",
      "text/plain": [
       "<Figure size 1000x180 with 1 Axes>"
      ]
     },
     "metadata": {},
     "output_type": "display_data"
    },
    {
     "data": {
      "image/png": "[encoded data removed]",
      "text/plain": [
       "<Figure size 1000x60 with 1 Axes>"
      ]
     },
     "metadata": {},
     "output_type": "display_data"
    },
    {
     "data": {
      "image/png": "[encoded data removed]",
      "text/plain": [
       "<Figure size 1000x140 with 1 Axes>"
      ]
     },
     "metadata": {},
     "output_type": "display_data"
    },
    {
     "data": {
      "image/png": "[encoded data removed]",
      "text/plain": [
       "<Figure size 1000x20 with 1 Axes>"
      ]
     },
     "metadata": {},
     "output_type": "display_data"
    },
    {
     "data": {
      "image/png": "[encoded data removed]",
      "text/plain": [
       "<Figure size 1000x20 with 1 Axes>"
      ]
     },
     "metadata": {},
     "output_type": "display_data"
    }
   ],
   "source": [
    "#sorting the for analysis by amyloid status \n",
    "figHeight = 0.2\n",
    "for graph in dict_graph_column_groups.keys():\n",
    "    #then plot the different pieces of data \n",
    "    fig, axs = plt.subplots(figsize = (10, len(dict_graph_column_groups[graph])*figHeight))\n",
    "    plt.boxplot(Echo_forAnalysis.loc[listPositive][dict_graph_column_groups[graph]].dropna(),\n",
    "                 vert= False, labels=dict_graph_column_groups[graph], patch_artist=True,\n",
    "                  boxprops={\"facecolor\":\"red\", \"alpha\":0.5})\n",
    "    plt.boxplot(Echo_forAnalysis.loc[listNegative][dict_graph_column_groups[graph]].dropna(),\n",
    "                vert= False, labels=dict_graph_column_groups[graph], patch_artist=True,\n",
    "                boxprops={\"facecolor\":\"blue\", \"alpha\":0.5})\n",
    "    "
   ]
  },
  {
   "cell_type": "markdown",
   "metadata": {},
   "source": [
    "## stats for difference between features by amyloidosis status"
   ]
  },
  {
   "cell_type": "code",
   "execution_count": 57,
   "metadata": {},
   "outputs": [],
   "source": [
    "# export the data for easy import to graphpad to check analysis\n",
    "#make list of features with significant difference between groups using T test and Spearmans correlation"
   ]
  },
  {
   "cell_type": "code",
   "execution_count": 58,
   "metadata": {},
   "outputs": [],
   "source": [
    "import scipy.stats as stats"
   ]
  },
  {
   "cell_type": "code",
   "execution_count": 88,
   "metadata": {},
   "outputs": [
    {
     "name": "stderr",
     "output_type": "stream",
     "text": [
      "c:\\Users\\mcremer\\.conda\\envs\\BEAT_Labs_20240917_v2\\Lib\\site-packages\\scipy\\stats\\_axis_nan_policy.py:531: RuntimeWarning: Precision loss occurred in moment calculation due to catastrophic cancellation. This occurs when the data are nearly identical. Results may be unreliable.\n",
      "  res = hypotest_fun_out(*samples, **kwds)\n",
      "c:\\Users\\mcremer\\.conda\\envs\\BEAT_Labs_20240917_v2\\Lib\\site-packages\\scipy\\stats\\_axis_nan_policy.py:531: RuntimeWarning: Precision loss occurred in moment calculation due to catastrophic cancellation. This occurs when the data are nearly identical. Results may be unreliable.\n",
      "  res = hypotest_fun_out(*samples, **kwds)\n"
     ]
    },
    {
     "data": {
      "application/vnd.microsoft.datawrangler.viewer.v0+json": {
       "columns": [
        {
         "name": "index",
         "rawType": "object",
         "type": "string"
        },
        {
         "name": "T-stat",
         "rawType": "float64",
         "type": "float"
        },
        {
         "name": "p-value",
         "rawType": "float64",
         "type": "float"
        }
       ],
       "conversionMethod": "pd.DataFrame",
       "ref": "8822e8e3-09e9-420f-bff8-9a49b65b124b",
       "rows": [
        [
         "Amyloid Status_no",
         "-inf",
         "0.0"
        ],
        [
         "Amyloid Status_yes",
         "inf",
         "0.0"
        ],
        [
         "HemeTx",
         "-2.2846113704930118",
         "0.027453245592752456"
        ],
        [
         "HemeTx Number",
         "-2.2846113704930118",
         "0.027453245592752456"
        ]
       ],
       "shape": {
        "columns": 2,
        "rows": 4
       }
      },
      "text/html": [
       "<div>\n",
       "<style scoped>\n",
       "    .dataframe tbody tr th:only-of-type {\n",
       "        vertical-align: middle;\n",
       "    }\n",
       "\n",
       "    .dataframe tbody tr th {\n",
       "        vertical-align: top;\n",
       "    }\n",
       "\n",
       "    .dataframe thead th {\n",
       "        text-align: right;\n",
       "    }\n",
       "</style>\n",
       "<table border=\"1\" class=\"dataframe\">\n",
       "  <thead>\n",
       "    <tr style=\"text-align: right;\">\n",
       "      <th></th>\n",
       "      <th>T-stat</th>\n",
       "      <th>p-value</th>\n",
       "    </tr>\n",
       "  </thead>\n",
       "  <tbody>\n",
       "    <tr>\n",
       "      <th>Amyloid Status_no</th>\n",
       "      <td>-inf</td>\n",
       "      <td>0.000000</td>\n",
       "    </tr>\n",
       "    <tr>\n",
       "      <th>Amyloid Status_yes</th>\n",
       "      <td>inf</td>\n",
       "      <td>0.000000</td>\n",
       "    </tr>\n",
       "    <tr>\n",
       "      <th>HemeTx</th>\n",
       "      <td>-2.284611</td>\n",
       "      <td>0.027453</td>\n",
       "    </tr>\n",
       "    <tr>\n",
       "      <th>HemeTx Number</th>\n",
       "      <td>-2.284611</td>\n",
       "      <td>0.027453</td>\n",
       "    </tr>\n",
       "  </tbody>\n",
       "</table>\n",
       "</div>"
      ],
      "text/plain": [
       "                      T-stat   p-value\n",
       "Amyloid Status_no       -inf  0.000000\n",
       "Amyloid Status_yes       inf  0.000000\n",
       "HemeTx             -2.284611  0.027453\n",
       "HemeTx Number      -2.284611  0.027453"
      ]
     },
     "execution_count": 88,
     "metadata": {},
     "output_type": "execute_result"
    }
   ],
   "source": [
    "dict_tstats = {}\n",
    "for feature in Echo_forAnalysis.columns:\n",
    "    t_statistic, p_value = stats.ttest_ind(Echo_forAnalysis.loc[listPositive][feature],\n",
    "                                           Echo_forAnalysis.loc[listNegative][feature])\n",
    "    dict_tstats[feature] = [t_statistic, p_value]\n",
    "\n",
    "#convert to dataframe\n",
    "df_tstats = pd.DataFrame.from_dict(dict_tstats, orient= \"index\", columns=[\"T-stat\", \"p-value\"])\n",
    "#make list of features with p values less than 0.05\n",
    "significant_features = [feature for feature in df_tstats.index if df_tstats.loc[feature, 'p-value'] <= 0.05]\n",
    "\n",
    "# #print stats \n",
    "df_tstats.loc[significant_features]"
   ]
  },
  {
   "cell_type": "code",
   "execution_count": 61,
   "metadata": {},
   "outputs": [],
   "source": [
    "#saving the statistics to an output file"
   ]
  },
  {
   "cell_type": "code",
   "execution_count": 89,
   "metadata": {},
   "outputs": [],
   "source": [
    "#saving original data to an output file that can be used by graphpad\n",
    "transposed_EchoAdj_Positive = Echo_forAnalysis.loc[listPositive].T\n",
    "transposed_EchoAdj_Negative = Echo_forAnalysis.loc[listNegative].T\n",
    "\n",
    "ptFn.outputToExcel(transposed_EchoAdj_Positive, fileName_header=\"ALpos\", fileName_Common= \"_dataEchoAdj_T\", \n",
    "              fileName_suffix= fileNameSuffix, parent_dir=outputDir, folderName = folder_data_out, sheetName= \"pos\")\n",
    "ptFn.outputToExcel(transposed_EchoAdj_Negative, fileName_header=\"ALneg\", fileName_Common= \"_dataEchoAdj_T\", \n",
    "              fileName_suffix= fileNameSuffix, parent_dir= outputDir, folderName = folder_data_out, sheetName= \"neg\")"
   ]
  },
  {
   "cell_type": "markdown",
   "metadata": {},
   "source": [
    "# import DescFits feature list"
   ]
  },
  {
   "cell_type": "code",
   "execution_count": 92,
   "metadata": {},
   "outputs": [
    {
     "data": {
      "text/plain": [
       "'C:\\\\Users\\\\mcremer\\\\UFL Dropbox\\\\Maegan Cremer\\\\research-share\\\\Maegan\\\\Projects\\\\Cardiac-Amyloidosis-Multiple-Myeloma\\\\014_Mistic2'"
      ]
     },
     "execution_count": 92,
     "metadata": {},
     "output_type": "execute_result"
    }
   ],
   "source": [
    "os.getcwd()"
   ]
  },
  {
   "cell_type": "code",
   "execution_count": 96,
   "metadata": {},
   "outputs": [
    {
     "name": "stderr",
     "output_type": "stream",
     "text": [
      "<>:1: SyntaxWarning: invalid escape sequence '\\D'\n",
      "<>:1: SyntaxWarning: invalid escape sequence '\\D'\n",
      "C:\\Users\\mcremer\\AppData\\Local\\Temp\\ipykernel_21380\\328472753.py:1: SyntaxWarning: invalid escape sequence '\\D'\n",
      "  DescFitsFeatures = pd.read_excel(\"020_construction of data frames\\DFsForSVM_CompLabswoEcho_exG01J01_MDfits_20241022_v1\\AL-KnownPts_CompLabs_descFits_241022.xlsx\", sheet_name=\"ALL\", index_col= 'DeID')\n"
     ]
    }
   ],
   "source": [
    "DescFitsFeatures = pd.read_excel(\"020_construction of data frames\\DFsForSVM_CompLabswoEcho_exG01J01_MDfits_20241022_v1\\AL-KnownPts_CompLabs_descFits_241022.xlsx\", sheet_name=\"ALL\", index_col= 'DeID')"
   ]
  },
  {
   "cell_type": "markdown",
   "metadata": {},
   "source": [
    "## stats by amyloidosis status"
   ]
  },
  {
   "cell_type": "code",
   "execution_count": 97,
   "metadata": {},
   "outputs": [],
   "source": [
    "# splitting data\n",
    "#saving original data to an output file that can be used by graphpad\n",
    "transposed_DescFitsFeatures_Positive = DescFitsFeatures.loc[listPositive].T\n",
    "transposed_DescFitsFeatures_Negative = DescFitsFeatures.loc[listNegative].T\n",
    "\n",
    "ptFn.outputToExcel(transposed_DescFitsFeatures_Positive, fileName_header=\"ALpos\", fileName_Common= \"_dataDescFits_T\", \n",
    "              fileName_suffix= fileNameSuffix, parent_dir=outputDir, folderName = folder_data_out, sheetName= \"pos\")\n",
    "ptFn.outputToExcel(transposed_DescFitsFeatures_Negative, fileName_header=\"ALneg\", fileName_Common= \"_dataDescFits_T\", \n",
    "              fileName_suffix= fileNameSuffix, parent_dir= outputDir, folderName = folder_data_out, sheetName= \"neg\")"
   ]
  },
  {
   "cell_type": "code",
   "execution_count": 100,
   "metadata": {},
   "outputs": [
    {
     "name": "stderr",
     "output_type": "stream",
     "text": [
      "c:\\Users\\mcremer\\.conda\\envs\\BEAT_Labs_20240917_v2\\Lib\\site-packages\\scipy\\stats\\_axis_nan_policy.py:531: RuntimeWarning: Precision loss occurred in moment calculation due to catastrophic cancellation. This occurs when the data are nearly identical. Results may be unreliable.\n",
      "  res = hypotest_fun_out(*samples, **kwds)\n",
      "c:\\Users\\mcremer\\.conda\\envs\\BEAT_Labs_20240917_v2\\Lib\\site-packages\\scipy\\stats\\_axis_nan_policy.py:531: RuntimeWarning: Precision loss occurred in moment calculation due to catastrophic cancellation. This occurs when the data are nearly identical. Results may be unreliable.\n",
      "  res = hypotest_fun_out(*samples, **kwds)\n"
     ]
    },
    {
     "data": {
      "application/vnd.microsoft.datawrangler.viewer.v0+json": {
       "columns": [
        {
         "name": "index",
         "rawType": "object",
         "type": "string"
        },
        {
         "name": "T-stat",
         "rawType": "float64",
         "type": "float"
        },
        {
         "name": "p-value",
         "rawType": "float64",
         "type": "float"
        }
       ],
       "conversionMethod": "pd.DataFrame",
       "ref": "016cdb5e-6d3f-4e20-9bdf-ea9188596f25",
       "rows": [
        [
         "Amyloid Status_no",
         "-inf",
         "0.0"
        ],
        [
         "Amyloid Status_yes",
         "inf",
         "0.0"
        ],
        [
         "Albumin Result(gm/dL) Desc max",
         "-2.0447811449273567",
         "0.04717658647934654"
        ],
        [
         "BUN Result(mg/dL) Desc mean",
         "3.0615841290277497",
         "0.0038305884774390295"
        ],
        [
         "BUN Result(mg/dL) Desc min",
         "3.5117134998333905",
         "0.0010785895827979187"
        ],
        [
         "BUN Result(mg/dL) Desc 25%",
         "3.4046334468609385",
         "0.0014685660191988091"
        ],
        [
         "BUN Result(mg/dL) Desc 50%",
         "3.233870208816201",
         "0.002380939541795523"
        ],
        [
         "BUN Result(mg/dL) Desc 75%",
         "2.707512342277981",
         "0.009761598418462681"
        ],
        [
         "Beta-2-Microglobulin Result Desc mean",
         "2.9943567442243677",
         "0.00459560275578247"
        ],
        [
         "Beta-2-Microglobulin Result Desc min",
         "2.9445296631090496",
         "0.005252709967511725"
        ],
        [
         "Beta-2-Microglobulin Result Desc 25%",
         "3.113212677411521",
         "0.003326230513067173"
        ],
        [
         "Beta-2-Microglobulin Result Desc 50%",
         "3.287160745562811",
         "0.0020501767561863105"
        ],
        [
         "Beta-2-Microglobulin Result Desc 75%",
         "3.222376713830899",
         "0.002458628208286553"
        ],
        [
         "Chloride Result(mmol/L) Desc mean",
         "-3.642838248825007",
         "0.0007350605007393182"
        ],
        [
         "Chloride Result(mmol/L) Desc min",
         "-2.574852415493683",
         "0.013641793869651853"
        ],
        [
         "Chloride Result(mmol/L) Desc 25%",
         "-3.84929312375294",
         "0.0003973448215016962"
        ],
        [
         "Chloride Result(mmol/L) Desc 50%",
         "-3.7480661970318723",
         "0.0005381224375703192"
        ],
        [
         "Chloride Result(mmol/L) Desc 75%",
         "-3.201159268690897",
         "0.0026083951156980097"
        ],
        [
         "Chloride Result(mmol/L) Desc max",
         "-3.2931467980948743",
         "0.002015877027568131"
        ],
        [
         "Creatinine Result(mg/dL) Desc mean",
         "3.224638729733465",
         "0.0024431510200546773"
        ],
        [
         "Creatinine Result(mg/dL) Desc min",
         "3.354239624084232",
         "0.0016956435775804539"
        ],
        [
         "Creatinine Result(mg/dL) Desc 25%",
         "4.18663393488029",
         "0.00014163337976666278"
        ],
        [
         "Creatinine Result(mg/dL) Desc 50%",
         "3.836289351373383",
         "0.0004132024790265731"
        ],
        [
         "Creatinine Result(mg/dL) Desc 75%",
         "2.653331605492535",
         "0.011203648320859084"
        ],
        [
         "HCT Result Desc min",
         "2.3577655001168223",
         "0.023118517931839354"
        ],
        [
         "Hemoglobin Result Desc min",
         "2.196560597889951",
         "0.0336236658417991"
        ],
        [
         "LDH Result(U/L) Desc min",
         "2.0838315293464023",
         "0.04329753725705125"
        ],
        [
         "Neutrophil Result Desc std",
         "-2.1586214790121265",
         "0.0366415342109956"
        ],
        [
         "Neutrophil Result Desc min",
         "2.8589546846345004",
         "0.00659028015315858"
        ],
        [
         "Neutrophil Result Desc 25%",
         "2.8002316898342006",
         "0.007684914114662173"
        ],
        [
         "Neutrophil Result Desc 50%",
         "2.6596217160782407",
         "0.011026706474820526"
        ],
        [
         "Pct. Immature Gran Auto Result Desc mean",
         "-3.0353050682312275",
         "0.004114150415310299"
        ],
        [
         "Pct. Immature Gran Auto Result Desc std",
         "-3.1948916094200457",
         "0.0026542636784914627"
        ],
        [
         "Pct. Immature Gran Auto Result Desc 75%",
         "-2.266403910223036",
         "0.028639284456870917"
        ],
        [
         "Pct. Immature Gran Auto Result Desc max",
         "-2.9643546004042003",
         "0.004981374251458682"
        ],
        [
         "Pct. Mono Result Desc max",
         "-2.1476864581620285",
         "0.037554636175019"
        ],
        [
         "Pct. Neutrophil Result Desc mean",
         "2.5050707303954547",
         "0.01620781135528587"
        ],
        [
         "Pct. Neutrophil Result Desc std",
         "-2.30401294269148",
         "0.026237906162806045"
        ],
        [
         "Pct. Neutrophil Result Desc min",
         "3.4285159770133453",
         "0.0013713764325297797"
        ],
        [
         "Pct. Neutrophil Result Desc 25%",
         "3.4029574198976844",
         "0.0014756279473760118"
        ],
        [
         "Pct. Neutrophil Result Desc 50%",
         "2.2684312691452315",
         "0.028504996918801387"
        ],
        [
         "Platelet Count Result(k/uL) Desc min",
         "2.601236928028565",
         "0.01277255865460318"
        ],
        [
         "RBC Result Desc min",
         "2.5853039759907595",
         "0.013291188748442402"
        ],
        [
         "Sodium Result(mmol/L) Desc mean",
         "-3.7759201017843944",
         "0.0004951923993992325"
        ],
        [
         "Sodium Result(mmol/L) Desc 25%",
         "-3.3166841015263673",
         "0.0018862255152899147"
        ],
        [
         "Sodium Result(mmol/L) Desc 50%",
         "-3.8303310101526193",
         "0.000420671332309586"
        ],
        [
         "Sodium Result(mmol/L) Desc 75%",
         "-3.7870777834581797",
         "0.0004789398887265023"
        ],
        [
         "Sodium Result(mmol/L) Desc max",
         "-4.273918573748566",
         "0.00010794738053796178"
        ],
        [
         "Total Serum Protein Result Desc max",
         "-2.6980914434325927",
         "0.00999935545893624"
        ],
        [
         "WBC Result(k/uL) Desc std",
         "-2.7233687740771706",
         "0.00937317829628572"
        ]
       ],
       "shape": {
        "columns": 2,
        "rows": 94
       }
      },
      "text/html": [
       "<div>\n",
       "<style scoped>\n",
       "    .dataframe tbody tr th:only-of-type {\n",
       "        vertical-align: middle;\n",
       "    }\n",
       "\n",
       "    .dataframe tbody tr th {\n",
       "        vertical-align: top;\n",
       "    }\n",
       "\n",
       "    .dataframe thead th {\n",
       "        text-align: right;\n",
       "    }\n",
       "</style>\n",
       "<table border=\"1\" class=\"dataframe\">\n",
       "  <thead>\n",
       "    <tr style=\"text-align: right;\">\n",
       "      <th></th>\n",
       "      <th>T-stat</th>\n",
       "      <th>p-value</th>\n",
       "    </tr>\n",
       "  </thead>\n",
       "  <tbody>\n",
       "    <tr>\n",
       "      <th>Amyloid Status_no</th>\n",
       "      <td>-inf</td>\n",
       "      <td>0.000000</td>\n",
       "    </tr>\n",
       "    <tr>\n",
       "      <th>Amyloid Status_yes</th>\n",
       "      <td>inf</td>\n",
       "      <td>0.000000</td>\n",
       "    </tr>\n",
       "    <tr>\n",
       "      <th>Albumin Result(gm/dL) Desc max</th>\n",
       "      <td>-2.044781</td>\n",
       "      <td>0.047177</td>\n",
       "    </tr>\n",
       "    <tr>\n",
       "      <th>BUN Result(mg/dL) Desc mean</th>\n",
       "      <td>3.061584</td>\n",
       "      <td>0.003831</td>\n",
       "    </tr>\n",
       "    <tr>\n",
       "      <th>BUN Result(mg/dL) Desc min</th>\n",
       "      <td>3.511713</td>\n",
       "      <td>0.001079</td>\n",
       "    </tr>\n",
       "    <tr>\n",
       "      <th>...</th>\n",
       "      <td>...</td>\n",
       "      <td>...</td>\n",
       "    </tr>\n",
       "    <tr>\n",
       "      <th>WBC Result(k/uL) Exp residual error</th>\n",
       "      <td>-2.798127</td>\n",
       "      <td>0.007727</td>\n",
       "    </tr>\n",
       "    <tr>\n",
       "      <th>NT Pro BNP (B-Type Natriuretic Peptide) Exp intercpet</th>\n",
       "      <td>4.035404</td>\n",
       "      <td>0.000226</td>\n",
       "    </tr>\n",
       "    <tr>\n",
       "      <th>Troponin-T Exp intercpet</th>\n",
       "      <td>2.419213</td>\n",
       "      <td>0.019964</td>\n",
       "    </tr>\n",
       "    <tr>\n",
       "      <th>HemeTx</th>\n",
       "      <td>-2.284611</td>\n",
       "      <td>0.027453</td>\n",
       "    </tr>\n",
       "    <tr>\n",
       "      <th>HemeTx Number</th>\n",
       "      <td>-2.284611</td>\n",
       "      <td>0.027453</td>\n",
       "    </tr>\n",
       "  </tbody>\n",
       "</table>\n",
       "<p>94 rows × 2 columns</p>\n",
       "</div>"
      ],
      "text/plain": [
       "                                                      T-stat   p-value\n",
       "Amyloid Status_no                                       -inf  0.000000\n",
       "Amyloid Status_yes                                       inf  0.000000\n",
       "Albumin Result(gm/dL) Desc max                     -2.044781  0.047177\n",
       "BUN Result(mg/dL) Desc mean                         3.061584  0.003831\n",
       "BUN Result(mg/dL) Desc min                          3.511713  0.001079\n",
       "...                                                      ...       ...\n",
       "WBC Result(k/uL) Exp residual error                -2.798127  0.007727\n",
       "NT Pro BNP (B-Type Natriuretic Peptide) Exp int...  4.035404  0.000226\n",
       "Troponin-T Exp intercpet                            2.419213  0.019964\n",
       "HemeTx                                             -2.284611  0.027453\n",
       "HemeTx Number                                      -2.284611  0.027453\n",
       "\n",
       "[94 rows x 2 columns]"
      ]
     },
     "execution_count": 100,
     "metadata": {},
     "output_type": "execute_result"
    }
   ],
   "source": [
    "### T tests\n",
    "\n",
    "dict_tstats_descFits = {}\n",
    "for feature in DescFitsFeatures.columns:\n",
    "    t_statistic, p_value = stats.ttest_ind(DescFitsFeatures.loc[listPositive][feature],\n",
    "                                           DescFitsFeatures.loc[listNegative][feature])\n",
    "    dict_tstats_descFits[feature] = [t_statistic, p_value]\n",
    "\n",
    "#convert to dataframe\n",
    "df_tstats_descFits = pd.DataFrame.from_dict(dict_tstats_descFits, orient= \"index\", columns=[\"T-stat\", \"p-value\"])\n",
    "#make list of features with p values less than 0.05\n",
    "significant_features = [feature for feature in df_tstats_descFits.index \n",
    "                        if df_tstats_descFits.loc[feature, 'p-value'] <= 0.05]\n",
    "\n",
    "# #print stats \n",
    "df_tstats_descFits.loc[significant_features]"
   ]
  },
  {
   "cell_type": "code",
   "execution_count": 64,
   "metadata": {},
   "outputs": [],
   "source": [
    "### list of features with significant difference"
   ]
  },
  {
   "cell_type": "code",
   "execution_count": 65,
   "metadata": {},
   "outputs": [],
   "source": [
    "### plots of T tests"
   ]
  },
  {
   "cell_type": "code",
   "execution_count": 66,
   "metadata": {},
   "outputs": [],
   "source": [
    "### spearmans correlation"
   ]
  },
  {
   "cell_type": "code",
   "execution_count": 67,
   "metadata": {},
   "outputs": [],
   "source": [
    "### plots of spearmans"
   ]
  }
 ],
 "metadata": {
  "kernelspec": {
   "display_name": "Python 3",
   "language": "python",
   "name": "python3"
  },
  "language_info": {
   "codemirror_mode": {
    "name": "ipython",
    "version": 3
   },
   "file_extension": ".py",
   "mimetype": "text/x-python",
   "name": "python",
   "nbconvert_exporter": "python",
   "pygments_lexer": "ipython3",
   "version": "3.12.4"
  }
 },
 "nbformat": 4,
 "nbformat_minor": 2
}
