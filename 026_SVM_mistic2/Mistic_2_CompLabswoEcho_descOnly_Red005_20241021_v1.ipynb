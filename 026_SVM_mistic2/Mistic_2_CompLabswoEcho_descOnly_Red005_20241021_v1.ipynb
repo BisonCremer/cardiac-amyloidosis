{
 "cells": [
  {
   "cell_type": "markdown",
   "metadata": {},
   "source": [
    "# Importing packages"
   ]
  },
  {
   "cell_type": "code",
   "execution_count": null,
   "metadata": {},
   "outputs": [],
   "source": [
    "import os\n",
    "starting_directory = os.getcwd()\n",
    "print(os.getcwd())\n",
    "\n",
    "new_dirrectory = '/blue/ferrallm/mcremer/CardiacAmyloidosisMultipleMyeloma'\n",
    "os.chdir(new_dirrectory)"
   ]
  },
  {
   "cell_type": "code",
   "execution_count": null,
   "metadata": {},
   "outputs": [],
   "source": [
    "import sys\n",
    "# sys.path.append('/Users/c.kieslich/Box Sync/Research/featureSelection/')\n",
    "\n",
    "from mistic.svmSet import svmSet\n",
    "from mistic.cvSet import cvSet \n",
    "from mistic.utility import combined_rank, kernelWrapper, score_svc, perDiff, paramSet\n",
    "\n",
    "import matplotlib.pyplot as plt   \n",
    "import numpy as np\n",
    "import pandas as pd\n",
    "import copy\n",
    "\n",
    "from sklearn.preprocessing import StandardScaler\n",
    "from sklearn.metrics import roc_auc_score\n",
    "from sklearn.model_selection import train_test_split\n",
    "from sklearn.svm import SVC"
   ]
  },
  {
   "cell_type": "code",
   "execution_count": null,
   "metadata": {},
   "outputs": [],
   "source": [
    "import pickle"
   ]
  },
  {
   "cell_type": "code",
   "execution_count": null,
   "metadata": {},
   "outputs": [],
   "source": [
    "#some functions I wrote to help with exporting data\n",
    "def outputToExcel(df_data, fileName_header, fileName_Common, fileName_suffix,\n",
    "                  parent_dir, folderName, sheetName):\n",
    "    fileName = fileName_header + fileName_Common + fileName_suffix\n",
    "    outfile_extension = '.xlsx'\n",
    "    outfile_boxplts = fileName + outfile_extension\n",
    "    path_out= os.path.join(parent_dir, folderName, outfile_boxplts)\n",
    "\n",
    "    if os.path.exists(path_out):\n",
    "            #if old sheet\n",
    "            with pd.ExcelWriter(path_out, mode = 'a', if_sheet_exists = 'overlay') as writer:\n",
    "                    df_data.to_excel(writer, sheet_name = sheetName, index = True)\n",
    "    else: \n",
    "            #new sheet\n",
    "            with pd.ExcelWriter(path_out) as writer:\n",
    "                    df_data.to_excel(writer, sheet_name = sheetName, index = True) #if new sheet\n",
    "    \n",
    "def outputFiguresPath(fileName_header, fileName_mid, fileName_suff, parent_dir, folderName):\n",
    "        fileName_header = str(fileName_header)\n",
    "        fileName_mid = str(fileName_mid)\n",
    "        fileName_suff = str(fileName_suff)\n",
    "\n",
    "        #cleaning the input to prevent addition of / to the directory\n",
    "        fileName_header = fileName_header.replace(\"/\", \"-\")\n",
    "        fileName_mid = fileName_mid.replace(\"/\", \"-\")\n",
    "        fileName_suff = fileName_suff.replace(\"/\", \"-\")\n",
    "\n",
    "        fileName = fileName_header + fileName_mid +fileName_suff\n",
    "        out_filename = fileName + '.tif'\n",
    "        new_filepath = os.path.join(parent_dir, folderName, out_filename)\n",
    "        #the output path can be used to save the figure\n",
    "        return new_filepath\n",
    "        # plt.savefig(new_filepath, bbox_inches = 'tight')\n",
    "\n",
    "def makeFolderPathForData(parent_dir, folderName_header, folderName_common, folderName_suffix):\n",
    "    #makes a new directory for your files\n",
    "    #returns the folder name for use in other functions\n",
    "    folderName = folderName_header + folderName_common + folderName_suffix\n",
    "    path = os.path.join(parent_dir,folderName)\n",
    "    if not os.path.exists(path):\n",
    "        os.mkdir(path)\n",
    "    return folderName"
   ]
  },
  {
   "cell_type": "markdown",
   "metadata": {},
   "source": [
    "# directory management"
   ]
  },
  {
   "cell_type": "code",
   "execution_count": null,
   "metadata": {},
   "outputs": [],
   "source": [
    "# this is written to work out of the blue folder on hpg \n",
    "\n",
    "#for file outputs\n",
    "fileName_header = \"CompLabwoEcho_mdFits_descOnly_Red005\" #what data did you put in\n",
    "fileName_common = \"_Mistic2_\" #what was performed on the data, for figures, this may be added to\n",
    "fileName_suffix = \"_2024-10-21_v1\" #date and versioning\n",
    "\n",
    "saving_dirrectory = \"012 Processed Data\"\n",
    "makingFolder = makeFolderPathForData(parent_dir= saving_dirrectory, folderName_header= \"Mistic2_CompLabwoEcho_mdFits_descOnly_Red005_\", folderName_common= \"2024-10-21_\", \n",
    "                                     folderName_suffix= \"v1\")\n",
    "dataFrameFolderOut =  makingFolder #\"SVM_Mistic_Output_2024-07-19_v2\"\n",
    "pickleFolderOut = makingFolder\n",
    "\n",
    "figDirectory = \"012 Processed Data\"\n",
    "figFolder = makingFolder \n"
   ]
  },
  {
   "cell_type": "code",
   "execution_count": null,
   "metadata": {},
   "outputs": [],
   "source": [
    "#parameters of SVM \n",
    "red_factor = 0.05\n",
    "\n",
    "#cross validation and splitting \n",
    "test_size_numb = 1/5\n",
    "numb_sets = 5\n",
    "\n",
    "C_range = [2**x for x in range(-2,5)]\n",
    "gamma_range = [2**x for x in range(-9,1)]\n",
    "\n",
    "\n",
    "kernel_type = \"rbf\"\n",
    "\n",
    "rank_weights = [0,0.25,0.50,0.75,1]"
   ]
  },
  {
   "cell_type": "markdown",
   "metadata": {},
   "source": [
    "# importing our data"
   ]
  },
  {
   "cell_type": "code",
   "execution_count": null,
   "metadata": {},
   "outputs": [],
   "source": [
    "dataFileName = \"AL-KnownPts_CompLabswoEcho_descOnly_1Sheet_20241018_v1.xlsx\""
   ]
  },
  {
   "cell_type": "code",
   "execution_count": null,
   "metadata": {},
   "outputs": [],
   "source": [
    "# Import dataset\n",
    "dataTable = pd.read_excel(dataFileName, header = 0) #the dataset we are using"
   ]
  },
  {
   "cell_type": "markdown",
   "metadata": {},
   "source": [
    "# Setting up classifier"
   ]
  },
  {
   "cell_type": "markdown",
   "metadata": {},
   "source": [
    "## Scaling data and defining test set"
   ]
  },
  {
   "cell_type": "code",
   "execution_count": null,
   "metadata": {},
   "outputs": [],
   "source": [
    "#columns to drop from the x data (samples and features)\n",
    "x_columns_toDrop = ['DeID', 'Amyloid Status_yes', 'Amyloid Status_no', \"Amyloid Status_unk\"]\n",
    "\n",
    "\n",
    "#columns to use for the y data \n",
    "y_column_Classification = 'Amyloid Status_yes'"
   ]
  },
  {
   "cell_type": "code",
   "execution_count": null,
   "metadata": {},
   "outputs": [],
   "source": [
    "X = dataTable.copy()\n",
    "X.drop(columns=x_columns_toDrop,inplace=True)\n",
    "scaler = StandardScaler()\n",
    "scaler.fit(X)\n",
    "\n",
    "X_all = scaler.transform(X)\n",
    "y_all = dataTable.iloc[y_column_Classification]\n",
    "\n",
    "X_train, X_test, y_train, y_test = train_test_split(X_all, y_all, \n",
    "                                                    stratify = y_all, \n",
    "                                                    random_state= 0, \n",
    "                                                    test_size= test_size_numb)"
   ]
  },
  {
   "cell_type": "markdown",
   "metadata": {},
   "source": [
    "## define cross validation"
   ]
  },
  {
   "cell_type": "code",
   "execution_count": null,
   "metadata": {},
   "outputs": [],
   "source": [
    "cv_set = cvSet(X = X_train, y = y_train.values)\n",
    "cv_set.classification(num_sets = numb_sets)"
   ]
  },
  {
   "cell_type": "markdown",
   "metadata": {},
   "source": [
    "## initiallize SVC and parameter grids"
   ]
  },
  {
   "cell_type": "code",
   "execution_count": null,
   "metadata": {},
   "outputs": [],
   "source": [
    "svc = SVC(kernel = 'precomputed', class_weight=\"balanced\", probability=False, tol = 1e-12)\n",
    "\n",
    "\n",
    "parameter_grid = []\n",
    "for cost in C_range:\n",
    "    for gamma in gamma_range:\n",
    "        parameter_grid.append(paramSet(model={\"C\": cost},kernel={\"gamma\": gamma}))"
   ]
  },
  {
   "cell_type": "markdown",
   "metadata": {},
   "source": [
    "# feature selection"
   ]
  },
  {
   "cell_type": "code",
   "execution_count": null,
   "metadata": {},
   "outputs": [],
   "source": [
    "\n",
    "svm_set_ranks = []\n",
    "for i in range(len(rank_weights)):\n",
    "    print(f\"Rank weight: {rank_weights[i]:.2f}\")\n",
    "    svm_set_ranks.append(svmSet(svc, cv_set,\n",
    "                                score_method = score_svc().score,\n",
    "                                kernel = kernelWrapper(type = kernel_type),\n",
    "                                separate_feature_sets = False,\n",
    "                                separate_parameters = True))\n",
    "\n",
    "    svm_set_ranks[i].greedy_backward_selection(parameter_grid = parameter_grid,\n",
    "                                           reduction_factor = red_factor,\n",
    "                                           feature_ranker = combined_rank(weight=rank_weights[i]).compute,\n",
    "                                           set_for_rank = \"sample\")"
   ]
  },
  {
   "cell_type": "code",
   "execution_count": null,
   "metadata": {},
   "outputs": [],
   "source": [
    "# add pickling stage here so that you can use this data for easy replotting\n",
    "\n",
    "#if not already pickled use this block\n",
    "pickle_file_name = 'svmsetsPickle_' + fileName_header + fileName_suffix\n",
    "pickle_filePath = os.path.join(saving_dirrectory, pickleFolderOut, pickle_file_name)\n",
    "pickle_file = open(pickle_filePath, 'wb')\n",
    "pickle.dump(svm_set_ranks, pickle_file)\n",
    "\n"
   ]
  },
  {
   "cell_type": "markdown",
   "metadata": {},
   "source": [
    "# Performance plots"
   ]
  },
  {
   "cell_type": "markdown",
   "metadata": {},
   "source": [
    "## F1 and AUC plots"
   ]
  },
  {
   "cell_type": "code",
   "execution_count": null,
   "metadata": {},
   "outputs": [],
   "source": [
    "fig, ax = plt.subplots()\n",
    "\n",
    "for i in range(len(rank_weights)):\n",
    "    svm_set_ranks[i].plot_performance(metric=\"auc\")\n",
    "\n",
    "plt.legend(labels=rank_weights)\n",
    "ax.set_title(\"AUC vs Features\")\n",
    "\n",
    "#saving figure\n",
    "figCommon = fileName_common + \"_AUC\"\n",
    "figPath = outputFiguresPath(fileName_header=fileName_header, fileName_mid= figCommon, fileName_suff= fileName_suffix, parent_dir= figDirectory, folderName= figFolder)\n",
    "fig.savefig(figPath, bbox_inches = 'tight')"
   ]
  },
  {
   "cell_type": "code",
   "execution_count": null,
   "metadata": {},
   "outputs": [],
   "source": [
    "fig, ax = plt.subplots()\n",
    "\n",
    "for i in range(len(rank_weights)):\n",
    "    svm_set_ranks[i].plot_performance(metric=\"f1\")\n",
    "\n",
    "plt.legend(labels=rank_weights)\n",
    "ax.set_title(\"F1 vs Features\")\n",
    "\n",
    "#saving figure\n",
    "figCommon = fileName_common + \"_F1\"\n",
    "figPath = outputFiguresPath(fileName_header=fileName_header, fileName_mid= figCommon, fileName_suff= fileName_suffix, parent_dir= figDirectory, folderName= figFolder)\n",
    "fig.savefig(figPath, bbox_inches = 'tight')"
   ]
  },
  {
   "cell_type": "code",
   "execution_count": null,
   "metadata": {},
   "outputs": [],
   "source": [
    "fig, ax = plt.subplots()\n",
    "\n",
    "for i in range(len(rank_weights)):\n",
    "    svm_set_ranks[i].plot_performance(metric=\"score\")\n",
    "\n",
    "plt.legend(labels=rank_weights)\n",
    "ax.set_title(\"Score vs Features\")\n",
    "\n",
    "#saving figure\n",
    "figCommon = fileName_common + \"_Score\"\n",
    "figPath = outputFiguresPath(fileName_header=fileName_header, fileName_mid= figCommon, fileName_suff= fileName_suffix, parent_dir= figDirectory, folderName= figFolder)\n",
    "fig.savefig(figPath, bbox_inches = 'tight')"
   ]
  },
  {
   "cell_type": "markdown",
   "metadata": {},
   "source": [
    "# picking best model "
   ]
  },
  {
   "cell_type": "code",
   "execution_count": null,
   "metadata": {},
   "outputs": [],
   "source": [
    "enrich_score = []\n",
    "for i in range(len(rank_weights)):\n",
    "    enrich_score.append(svm_set_ranks[i].enrichment_score())\n",
    "\n",
    "# selected_run = 4 \n",
    "selected_run = enrich_score.index(max(enrich_score))\n",
    "\n",
    "enrich_score"
   ]
  },
  {
   "cell_type": "code",
   "execution_count": null,
   "metadata": {},
   "outputs": [],
   "source": [
    "#saving the feature ranking, performance, and model evaluations to spreadsheets\n",
    "bestModel = svm_set_ranks[selected_run]\n",
    "\n",
    "#collecting the performance as a dataframe\n",
    "df_bestPerformance = pd.DataFrame(bestModel.performance_)\n",
    "outputToExcel(df_data=df_bestPerformance, fileName_header=fileName_header, fileName_Common=fileName_common, fileName_suffix=fileName_suffix, parent_dir=saving_dirrectory,\n",
    "              folderName= dataFrameFolderOut, sheetName= str(selected_run) + \"_best model performance\")\n",
    "\n",
    "\n",
    "df_bestFeatures= pd.DataFrame(X.columns[svm_set_ranks[selected_run].features])\n",
    "#saving the best features\n",
    "outputToExcel(df_data=df_bestFeatures, fileName_header=fileName_header, fileName_Common=fileName_common, fileName_suffix=fileName_suffix, parent_dir=saving_dirrectory,\n",
    "              folderName= dataFrameFolderOut, sheetName= str(selected_run) + \"_features\")\n",
    "\n"
   ]
  },
  {
   "cell_type": "markdown",
   "metadata": {},
   "source": [
    "# plots for best model"
   ]
  },
  {
   "cell_type": "markdown",
   "metadata": {},
   "source": [
    "## pair plots"
   ]
  },
  {
   "cell_type": "code",
   "execution_count": null,
   "metadata": {},
   "outputs": [],
   "source": [
    "import plotly.express as px\n",
    "from seaborn import pairplot, clustermap, load_dataset\n",
    "\n",
    "palette = {np.int64(1) :'red', np.int64(0): 'blue'} #our data is of int64\n",
    "\n",
    "# selected_model = 0\n",
    "top_features = X.columns[svm_set_ranks[selected_run].sorted_features.astype(int)[0:3]].values\n",
    "fig = pairplot(dataTable[np.append(top_features, 'Diagnosis')],\n",
    "         hue=y_column_Classification, corner=True, palette=palette)\n",
    "fig.fig.suptitle(f\"Rank weight: {rank_weights[selected_run]:.2f}\", y=1.08)\n",
    "\n",
    "#saving figure\n",
    "figCommon = fileName_common + str(selected_run) + \"_pairplot\"\n",
    "figPath = outputFiguresPath(fileName_header=fileName_header, fileName_mid= figCommon, fileName_suff= fileName_suffix, parent_dir= figDirectory, folderName= figFolder)\n",
    "fig.savefig(figPath, bbox_inches = 'tight')"
   ]
  },
  {
   "cell_type": "markdown",
   "metadata": {},
   "source": [
    "## 3D scatter"
   ]
  },
  {
   "cell_type": "code",
   "execution_count": null,
   "metadata": {},
   "outputs": [],
   "source": [
    "fig = px.scatter_3d(dataTable, x=top_features[0], y=top_features[1], z=top_features[2],\n",
    "          color='Diagnosis')\n",
    "fig.update_traces(marker_size = 4)\n",
    "fig.show()"
   ]
  },
  {
   "cell_type": "markdown",
   "metadata": {},
   "source": [
    "## integrated gradients attribution"
   ]
  },
  {
   "cell_type": "code",
   "execution_count": null,
   "metadata": {},
   "outputs": [],
   "source": [
    "from scipy.cluster.hierarchy import linkage, dendrogram, leaves_list, fcluster\n",
    "\n",
    "linkMeth = \"average\"\n",
    "\n",
    "IG = svm_set_ranks[selected_run].integrated_gradient(X_test)\n",
    "\n",
    "IGtable = pd.DataFrame(IG,columns=X.columns[svm_set_ranks[selected_run].features])\n",
    "\n",
    "distMatCol = perDiff(IGtable)\n",
    "hcCol = linkage(distMatCol, method=linkMeth,optimal_ordering=True)\n",
    "\n",
    "tr_IGtable = IGtable.transpose()\n",
    "distMatRow = perDiff(tr_IGtable)\n",
    "hcRow = linkage(distMatRow, method=linkMeth,optimal_ordering=True)\n",
    "\n",
    "color_val = max(np.abs((np.mean(IG)-np.std(IG), np.mean(IG)+np.std(IG))))\n",
    "clustermap(IGtable, \n",
    "           yticklabels=False,\n",
    "           cmap=\"vlag\", vmin=-color_val, vmax=color_val,\n",
    "           row_linkage=hcRow, col_linkage=hcCol, \n",
    "           row_colors=[[\"red\",\"blue\"][int(l==np.int64(0))+0] for l in y_test])\n",
    "\n",
    "#saving figure\n",
    "figCommon = fileName_common + str(selected_run) + \"_IGheatmap\"\n",
    "figPath = outputFiguresPath(fileName_header=fileName_header, fileName_mid= figCommon, fileName_suff= fileName_suffix, parent_dir= figDirectory, folderName= figFolder)\n",
    "# plt.tight_layout()\n",
    "fig.savefig(figPath, bbox_inches = 'tight')"
   ]
  },
  {
   "cell_type": "code",
   "execution_count": null,
   "metadata": {},
   "outputs": [],
   "source": [
    "import plotly.graph_objects as go\n",
    "import plotly.express as px\n",
    "import numpy as np\n",
    "\n",
    "features = svm_set_ranks[selected_run].features\n",
    "df_X_test = pd.DataFrame(X_test[:,features],columns = IGtable.columns)\n",
    "N = len(IGtable)\n",
    "\n",
    "fig = go.Figure()\n",
    "fig.update_layout(\n",
    "    plot_bgcolor='white',\n",
    "    autosize=False,\n",
    "    width=800,\n",
    "    height=800,\n",
    "    coloraxis = {'colorscale':'Bluered'},\n",
    "    xaxis_title = \"Integrated Gradient\",\n",
    ")\n",
    "\n",
    "fig.update_xaxes(\n",
    "    zeroline=True,\n",
    "    zerolinecolor=\"black\",\n",
    "    )\n",
    "    \n",
    "fig.update_yaxes(\n",
    "    zeroline=True,\n",
    "    zerolinecolor=\"black\",\n",
    "    mirror=True,\n",
    "    ticks='outside',\n",
    "    showline=True,\n",
    "    linecolor='black',\n",
    "    gridcolor='lightgrey'\n",
    ")\n",
    "\n",
    "feature_order = np.argsort(np.sum(abs(IG),axis=0))\n",
    "\n",
    "y_val = 1\n",
    "for f in feature_order:\n",
    "    fig.add_trace(go.Scatter(\n",
    "        x = IGtable.iloc[:,f], \n",
    "        y = y_val + np.random.rand(N)*0.5 - 0.25,\n",
    "        mode = 'markers',\n",
    "        marker = dict(size=9,\n",
    "                      color = df_X_test.iloc[:,f],\n",
    "                      coloraxis = \"coloraxis\",\n",
    "                     ),\n",
    "        name=IGtable.columns[f],\n",
    "    ))\n",
    "    y_val += 1\n",
    "\n",
    "\n",
    "fig.update_layout(showlegend=False, coloraxis_showscale=True)\n",
    "fig.update_coloraxes(colorbar_showticklabels=False,\n",
    "                    colorbar_title=dict(text=\"Feature Value\",side = \"right\"),\n",
    "                    cmin = -1, cmax = 2)\n",
    "fig.update_yaxes(tickvals=[i for i in range(1,IGtable.shape[1]+1)], ticktext=IGtable.columns[feature_order])\n",
    "fig.show() \n",
    "\n",
    "#saving figure\n",
    "figCommon = fileName_common + str(selected_run) + \"_attribution\"\n",
    "figPath = outputFiguresPath(fileName_header=fileName_header, fileName_mid= figCommon, fileName_suff= fileName_suffix, parent_dir= figDirectory, folderName= figFolder)\n",
    "# plt.tight_layout()\n",
    "fig.savefig(figPath, bbox_inches = 'tight')"
   ]
  },
  {
   "cell_type": "markdown",
   "metadata": {},
   "source": [
    "## 2x2"
   ]
  },
  {
   "cell_type": "code",
   "execution_count": null,
   "metadata": {},
   "outputs": [],
   "source": [
    "feat_1 = \"Texture worst\"\n",
    "feat_2 = \"Area SE\"\n",
    "\n",
    "fig = px.scatter(x = df_X_test[feat_1], y = IGtable[feat_1], color = df_X_test[feat_2])\n",
    "fig.update_traces(marker=dict(size=12))\n",
    "\n",
    "fig.update_layout(\n",
    "    plot_bgcolor='white',\n",
    "    autosize=False,\n",
    "    width=800,\n",
    "    height=800,\n",
    "    coloraxis = {'colorscale':'Bluered'},\n",
    "    xaxis_title = feat_1,\n",
    "    yaxis_title = \"Integrated Gradient for \" + feat_1,\n",
    ")\n",
    "\n",
    "fig.update_xaxes(\n",
    "    zeroline=True,\n",
    "    zerolinecolor='lightgrey',\n",
    "    mirror=True,\n",
    "    ticks='outside',\n",
    "    showline=True,\n",
    "    linecolor='black',\n",
    "    gridcolor='lightgrey'\n",
    "    )\n",
    "    \n",
    "fig.update_yaxes(\n",
    "    zeroline=True,\n",
    "    zerolinecolor='lightgrey',\n",
    "    mirror=True,\n",
    "    ticks='outside',\n",
    "    showline=True,\n",
    "    linecolor='black',\n",
    "    gridcolor='lightgrey'\n",
    ")\n",
    "\n",
    "fig.update_coloraxes(colorbar_showticklabels=False,\n",
    "                    colorbar_title=dict(text=feat_2,side = \"right\"),\n",
    "                    cmin = -1, cmax = 2)\n",
    "\n",
    "fig.show()\n",
    "\n",
    "figCommon = fileName_common + str(selected_run) + \"_2x2\"\n",
    "figPath = outputFiguresPath(fileName_header=fileName_header, fileName_mid= figCommon, fileName_suff= fileName_suffix, parent_dir= figDirectory, folderName= figFolder)\n",
    "# plt.tight_layout()\n",
    "fig.savefig(figPath, bbox_inches = 'tight')"
   ]
  }
 ],
 "metadata": {
  "language_info": {
   "name": "python"
  }
 },
 "nbformat": 4,
 "nbformat_minor": 2
}
