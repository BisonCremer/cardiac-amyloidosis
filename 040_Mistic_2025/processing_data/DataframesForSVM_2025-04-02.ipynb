{
 "cells": [
  {
   "cell_type": "code",
   "execution_count": 6,
   "metadata": {},
   "outputs": [],
   "source": [
    "#libraries and dirrectory \n",
    "import pandas as pd\n",
    "import numpy as np\n",
    "import os\n",
    "from sklearn.linear_model import LinearRegression\n",
    "from sklearn.metrics import mean_squared_error, r2_score\n",
    "from scipy.optimize import curve_fit\n",
    "import patientFunctions as ptfn\n",
    "import seaborn as sns\n",
    "import matplotlib.pyplot as plt"
   ]
  },
  {
   "cell_type": "markdown",
   "metadata": {},
   "source": [
    "# directory management"
   ]
  },
  {
   "cell_type": "code",
   "execution_count": 7,
   "metadata": {},
   "outputs": [],
   "source": [
    "#location of original data\n",
    "starting_directory = os.getcwd()\n",
    "\n",
    "\n",
    "machine_directory = 'C:/Users/mcremer' #the C and path to the project folder\n",
    "# machine_directory = 'C:/Users/maega' #when working from home machine\n",
    "storage_directory = 'UFL Dropbox/Maegan Cremer/research-share/Maegan/Projects' #Local, HPG, or dropbox\n",
    "project_directory = 'Cardiac-Amyloidosis-Multiple-Myeloma' #project folder\n",
    "project_lv2_directory = '012 Processed Data/data-2024-06-05' #deeper part of project folder\n",
    "\n",
    "path = os.path.join(machine_directory, storage_directory, \n",
    "                    project_directory, project_lv2_directory)\n",
    "\n",
    "new_dirrectory = path\n",
    "\n",
    "os.chdir(new_dirrectory)"
   ]
  },
  {
   "cell_type": "code",
   "execution_count": 8,
   "metadata": {},
   "outputs": [],
   "source": [
    "#updates to directory management\n",
    "machine_directory = 'C:/Users/mcremer' #the C and path to the project folder\n",
    "# machine_directory = 'C:/Users/maega' #when working from home machine\n",
    "storage_directory = 'UFL Dropbox/Maegan Cremer/research-share/Maegan/Projects' #Local, HPG, or dropbox\n",
    "project_directory = 'Cardiac-Amyloidosis-Multiple-Myeloma' #project folder\n",
    "project_lv2_directory = '015_Mistic2025' #deeper part of project folder\n",
    "\n",
    "path = os.path.join(machine_directory, storage_directory, \n",
    "                    project_directory, project_lv2_directory)\n",
    "\n",
    "# parent_dir = path\n",
    "outputDir = path"
   ]
  },
  {
   "cell_type": "markdown",
   "metadata": {},
   "source": [
    "## naming file outputs"
   ]
  },
  {
   "cell_type": "code",
   "execution_count": 9,
   "metadata": {},
   "outputs": [],
   "source": [
    "folderNameHeader = \"DFsForSVM\"\n",
    "folderNameCommon = \"\"\n",
    "folderNameSuffix = \"_20250402_v1\"\n",
    "\n",
    "fileNameHeader_1 = \"DescFits\"\n",
    "# fileNameHeader_2 = \"ALUnknownPts\"\n",
    "fileNameCommon = \"_Features\"\n",
    "fileNameSuffix = \"_20250402_v1\"\n",
    "\n",
    "folder_data_out = ptfn.makeFolderPathForData(parent_dir=outputDir, folderName_header=folderNameHeader, \n",
    "                                        folderName_common=folderNameCommon, folderName_suffix=folderNameSuffix)\n",
    "# outputToExcel(*, fileName_header=fileNameHeader, fileName_Common= fileNameCommon, \n",
    "#               fileName_suffix= fileNameSuffix, folderName = folder_data_out, sheetName= *)\n",
    "\n",
    "# fig_file_out = outputFiguresPath(fileName_header=fileNameHeader, fileName_mid=**, \n",
    "#                                  fileName_suff= fileNameSuffix, parent_dir=parent_dir, folderName=folder_data_out)\n",
    "\n",
    "folderNameOut = folder_data_out"
   ]
  },
  {
   "cell_type": "code",
   "execution_count": 10,
   "metadata": {},
   "outputs": [],
   "source": [
    "#file name suffix \n",
    "outputSheet_Suffix = fileNameSuffix\n",
    "outputSheet_common = fileNameCommon"
   ]
  },
  {
   "cell_type": "markdown",
   "metadata": {},
   "source": [
    "# Penalty scores used throughout for missing data and low time resolution"
   ]
  },
  {
   "cell_type": "markdown",
   "metadata": {},
   "source": [
    "## length 1"
   ]
  },
  {
   "cell_type": "code",
   "execution_count": 11,
   "metadata": {},
   "outputs": [],
   "source": [
    "#filler information for fits of 1 point\n",
    "# one_point_STD = 0\n",
    "one_point_r2 = -1\n",
    "# one_point_residual_error = 0"
   ]
  },
  {
   "cell_type": "markdown",
   "metadata": {},
   "source": [
    "## length 0"
   ]
  },
  {
   "cell_type": "code",
   "execution_count": 12,
   "metadata": {},
   "outputs": [],
   "source": [
    "penalty_coef= np.nan\n",
    "penalty_intercept = np.nan\n",
    "penalty_R2 = np.nan\n",
    "penalty_residual_error = np.nan\n",
    "penalty_fillna = np.nan"
   ]
  },
  {
   "cell_type": "code",
   "execution_count": 13,
   "metadata": {},
   "outputs": [],
   "source": [
    "penalty_echo = -1\n"
   ]
  },
  {
   "cell_type": "markdown",
   "metadata": {},
   "source": [
    "# collecting patient information"
   ]
  },
  {
   "cell_type": "code",
   "execution_count": null,
   "metadata": {},
   "outputs": [],
   "source": [
    "#importing patient data as dictionaries of dataframes\n",
    "\n",
    "#build a dictionary of patients and their values \n",
    "ptFiles = ptfn.GetListofPTfiles(new_dirrectory, '.xlsx', 'data')\n",
    "\n",
    "ptDict = {}\n",
    "\n",
    "#loop through the listOfPatients \n",
    "for file in ptFiles: \n",
    "    pt = ptfn.patient(new_dirrectory, file, 4)\n",
    "    ptDict[pt.ptID] = pt"
   ]
  },
  {
   "cell_type": "code",
   "execution_count": 16,
   "metadata": {},
   "outputs": [],
   "source": [
    "EchoTimeColumn ='time from diagnosis to first echo (months)'\n",
    "echoDates = {}\n",
    "for pt in ptDict.keys():\n",
    "    ptEchoData = ptDict[pt].echoData\n",
    "    patientEchoDate = ptEchoData[EchoTimeColumn]\n",
    "    if 'none' not in list(patientEchoDate):\n",
    "        echoDates[pt] = patientEchoDate\n",
    "\n",
    "#test to see if this still runs and if the data is correct"
   ]
  },
  {
   "cell_type": "markdown",
   "metadata": {},
   "source": [
    "# collecting patients of interest"
   ]
  },
  {
   "cell_type": "code",
   "execution_count": null,
   "metadata": {},
   "outputs": [],
   "source": [
    "#list of patients by amyloid status \n",
    "\n",
    "listPositive = []\n",
    "listNegative = []\n",
    "listOther = []\n",
    "\n",
    "\n",
    "list_pts_remove = [\"K-01\", \"G-01\", \"J-01\", \"L-02\"]\n",
    "#remove list_pts_remove from ptDict\n",
    "for pt in list_pts_remove:\n",
    "    if pt in ptDict:\n",
    "        del ptDict[pt]\n",
    "\n",
    "#get list of positive patients \n",
    "for pt in ptDict:\n",
    "    ptALStatus = ptDict[pt].amyloid_status\n",
    "    if ptALStatus == 'positive':\n",
    "        listPositive.append(pt)\n",
    "    elif ptALStatus == 'negative':\n",
    "        listNegative.append(pt)\n",
    "    else:\n",
    "        listOther.append(pt)"
   ]
  },
  {
   "cell_type": "markdown",
   "metadata": {},
   "source": [
    "# collecting the labs of interest"
   ]
  },
  {
   "cell_type": "markdown",
   "metadata": {},
   "source": [
    "labs of interest have at least one data point for each patient and aren't tagged as methods or limits of normality"
   ]
  },
  {
   "cell_type": "code",
   "execution_count": null,
   "metadata": {},
   "outputs": [],
   "source": [
    "#for patient labs, convert to boolean and find the number of each lab (true)\n",
    "ptLabsBool = {}\n",
    "for pt in ptDict.keys():\n",
    "    ptLabsData = ptDict[pt].labsData\n",
    "    #convert to boolean if not nan\n",
    "    ptLabsData = ptLabsData.notna() #not sure this is capturing the null data correctly\n",
    "    #find the number of each lab (true)\n",
    "    ptLabsData = ptLabsData.sum(axis=0) #check the axis\n",
    "    #add to the dictionary describing the number of each lab the patient has\n",
    "    ptLabsBool[pt] = ptLabsData\n",
    "\n",
    "#then find frequency of labs across all patients\n",
    "ptLabsBool_df = pd.DataFrame(ptLabsBool)\n",
    "#count frequency of value in a column \n",
    "\n",
    "dict_value_counts_labs ={}\n",
    "for lab in ptLabsBool_df.index:\n",
    "    #call a row and perform value counts, save it to a key as the lab name in the dictionary\n",
    "    dict_value_counts_labs[lab] = ptLabsBool_df.loc[lab].value_counts()\n",
    "\n",
    "#convert to dataframe and transpose\n",
    "df_value_counts_labs = pd.DataFrame(dict_value_counts_labs).T"
   ]
  },
  {
   "cell_type": "code",
   "execution_count": 69,
   "metadata": {},
   "outputs": [],
   "source": [
    "#removing things that aren't lab values\n",
    "omit = ['Method',\"Lower Limit of Normal\", \"Upper Limit of Normal\"]\n",
    "\n",
    "#drop the rows whos string contains items from the omit list\n",
    "df_value_counts_labs_filtered = df_value_counts_labs[~df_value_counts_labs.index.str.contains('|'.join(omit))]\n",
    "\n",
    "#collect the rows where the column\"0\" is null\n",
    "df_value_counts_labs_filtered = df_value_counts_labs_filtered[df_value_counts_labs_filtered[0].isnull()]\n",
    "\n",
    "#print the index of df_value_counts_labs_filtered\n",
    "filteredLabs = df_value_counts_labs_filtered.index.tolist()"
   ]
  },
  {
   "cell_type": "code",
   "execution_count": 70,
   "metadata": {},
   "outputs": [
    {
     "data": {
      "text/plain": [
       "['Unnamed: 0',\n",
       " 'DeID',\n",
       " 'ALT Result(U/L)',\n",
       " 'AST Result(U/L)',\n",
       " 'Albumin Electrophoresis Result',\n",
       " 'Albumin Result(gm/dL)',\n",
       " 'RelTime(Days)',\n",
       " 'Survival(Mo)',\n",
       " 'BUN Result(mg/dL)',\n",
       " 'Beta-2-Microglobulin Result',\n",
       " 'Calcium Result(mg/dL)',\n",
       " 'Chloride Result(mmol/L)',\n",
       " 'Creatinine Result(mg/dL)',\n",
       " 'Glucose Result',\n",
       " 'HCT Result',\n",
       " 'Hemoglobin Result',\n",
       " 'Immature Gran Auto',\n",
       " 'Kappa Free Light Chains Result (mg/L)',\n",
       " 'Kappa/Lambda Free Light Chain Ratio Result',\n",
       " 'LDH Result(U/L)',\n",
       " 'Lambda Free Light Chains Result (mg/L)',\n",
       " 'MCH Result(pg)',\n",
       " 'MCHC Result',\n",
       " 'MCV Result',\n",
       " 'Monocyte Result',\n",
       " 'Neutrophil Result',\n",
       " 'Nucleated RBC Result',\n",
       " 'Pct. Immature Gran Auto Result',\n",
       " 'Pct. Mono Result',\n",
       " 'Pct. Neutrophil Result',\n",
       " 'Platelet Count Result(k/uL)',\n",
       " 'Potassium Result(mmol/L)',\n",
       " 'RBC Result',\n",
       " 'Serum Electrophoresis Alpha 1 Result',\n",
       " 'Serum Electrophoresis Alpha 2 Result',\n",
       " 'Serum Electrophoresis Beta Result',\n",
       " 'Serum Electrophoresis Gamma Result',\n",
       " 'Sodium Result(mmol/L)',\n",
       " 'Total Serum Protein Result',\n",
       " 'WBC Result(k/uL)',\n",
       " 'total CO2 Result',\n",
       " 'NT Pro BNP (B-Type Natriuretic Peptide)',\n",
       " 'Troponin-T']"
      ]
     },
     "execution_count": 70,
     "metadata": {},
     "output_type": "execute_result"
    }
   ],
   "source": [
    "filteredLabs"
   ]
  },
  {
   "cell_type": "markdown",
   "metadata": {},
   "source": [
    "# encoding demographic information"
   ]
  },
  {
   "cell_type": "code",
   "execution_count": null,
   "metadata": {},
   "outputs": [],
   "source": []
  },
  {
   "cell_type": "markdown",
   "metadata": {},
   "source": [
    "# encoding note information"
   ]
  },
  {
   "cell_type": "code",
   "execution_count": null,
   "metadata": {},
   "outputs": [],
   "source": []
  },
  {
   "cell_type": "markdown",
   "metadata": {},
   "source": [
    "# descriptive stats for each lab by patient\n",
    "don't forget to handle instances of 1 for values which aren't counts to be the one recorded value"
   ]
  },
  {
   "cell_type": "code",
   "execution_count": null,
   "metadata": {},
   "outputs": [],
   "source": []
  },
  {
   "cell_type": "markdown",
   "metadata": {},
   "source": [
    "# fits of data\n",
    "look in old code to see if there are better ways of writing it."
   ]
  },
  {
   "cell_type": "code",
   "execution_count": null,
   "metadata": {},
   "outputs": [],
   "source": [
    "#definitions of functions \n",
    "# def linear_model(x, a, b):\n",
    "#     return a * x + b \n",
    "\n",
    "def linear_model_forceB(x, a):\n",
    "    return a * x \n",
    "\n",
    "def quadratic_model(x, a, b, c):\n",
    "    return a * x**2 + b*x + c\n",
    "\n",
    "# Define model systems\n",
    "def quadratic_model_force(x, a, b):\n",
    "    return a * x **2 + b*x \n"
   ]
  }
 ],
 "metadata": {
  "kernelspec": {
   "display_name": "Python 3",
   "language": "python",
   "name": "python3"
  },
  "language_info": {
   "codemirror_mode": {
    "name": "ipython",
    "version": 3
   },
   "file_extension": ".py",
   "mimetype": "text/x-python",
   "name": "python",
   "nbconvert_exporter": "python",
   "pygments_lexer": "ipython3",
   "version": "3.12.4"
  }
 },
 "nbformat": 4,
 "nbformat_minor": 2
}
