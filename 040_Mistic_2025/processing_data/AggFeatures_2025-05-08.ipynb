{
 "cells": [
  {
   "cell_type": "markdown",
   "id": "ab45ac71",
   "metadata": {},
   "source": [
    "# libraries"
   ]
  },
  {
   "cell_type": "code",
   "execution_count": 1,
   "id": "b8c1129f",
   "metadata": {},
   "outputs": [],
   "source": [
    "#libraries and dirrectory \n",
    "import pandas as pd\n",
    "import numpy as np\n",
    "import os\n",
    "from sklearn.linear_model import LinearRegression\n",
    "from sklearn.metrics import mean_squared_error, r2_score\n",
    "from scipy.optimize import curve_fit\n",
    "import patientFunctions as ptfn\n",
    "import seaborn as sns\n",
    "import matplotlib.pyplot as plt\n",
    "import re\n",
    "import matplotlib.patches as mpatches\n"
   ]
  },
  {
   "cell_type": "markdown",
   "id": "c1404bdd",
   "metadata": {},
   "source": [
    "# directory"
   ]
  },
  {
   "cell_type": "markdown",
   "id": "ae19b1bf",
   "metadata": {},
   "source": [
    "## inputs"
   ]
  },
  {
   "cell_type": "code",
   "execution_count": 2,
   "id": "4a2b2dc8",
   "metadata": {},
   "outputs": [],
   "source": [
    "#updates to directory management\n",
    "machine_directory = 'C:/Users/mcremer' #the C and path to the project folder\n",
    "# machine_directory = 'C:/Users/maega' #when working from home machine\n",
    "storage_directory = 'UFL Dropbox/Maegan Cremer/research-share/Maegan/Projects' #Local, HPG, or dropbox\n",
    "project_directory = 'Cardiac-Amyloidosis-Multiple-Myeloma' #project folder\n",
    "project_lv2_directory = '017_Mistic_noNotes_t-60' #deeper part of project folder\n",
    "\n",
    "path = os.path.join(machine_directory, storage_directory, \n",
    "                    project_directory, project_lv2_directory)\n",
    "\n",
    "# parent_dir = path\n",
    "outputDir = path\n",
    "os.chdir(outputDir)"
   ]
  },
  {
   "cell_type": "markdown",
   "id": "31a308c9",
   "metadata": {},
   "source": [
    "## outputs"
   ]
  },
  {
   "cell_type": "code",
   "execution_count": 3,
   "id": "63213efd",
   "metadata": {},
   "outputs": [],
   "source": [
    "folderNameHeader = \"AggFeatures_\"\n",
    "folderNameCommon = \"\"\n",
    "folderNameSuffix = \"_20250508\"\n",
    "\n",
    "# fileNameHeader_1 = \"DF_SelectedFeats_\"\n",
    "# # fileNameHeader_2 = \"ALUnknownPts\"\n",
    "# # fileNameCommon = \"_Features\"\n",
    "# fileNameSuffix = \"_20250416\"\n",
    "\n",
    "folder_data_out = ptfn.makeFolderPathForData(parent_dir=outputDir, folderName_header=folderNameHeader, \n",
    "                                        folderName_common=folderNameCommon, folderName_suffix=folderNameSuffix)\n",
    "\n",
    "\n",
    "folderNameOut = folder_data_out"
   ]
  },
  {
   "cell_type": "markdown",
   "id": "0e06bc8d",
   "metadata": {},
   "source": [
    "# get list of models"
   ]
  },
  {
   "cell_type": "code",
   "execution_count": 4,
   "id": "ae456162",
   "metadata": {},
   "outputs": [],
   "source": [
    "# featureRed = 0.25 #feature reduction value of interest\n",
    "modelFolderNames = ['EchoAdj', 'descOnly', 'ParamsOnly', 'descFits']\n",
    "modelNames = ['EchoAdj', 'DescOnly', 'ParamsOnly', 'DescFits']\n",
    "\n",
    "#keys are the folder names\n",
    "#values are the file names\n",
    "modelNames_dict = {'EchoAdj': 'EchoAdj',\n",
    "                   'DescOnly': 'DescOnly',\n",
    "                   'ParamsOnly': 'ParamsOnly',\n",
    "                   'DescFits': 'DescFits'}"
   ]
  },
  {
   "cell_type": "code",
   "execution_count": 5,
   "id": "7e7c9356",
   "metadata": {},
   "outputs": [],
   "source": [
    "\n",
    "ConditionFolder = os.listdir(outputDir) #only for models with t-60\n"
   ]
  },
  {
   "cell_type": "code",
   "execution_count": 6,
   "id": "805e8d07",
   "metadata": {},
   "outputs": [
    {
     "data": {
      "text/plain": [
       "['AggFeatures__20250508',\n",
       " 'Book1.xlsx',\n",
       " 'DFsForSVM_noNotes_t-60__20250506_v1',\n",
       " 'DF_SelectedFeats_20250508',\n",
       " 'FeatureCorrelation.prism',\n",
       " 'MannWhitneyFeaturesStats',\n",
       " 'StatsVisuals__20250508',\n",
       " 'SVM_linear_DescFits_red01_250506_v1',\n",
       " 'SVM_linear_DescFits_red025_250506_v1',\n",
       " 'SVM_linear_DescFits_red02_250506_v1',\n",
       " 'SVM_linear_DescFits_red03_250506_v1',\n",
       " 'SVM_linear_DescOnly_red01_250506_v1',\n",
       " 'SVM_linear_DescOnly_red025_250506_v1',\n",
       " 'SVM_linear_DescOnly_red02_250506_v1',\n",
       " 'SVM_linear_DescOnly_red03_250506_v1',\n",
       " 'SVM_linear_EchoAdj_red01_250506_v1',\n",
       " 'SVM_linear_EchoAdj_red025_250506_v1',\n",
       " 'SVM_linear_EchoAdj_red02_250506_v1',\n",
       " 'SVM_linear_EchoAdj_red03_250506_v1',\n",
       " 'SVM_linear_ParamsOnly_red01_250506_v1',\n",
       " 'SVM_linear_ParamsOnly_red025_250506_v1',\n",
       " 'SVM_linear_ParamsOnly_red02_250506_v1',\n",
       " 'SVM_linear_ParamsOnly_red03_250506_v1',\n",
       " 'SVM_model_comparison_noNotes_t-60.xlsx',\n",
       " 'zips']"
      ]
     },
     "execution_count": 6,
     "metadata": {},
     "output_type": "execute_result"
    }
   ],
   "source": [
    "ConditionFolder"
   ]
  },
  {
   "cell_type": "code",
   "execution_count": 7,
   "id": "0b27071b",
   "metadata": {},
   "outputs": [],
   "source": [
    "#finding model folders\n",
    "#SVM_linear_descFits is the start of all folders for the one model\n",
    "\n",
    "modelFolders_dict = {}\n",
    "\n",
    "for model in modelNames_dict.keys():\n",
    "    listOfFolders = []\n",
    "    for name in ConditionFolder:\n",
    "        if model in name:\n",
    "            listOfFolders.append(name)\n",
    "    modelFolders_dict[model] = listOfFolders\n"
   ]
  },
  {
   "cell_type": "code",
   "execution_count": 8,
   "id": "7f65fe2b",
   "metadata": {},
   "outputs": [
    {
     "data": {
      "text/plain": [
       "{'EchoAdj': ['SVM_linear_EchoAdj_red01_250506_v1',\n",
       "  'SVM_linear_EchoAdj_red025_250506_v1',\n",
       "  'SVM_linear_EchoAdj_red02_250506_v1',\n",
       "  'SVM_linear_EchoAdj_red03_250506_v1'],\n",
       " 'DescOnly': ['SVM_linear_DescOnly_red01_250506_v1',\n",
       "  'SVM_linear_DescOnly_red025_250506_v1',\n",
       "  'SVM_linear_DescOnly_red02_250506_v1',\n",
       "  'SVM_linear_DescOnly_red03_250506_v1'],\n",
       " 'ParamsOnly': ['SVM_linear_ParamsOnly_red01_250506_v1',\n",
       "  'SVM_linear_ParamsOnly_red025_250506_v1',\n",
       "  'SVM_linear_ParamsOnly_red02_250506_v1',\n",
       "  'SVM_linear_ParamsOnly_red03_250506_v1'],\n",
       " 'DescFits': ['SVM_linear_DescFits_red01_250506_v1',\n",
       "  'SVM_linear_DescFits_red025_250506_v1',\n",
       "  'SVM_linear_DescFits_red02_250506_v1',\n",
       "  'SVM_linear_DescFits_red03_250506_v1']}"
      ]
     },
     "execution_count": 8,
     "metadata": {},
     "output_type": "execute_result"
    }
   ],
   "source": [
    "modelFolders_dict"
   ]
  },
  {
   "cell_type": "markdown",
   "id": "4bdf9367",
   "metadata": {},
   "source": [
    "# get list of features across models"
   ]
  },
  {
   "cell_type": "code",
   "execution_count": 9,
   "id": "120b42fa",
   "metadata": {},
   "outputs": [],
   "source": [
    "#SVM_linear_descFits is the start of all folders for the one model\n",
    "#SVM_linear_DescFits is the start of the file name with the feature lists and performance\n",
    "#sheet concat_features has one column per rank weight with the selected features of that rank weight's best performing model\n",
    "#the first column is index, the first row is the rank weight"
   ]
  },
  {
   "cell_type": "code",
   "execution_count": 10,
   "id": "9fb19b7d",
   "metadata": {},
   "outputs": [],
   "source": [
    "dict_ogfeats_byModel = {}\n",
    "dict_ogFeats_byFolder = {}\n",
    "dict_feats_byModel = {}\n",
    "for model in modelFolders_dict.keys():\n",
    "    #read in each of the selected features workbooks with sheet \"concat_features\"\n",
    "    model_OGdataList_multipleRuns = []\n",
    "    model_features_multipleRuns = []\n",
    "    for folder in modelFolders_dict[model]:\n",
    "        #get the folder contents\n",
    "        filesInFolder = os.listdir(os.path.join(outputDir,folder))\n",
    "        #find file name\n",
    "        fileName = ''.join([file for file in filesInFolder if \"SVM_\" in file and 'xlsx' in file])\n",
    "        #make path \n",
    "        tempPath = os.path.join(outputDir,folder,fileName)\n",
    "        dataTable = pd.read_excel(tempPath, sheet_name = 'concat_features')\n",
    "        dataMelted = pd.melt(dataTable.iloc[:,1:]).dropna()\n",
    "        model_features_multipleRuns = model_features_multipleRuns + list(dataMelted['value'])\n",
    "        ogdataList_all = [feature.split(\"_\",1)[0] for feature in dataMelted['value']]\n",
    "        ogdataList = list(set(ogdataList_all))\n",
    "        dict_ogFeats_byFolder[folder] = ogdataList\n",
    "        model_OGdataList_multipleRuns = model_OGdataList_multipleRuns + ogdataList\n",
    "    dict_ogfeats_byModel[model] = list(set(model_OGdataList_multipleRuns))\n",
    "    dict_feats_byModel[model]= list(set(model_features_multipleRuns))"
   ]
  },
  {
   "cell_type": "code",
   "execution_count": 11,
   "id": "ed0765ea",
   "metadata": {},
   "outputs": [
    {
     "data": {
      "text/plain": [
       "48"
      ]
     },
     "execution_count": 11,
     "metadata": {},
     "output_type": "execute_result"
    }
   ],
   "source": [
    "len(dict_ogfeats_byModel['ParamsOnly'])"
   ]
  },
  {
   "cell_type": "markdown",
   "id": "8762e263",
   "metadata": {},
   "source": [
    "# get the original feature frames "
   ]
  },
  {
   "cell_type": "code",
   "execution_count": 12,
   "id": "0316a75d",
   "metadata": {},
   "outputs": [],
   "source": [
    "dfFolder = os.listdir('DFsForSVM_noNotes_t-60__20250506_v1')"
   ]
  },
  {
   "cell_type": "code",
   "execution_count": 13,
   "id": "dcfb2b1a",
   "metadata": {},
   "outputs": [],
   "source": [
    "dict_dataframes = {}\n",
    "for model in modelNames_dict.values():\n",
    "    #find the file\n",
    "    fileName = ''.join([file for file in dfFolder if model in file and 'xlsx' in file])\n",
    "    features = pd.read_excel(os.path.join('DFsForSVM_noNotes_t-60__20250506_v1', fileName), sheet_name='knownPts')\n",
    "    dict_dataframes[model] = features"
   ]
  },
  {
   "cell_type": "markdown",
   "id": "db34232d",
   "metadata": {},
   "source": [
    "## compare total original data to selected original data across multiple runs"
   ]
  },
  {
   "cell_type": "code",
   "execution_count": 14,
   "id": "3f40ea7f",
   "metadata": {},
   "outputs": [
    {
     "data": {
      "text/plain": [
       "dict_keys(['EchoAdj', 'DescOnly', 'ParamsOnly', 'DescFits'])"
      ]
     },
     "execution_count": 14,
     "metadata": {},
     "output_type": "execute_result"
    }
   ],
   "source": [
    "dict_dataframes.keys()"
   ]
  },
  {
   "cell_type": "code",
   "execution_count": 15,
   "id": "a4dd0610",
   "metadata": {},
   "outputs": [
    {
     "data": {
      "text/plain": [
       "{'EchoAdj': 'EchoAdj',\n",
       " 'DescOnly': 'DescOnly',\n",
       " 'ParamsOnly': 'ParamsOnly',\n",
       " 'DescFits': 'DescFits'}"
      ]
     },
     "execution_count": 15,
     "metadata": {},
     "output_type": "execute_result"
    }
   ],
   "source": [
    "modelNames_dict"
   ]
  },
  {
   "cell_type": "code",
   "execution_count": 16,
   "id": "10d5ad72",
   "metadata": {},
   "outputs": [
    {
     "name": "stdout",
     "output_type": "stream",
     "text": [
      "DescFits\n"
     ]
    }
   ],
   "source": [
    "print(modelNames_dict.get('DescFits'))"
   ]
  },
  {
   "cell_type": "code",
   "execution_count": 17,
   "id": "11eed04d",
   "metadata": {},
   "outputs": [],
   "source": [
    "dict_model_stats = {}\n",
    "for model in dict_dataframes.keys():\n",
    "    dataTable = dict_dataframes[model]\n",
    "    # model = modelNames_dict[model]\n",
    "    dataTable=dict_dataframes[model].drop(['DeID','CA_status_yes'], axis = 1)\n",
    "\n",
    "    fullFeatureList = list(dataTable.columns)\n",
    "    fullOGData = [feature.split(\"_\",1)[0] for feature in fullFeatureList]\n",
    "\n",
    "\n",
    "\n",
    "    refFeats = dict_ogfeats_byModel[model]\n",
    "\n",
    "    stats = { 'length full feature list': len(fullFeatureList),\n",
    "             'length of selected features across runs': len(dict_feats_byModel[model]),\n",
    "             'length of original data in full feature list': len(list(set(fullOGData))),\n",
    "             'length of original data across selected features': len(refFeats)\n",
    "             }\n",
    "    dict_model_stats [model] = stats\n"
   ]
  },
  {
   "cell_type": "code",
   "execution_count": 18,
   "id": "aaeef569",
   "metadata": {},
   "outputs": [],
   "source": [
    "featureList_OGData_compare = pd.DataFrame.from_dict(dict_model_stats).T"
   ]
  },
  {
   "cell_type": "code",
   "execution_count": 19,
   "id": "befb4d6a",
   "metadata": {},
   "outputs": [],
   "source": [
    "ptfn.outputToExcel(fileName_header = \"FeatListOGDataCompare\", fileName_Common = \"\",\n",
    "                   fileName_suffix = '_2025-05-08', folderName = folderNameOut, parent_dir= outputDir,\n",
    "                   sheetName = 'all runs', df_data = featureList_OGData_compare)"
   ]
  },
  {
   "cell_type": "markdown",
   "id": "508827a1",
   "metadata": {},
   "source": [
    "# looking at features at a specific feature reduction for a model"
   ]
  },
  {
   "cell_type": "code",
   "execution_count": 33,
   "id": "223ef1bd",
   "metadata": {},
   "outputs": [],
   "source": [
    "from collections import Counter"
   ]
  },
  {
   "cell_type": "code",
   "execution_count": 36,
   "id": "a4b991ae",
   "metadata": {},
   "outputs": [],
   "source": [
    "featred = 'red03'\n",
    "dict_ogfeats_byModel = {}\n",
    "dict_ogFeats_byFolder = {}\n",
    "dict_feats_byModel = {}\n",
    "dict_ogdataCounts = {}\n",
    "dict_featCounts_byModel = {}\n",
    "for model in modelFolders_dict.keys():\n",
    "    #read in each of the selected features workbooks with sheet \"concat_features\"\n",
    "    model_OGdataList_multipleRuns = []\n",
    "    model_features_multipleRuns = []\n",
    "    for folder in modelFolders_dict[model]:\n",
    "        if featred in folder:\n",
    "            #get the folder contents\n",
    "            filesInFolder = os.listdir(os.path.join(outputDir,folder))\n",
    "            #find file name\n",
    "            fileName = ''.join([file for file in filesInFolder if \"SVM_\" in file and 'xlsx' in file])\n",
    "            #make path \n",
    "            tempPath = os.path.join(outputDir,folder,fileName)\n",
    "            dataTable = pd.read_excel(tempPath, sheet_name = 'concat_features')\n",
    "            dataMelted = pd.melt(dataTable.iloc[:,1:]).dropna()\n",
    "            model_features_multipleRuns = model_features_multipleRuns + list(dataMelted['value'])\n",
    "            #get the original data under each selected feature\n",
    "            ogdataList_all = [feature.split(\"_\",1)[0] for feature in dataMelted['value']]\n",
    "            ogdataList_counts = Counter(ogdataList_all)\n",
    "            dict_ogdataCounts[model] = ogdataList_counts\n",
    "            ogdataList = list(set(ogdataList_all))\n",
    "            dict_ogFeats_byFolder[folder] = ogdataList\n",
    "            model_OGdataList_multipleRuns = model_OGdataList_multipleRuns + ogdataList\n",
    "\n",
    "    dict_featCounts_byModel[model] = Counter(model_features_multipleRuns)\n",
    "    dict_ogfeats_byModel[model] = list(set(model_OGdataList_multipleRuns))\n",
    "    dict_feats_byModel[model]= list(set(model_features_multipleRuns))"
   ]
  },
  {
   "cell_type": "code",
   "execution_count": 37,
   "id": "0cbd7585",
   "metadata": {},
   "outputs": [
    {
     "data": {
      "text/plain": [
       "Counter({'Chloride': 43,\n",
       "         'NT Pro BNP': 43,\n",
       "         'Hemoglobin': 34,\n",
       "         'HCT': 31,\n",
       "         'Platelet Count': 30,\n",
       "         'Serum Electrophoresis Alpha 2': 30,\n",
       "         'Sodium': 26,\n",
       "         'Troponin-T': 26,\n",
       "         'BUN': 25,\n",
       "         'MCH': 24,\n",
       "         'Serum Electrophoresis Alpha 1': 24,\n",
       "         'Immature Gran Auto': 21,\n",
       "         'MCHC': 20,\n",
       "         'RBC': 20,\n",
       "         'WBC': 20,\n",
       "         'MCV': 19,\n",
       "         'Nucleated RBC': 19,\n",
       "         'Creatinine': 19,\n",
       "         'Pct Neutrophil': 18,\n",
       "         'Total Serum Protein': 17,\n",
       "         'ALT': 17,\n",
       "         'Neutrophil': 16,\n",
       "         'Albumin': 16,\n",
       "         'Beta-2-Microglobulin': 16,\n",
       "         'Potassium': 15,\n",
       "         'Lambda Free Light Chains': 14,\n",
       "         'Pct Immature Gran Auto': 14,\n",
       "         'Kappa Free Light Chains': 14,\n",
       "         'Glucose': 13,\n",
       "         'Kappa/Lambda Free Light Chain Ratio': 13,\n",
       "         'Calcium': 12,\n",
       "         'Pct Mono': 12,\n",
       "         'LDH': 11,\n",
       "         'Monocyte': 11,\n",
       "         'total CO2': 11,\n",
       "         'Serum Electrophoresis Gamma': 10,\n",
       "         'AST': 9,\n",
       "         'Albumin Electrophoresis': 8,\n",
       "         'age': 7,\n",
       "         'Serum Electrophoresis Beta': 6,\n",
       "         'RadiationTx': 2,\n",
       "         'OtherTx': 2,\n",
       "         'survival(mo)': 1})"
      ]
     },
     "execution_count": 37,
     "metadata": {},
     "output_type": "execute_result"
    }
   ],
   "source": [
    "dict_ogdataCounts['DescFits']"
   ]
  },
  {
   "cell_type": "code",
   "execution_count": 38,
   "id": "8392a9fb",
   "metadata": {},
   "outputs": [
    {
     "data": {
      "text/plain": [
       "Counter({'age': 7,\n",
       "         'Platelet Count_max': 7,\n",
       "         'BUN_25%': 6,\n",
       "         'Hemoglobin_max': 6,\n",
       "         'Serum Electrophoresis Alpha 2_mean': 6,\n",
       "         'Serum Electrophoresis Alpha 2_75%': 6,\n",
       "         'Troponin-T_linear_r2': 6,\n",
       "         'Chloride_linear_intercept': 6,\n",
       "         'HCT_75%': 5,\n",
       "         'HCT_max': 5,\n",
       "         'Platelet Count_50%': 5,\n",
       "         'Serum Electrophoresis Alpha 1_75%': 5,\n",
       "         'Chloride_linear_r2': 5,\n",
       "         'MCHC_linear_coef': 5,\n",
       "         'Total Serum Protein_linear_r2': 5,\n",
       "         'NT Pro BNP_linear_intercept': 5,\n",
       "         'NT Pro BNP_linear_r2': 5,\n",
       "         'Chloride_exp_r2': 5,\n",
       "         'Kappa Free Light Chains_exp_r2': 5,\n",
       "         'MCHC_exp_coef': 5,\n",
       "         'Total Serum Protein_exp_r2': 5,\n",
       "         'NT Pro BNP_exp_mse': 5,\n",
       "         'NT Pro BNP_exp_r2': 5,\n",
       "         'Sodium_exp_intercept': 5,\n",
       "         'Serum Electrophoresis Alpha 2_50%': 5,\n",
       "         'Chloride_25%': 5,\n",
       "         'Creatinine_min': 5,\n",
       "         'Chloride_exp_intercept': 5,\n",
       "         'Chloride_max': 4,\n",
       "         'Platelet Count_mean': 4,\n",
       "         'Potassium_25%': 4,\n",
       "         'RBC_max': 4,\n",
       "         'Serum Electrophoresis Alpha 1_max': 4,\n",
       "         'NT Pro BNP_25%': 4,\n",
       "         'NT Pro BNP_50%': 4,\n",
       "         'Albumin_linear_r2': 4,\n",
       "         'Kappa/Lambda Free Light Chain Ratio_linear_r2': 4,\n",
       "         'MCH_linear_coef': 4,\n",
       "         'Pct Immature Gran Auto_linear_mse': 4,\n",
       "         'NT Pro BNP_linear_mse': 4,\n",
       "         'Kappa/Lambda Free Light Chain Ratio_exp_coef': 4,\n",
       "         'MCH_exp_coef': 4,\n",
       "         'MCV_exp_coef': 4,\n",
       "         'RBC_exp_coef': 4,\n",
       "         'Troponin-T_exp_r2': 4,\n",
       "         'Serum Electrophoresis Alpha 1_mean': 4,\n",
       "         'Sodium_linear_intercept': 4,\n",
       "         'Beta-2-Microglobulin_50%': 4,\n",
       "         'Creatinine_50%': 4,\n",
       "         'HCT_min': 4,\n",
       "         'Pct Immature Gran Auto_max': 4,\n",
       "         'BUN_mean': 3,\n",
       "         'BUN_min': 3,\n",
       "         'BUN_50%': 3,\n",
       "         'BUN_75%': 3,\n",
       "         'Chloride_mean': 3,\n",
       "         'HCT_mean': 3,\n",
       "         'HCT_25%': 3,\n",
       "         'HCT_50%': 3,\n",
       "         'Hemoglobin_mean': 3,\n",
       "         'Hemoglobin_25%': 3,\n",
       "         'Hemoglobin_50%': 3,\n",
       "         'Hemoglobin_75%': 3,\n",
       "         'Neutrophil_25%': 3,\n",
       "         'Neutrophil_50%': 3,\n",
       "         'Platelet Count_75%': 3,\n",
       "         'Serum Electrophoresis Alpha 2_max': 3,\n",
       "         'Sodium_max': 3,\n",
       "         'WBC_25%': 3,\n",
       "         'WBC_50%': 3,\n",
       "         'NT Pro BNP_min': 3,\n",
       "         'Beta-2-Microglobulin_linear_intercept': 3,\n",
       "         'Creatinine_linear_intercept': 3,\n",
       "         'Hemoglobin_linear_r2': 3,\n",
       "         'Kappa Free Light Chains_linear_r2': 3,\n",
       "         'MCH_linear_intercept': 3,\n",
       "         'MCV_linear_coef': 3,\n",
       "         'MCV_linear_intercept': 3,\n",
       "         'Neutrophil_linear_intercept': 3,\n",
       "         'RBC_linear_coef': 3,\n",
       "         'Total Serum Protein_linear_mse': 3,\n",
       "         'WBC_linear_intercept': 3,\n",
       "         'total CO2_linear_intercept': 3,\n",
       "         'Troponin-T_linear_coef': 3,\n",
       "         'Troponin-T_linear_mse': 3,\n",
       "         'Albumin_exp_r2': 3,\n",
       "         'Creatinine_exp_intercept': 3,\n",
       "         'Hemoglobin_exp_r2': 3,\n",
       "         'Lambda Free Light Chains_exp_coef': 3,\n",
       "         'Lambda Free Light Chains_exp_mse': 3,\n",
       "         'MCH_exp_intercept': 3,\n",
       "         'MCV_exp_intercept': 3,\n",
       "         'Platelet Count_exp_mse': 3,\n",
       "         'WBC_exp_intercept': 3,\n",
       "         'Troponin-T_exp_coef': 3,\n",
       "         'Troponin-T_exp_mse': 3,\n",
       "         'Serum Electrophoresis Alpha 1_25%': 3,\n",
       "         'Albumin Electrophoresis_linear_coef': 3,\n",
       "         'Beta-2-Microglobulin_exp_intercept': 3,\n",
       "         'Chloride_exp_coef': 3,\n",
       "         'Creatinine_25%': 3,\n",
       "         'Pct Neutrophil_50%': 3,\n",
       "         'Serum Electrophoresis Alpha 2_25%': 3,\n",
       "         'Hemoglobin_linear_coef': 3,\n",
       "         'Hemoglobin_exp_coef': 3,\n",
       "         'WBC_exp_coef': 3,\n",
       "         'Immature Gran Auto_std': 3,\n",
       "         'Serum Electrophoresis Alpha 2_min': 3,\n",
       "         'Immature Gran Auto_exp_mse': 3,\n",
       "         'BUN_std': 2,\n",
       "         'Calcium_std': 2,\n",
       "         'Chloride_50%': 2,\n",
       "         'Immature Gran Auto_25%': 2,\n",
       "         'Immature Gran Auto_75%': 2,\n",
       "         'LDH_std': 2,\n",
       "         'MCH_std': 2,\n",
       "         'MCHC_std': 2,\n",
       "         'MCV_std': 2,\n",
       "         'Monocyte_std': 2,\n",
       "         'Nucleated RBC_mean': 2,\n",
       "         'Nucleated RBC_std': 2,\n",
       "         'Nucleated RBC_max': 2,\n",
       "         'Pct Immature Gran Auto_75%': 2,\n",
       "         'Pct Mono_mean': 2,\n",
       "         'Pct Mono_min': 2,\n",
       "         'Pct Mono_50%': 2,\n",
       "         'Pct Mono_75%': 2,\n",
       "         'Pct Neutrophil_std': 2,\n",
       "         'Platelet Count_25%': 2,\n",
       "         'Potassium_std': 2,\n",
       "         'RBC_mean': 2,\n",
       "         'RBC_25%': 2,\n",
       "         'RBC_50%': 2,\n",
       "         'RBC_75%': 2,\n",
       "         'Sodium_std': 2,\n",
       "         'Total Serum Protein_std': 2,\n",
       "         'NT Pro BNP_mean': 2,\n",
       "         'NT Pro BNP_std': 2,\n",
       "         'Troponin-T_std': 2,\n",
       "         'ALT_linear_r2': 2,\n",
       "         'AST_linear_mse': 2,\n",
       "         'Albumin_linear_intercept': 2,\n",
       "         'Albumin_linear_mse': 2,\n",
       "         'Calcium_linear_mse': 2,\n",
       "         'Glucose_linear_coef': 2,\n",
       "         'Glucose_linear_intercept': 2,\n",
       "         'HCT_linear_r2': 2,\n",
       "         'Immature Gran Auto_linear_intercept': 2,\n",
       "         'LDH_linear_mse': 2,\n",
       "         'LDH_linear_r2': 2,\n",
       "         'Lambda Free Light Chains_linear_coef': 2,\n",
       "         'Lambda Free Light Chains_linear_intercept': 2,\n",
       "         'MCH_linear_mse': 2,\n",
       "         'MCHC_linear_intercept': 2,\n",
       "         'MCHC_linear_mse': 2,\n",
       "         'MCV_linear_mse': 2,\n",
       "         'Monocyte_linear_intercept': 2,\n",
       "         'Monocyte_linear_mse': 2,\n",
       "         'Nucleated RBC_linear_coef': 2,\n",
       "         'Nucleated RBC_linear_intercept': 2,\n",
       "         'Nucleated RBC_linear_mse': 2,\n",
       "         'Pct Neutrophil_linear_intercept': 2,\n",
       "         'Platelet Count_linear_r2': 2,\n",
       "         'Potassium_linear_mse': 2,\n",
       "         'Serum Electrophoresis Alpha 1_linear_coef': 2,\n",
       "         'Serum Electrophoresis Gamma_linear_mse': 2,\n",
       "         'Sodium_linear_mse': 2,\n",
       "         'ALT_exp_mse': 2,\n",
       "         'ALT_exp_r2': 2,\n",
       "         'Albumin_exp_intercept': 2,\n",
       "         'Albumin_exp_mse': 2,\n",
       "         'BUN_exp_mse': 2,\n",
       "         'Calcium_exp_mse': 2,\n",
       "         'Glucose_exp_coef': 2,\n",
       "         'Glucose_exp_intercept': 2,\n",
       "         'HCT_exp_mse': 2,\n",
       "         'HCT_exp_r2': 2,\n",
       "         'Immature Gran Auto_exp_intercept': 2,\n",
       "         'Kappa Free Light Chains_exp_coef': 2,\n",
       "         'Kappa Free Light Chains_exp_mse': 2,\n",
       "         'LDH_exp_mse': 2,\n",
       "         'LDH_exp_r2': 2,\n",
       "         'Lambda Free Light Chains_exp_intercept': 2,\n",
       "         'MCH_exp_mse': 2,\n",
       "         'MCHC_exp_intercept': 2,\n",
       "         'MCHC_exp_mse': 2,\n",
       "         'MCV_exp_mse': 2,\n",
       "         'Monocyte_exp_intercept': 2,\n",
       "         'Neutrophil_exp_intercept': 2,\n",
       "         'Nucleated RBC_exp_coef': 2,\n",
       "         'Nucleated RBC_exp_intercept': 2,\n",
       "         'Nucleated RBC_exp_mse': 2,\n",
       "         'Pct Neutrophil_exp_intercept': 2,\n",
       "         'Pct Neutrophil_exp_mse': 2,\n",
       "         'Platelet Count_exp_r2': 2,\n",
       "         'Potassium_exp_mse': 2,\n",
       "         'Serum Electrophoresis Alpha 1_exp_coef': 2,\n",
       "         'Serum Electrophoresis Beta_exp_mse': 2,\n",
       "         'Serum Electrophoresis Gamma_exp_intercept': 2,\n",
       "         'Serum Electrophoresis Gamma_exp_mse': 2,\n",
       "         'Sodium_exp_mse': 2,\n",
       "         'Total Serum Protein_exp_mse': 2,\n",
       "         'total CO2_exp_intercept': 2,\n",
       "         'total CO2_exp_mse': 2,\n",
       "         'Calcium_exp_r2': 2,\n",
       "         'Immature Gran Auto_mean': 2,\n",
       "         'MCH_75%': 2,\n",
       "         'Serum Electrophoresis Alpha 2_std': 2,\n",
       "         'total CO2_max': 2,\n",
       "         'Serum Electrophoresis Gamma_linear_r2': 2,\n",
       "         'Neutrophil_exp_mse': 2,\n",
       "         'Beta-2-Microglobulin_25%': 2,\n",
       "         'Beta-2-Microglobulin_75%': 2,\n",
       "         'Pct Neutrophil_25%': 2,\n",
       "         'Sodium_linear_r2': 2,\n",
       "         'WBC_linear_mse': 2,\n",
       "         'Immature Gran Auto_linear_mse': 2,\n",
       "         'Serum Electrophoresis Beta_max': 2,\n",
       "         'NT Pro BNP_exp_intercept': 2,\n",
       "         'Hemoglobin_min': 2,\n",
       "         'RadiationTx': 1,\n",
       "         'OtherTx': 1,\n",
       "         'RadiationTx_True': 1,\n",
       "         'OtherTx_True': 1,\n",
       "         'Chloride_std': 1,\n",
       "         'Chloride_75%': 1,\n",
       "         'Glucose_50%': 1,\n",
       "         'Glucose_75%': 1,\n",
       "         'Glucose_max': 1,\n",
       "         'Lambda Free Light Chains_std': 1,\n",
       "         'ALT_linear_coef': 1,\n",
       "         'Hemoglobin_linear_intercept': 1,\n",
       "         'Kappa/Lambda Free Light Chain Ratio_linear_coef': 1,\n",
       "         'Lambda Free Light Chains_linear_mse': 1,\n",
       "         'Potassium_linear_intercept': 1,\n",
       "         'Serum Electrophoresis Gamma_linear_intercept': 1,\n",
       "         'NT Pro BNP_linear_coef': 1,\n",
       "         'AST_exp_mse': 1,\n",
       "         'Albumin Electrophoresis_exp_mse': 1,\n",
       "         'Chloride_exp_mse': 1,\n",
       "         'Creatinine_exp_mse': 1,\n",
       "         'Glucose_exp_mse': 1,\n",
       "         'Hemoglobin_exp_mse': 1,\n",
       "         'Potassium_exp_intercept': 1,\n",
       "         'RBC_exp_mse': 1,\n",
       "         'Serum Electrophoresis Alpha 2_exp_mse': 1,\n",
       "         'survival(mo)': 1,\n",
       "         'ALT_mean': 1,\n",
       "         'ALT_std': 1,\n",
       "         'ALT_min': 1,\n",
       "         'ALT_25%': 1,\n",
       "         'ALT_50%': 1,\n",
       "         'ALT_75%': 1,\n",
       "         'ALT_max': 1,\n",
       "         'AST_mean': 1,\n",
       "         'AST_25%': 1,\n",
       "         'AST_50%': 1,\n",
       "         'AST_75%': 1,\n",
       "         'Albumin Electrophoresis_std': 1,\n",
       "         'Albumin Electrophoresis_75%': 1,\n",
       "         'Albumin Electrophoresis_max': 1,\n",
       "         'Beta-2-Microglobulin_mean': 1,\n",
       "         'Beta-2-Microglobulin_min': 1,\n",
       "         'Calcium_max': 1,\n",
       "         'Glucose_min': 1,\n",
       "         'Immature Gran Auto_min': 1,\n",
       "         'Kappa Free Light Chains_min': 1,\n",
       "         'Kappa Free Light Chains_25%': 1,\n",
       "         'Kappa/Lambda Free Light Chain Ratio_min': 1,\n",
       "         'LDH_25%': 1,\n",
       "         'Neutrophil_mean': 1,\n",
       "         'Neutrophil_min': 1,\n",
       "         'Nucleated RBC_75%': 1,\n",
       "         'Pct Immature Gran Auto_mean': 1,\n",
       "         'Pct Immature Gran Auto_50%': 1,\n",
       "         'Pct Mono_std': 1,\n",
       "         'Pct Mono_25%': 1,\n",
       "         'Pct Mono_max': 1,\n",
       "         'Pct Neutrophil_mean': 1,\n",
       "         'Pct Neutrophil_min': 1,\n",
       "         'Pct Neutrophil_max': 1,\n",
       "         'Platelet Count_min': 1,\n",
       "         'Potassium_mean': 1,\n",
       "         'Potassium_50%': 1,\n",
       "         'Potassium_75%': 1,\n",
       "         'Serum Electrophoresis Alpha 1_std': 1,\n",
       "         'Serum Electrophoresis Alpha 1_min': 1,\n",
       "         'Serum Electrophoresis Alpha 1_50%': 1,\n",
       "         'WBC_mean': 1,\n",
       "         'WBC_std': 1,\n",
       "         'NT Pro BNP_75%': 1,\n",
       "         'ALT_linear_mse': 1,\n",
       "         'AST_linear_coef': 1,\n",
       "         'Albumin Electrophoresis_linear_intercept': 1,\n",
       "         'BUN_linear_mse': 1,\n",
       "         'BUN_linear_r2': 1,\n",
       "         'Calcium_linear_coef': 1,\n",
       "         'Calcium_linear_r2': 1,\n",
       "         'Chloride_linear_coef': 1,\n",
       "         'HCT_linear_coef': 1,\n",
       "         'Immature Gran Auto_linear_coef': 1,\n",
       "         'Kappa/Lambda Free Light Chain Ratio_linear_intercept': 1,\n",
       "         'MCH_linear_r2': 1,\n",
       "         'Monocyte_linear_coef': 1,\n",
       "         'Monocyte_linear_r2': 1,\n",
       "         'Pct Mono_linear_r2': 1,\n",
       "         'Pct Neutrophil_linear_coef': 1,\n",
       "         'Platelet Count_linear_mse': 1,\n",
       "         'Serum Electrophoresis Alpha 1_linear_intercept': 1,\n",
       "         'Serum Electrophoresis Alpha 2_linear_coef': 1,\n",
       "         'Serum Electrophoresis Beta_linear_mse': 1,\n",
       "         'Sodium_linear_coef': 1,\n",
       "         'total CO2_linear_r2': 1,\n",
       "         'ALT_exp_coef': 1,\n",
       "         'ALT_exp_intercept': 1,\n",
       "         'AST_exp_coef': 1,\n",
       "         'Albumin_exp_coef': 1,\n",
       "         'BUN_exp_intercept': 1,\n",
       "         'Calcium_exp_coef': 1,\n",
       "         'HCT_exp_coef': 1,\n",
       "         'Immature Gran Auto_exp_coef': 1,\n",
       "         'Kappa/Lambda Free Light Chain Ratio_exp_mse': 1,\n",
       "         'Kappa/Lambda Free Light Chain Ratio_exp_r2': 1,\n",
       "         'MCH_exp_r2': 1,\n",
       "         'Monocyte_exp_r2': 1,\n",
       "         'Neutrophil_exp_coef': 1,\n",
       "         'Pct Neutrophil_exp_coef': 1,\n",
       "         'Serum Electrophoresis Gamma_exp_r2': 1,\n",
       "         'Sodium_exp_coef': 1,\n",
       "         'Sodium_exp_r2': 1,\n",
       "         'WBC_exp_mse': 1,\n",
       "         'total CO2_exp_r2': 1,\n",
       "         'Chloride_min': 1,\n",
       "         'Pct Immature Gran Auto_std': 1,\n",
       "         'Serum Electrophoresis Beta_std': 1,\n",
       "         'Sodium_mean': 1,\n",
       "         'Sodium_25%': 1,\n",
       "         'Sodium_50%': 1,\n",
       "         'Troponin-T_50%': 1,\n",
       "         'Troponin-T_75%': 1,\n",
       "         'Pct Immature Gran Auto_exp_mse': 1})"
      ]
     },
     "execution_count": 38,
     "metadata": {},
     "output_type": "execute_result"
    }
   ],
   "source": [
    "dict_featCounts_byModel['DescFits']"
   ]
  },
  {
   "cell_type": "code",
   "execution_count": 27,
   "id": "03ac1e7b",
   "metadata": {},
   "outputs": [],
   "source": [
    "dict_model_stats = {}\n",
    "for model in dict_dataframes.keys():\n",
    "    dataTable = dict_dataframes[model]\n",
    "    # model = modelNames_dict[model]\n",
    "    dataTable=dict_dataframes[model].drop(['DeID','CA_status_yes'], axis = 1)\n",
    "\n",
    "    fullFeatureList = list(dataTable.columns)\n",
    "    fullOGData = [feature.split(\"_\",1)[0] for feature in fullFeatureList]\n",
    "\n",
    "\n",
    "\n",
    "    refFeats = dict_ogfeats_byModel[model]\n",
    "\n",
    "    stats = { 'length full feature list': len(fullFeatureList),\n",
    "             'length of selected features across runs': len(dict_feats_byModel[model]),\n",
    "             'length of original data in full feature list': len(list(set(fullOGData))),\n",
    "             'length of original data across selected features': len(refFeats)\n",
    "             }\n",
    "    dict_model_stats [model] = stats\n",
    "\n",
    "featureList_OGData_compare = pd.DataFrame.from_dict(dict_model_stats).T\n",
    "\n",
    "ptfn.outputToExcel(fileName_header = \"FeatListOGDataCompare\", fileName_Common = \"\",\n",
    "                   fileName_suffix = '_2025-05-08', folderName = folderNameOut, parent_dir= outputDir,\n",
    "                   sheetName = featred, df_data = featureList_OGData_compare)"
   ]
  },
  {
   "cell_type": "code",
   "execution_count": null,
   "id": "5f7afc64",
   "metadata": {},
   "outputs": [],
   "source": []
  }
 ],
 "metadata": {
  "kernelspec": {
   "display_name": "Python 3",
   "language": "python",
   "name": "python3"
  },
  "language_info": {
   "codemirror_mode": {
    "name": "ipython",
    "version": 3
   },
   "file_extension": ".py",
   "mimetype": "text/x-python",
   "name": "python",
   "nbconvert_exporter": "python",
   "pygments_lexer": "ipython3",
   "version": "3.12.4"
  }
 },
 "nbformat": 4,
 "nbformat_minor": 5
}
