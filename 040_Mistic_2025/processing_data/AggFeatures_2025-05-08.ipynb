{
 "cells": [
  {
   "cell_type": "markdown",
   "id": "ab45ac71",
   "metadata": {},
   "source": [
    "# libraries"
   ]
  },
  {
   "cell_type": "code",
   "execution_count": 148,
   "id": "b8c1129f",
   "metadata": {},
   "outputs": [],
   "source": [
    "#libraries and dirrectory \n",
    "import pandas as pd\n",
    "import numpy as np\n",
    "import os\n",
    "from sklearn.linear_model import LinearRegression\n",
    "from sklearn.metrics import mean_squared_error, r2_score\n",
    "from scipy.optimize import curve_fit\n",
    "import patientFunctions as ptfn\n",
    "import seaborn as sns\n",
    "import matplotlib.pyplot as plt\n",
    "import re\n",
    "import matplotlib.patches as mpatches\n"
   ]
  },
  {
   "cell_type": "markdown",
   "id": "c1404bdd",
   "metadata": {},
   "source": [
    "# directory"
   ]
  },
  {
   "cell_type": "markdown",
   "id": "ae19b1bf",
   "metadata": {},
   "source": [
    "## inputs"
   ]
  },
  {
   "cell_type": "code",
   "execution_count": 149,
   "id": "4a2b2dc8",
   "metadata": {},
   "outputs": [],
   "source": [
    "#updates to directory management\n",
    "# machine_directory = 'C:/Users/mcremer' #the C and path to the project folder\n",
    "machine_directory = 'C:/Users/maega' #when working from home machine\n",
    "storage_directory = 'UFL Dropbox/Maegan Cremer/research-share/Maegan/Projects' #Local, HPG, or dropbox\n",
    "project_directory = 'Cardiac-Amyloidosis-Multiple-Myeloma' #project folder\n",
    "project_lv2_directory = '017_Mistic_noNotes_t-60' #deeper part of project folder\n",
    "\n",
    "path = os.path.join(machine_directory, storage_directory, \n",
    "                    project_directory, project_lv2_directory)\n",
    "\n",
    "# parent_dir = path\n",
    "outputDir = path\n",
    "os.chdir(outputDir)"
   ]
  },
  {
   "cell_type": "markdown",
   "id": "31a308c9",
   "metadata": {},
   "source": [
    "## outputs"
   ]
  },
  {
   "cell_type": "code",
   "execution_count": 150,
   "id": "63213efd",
   "metadata": {},
   "outputs": [],
   "source": [
    "folderNameHeader = \"AggFeatures_\"\n",
    "folderNameCommon = \"\"\n",
    "folderNameSuffix = \"_20250508\"\n",
    "\n",
    "# fileNameHeader_1 = \"DF_SelectedFeats_\"\n",
    "# # fileNameHeader_2 = \"ALUnknownPts\"\n",
    "# # fileNameCommon = \"_Features\"\n",
    "# fileNameSuffix = \"_20250416\"\n",
    "\n",
    "folder_data_out = ptfn.makeFolderPathForData(parent_dir=outputDir, folderName_header=folderNameHeader, \n",
    "                                        folderName_common=folderNameCommon, folderName_suffix=folderNameSuffix)\n",
    "\n",
    "\n",
    "folderNameOut = folder_data_out"
   ]
  },
  {
   "cell_type": "markdown",
   "id": "0e06bc8d",
   "metadata": {},
   "source": [
    "# get list of models"
   ]
  },
  {
   "cell_type": "code",
   "execution_count": 151,
   "id": "ae456162",
   "metadata": {},
   "outputs": [],
   "source": [
    "# featureRed = 0.25 #feature reduction value of interest\n",
    "modelFolderNames = ['EchoAdj', 'descOnly', 'ParamsOnly', 'descFits']\n",
    "modelNames = ['EchoAdj', 'DescOnly', 'ParamsOnly', 'DescFits']\n",
    "\n",
    "#keys are the folder names\n",
    "#values are the file names\n",
    "modelNames_dict = {'EchoAdj': 'EchoAdj',\n",
    "                   'DescOnly': 'DescOnly',\n",
    "                   'ParamsOnly': 'ParamsOnly',\n",
    "                   'DescFits': 'DescFits'}"
   ]
  },
  {
   "cell_type": "code",
   "execution_count": 152,
   "id": "7e7c9356",
   "metadata": {},
   "outputs": [],
   "source": [
    "\n",
    "ConditionFolder = os.listdir(outputDir) #only for models with t-60\n"
   ]
  },
  {
   "cell_type": "code",
   "execution_count": 153,
   "id": "805e8d07",
   "metadata": {},
   "outputs": [
    {
     "data": {
      "text/plain": [
       "['AggFeatures__20250508',\n",
       " 'Book1.xlsx',\n",
       " 'DFsForSVM_noNotes_t-60__20250506_v1',\n",
       " 'DF_SelectedFeats_20250508',\n",
       " 'FeatureCorrelation.prism',\n",
       " 'MannWhitneyFeaturesStats',\n",
       " 'StatsVisuals__20250508',\n",
       " 'SVM_linear_DescFits_red01_250506_v1',\n",
       " 'SVM_linear_DescFits_red025_250506_v1',\n",
       " 'SVM_linear_DescFits_red02_250506_v1',\n",
       " 'SVM_linear_DescFits_red03_250506_v1',\n",
       " 'SVM_linear_DescOnly_red01_250506_v1',\n",
       " 'SVM_linear_DescOnly_red025_250506_v1',\n",
       " 'SVM_linear_DescOnly_red02_250506_v1',\n",
       " 'SVM_linear_DescOnly_red03_250506_v1',\n",
       " 'SVM_linear_EchoAdj_red01_250506_v1',\n",
       " 'SVM_linear_EchoAdj_red025_250506_v1',\n",
       " 'SVM_linear_EchoAdj_red02_250506_v1',\n",
       " 'SVM_linear_EchoAdj_red03_250506_v1',\n",
       " 'SVM_linear_ParamsOnly_red01_250506_v1',\n",
       " 'SVM_linear_ParamsOnly_red025_250506_v1',\n",
       " 'SVM_linear_ParamsOnly_red02_250506_v1',\n",
       " 'SVM_linear_ParamsOnly_red03_250506_v1',\n",
       " 'SVM_model_comparison_noNotes_t-60.xlsx',\n",
       " 'zips']"
      ]
     },
     "execution_count": 153,
     "metadata": {},
     "output_type": "execute_result"
    }
   ],
   "source": [
    "ConditionFolder"
   ]
  },
  {
   "cell_type": "code",
   "execution_count": 154,
   "id": "0b27071b",
   "metadata": {},
   "outputs": [],
   "source": [
    "#finding model folders\n",
    "#SVM_linear_descFits is the start of all folders for the one model\n",
    "\n",
    "modelFolders_dict = {}\n",
    "\n",
    "for model in modelNames_dict.keys():\n",
    "    listOfFolders = []\n",
    "    for name in ConditionFolder:\n",
    "        if model in name:\n",
    "            listOfFolders.append(name)\n",
    "    modelFolders_dict[model] = listOfFolders\n"
   ]
  },
  {
   "cell_type": "code",
   "execution_count": 155,
   "id": "7f65fe2b",
   "metadata": {},
   "outputs": [
    {
     "data": {
      "text/plain": [
       "{'EchoAdj': ['SVM_linear_EchoAdj_red01_250506_v1',\n",
       "  'SVM_linear_EchoAdj_red025_250506_v1',\n",
       "  'SVM_linear_EchoAdj_red02_250506_v1',\n",
       "  'SVM_linear_EchoAdj_red03_250506_v1'],\n",
       " 'DescOnly': ['SVM_linear_DescOnly_red01_250506_v1',\n",
       "  'SVM_linear_DescOnly_red025_250506_v1',\n",
       "  'SVM_linear_DescOnly_red02_250506_v1',\n",
       "  'SVM_linear_DescOnly_red03_250506_v1'],\n",
       " 'ParamsOnly': ['SVM_linear_ParamsOnly_red01_250506_v1',\n",
       "  'SVM_linear_ParamsOnly_red025_250506_v1',\n",
       "  'SVM_linear_ParamsOnly_red02_250506_v1',\n",
       "  'SVM_linear_ParamsOnly_red03_250506_v1'],\n",
       " 'DescFits': ['SVM_linear_DescFits_red01_250506_v1',\n",
       "  'SVM_linear_DescFits_red025_250506_v1',\n",
       "  'SVM_linear_DescFits_red02_250506_v1',\n",
       "  'SVM_linear_DescFits_red03_250506_v1']}"
      ]
     },
     "execution_count": 155,
     "metadata": {},
     "output_type": "execute_result"
    }
   ],
   "source": [
    "modelFolders_dict"
   ]
  },
  {
   "cell_type": "markdown",
   "id": "4bdf9367",
   "metadata": {},
   "source": [
    "# get list of features across models"
   ]
  },
  {
   "cell_type": "code",
   "execution_count": 156,
   "id": "120b42fa",
   "metadata": {},
   "outputs": [],
   "source": [
    "#SVM_linear_descFits is the start of all folders for the one model\n",
    "#SVM_linear_DescFits is the start of the file name with the feature lists and performance\n",
    "#sheet concat_features has one column per rank weight with the selected features of that rank weight's best performing model\n",
    "#the first column is index, the first row is the rank weight"
   ]
  },
  {
   "cell_type": "code",
   "execution_count": 157,
   "id": "9fb19b7d",
   "metadata": {},
   "outputs": [],
   "source": [
    "dict_ogfeats_byModel = {}\n",
    "dict_ogFeats_byFolder = {}\n",
    "dict_feats_byModel = {}\n",
    "for model in modelFolders_dict.keys():\n",
    "    #read in each of the selected features workbooks with sheet \"concat_features\"\n",
    "    model_OGdataList_multipleRuns = []\n",
    "    model_features_multipleRuns = []\n",
    "    for folder in modelFolders_dict[model]:\n",
    "        #get the folder contents\n",
    "        filesInFolder = os.listdir(os.path.join(outputDir,folder))\n",
    "        #find file name\n",
    "        fileName = ''.join([file for file in filesInFolder if \"SVM_\" in file and 'xlsx' in file])\n",
    "        #make path \n",
    "        tempPath = os.path.join(outputDir,folder,fileName)\n",
    "        dataTable = pd.read_excel(tempPath, sheet_name = 'concat_features')\n",
    "        dataMelted = pd.melt(dataTable.iloc[:,1:]).dropna()\n",
    "        model_features_multipleRuns = model_features_multipleRuns + list(dataMelted['value'])\n",
    "        ogdataList_all = [feature.split(\"_\",1)[0] for feature in dataMelted['value']]\n",
    "        ogdataList = list(set(ogdataList_all))\n",
    "        dict_ogFeats_byFolder[folder] = ogdataList\n",
    "        model_OGdataList_multipleRuns = model_OGdataList_multipleRuns + ogdataList\n",
    "    dict_ogfeats_byModel[model] = list(set(model_OGdataList_multipleRuns))\n",
    "    dict_feats_byModel[model]= list(set(model_features_multipleRuns))"
   ]
  },
  {
   "cell_type": "code",
   "execution_count": 158,
   "id": "ed0765ea",
   "metadata": {},
   "outputs": [
    {
     "data": {
      "text/plain": [
       "48"
      ]
     },
     "execution_count": 158,
     "metadata": {},
     "output_type": "execute_result"
    }
   ],
   "source": [
    "len(dict_ogfeats_byModel['ParamsOnly'])"
   ]
  },
  {
   "cell_type": "markdown",
   "id": "8762e263",
   "metadata": {},
   "source": [
    "# get the original feature frames "
   ]
  },
  {
   "cell_type": "code",
   "execution_count": 159,
   "id": "0316a75d",
   "metadata": {},
   "outputs": [],
   "source": [
    "dfFolder = os.listdir('DFsForSVM_noNotes_t-60__20250506_v1')"
   ]
  },
  {
   "cell_type": "code",
   "execution_count": 160,
   "id": "dcfb2b1a",
   "metadata": {},
   "outputs": [],
   "source": [
    "dict_dataframes = {}\n",
    "for model in modelNames_dict.values():\n",
    "    #find the file\n",
    "    fileName = ''.join([file for file in dfFolder if model in file and 'xlsx' in file])\n",
    "    features = pd.read_excel(os.path.join('DFsForSVM_noNotes_t-60__20250506_v1', fileName), sheet_name='knownPts')\n",
    "    dict_dataframes[model] = features"
   ]
  },
  {
   "cell_type": "markdown",
   "id": "db34232d",
   "metadata": {},
   "source": [
    "## compare total original data to selected original data across multiple runs"
   ]
  },
  {
   "cell_type": "code",
   "execution_count": 161,
   "id": "3f40ea7f",
   "metadata": {},
   "outputs": [
    {
     "data": {
      "text/plain": [
       "dict_keys(['EchoAdj', 'DescOnly', 'ParamsOnly', 'DescFits'])"
      ]
     },
     "execution_count": 161,
     "metadata": {},
     "output_type": "execute_result"
    }
   ],
   "source": [
    "dict_dataframes.keys()"
   ]
  },
  {
   "cell_type": "code",
   "execution_count": 162,
   "id": "a4dd0610",
   "metadata": {},
   "outputs": [
    {
     "data": {
      "text/plain": [
       "{'EchoAdj': 'EchoAdj',\n",
       " 'DescOnly': 'DescOnly',\n",
       " 'ParamsOnly': 'ParamsOnly',\n",
       " 'DescFits': 'DescFits'}"
      ]
     },
     "execution_count": 162,
     "metadata": {},
     "output_type": "execute_result"
    }
   ],
   "source": [
    "modelNames_dict"
   ]
  },
  {
   "cell_type": "code",
   "execution_count": 163,
   "id": "10d5ad72",
   "metadata": {},
   "outputs": [
    {
     "name": "stdout",
     "output_type": "stream",
     "text": [
      "DescFits\n"
     ]
    }
   ],
   "source": [
    "print(modelNames_dict.get('DescFits'))"
   ]
  },
  {
   "cell_type": "code",
   "execution_count": 168,
   "id": "11eed04d",
   "metadata": {},
   "outputs": [],
   "source": [
    "dict_model_stats = {}\n",
    "for model in dict_dataframes.keys():\n",
    "    dataTable = dict_dataframes[model]\n",
    "    # model = modelNames_dict[model]\n",
    "    dataTable=dict_dataframes[model].drop(['DeID','CA_status_yes'], axis = 1)\n",
    "\n",
    "    fullFeatureList = list(dataTable.columns)\n",
    "    fullOGData = [feature.split(\"_\",1)[0] for feature in fullFeatureList]\n",
    "\n",
    "\n",
    "\n",
    "    refFeats = dict_ogfeats_byModel[model]\n",
    "\n",
    "    stats = { 'length full feature list': len(fullFeatureList),\n",
    "             'length of selected features across runs': len(dict_feats_byModel[model]),\n",
    "             'length of original data in full feature list': len(list(set(fullOGData))),\n",
    "             'length of original data across selected features': len(refFeats)\n",
    "             }\n",
    "    dict_model_stats [model] = stats\n"
   ]
  },
  {
   "cell_type": "code",
   "execution_count": 172,
   "id": "aaeef569",
   "metadata": {},
   "outputs": [],
   "source": [
    "featureList_OGData_compare = pd.DataFrame.from_dict(dict_model_stats).T"
   ]
  },
  {
   "cell_type": "code",
   "execution_count": 173,
   "id": "befb4d6a",
   "metadata": {},
   "outputs": [],
   "source": [
    "ptfn.outputToExcel(fileName_header = \"FeatListOGDataCompare\", fileName_Common = \"\",\n",
    "                   fileName_suffix = '_2025-05-08', folderName = folderNameOut, parent_dir= outputDir,\n",
    "                   sheetName = 'all runs', df_data = featureList_OGData_compare)"
   ]
  },
  {
   "cell_type": "code",
   "execution_count": null,
   "id": "a4b991ae",
   "metadata": {},
   "outputs": [],
   "source": []
  }
 ],
 "metadata": {
  "kernelspec": {
   "display_name": "BEAT-Labs_2024-08-02",
   "language": "python",
   "name": "python3"
  },
  "language_info": {
   "codemirror_mode": {
    "name": "ipython",
    "version": 3
   },
   "file_extension": ".py",
   "mimetype": "text/x-python",
   "name": "python",
   "nbconvert_exporter": "python",
   "pygments_lexer": "ipython3",
   "version": "3.9.19"
  }
 },
 "nbformat": 4,
 "nbformat_minor": 5
}
