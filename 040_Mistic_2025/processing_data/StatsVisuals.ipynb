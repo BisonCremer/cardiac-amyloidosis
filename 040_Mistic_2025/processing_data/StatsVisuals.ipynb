{
 "cells": [
  {
   "cell_type": "markdown",
   "id": "c3d745b9",
   "metadata": {},
   "source": [
    "# libraries"
   ]
  },
  {
   "cell_type": "code",
   "execution_count": 1,
   "id": "56707146",
   "metadata": {},
   "outputs": [
    {
     "ename": "ModuleNotFoundError",
     "evalue": "No module named 'patientFunctions'",
     "output_type": "error",
     "traceback": [
      "\u001b[1;31m---------------------------------------------------------------------------\u001b[0m",
      "\u001b[1;31mModuleNotFoundError\u001b[0m                       Traceback (most recent call last)",
      "Cell \u001b[1;32mIn[1], line 8\u001b[0m\n\u001b[0;32m      6\u001b[0m \u001b[38;5;28;01mfrom\u001b[39;00m \u001b[38;5;21;01msklearn\u001b[39;00m\u001b[38;5;21;01m.\u001b[39;00m\u001b[38;5;21;01mmetrics\u001b[39;00m \u001b[38;5;28;01mimport\u001b[39;00m mean_squared_error, r2_score\n\u001b[0;32m      7\u001b[0m \u001b[38;5;28;01mfrom\u001b[39;00m \u001b[38;5;21;01mscipy\u001b[39;00m\u001b[38;5;21;01m.\u001b[39;00m\u001b[38;5;21;01moptimize\u001b[39;00m \u001b[38;5;28;01mimport\u001b[39;00m curve_fit\n\u001b[1;32m----> 8\u001b[0m \u001b[38;5;28;01mimport\u001b[39;00m \u001b[38;5;21;01mpatientFunctions\u001b[39;00m \u001b[38;5;28;01mas\u001b[39;00m \u001b[38;5;21;01mptfn\u001b[39;00m\n\u001b[0;32m      9\u001b[0m \u001b[38;5;28;01mimport\u001b[39;00m \u001b[38;5;21;01mseaborn\u001b[39;00m \u001b[38;5;28;01mas\u001b[39;00m \u001b[38;5;21;01msns\u001b[39;00m\n\u001b[0;32m     10\u001b[0m \u001b[38;5;28;01mimport\u001b[39;00m \u001b[38;5;21;01mmatplotlib\u001b[39;00m\u001b[38;5;21;01m.\u001b[39;00m\u001b[38;5;21;01mpyplot\u001b[39;00m \u001b[38;5;28;01mas\u001b[39;00m \u001b[38;5;21;01mplt\u001b[39;00m\n",
      "\u001b[1;31mModuleNotFoundError\u001b[0m: No module named 'patientFunctions'"
     ]
    }
   ],
   "source": [
    "#libraries and dirrectory \n",
    "import pandas as pd\n",
    "import numpy as np\n",
    "import os\n",
    "from sklearn.linear_model import LinearRegression\n",
    "from sklearn.metrics import mean_squared_error, r2_score\n",
    "from scipy.optimize import curve_fit\n",
    "import patientFunctions as ptfn\n",
    "import seaborn as sns\n",
    "import matplotlib.pyplot as plt\n",
    "import re\n",
    "import matplotlib.patches as mpatches\n"
   ]
  },
  {
   "cell_type": "markdown",
   "id": "85fa7092",
   "metadata": {},
   "source": [
    "# directories"
   ]
  },
  {
   "cell_type": "code",
   "execution_count": null,
   "id": "7ef85e0c",
   "metadata": {},
   "outputs": [],
   "source": [
    "#location of original data\n",
    "starting_directory = os.getcwd()\n",
    "\n",
    "\n",
    "machine_directory = 'C:/Users/mcremer' #the C and path to the project folder\n",
    "# machine_directory = 'C:/Users/maega' #when working from home machine\n",
    "storage_directory = 'UFL Dropbox/Maegan Cremer/research-share/Maegan/Projects' #Local, HPG, or dropbox\n",
    "project_directory = 'Cardiac-Amyloidosis-Multiple-Myeloma' #project folder\n",
    "project_lv2_directory = '012 Processed Data/data-2024-06-05' #deeper part of project folder\n",
    "\n",
    "path = os.path.join(machine_directory, storage_directory, \n",
    "                    project_directory, project_lv2_directory)\n",
    "\n",
    "new_dirrectory = path\n",
    "\n",
    "os.chdir(new_dirrectory)"
   ]
  },
  {
   "cell_type": "code",
   "execution_count": null,
   "id": "c07341d4",
   "metadata": {},
   "outputs": [],
   "source": [
    "#updates to directory management\n",
    "machine_directory = 'C:/Users/mcremer' #the C and path to the project folder\n",
    "# machine_directory = 'C:/Users/maega' #when working from home machine\n",
    "storage_directory = 'UFL Dropbox/Maegan Cremer/research-share/Maegan/Projects' #Local, HPG, or dropbox\n",
    "project_directory = 'Cardiac-Amyloidosis-Multiple-Myeloma' #project folder\n",
    "project_lv2_directory = '015_Mistic2025' #deeper part of project folder\n",
    "\n",
    "path = os.path.join(machine_directory, storage_directory, \n",
    "                    project_directory, project_lv2_directory)\n",
    "\n",
    "# parent_dir = path\n",
    "outputDir = path"
   ]
  },
  {
   "cell_type": "code",
   "execution_count": null,
   "id": "5d03de76",
   "metadata": {},
   "outputs": [],
   "source": [
    "# folderNameHeader = \"DF_SelectedFeats_\"\n",
    "# folderNameCommon = \"\"\n",
    "# folderNameSuffix = \"_20250416\"\n",
    "\n",
    "# fileNameHeader_1 = \"DF_SelectedFeats_\"\n",
    "# # fileNameHeader_2 = \"ALUnknownPts\"\n",
    "# # fileNameCommon = \"_Features\"\n",
    "# fileNameSuffix = \"_20250416\"\n",
    "\n",
    "# folder_data_out = ptfn.makeFolderPathForData(parent_dir=outputDir, folderName_header=folderNameHeader, \n",
    "#                                         folderName_common=folderNameCommon, folderName_suffix=folderNameSuffix)\n",
    "\n",
    "\n",
    "# folderNameOut = folder_data_out"
   ]
  },
  {
   "cell_type": "markdown",
   "id": "872ef785",
   "metadata": {},
   "source": [
    "# import data"
   ]
  },
  {
   "cell_type": "markdown",
   "id": "74fe67cf",
   "metadata": {},
   "source": [
    "## patient info"
   ]
  },
  {
   "cell_type": "code",
   "execution_count": null,
   "id": "eabda86e",
   "metadata": {},
   "outputs": [],
   "source": [
    "#importing patient data as dictionaries of dataframes\n",
    "\n",
    "#build a dictionary of patients and their values \n",
    "ptFiles = ptfn.GetListofPTfiles(new_dirrectory, '.xlsx', 'data')\n",
    "\n",
    "ptDict = {}\n",
    "\n",
    "#loop through the listOfPatients \n",
    "for file in ptFiles: \n",
    "    pt = ptfn.patient(new_dirrectory, file, 4)\n",
    "    ptDict[pt.ptID] = pt"
   ]
  },
  {
   "cell_type": "code",
   "execution_count": null,
   "id": "3a37894d",
   "metadata": {},
   "outputs": [],
   "source": [
    "EchoTimeColumn ='time from diagnosis to first echo (months)'\n",
    "MRITimeColumn = 'time from dagnosis to MRI (months)'\n",
    "echoDates = {}\n",
    "for pt in ptDict.keys():\n",
    "    ptEchoData = ptDict[pt].echoData\n",
    "    patientEchoDate = ptEchoData[EchoTimeColumn]\n",
    "    if 'none' not in list(patientEchoDate):\n",
    "        echoDates[pt] = patientEchoDate\n",
    "\n",
    "#test to see if this still runs and if the data is correct"
   ]
  },
  {
   "cell_type": "code",
   "execution_count": null,
   "id": "5976fbbc",
   "metadata": {},
   "outputs": [],
   "source": [
    "#list of patients by amyloid status \n",
    "\n",
    "listPositive = []\n",
    "listNegative = []\n",
    "listOther = []\n",
    "\n",
    "\n",
    "list_pts_remove = [\"K-01\", \"G-01\", \"J-01\", \"L-02\"]\n",
    "#remove list_pts_remove from ptDict\n",
    "for pt in list_pts_remove:\n",
    "    if pt in ptDict:\n",
    "        del ptDict[pt]\n",
    "\n",
    "#get list of positive patients \n",
    "for pt in ptDict:\n",
    "    ptALStatus = ptDict[pt].amyloid_status\n",
    "    if ptALStatus == 'yes':\n",
    "        listPositive.append(pt)\n",
    "    elif ptALStatus == 'no':\n",
    "        listNegative.append(pt)\n",
    "    else:\n",
    "        listOther.append(pt)\n"
   ]
  },
  {
   "cell_type": "code",
   "execution_count": null,
   "id": "d055c812",
   "metadata": {},
   "outputs": [],
   "source": [
    "\n",
    "listKnown = listPositive + listNegative"
   ]
  },
  {
   "cell_type": "markdown",
   "id": "2133371a",
   "metadata": {},
   "source": [
    "## list of labs"
   ]
  },
  {
   "cell_type": "code",
   "execution_count": null,
   "id": "542d8140",
   "metadata": {},
   "outputs": [],
   "source": [
    "os.chdir(path) #chaning directory to the location of our sheets"
   ]
  },
  {
   "cell_type": "code",
   "execution_count": null,
   "id": "028f3a85",
   "metadata": {},
   "outputs": [],
   "source": [
    "#to get only the lab names used as stems of features\n",
    "labsFiltered = pd.read_excel(\"DFsForSVM_20250416\\SelectedFeatures_labs__20250416.xlsx\")"
   ]
  },
  {
   "cell_type": "markdown",
   "id": "fa95022f",
   "metadata": {},
   "source": [
    "## features dataframes"
   ]
  },
  {
   "cell_type": "code",
   "execution_count": null,
   "id": "079a621c",
   "metadata": {},
   "outputs": [],
   "source": [
    "# full dataframe for the DescFits model\n",
    "DescFitsFullFeatureList = pd.read_excel(\"DFsForSVM_20250416\\DF_SVM_DescFits__20250416.xlsx\")\n",
    "DescFitsFullFeatureList.index = DescFitsFullFeatureList[\"DeID\"]"
   ]
  },
  {
   "cell_type": "code",
   "execution_count": null,
   "id": "14eeb866",
   "metadata": {},
   "outputs": [],
   "source": [
    "#full dataframe for the EchoAdj model \n",
    "EchoAdjFullFeatureList = pd.read_excel(\"DFsForSVM_20250416\\DF_SVM_EchoAdj__20250416.xlsx\")\n",
    "EchoAdjFullFeatureList.index = EchoAdjFullFeatureList[\"DeID\"]"
   ]
  },
  {
   "cell_type": "markdown",
   "id": "9aa98aa1",
   "metadata": {},
   "source": [
    "## features selected for each model "
   ]
  },
  {
   "cell_type": "code",
   "execution_count": null,
   "id": "b1795f09",
   "metadata": {},
   "outputs": [],
   "source": [
    "selectedFeatures_allmodels_allfeatRed = pd.read_excel(\"SVM_model_comparison_2025-04-11.xlsx\", sheet_name = \"new wo counts features\", header = [0,1]).drop([0], axis = 0)"
   ]
  },
  {
   "cell_type": "code",
   "execution_count": null,
   "id": "29f8ddeb",
   "metadata": {},
   "outputs": [],
   "source": [
    "featureRed = 0.25 #feature reduction value of interest\n",
    "\n",
    "#pull selected features for the models with the given feature reduction\n",
    "selectedFeats_025_allmodels = selectedFeatures_allmodels_allfeatRed.xs(featureRed, axis = 1, level = 1)\n",
    "\n",
    "#list of models \n",
    "modelNames = list(selectedFeats_025_allmodels.columns)"
   ]
  },
  {
   "cell_type": "markdown",
   "id": "0aaa9415",
   "metadata": {},
   "source": [
    "## stats dataframes"
   ]
  },
  {
   "cell_type": "code",
   "execution_count": null,
   "id": "f322343f",
   "metadata": {},
   "outputs": [],
   "source": [
    "os.listdir(\"DF_SelectedFeats__20250416\")"
   ]
  },
  {
   "cell_type": "code",
   "execution_count": null,
   "id": "78fc233a",
   "metadata": {},
   "outputs": [],
   "source": [
    "dict_stats_dfs = {}\n",
    "dict_stats_dfs.keys() = [model + \"_\" + str(featureRed).replace(\".\",\"\") \n",
    "                         for model in modelNames]\n",
    "for model in "
   ]
  },
  {
   "cell_type": "code",
   "execution_count": null,
   "id": "1a5497ae",
   "metadata": {},
   "outputs": [],
   "source": []
  },
  {
   "cell_type": "markdown",
   "id": "148700d8",
   "metadata": {},
   "source": [
    "# visualizations"
   ]
  },
  {
   "cell_type": "markdown",
   "id": "64ba27a9",
   "metadata": {},
   "source": [
    "## swarm plot Echo"
   ]
  },
  {
   "cell_type": "code",
   "execution_count": null,
   "id": "60af69c3",
   "metadata": {},
   "outputs": [],
   "source": []
  }
 ],
 "metadata": {
  "kernelspec": {
   "display_name": "Python 3",
   "language": "python",
   "name": "python3"
  },
  "language_info": {
   "codemirror_mode": {
    "name": "ipython",
    "version": 3
   },
   "file_extension": ".py",
   "mimetype": "text/x-python",
   "name": "python",
   "nbconvert_exporter": "python",
   "pygments_lexer": "ipython3",
   "version": "3.12.4"
  }
 },
 "nbformat": 4,
 "nbformat_minor": 5
}
